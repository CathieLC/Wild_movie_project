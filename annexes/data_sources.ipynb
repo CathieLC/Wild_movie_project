{
 "cells": [
  {
   "cell_type": "markdown",
   "metadata": {},
   "source": [
    "[Datasets list](https://datasets.imdbws.com/)\n",
    "\n",
    "[Datasets documentation](https://www.imdb.com/interfaces/)\n"
   ]
  }
 ],
 "metadata": {
  "interpreter": {
   "hash": "4544d665ae83a938e78316550df4048c4b5eacadf9e9ff52d5a508ec23c5226a"
  },
  "kernelspec": {
   "display_name": "Python 3.8.8 64-bit ('base': conda)",
   "name": "python3"
  },
  "language_info": {
   "codemirror_mode": {
    "name": "ipython",
    "version": 3
   },
   "file_extension": ".py",
   "mimetype": "text/x-python",
   "name": "python",
   "nbconvert_exporter": "python",
   "pygments_lexer": "ipython3",
   "version": "3.8.8"
  },
  "orig_nbformat": 4
 },
 "nbformat": 4,
 "nbformat_minor": 2
}
