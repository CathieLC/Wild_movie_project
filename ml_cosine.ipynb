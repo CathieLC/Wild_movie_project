{
 "cells": [
  {
   "cell_type": "code",
   "execution_count": 44,
   "metadata": {},
   "outputs": [],
   "source": [
    "import pandas as pd\n",
    "import re\n",
    "import math\n",
    "from collections import Counter\n",
    "import operator"
   ]
  },
  {
   "cell_type": "code",
   "execution_count": 45,
   "metadata": {},
   "outputs": [],
   "source": [
    "movie_for_ml = pd.read_csv('data/movies_merged.csv.zip')"
   ]
  },
  {
   "cell_type": "code",
   "execution_count": 66,
   "metadata": {},
   "outputs": [
    {
     "data": {
      "text/html": [
       "<div>\n",
       "<style scoped>\n",
       "    .dataframe tbody tr th:only-of-type {\n",
       "        vertical-align: middle;\n",
       "    }\n",
       "\n",
       "    .dataframe tbody tr th {\n",
       "        vertical-align: top;\n",
       "    }\n",
       "\n",
       "    .dataframe thead th {\n",
       "        text-align: right;\n",
       "    }\n",
       "</style>\n",
       "<table border=\"1\" class=\"dataframe\">\n",
       "  <thead>\n",
       "    <tr style=\"text-align: right;\">\n",
       "      <th></th>\n",
       "      <th>tconst</th>\n",
       "      <th>originalTitle</th>\n",
       "      <th>data</th>\n",
       "      <th>cluster</th>\n",
       "    </tr>\n",
       "  </thead>\n",
       "  <tbody>\n",
       "    <tr>\n",
       "      <th>5305</th>\n",
       "      <td>tt0241527</td>\n",
       "      <td>Harry Potter and the Sorcerer's Stone</td>\n",
       "      <td>2001 adventure family fantasy nm0001060 nm0746...</td>\n",
       "      <td>23</td>\n",
       "    </tr>\n",
       "    <tr>\n",
       "      <th>5692</th>\n",
       "      <td>tt0295297</td>\n",
       "      <td>Harry Potter and the Chamber of Secrets</td>\n",
       "      <td>2002 adventure family fantasy nm0001060 nm0746...</td>\n",
       "      <td>23</td>\n",
       "    </tr>\n",
       "    <tr>\n",
       "      <th>5739</th>\n",
       "      <td>tt0304141</td>\n",
       "      <td>Harry Potter and the Prisoner of Azkaban</td>\n",
       "      <td>2004 adventure family fantasy nm0190859 nm0746...</td>\n",
       "      <td>23</td>\n",
       "    </tr>\n",
       "    <tr>\n",
       "      <th>5878</th>\n",
       "      <td>tt0330373</td>\n",
       "      <td>Harry Potter and the Goblet of Fire</td>\n",
       "      <td>2005 adventure family fantasy nm0001565 nm0460...</td>\n",
       "      <td>23</td>\n",
       "    </tr>\n",
       "    <tr>\n",
       "      <th>6088</th>\n",
       "      <td>tt0373889</td>\n",
       "      <td>Harry Potter and the Order of the Phoenix</td>\n",
       "      <td>2007 action adventure family nm0946734 nm03255...</td>\n",
       "      <td>23</td>\n",
       "    </tr>\n",
       "    <tr>\n",
       "      <th>6340</th>\n",
       "      <td>tt0417741</td>\n",
       "      <td>Harry Potter and the Half-Blood Prince</td>\n",
       "      <td>2009 action adventure family nm0946734 nm04601...</td>\n",
       "      <td>23</td>\n",
       "    </tr>\n",
       "    <tr>\n",
       "      <th>7017</th>\n",
       "      <td>tt0926084</td>\n",
       "      <td>Harry Potter and the Deathly Hallows: Part 1</td>\n",
       "      <td>2010 adventure fantasy mystery nm0946734 nm046...</td>\n",
       "      <td>6</td>\n",
       "    </tr>\n",
       "    <tr>\n",
       "      <th>7552</th>\n",
       "      <td>tt1201607</td>\n",
       "      <td>Harry Potter and the Deathly Hallows: Part 2</td>\n",
       "      <td>2011 adventure fantasy mystery nm0946734 nm046...</td>\n",
       "      <td>6</td>\n",
       "    </tr>\n",
       "  </tbody>\n",
       "</table>\n",
       "</div>"
      ],
      "text/plain": [
       "         tconst                                 originalTitle  \\\n",
       "5305  tt0241527         Harry Potter and the Sorcerer's Stone   \n",
       "5692  tt0295297       Harry Potter and the Chamber of Secrets   \n",
       "5739  tt0304141      Harry Potter and the Prisoner of Azkaban   \n",
       "5878  tt0330373           Harry Potter and the Goblet of Fire   \n",
       "6088  tt0373889     Harry Potter and the Order of the Phoenix   \n",
       "6340  tt0417741        Harry Potter and the Half-Blood Prince   \n",
       "7017  tt0926084  Harry Potter and the Deathly Hallows: Part 1   \n",
       "7552  tt1201607  Harry Potter and the Deathly Hallows: Part 2   \n",
       "\n",
       "                                                   data  cluster  \n",
       "5305  2001 adventure family fantasy nm0001060 nm0746...       23  \n",
       "5692  2002 adventure family fantasy nm0001060 nm0746...       23  \n",
       "5739  2004 adventure family fantasy nm0190859 nm0746...       23  \n",
       "5878  2005 adventure family fantasy nm0001565 nm0460...       23  \n",
       "6088  2007 action adventure family nm0946734 nm03255...       23  \n",
       "6340  2009 action adventure family nm0946734 nm04601...       23  \n",
       "7017  2010 adventure fantasy mystery nm0946734 nm046...        6  \n",
       "7552  2011 adventure fantasy mystery nm0946734 nm046...        6  "
      ]
     },
     "execution_count": 66,
     "metadata": {},
     "output_type": "execute_result"
    }
   ],
   "source": [
    "movie_for_ml[movie_for_ml['originalTitle'].str.contains('Harry Potter')]"
   ]
  },
  {
   "cell_type": "code",
   "execution_count": 67,
   "metadata": {},
   "outputs": [
    {
     "data": {
      "text/plain": [
       "'2001 adventure family fantasy nm0001060 nm0746830 nm0460141 nm0705356 nm0342488 nm0001321 nm0001749'"
      ]
     },
     "execution_count": 67,
     "metadata": {},
     "output_type": "execute_result"
    }
   ],
   "source": [
    "movie_title = \"Harry Potter and the Sorcerer's Stone\"\n",
    "cluster_number = movie_for_ml.loc[movie_for_ml['originalTitle']==movie_title,'cluster'].values[0]\n",
    "movie_data = movie_for_ml.loc[movie_for_ml['originalTitle']==movie_title,'data'].values[0]\n",
    "movie_data"
   ]
  },
  {
   "cell_type": "code",
   "execution_count": 68,
   "metadata": {},
   "outputs": [
    {
     "data": {
      "text/plain": [
       "23"
      ]
     },
     "execution_count": 68,
     "metadata": {},
     "output_type": "execute_result"
    }
   ],
   "source": [
    "cluster_number"
   ]
  },
  {
   "cell_type": "code",
   "execution_count": 48,
   "metadata": {},
   "outputs": [],
   "source": [
    "class CosineSimilarity:\n",
    "    def __init__(self):\n",
    "        print(\"Cosine Similarity initialized\")\n",
    "\n",
    "    @staticmethod\n",
    "    def cosine_similarity_of(text1, text2):\n",
    "        #get words first\n",
    "        first = re.compile(r\"[\\w']+\").findall(text1)\n",
    "        second = re.compile(r\"[\\w']+\").findall(text2)\n",
    "\n",
    "        #get dictionary with each word and count.\n",
    "        vector1 = Counter(first)\n",
    "        vector2 = Counter(second)\n",
    "\n",
    "        #convert vectors to set to find common words as intersection\n",
    "        common = set(vector1.keys()).intersection(set(vector2.keys()))\n",
    "\n",
    "        dot_product = 0.0\n",
    "\n",
    "        for i in common:\n",
    "            #get amount of each common word for both vectors and multiply them then add them together.\n",
    "            dot_product += vector1[i] * vector2[i]\n",
    "\n",
    "        squared_sum_vector1 = 0.0\n",
    "        squared_sum_vector2 = 0.0\n",
    "\n",
    "        #get squared sum values of word counts from each vector.\n",
    "        for i in vector1.keys():\n",
    "            squared_sum_vector1 += vector1[i]**2\n",
    "\n",
    "        for i in vector2.keys():\n",
    "            squared_sum_vector2 += vector2[i]**2\n",
    "\n",
    "        #calculate magnitude with squared sums.\n",
    "        magnitude = math.sqrt(squared_sum_vector1) * math.sqrt(squared_sum_vector2)\n",
    "\n",
    "        if not magnitude:\n",
    "           return 0.0\n",
    "        else:\n",
    "           return float(dot_product) / magnitude"
   ]
  },
  {
   "cell_type": "code",
   "execution_count": 63,
   "metadata": {},
   "outputs": [],
   "source": [
    "class RecommenderEngine:\n",
    "    def __init__(self):\n",
    "        print(\"engine initialized\")\n",
    "\n",
    "    def get_recommendations(keywords):\n",
    "\n",
    "        df = movie_for_ml[movie_for_ml['cluster']==cluster_number]\n",
    "        df.reset_index(inplace=True, drop=True)        \n",
    "\n",
    "        score_dict = {}\n",
    "\n",
    "        for index, row in df.iterrows():\n",
    "            score_dict[index] = CosineSimilarity.cosine_similarity_of(row['data'], keywords)\n",
    "\n",
    "        #sort cities by score and index.\n",
    "        sorted_scores = sorted(score_dict.items(), key=operator.itemgetter(1), reverse=True)\n",
    "\n",
    "        counter = 0\n",
    "\n",
    "        #create an empty results data frame.\n",
    "        resultDF = pd.DataFrame(columns=('tconst', 'originalTitle', 'data', 'score'))\n",
    "\n",
    "        #get highest scored 5 movies.\n",
    "        for i in sorted_scores:\n",
    "\n",
    "            resultDF = resultDF.append({'tconst': df.iloc[i[0]]['tconst'], 'originalTitle': df.iloc[i[0]]['originalTitle'], 'data': df.iloc[i[0]]['data'], 'score': i[1]}, ignore_index=True)\n",
    "            counter += 1\n",
    "\n",
    "            if counter>4:\n",
    "                break\n",
    "            \n",
    "        return resultDF"
   ]
  },
  {
   "cell_type": "code",
   "execution_count": 64,
   "metadata": {},
   "outputs": [],
   "source": [
    "def get_recommendations(keywords):\n",
    "    return RecommenderEngine.get_recommendations(keywords)"
   ]
  },
  {
   "cell_type": "code",
   "execution_count": 69,
   "metadata": {},
   "outputs": [
    {
     "data": {
      "text/html": [
       "<div>\n",
       "<style scoped>\n",
       "    .dataframe tbody tr th:only-of-type {\n",
       "        vertical-align: middle;\n",
       "    }\n",
       "\n",
       "    .dataframe tbody tr th {\n",
       "        vertical-align: top;\n",
       "    }\n",
       "\n",
       "    .dataframe thead th {\n",
       "        text-align: right;\n",
       "    }\n",
       "</style>\n",
       "<table border=\"1\" class=\"dataframe\">\n",
       "  <thead>\n",
       "    <tr style=\"text-align: right;\">\n",
       "      <th></th>\n",
       "      <th>tconst</th>\n",
       "      <th>originalTitle</th>\n",
       "      <th>data</th>\n",
       "      <th>score</th>\n",
       "    </tr>\n",
       "  </thead>\n",
       "  <tbody>\n",
       "    <tr>\n",
       "      <th>0</th>\n",
       "      <td>tt0241527</td>\n",
       "      <td>Harry Potter and the Sorcerer's Stone</td>\n",
       "      <td>2001 adventure family fantasy nm0001060 nm0746...</td>\n",
       "      <td>1.000000</td>\n",
       "    </tr>\n",
       "    <tr>\n",
       "      <th>1</th>\n",
       "      <td>tt0295297</td>\n",
       "      <td>Harry Potter and the Chamber of Secrets</td>\n",
       "      <td>2002 adventure family fantasy nm0001060 nm0746...</td>\n",
       "      <td>0.818182</td>\n",
       "    </tr>\n",
       "    <tr>\n",
       "      <th>2</th>\n",
       "      <td>tt0304141</td>\n",
       "      <td>Harry Potter and the Prisoner of Azkaban</td>\n",
       "      <td>2004 adventure family fantasy nm0190859 nm0746...</td>\n",
       "      <td>0.636364</td>\n",
       "    </tr>\n",
       "    <tr>\n",
       "      <th>3</th>\n",
       "      <td>tt0330373</td>\n",
       "      <td>Harry Potter and the Goblet of Fire</td>\n",
       "      <td>2005 adventure family fantasy nm0001565 nm0460...</td>\n",
       "      <td>0.636364</td>\n",
       "    </tr>\n",
       "    <tr>\n",
       "      <th>4</th>\n",
       "      <td>tt0417741</td>\n",
       "      <td>Harry Potter and the Half-Blood Prince</td>\n",
       "      <td>2009 action adventure family nm0946734 nm04601...</td>\n",
       "      <td>0.545455</td>\n",
       "    </tr>\n",
       "  </tbody>\n",
       "</table>\n",
       "</div>"
      ],
      "text/plain": [
       "      tconst                             originalTitle  \\\n",
       "0  tt0241527     Harry Potter and the Sorcerer's Stone   \n",
       "1  tt0295297   Harry Potter and the Chamber of Secrets   \n",
       "2  tt0304141  Harry Potter and the Prisoner of Azkaban   \n",
       "3  tt0330373       Harry Potter and the Goblet of Fire   \n",
       "4  tt0417741    Harry Potter and the Half-Blood Prince   \n",
       "\n",
       "                                                data     score  \n",
       "0  2001 adventure family fantasy nm0001060 nm0746...  1.000000  \n",
       "1  2002 adventure family fantasy nm0001060 nm0746...  0.818182  \n",
       "2  2004 adventure family fantasy nm0190859 nm0746...  0.636364  \n",
       "3  2005 adventure family fantasy nm0001565 nm0460...  0.636364  \n",
       "4  2009 action adventure family nm0946734 nm04601...  0.545455  "
      ]
     },
     "execution_count": 69,
     "metadata": {},
     "output_type": "execute_result"
    }
   ],
   "source": [
    "recommendations = get_recommendations(movie_data)\n",
    "recommendations"
   ]
  }
 ],
 "metadata": {
  "interpreter": {
   "hash": "be0acc8b5e9c514370efa701a19078e441337db182ef74130e57d9d0b7902eba"
  },
  "kernelspec": {
   "display_name": "Python 3.8.12 64-bit ('base': conda)",
   "language": "python",
   "name": "python3"
  },
  "language_info": {
   "codemirror_mode": {
    "name": "ipython",
    "version": 3
   },
   "file_extension": ".py",
   "mimetype": "text/x-python",
   "name": "python",
   "nbconvert_exporter": "python",
   "pygments_lexer": "ipython3",
   "version": "3.8.12"
  },
  "orig_nbformat": 4
 },
 "nbformat": 4,
 "nbformat_minor": 2
}
