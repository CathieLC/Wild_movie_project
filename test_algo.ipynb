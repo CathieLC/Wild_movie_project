{
 "cells": [
  {
   "cell_type": "code",
   "execution_count": 51,
   "metadata": {},
   "outputs": [],
   "source": [
    "import pandas as pd\n",
    "import numpy as np\n",
    "import re\n",
    "import math\n",
    "from collections import Counter\n",
    "import operator"
   ]
  },
  {
   "cell_type": "code",
   "execution_count": 52,
   "metadata": {},
   "outputs": [],
   "source": [
    "movie_for_ml = pd.read_csv('data/movies_merged.csv.zip')"
   ]
  },
  {
   "cell_type": "code",
   "execution_count": 53,
   "metadata": {},
   "outputs": [
    {
     "data": {
      "text/plain": [
       "'2020,drama,nm1630273,nm7434342,nm0132696,nm9450235,nm7434342,nm9007992,nm2988542'"
      ]
     },
     "execution_count": 53,
     "metadata": {},
     "output_type": "execute_result"
    }
   ],
   "source": [
    "movie_title = 'Herself'\n",
    "cluster_number = movie_for_ml.loc[movie_for_ml['originalTitle']==movie_title,'cluster'].values[0]\n",
    "movie_data = movie_for_ml.loc[movie_for_ml['originalTitle']==movie_title,'data'].values[0]\n",
    "movie_data"
   ]
  },
  {
   "cell_type": "code",
   "execution_count": 54,
   "metadata": {},
   "outputs": [
    {
     "data": {
      "text/plain": [
       "str"
      ]
     },
     "execution_count": 54,
     "metadata": {},
     "output_type": "execute_result"
    }
   ],
   "source": [
    "type(movie_data)"
   ]
  },
  {
   "cell_type": "code",
   "execution_count": 55,
   "metadata": {},
   "outputs": [],
   "source": [
    "class CosineSimilarity:\n",
    "    def __init__(self):\n",
    "        print(\"Cosine Similarity initialized\")\n",
    "\n",
    "    @staticmethod\n",
    "    def cosine_similarity_of(text1, text2):\n",
    "        #get words first\n",
    "        first = re.compile(r\"[\\w']+\").findall(text1)\n",
    "        second = re.compile(r\"[\\w']+\").findall(text2)\n",
    "\n",
    "        #get dictionary with each word and count.\n",
    "        vector1 = Counter(first)\n",
    "        vector2 = Counter(second)\n",
    "\n",
    "        #convert vectors to set to find common words as intersection\n",
    "        common = set(vector1.keys()).intersection(set(vector2.keys()))\n",
    "\n",
    "        dot_product = 0.0\n",
    "\n",
    "        for i in common:\n",
    "            #get amount of each common word for both vectors and multiply them then add them together.\n",
    "            dot_product += vector1[i] * vector2[i]\n",
    "\n",
    "        squared_sum_vector1 = 0.0\n",
    "        squared_sum_vector2 = 0.0\n",
    "\n",
    "        #get squared sum values of word counts from each vector.\n",
    "        for i in vector1.keys():\n",
    "            squared_sum_vector1 += vector1[i]**2\n",
    "\n",
    "        for i in vector2.keys():\n",
    "            squared_sum_vector2 += vector2[i]**2\n",
    "\n",
    "        #calculate magnitude with squared sums.\n",
    "        magnitude = math.sqrt(squared_sum_vector1) * math.sqrt(squared_sum_vector2)\n",
    "\n",
    "        if not magnitude:\n",
    "           return 0.0\n",
    "        else:\n",
    "           return float(dot_product) / magnitude"
   ]
  },
  {
   "cell_type": "code",
   "execution_count": 56,
   "metadata": {},
   "outputs": [],
   "source": [
    "df = movie_for_ml[movie_for_ml['cluster']==cluster_number]"
   ]
  },
  {
   "cell_type": "code",
   "execution_count": 57,
   "metadata": {},
   "outputs": [],
   "source": [
    "score_dict = {}\n",
    "for index, row in df.iterrows():\n",
    "            score_dict[index] = CosineSimilarity.cosine_similarity_of(row['data'], movie_data)"
   ]
  },
  {
   "cell_type": "code",
   "execution_count": 58,
   "metadata": {},
   "outputs": [
    {
     "data": {
      "text/plain": [
       "['2020', 'drama']"
      ]
     },
     "execution_count": 58,
     "metadata": {},
     "output_type": "execute_result"
    }
   ],
   "source": [
    "re.compile(r\"[\\w']+\").findall('2020,drama')"
   ]
  },
  {
   "cell_type": "code",
   "execution_count": 59,
   "metadata": {},
   "outputs": [
    {
     "data": {
      "text/plain": [
       "['2020', 'comedy', 'drama']"
      ]
     },
     "execution_count": 59,
     "metadata": {},
     "output_type": "execute_result"
    }
   ],
   "source": [
    "re.compile(r\"[\\w']+\").findall('2020,comedy,drama')"
   ]
  },
  {
   "cell_type": "code",
   "execution_count": 60,
   "metadata": {},
   "outputs": [],
   "source": [
    "first = re.compile(r\"[\\w']+\").findall('2020,drama')\n",
    "second = re.compile(r\"[\\w']+\").findall('2019,biography,documentary,music')"
   ]
  },
  {
   "cell_type": "code",
   "execution_count": 61,
   "metadata": {},
   "outputs": [],
   "source": [
    "vector1 = Counter(first)\n",
    "vector2 = Counter(second)"
   ]
  },
  {
   "cell_type": "code",
   "execution_count": 62,
   "metadata": {},
   "outputs": [
    {
     "data": {
      "text/plain": [
       "Counter({'2020': 1, 'drama': 1})"
      ]
     },
     "execution_count": 62,
     "metadata": {},
     "output_type": "execute_result"
    }
   ],
   "source": [
    "vector1"
   ]
  },
  {
   "cell_type": "code",
   "execution_count": 63,
   "metadata": {},
   "outputs": [
    {
     "data": {
      "text/plain": [
       "Counter({'2019': 1, 'biography': 1, 'documentary': 1, 'music': 1})"
      ]
     },
     "execution_count": 63,
     "metadata": {},
     "output_type": "execute_result"
    }
   ],
   "source": [
    "vector2"
   ]
  },
  {
   "cell_type": "code",
   "execution_count": 64,
   "metadata": {},
   "outputs": [],
   "source": [
    "common = set(vector1.keys()).intersection(set(vector2.keys()))"
   ]
  },
  {
   "cell_type": "code",
   "execution_count": 65,
   "metadata": {},
   "outputs": [
    {
     "data": {
      "text/plain": [
       "set()"
      ]
     },
     "execution_count": 65,
     "metadata": {},
     "output_type": "execute_result"
    }
   ],
   "source": [
    "common"
   ]
  },
  {
   "cell_type": "code",
   "execution_count": 66,
   "metadata": {},
   "outputs": [
    {
     "data": {
      "text/plain": [
       "0.0"
      ]
     },
     "execution_count": 66,
     "metadata": {},
     "output_type": "execute_result"
    }
   ],
   "source": [
    "dot_product = 0.0\n",
    "\n",
    "for i in common:\n",
    "    #get amount of each common word for both vectors and multiply them then add them together.\n",
    "    dot_product += vector1[i] * vector2[i]\n",
    "\n",
    "squared_sum_vector1 = 0.0\n",
    "squared_sum_vector2 = 0.0\n",
    "dot_product"
   ]
  },
  {
   "cell_type": "code",
   "execution_count": 67,
   "metadata": {},
   "outputs": [],
   "source": [
    "#get squared sum values of word counts from each vector.\n",
    "for i in vector1.keys():\n",
    "    squared_sum_vector1 += vector1[i]**2\n",
    "\n",
    "for i in vector2.keys():\n",
    "    squared_sum_vector2 += vector2[i]**2"
   ]
  },
  {
   "cell_type": "code",
   "execution_count": 68,
   "metadata": {},
   "outputs": [
    {
     "data": {
      "text/plain": [
       "2.0"
      ]
     },
     "execution_count": 68,
     "metadata": {},
     "output_type": "execute_result"
    }
   ],
   "source": [
    "squared_sum_vector1"
   ]
  },
  {
   "cell_type": "code",
   "execution_count": 69,
   "metadata": {},
   "outputs": [
    {
     "data": {
      "text/plain": [
       "4.0"
      ]
     },
     "execution_count": 69,
     "metadata": {},
     "output_type": "execute_result"
    }
   ],
   "source": [
    "squared_sum_vector2"
   ]
  },
  {
   "cell_type": "code",
   "execution_count": null,
   "metadata": {},
   "outputs": [],
   "source": []
  }
 ],
 "metadata": {
  "interpreter": {
   "hash": "40e8acbb205c65c00df44503a190e56d13bfb94037a433e00048fdfdd1adf4d2"
  },
  "kernelspec": {
   "display_name": "Python 3.8.12 64-bit ('base': conda)",
   "language": "python",
   "name": "python3"
  },
  "language_info": {
   "codemirror_mode": {
    "name": "ipython",
    "version": 3
   },
   "file_extension": ".py",
   "mimetype": "text/x-python",
   "name": "python",
   "nbconvert_exporter": "python",
   "pygments_lexer": "ipython3",
   "version": "3.8.12"
  },
  "orig_nbformat": 4
 },
 "nbformat": 4,
 "nbformat_minor": 2
}
