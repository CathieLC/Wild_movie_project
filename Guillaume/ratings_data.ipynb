{
 "cells": [
  {
   "cell_type": "markdown",
   "metadata": {},
   "source": [
    "# Analyse des meilleurs films"
   ]
  },
  {
   "cell_type": "markdown",
   "metadata": {},
   "source": [
    "## Imports des modules"
   ]
  },
  {
   "cell_type": "code",
   "execution_count": 32,
   "metadata": {},
   "outputs": [],
   "source": [
    "import pandas as pd\n",
    "import numpy as np\n",
    "import plotly.express as px \n",
    "import plotly.graph_objects as go \n",
    "import matplotlib.pyplot as plt\n",
    "import seaborn as sns"
   ]
  },
  {
   "cell_type": "markdown",
   "metadata": {},
   "source": [
    "## Lecture des datasets"
   ]
  },
  {
   "cell_type": "code",
   "execution_count": 33,
   "metadata": {},
   "outputs": [],
   "source": [
    "ratings_df = pd.read_csv(\"https://datasets.imdbws.com/title.ratings.tsv.gz\", sep=\"\\t\")"
   ]
  },
  {
   "cell_type": "code",
   "execution_count": 34,
   "metadata": {},
   "outputs": [],
   "source": [
    "basics_df = pd.read_csv(\"https://datasets.imdbws.com/title.basics.tsv.gz\", sep=\"\\t\", low_memory=False)"
   ]
  },
  {
   "cell_type": "code",
   "execution_count": 35,
   "metadata": {},
   "outputs": [
    {
     "data": {
      "text/html": [
       "<div>\n",
       "<style scoped>\n",
       "    .dataframe tbody tr th:only-of-type {\n",
       "        vertical-align: middle;\n",
       "    }\n",
       "\n",
       "    .dataframe tbody tr th {\n",
       "        vertical-align: top;\n",
       "    }\n",
       "\n",
       "    .dataframe thead th {\n",
       "        text-align: right;\n",
       "    }\n",
       "</style>\n",
       "<table border=\"1\" class=\"dataframe\">\n",
       "  <thead>\n",
       "    <tr style=\"text-align: right;\">\n",
       "      <th></th>\n",
       "      <th>tconst</th>\n",
       "      <th>averageRating</th>\n",
       "      <th>numVotes</th>\n",
       "    </tr>\n",
       "  </thead>\n",
       "  <tbody>\n",
       "    <tr>\n",
       "      <th>0</th>\n",
       "      <td>tt0000001</td>\n",
       "      <td>5.7</td>\n",
       "      <td>1832</td>\n",
       "    </tr>\n",
       "    <tr>\n",
       "      <th>1</th>\n",
       "      <td>tt0000002</td>\n",
       "      <td>6.0</td>\n",
       "      <td>236</td>\n",
       "    </tr>\n",
       "    <tr>\n",
       "      <th>2</th>\n",
       "      <td>tt0000003</td>\n",
       "      <td>6.5</td>\n",
       "      <td>1592</td>\n",
       "    </tr>\n",
       "    <tr>\n",
       "      <th>3</th>\n",
       "      <td>tt0000004</td>\n",
       "      <td>6.0</td>\n",
       "      <td>153</td>\n",
       "    </tr>\n",
       "    <tr>\n",
       "      <th>4</th>\n",
       "      <td>tt0000005</td>\n",
       "      <td>6.2</td>\n",
       "      <td>2408</td>\n",
       "    </tr>\n",
       "  </tbody>\n",
       "</table>\n",
       "</div>"
      ],
      "text/plain": [
       "      tconst  averageRating  numVotes\n",
       "0  tt0000001            5.7      1832\n",
       "1  tt0000002            6.0       236\n",
       "2  tt0000003            6.5      1592\n",
       "3  tt0000004            6.0       153\n",
       "4  tt0000005            6.2      2408"
      ]
     },
     "execution_count": 35,
     "metadata": {},
     "output_type": "execute_result"
    }
   ],
   "source": [
    "ratings_df.head()"
   ]
  },
  {
   "cell_type": "code",
   "execution_count": 36,
   "metadata": {},
   "outputs": [
    {
     "data": {
      "text/html": [
       "<div>\n",
       "<style scoped>\n",
       "    .dataframe tbody tr th:only-of-type {\n",
       "        vertical-align: middle;\n",
       "    }\n",
       "\n",
       "    .dataframe tbody tr th {\n",
       "        vertical-align: top;\n",
       "    }\n",
       "\n",
       "    .dataframe thead th {\n",
       "        text-align: right;\n",
       "    }\n",
       "</style>\n",
       "<table border=\"1\" class=\"dataframe\">\n",
       "  <thead>\n",
       "    <tr style=\"text-align: right;\">\n",
       "      <th></th>\n",
       "      <th>tconst</th>\n",
       "      <th>titleType</th>\n",
       "      <th>primaryTitle</th>\n",
       "      <th>originalTitle</th>\n",
       "      <th>isAdult</th>\n",
       "      <th>startYear</th>\n",
       "      <th>endYear</th>\n",
       "      <th>runtimeMinutes</th>\n",
       "      <th>genres</th>\n",
       "    </tr>\n",
       "  </thead>\n",
       "  <tbody>\n",
       "    <tr>\n",
       "      <th>0</th>\n",
       "      <td>tt0000001</td>\n",
       "      <td>short</td>\n",
       "      <td>Carmencita</td>\n",
       "      <td>Carmencita</td>\n",
       "      <td>0</td>\n",
       "      <td>1894</td>\n",
       "      <td>\\N</td>\n",
       "      <td>1</td>\n",
       "      <td>Documentary,Short</td>\n",
       "    </tr>\n",
       "    <tr>\n",
       "      <th>1</th>\n",
       "      <td>tt0000002</td>\n",
       "      <td>short</td>\n",
       "      <td>Le clown et ses chiens</td>\n",
       "      <td>Le clown et ses chiens</td>\n",
       "      <td>0</td>\n",
       "      <td>1892</td>\n",
       "      <td>\\N</td>\n",
       "      <td>5</td>\n",
       "      <td>Animation,Short</td>\n",
       "    </tr>\n",
       "    <tr>\n",
       "      <th>2</th>\n",
       "      <td>tt0000003</td>\n",
       "      <td>short</td>\n",
       "      <td>Pauvre Pierrot</td>\n",
       "      <td>Pauvre Pierrot</td>\n",
       "      <td>0</td>\n",
       "      <td>1892</td>\n",
       "      <td>\\N</td>\n",
       "      <td>4</td>\n",
       "      <td>Animation,Comedy,Romance</td>\n",
       "    </tr>\n",
       "    <tr>\n",
       "      <th>3</th>\n",
       "      <td>tt0000004</td>\n",
       "      <td>short</td>\n",
       "      <td>Un bon bock</td>\n",
       "      <td>Un bon bock</td>\n",
       "      <td>0</td>\n",
       "      <td>1892</td>\n",
       "      <td>\\N</td>\n",
       "      <td>12</td>\n",
       "      <td>Animation,Short</td>\n",
       "    </tr>\n",
       "    <tr>\n",
       "      <th>4</th>\n",
       "      <td>tt0000005</td>\n",
       "      <td>short</td>\n",
       "      <td>Blacksmith Scene</td>\n",
       "      <td>Blacksmith Scene</td>\n",
       "      <td>0</td>\n",
       "      <td>1893</td>\n",
       "      <td>\\N</td>\n",
       "      <td>1</td>\n",
       "      <td>Comedy,Short</td>\n",
       "    </tr>\n",
       "  </tbody>\n",
       "</table>\n",
       "</div>"
      ],
      "text/plain": [
       "      tconst titleType            primaryTitle           originalTitle  \\\n",
       "0  tt0000001     short              Carmencita              Carmencita   \n",
       "1  tt0000002     short  Le clown et ses chiens  Le clown et ses chiens   \n",
       "2  tt0000003     short          Pauvre Pierrot          Pauvre Pierrot   \n",
       "3  tt0000004     short             Un bon bock             Un bon bock   \n",
       "4  tt0000005     short        Blacksmith Scene        Blacksmith Scene   \n",
       "\n",
       "  isAdult startYear endYear runtimeMinutes                    genres  \n",
       "0       0      1894      \\N              1         Documentary,Short  \n",
       "1       0      1892      \\N              5           Animation,Short  \n",
       "2       0      1892      \\N              4  Animation,Comedy,Romance  \n",
       "3       0      1892      \\N             12           Animation,Short  \n",
       "4       0      1893      \\N              1              Comedy,Short  "
      ]
     },
     "execution_count": 36,
     "metadata": {},
     "output_type": "execute_result"
    }
   ],
   "source": [
    "basics_df.head()"
   ]
  },
  {
   "cell_type": "markdown",
   "metadata": {},
   "source": [
    "## Filtres"
   ]
  },
  {
   "cell_type": "markdown",
   "metadata": {},
   "source": [
    "Filtre sur le type `movie`"
   ]
  },
  {
   "cell_type": "code",
   "execution_count": 37,
   "metadata": {},
   "outputs": [
    {
     "data": {
      "text/html": [
       "<div>\n",
       "<style scoped>\n",
       "    .dataframe tbody tr th:only-of-type {\n",
       "        vertical-align: middle;\n",
       "    }\n",
       "\n",
       "    .dataframe tbody tr th {\n",
       "        vertical-align: top;\n",
       "    }\n",
       "\n",
       "    .dataframe thead th {\n",
       "        text-align: right;\n",
       "    }\n",
       "</style>\n",
       "<table border=\"1\" class=\"dataframe\">\n",
       "  <thead>\n",
       "    <tr style=\"text-align: right;\">\n",
       "      <th></th>\n",
       "      <th>tconst</th>\n",
       "      <th>titleType</th>\n",
       "      <th>primaryTitle</th>\n",
       "      <th>originalTitle</th>\n",
       "      <th>isAdult</th>\n",
       "      <th>startYear</th>\n",
       "      <th>endYear</th>\n",
       "      <th>runtimeMinutes</th>\n",
       "      <th>genres</th>\n",
       "    </tr>\n",
       "  </thead>\n",
       "  <tbody>\n",
       "    <tr>\n",
       "      <th>498</th>\n",
       "      <td>tt0000502</td>\n",
       "      <td>movie</td>\n",
       "      <td>Bohemios</td>\n",
       "      <td>Bohemios</td>\n",
       "      <td>0</td>\n",
       "      <td>1905</td>\n",
       "      <td>\\N</td>\n",
       "      <td>100</td>\n",
       "      <td>\\N</td>\n",
       "    </tr>\n",
       "    <tr>\n",
       "      <th>570</th>\n",
       "      <td>tt0000574</td>\n",
       "      <td>movie</td>\n",
       "      <td>The Story of the Kelly Gang</td>\n",
       "      <td>The Story of the Kelly Gang</td>\n",
       "      <td>0</td>\n",
       "      <td>1906</td>\n",
       "      <td>\\N</td>\n",
       "      <td>70</td>\n",
       "      <td>Action,Adventure,Biography</td>\n",
       "    </tr>\n",
       "    <tr>\n",
       "      <th>587</th>\n",
       "      <td>tt0000591</td>\n",
       "      <td>movie</td>\n",
       "      <td>The Prodigal Son</td>\n",
       "      <td>L'enfant prodigue</td>\n",
       "      <td>0</td>\n",
       "      <td>1907</td>\n",
       "      <td>\\N</td>\n",
       "      <td>90</td>\n",
       "      <td>Drama</td>\n",
       "    </tr>\n",
       "    <tr>\n",
       "      <th>610</th>\n",
       "      <td>tt0000615</td>\n",
       "      <td>movie</td>\n",
       "      <td>Robbery Under Arms</td>\n",
       "      <td>Robbery Under Arms</td>\n",
       "      <td>0</td>\n",
       "      <td>1907</td>\n",
       "      <td>\\N</td>\n",
       "      <td>\\N</td>\n",
       "      <td>Drama</td>\n",
       "    </tr>\n",
       "    <tr>\n",
       "      <th>625</th>\n",
       "      <td>tt0000630</td>\n",
       "      <td>movie</td>\n",
       "      <td>Hamlet</td>\n",
       "      <td>Amleto</td>\n",
       "      <td>0</td>\n",
       "      <td>1908</td>\n",
       "      <td>\\N</td>\n",
       "      <td>\\N</td>\n",
       "      <td>Drama</td>\n",
       "    </tr>\n",
       "  </tbody>\n",
       "</table>\n",
       "</div>"
      ],
      "text/plain": [
       "        tconst titleType                 primaryTitle  \\\n",
       "498  tt0000502     movie                     Bohemios   \n",
       "570  tt0000574     movie  The Story of the Kelly Gang   \n",
       "587  tt0000591     movie             The Prodigal Son   \n",
       "610  tt0000615     movie           Robbery Under Arms   \n",
       "625  tt0000630     movie                       Hamlet   \n",
       "\n",
       "                   originalTitle isAdult startYear endYear runtimeMinutes  \\\n",
       "498                     Bohemios       0      1905      \\N            100   \n",
       "570  The Story of the Kelly Gang       0      1906      \\N             70   \n",
       "587            L'enfant prodigue       0      1907      \\N             90   \n",
       "610           Robbery Under Arms       0      1907      \\N             \\N   \n",
       "625                       Amleto       0      1908      \\N             \\N   \n",
       "\n",
       "                         genres  \n",
       "498                          \\N  \n",
       "570  Action,Adventure,Biography  \n",
       "587                       Drama  \n",
       "610                       Drama  \n",
       "625                       Drama  "
      ]
     },
     "execution_count": 37,
     "metadata": {},
     "output_type": "execute_result"
    }
   ],
   "source": [
    "basics_df_movies =  basics_df[basics_df['titleType'] == 'movie']\n",
    "basics_df_movies.head()"
   ]
  },
  {
   "cell_type": "markdown",
   "metadata": {},
   "source": [
    "Retrait des films pour adultes avec la colonne `isAdult`"
   ]
  },
  {
   "cell_type": "code",
   "execution_count": 38,
   "metadata": {},
   "outputs": [
    {
     "data": {
      "text/html": [
       "<div>\n",
       "<style scoped>\n",
       "    .dataframe tbody tr th:only-of-type {\n",
       "        vertical-align: middle;\n",
       "    }\n",
       "\n",
       "    .dataframe tbody tr th {\n",
       "        vertical-align: top;\n",
       "    }\n",
       "\n",
       "    .dataframe thead th {\n",
       "        text-align: right;\n",
       "    }\n",
       "</style>\n",
       "<table border=\"1\" class=\"dataframe\">\n",
       "  <thead>\n",
       "    <tr style=\"text-align: right;\">\n",
       "      <th></th>\n",
       "      <th>tconst</th>\n",
       "      <th>titleType</th>\n",
       "      <th>primaryTitle</th>\n",
       "      <th>originalTitle</th>\n",
       "      <th>isAdult</th>\n",
       "      <th>startYear</th>\n",
       "      <th>endYear</th>\n",
       "      <th>runtimeMinutes</th>\n",
       "      <th>genres</th>\n",
       "    </tr>\n",
       "  </thead>\n",
       "  <tbody>\n",
       "    <tr>\n",
       "      <th>498</th>\n",
       "      <td>tt0000502</td>\n",
       "      <td>movie</td>\n",
       "      <td>Bohemios</td>\n",
       "      <td>Bohemios</td>\n",
       "      <td>0</td>\n",
       "      <td>1905</td>\n",
       "      <td>\\N</td>\n",
       "      <td>100</td>\n",
       "      <td>\\N</td>\n",
       "    </tr>\n",
       "    <tr>\n",
       "      <th>570</th>\n",
       "      <td>tt0000574</td>\n",
       "      <td>movie</td>\n",
       "      <td>The Story of the Kelly Gang</td>\n",
       "      <td>The Story of the Kelly Gang</td>\n",
       "      <td>0</td>\n",
       "      <td>1906</td>\n",
       "      <td>\\N</td>\n",
       "      <td>70</td>\n",
       "      <td>Action,Adventure,Biography</td>\n",
       "    </tr>\n",
       "    <tr>\n",
       "      <th>587</th>\n",
       "      <td>tt0000591</td>\n",
       "      <td>movie</td>\n",
       "      <td>The Prodigal Son</td>\n",
       "      <td>L'enfant prodigue</td>\n",
       "      <td>0</td>\n",
       "      <td>1907</td>\n",
       "      <td>\\N</td>\n",
       "      <td>90</td>\n",
       "      <td>Drama</td>\n",
       "    </tr>\n",
       "    <tr>\n",
       "      <th>610</th>\n",
       "      <td>tt0000615</td>\n",
       "      <td>movie</td>\n",
       "      <td>Robbery Under Arms</td>\n",
       "      <td>Robbery Under Arms</td>\n",
       "      <td>0</td>\n",
       "      <td>1907</td>\n",
       "      <td>\\N</td>\n",
       "      <td>\\N</td>\n",
       "      <td>Drama</td>\n",
       "    </tr>\n",
       "    <tr>\n",
       "      <th>625</th>\n",
       "      <td>tt0000630</td>\n",
       "      <td>movie</td>\n",
       "      <td>Hamlet</td>\n",
       "      <td>Amleto</td>\n",
       "      <td>0</td>\n",
       "      <td>1908</td>\n",
       "      <td>\\N</td>\n",
       "      <td>\\N</td>\n",
       "      <td>Drama</td>\n",
       "    </tr>\n",
       "  </tbody>\n",
       "</table>\n",
       "</div>"
      ],
      "text/plain": [
       "        tconst titleType                 primaryTitle  \\\n",
       "498  tt0000502     movie                     Bohemios   \n",
       "570  tt0000574     movie  The Story of the Kelly Gang   \n",
       "587  tt0000591     movie             The Prodigal Son   \n",
       "610  tt0000615     movie           Robbery Under Arms   \n",
       "625  tt0000630     movie                       Hamlet   \n",
       "\n",
       "                   originalTitle isAdult startYear endYear runtimeMinutes  \\\n",
       "498                     Bohemios       0      1905      \\N            100   \n",
       "570  The Story of the Kelly Gang       0      1906      \\N             70   \n",
       "587            L'enfant prodigue       0      1907      \\N             90   \n",
       "610           Robbery Under Arms       0      1907      \\N             \\N   \n",
       "625                       Amleto       0      1908      \\N             \\N   \n",
       "\n",
       "                         genres  \n",
       "498                          \\N  \n",
       "570  Action,Adventure,Biography  \n",
       "587                       Drama  \n",
       "610                       Drama  \n",
       "625                       Drama  "
      ]
     },
     "execution_count": 38,
     "metadata": {},
     "output_type": "execute_result"
    }
   ],
   "source": [
    "basics_df_movies = basics_df_movies[basics_df_movies['isAdult'] == '0']\n",
    "basics_df_movies.head()"
   ]
  },
  {
   "cell_type": "markdown",
   "metadata": {},
   "source": [
    "Sélection des colonnes pertinentes avant le merge"
   ]
  },
  {
   "cell_type": "code",
   "execution_count": 39,
   "metadata": {},
   "outputs": [
    {
     "data": {
      "text/html": [
       "<div>\n",
       "<style scoped>\n",
       "    .dataframe tbody tr th:only-of-type {\n",
       "        vertical-align: middle;\n",
       "    }\n",
       "\n",
       "    .dataframe tbody tr th {\n",
       "        vertical-align: top;\n",
       "    }\n",
       "\n",
       "    .dataframe thead th {\n",
       "        text-align: right;\n",
       "    }\n",
       "</style>\n",
       "<table border=\"1\" class=\"dataframe\">\n",
       "  <thead>\n",
       "    <tr style=\"text-align: right;\">\n",
       "      <th></th>\n",
       "      <th>tconst</th>\n",
       "      <th>primaryTitle</th>\n",
       "      <th>startYear</th>\n",
       "      <th>genres</th>\n",
       "    </tr>\n",
       "  </thead>\n",
       "  <tbody>\n",
       "    <tr>\n",
       "      <th>498</th>\n",
       "      <td>tt0000502</td>\n",
       "      <td>Bohemios</td>\n",
       "      <td>1905</td>\n",
       "      <td>\\N</td>\n",
       "    </tr>\n",
       "    <tr>\n",
       "      <th>570</th>\n",
       "      <td>tt0000574</td>\n",
       "      <td>The Story of the Kelly Gang</td>\n",
       "      <td>1906</td>\n",
       "      <td>Action,Adventure,Biography</td>\n",
       "    </tr>\n",
       "    <tr>\n",
       "      <th>587</th>\n",
       "      <td>tt0000591</td>\n",
       "      <td>The Prodigal Son</td>\n",
       "      <td>1907</td>\n",
       "      <td>Drama</td>\n",
       "    </tr>\n",
       "    <tr>\n",
       "      <th>610</th>\n",
       "      <td>tt0000615</td>\n",
       "      <td>Robbery Under Arms</td>\n",
       "      <td>1907</td>\n",
       "      <td>Drama</td>\n",
       "    </tr>\n",
       "    <tr>\n",
       "      <th>625</th>\n",
       "      <td>tt0000630</td>\n",
       "      <td>Hamlet</td>\n",
       "      <td>1908</td>\n",
       "      <td>Drama</td>\n",
       "    </tr>\n",
       "  </tbody>\n",
       "</table>\n",
       "</div>"
      ],
      "text/plain": [
       "        tconst                 primaryTitle startYear  \\\n",
       "498  tt0000502                     Bohemios      1905   \n",
       "570  tt0000574  The Story of the Kelly Gang      1906   \n",
       "587  tt0000591             The Prodigal Son      1907   \n",
       "610  tt0000615           Robbery Under Arms      1907   \n",
       "625  tt0000630                       Hamlet      1908   \n",
       "\n",
       "                         genres  \n",
       "498                          \\N  \n",
       "570  Action,Adventure,Biography  \n",
       "587                       Drama  \n",
       "610                       Drama  \n",
       "625                       Drama  "
      ]
     },
     "execution_count": 39,
     "metadata": {},
     "output_type": "execute_result"
    }
   ],
   "source": [
    "basics_df_stripped = basics_df_movies[['tconst', 'primaryTitle', 'startYear', 'genres']]\n",
    "basics_df_stripped.head()"
   ]
  },
  {
   "cell_type": "markdown",
   "metadata": {},
   "source": [
    "## Jointure des deux dataframes"
   ]
  },
  {
   "cell_type": "markdown",
   "metadata": {},
   "source": [
    "Merge des dataframes"
   ]
  },
  {
   "cell_type": "code",
   "execution_count": 40,
   "metadata": {},
   "outputs": [
    {
     "data": {
      "text/html": [
       "<div>\n",
       "<style scoped>\n",
       "    .dataframe tbody tr th:only-of-type {\n",
       "        vertical-align: middle;\n",
       "    }\n",
       "\n",
       "    .dataframe tbody tr th {\n",
       "        vertical-align: top;\n",
       "    }\n",
       "\n",
       "    .dataframe thead th {\n",
       "        text-align: right;\n",
       "    }\n",
       "</style>\n",
       "<table border=\"1\" class=\"dataframe\">\n",
       "  <thead>\n",
       "    <tr style=\"text-align: right;\">\n",
       "      <th></th>\n",
       "      <th>tconst</th>\n",
       "      <th>primaryTitle</th>\n",
       "      <th>startYear</th>\n",
       "      <th>genres</th>\n",
       "      <th>averageRating</th>\n",
       "      <th>numVotes</th>\n",
       "    </tr>\n",
       "  </thead>\n",
       "  <tbody>\n",
       "    <tr>\n",
       "      <th>0</th>\n",
       "      <td>tt0000502</td>\n",
       "      <td>Bohemios</td>\n",
       "      <td>1905</td>\n",
       "      <td>\\N</td>\n",
       "      <td>4.4</td>\n",
       "      <td>15</td>\n",
       "    </tr>\n",
       "    <tr>\n",
       "      <th>1</th>\n",
       "      <td>tt0000574</td>\n",
       "      <td>The Story of the Kelly Gang</td>\n",
       "      <td>1906</td>\n",
       "      <td>Action,Adventure,Biography</td>\n",
       "      <td>6.1</td>\n",
       "      <td>736</td>\n",
       "    </tr>\n",
       "    <tr>\n",
       "      <th>2</th>\n",
       "      <td>tt0000591</td>\n",
       "      <td>The Prodigal Son</td>\n",
       "      <td>1907</td>\n",
       "      <td>Drama</td>\n",
       "      <td>5.0</td>\n",
       "      <td>17</td>\n",
       "    </tr>\n",
       "    <tr>\n",
       "      <th>3</th>\n",
       "      <td>tt0000615</td>\n",
       "      <td>Robbery Under Arms</td>\n",
       "      <td>1907</td>\n",
       "      <td>Drama</td>\n",
       "      <td>4.5</td>\n",
       "      <td>24</td>\n",
       "    </tr>\n",
       "    <tr>\n",
       "      <th>4</th>\n",
       "      <td>tt0000630</td>\n",
       "      <td>Hamlet</td>\n",
       "      <td>1908</td>\n",
       "      <td>Drama</td>\n",
       "      <td>3.7</td>\n",
       "      <td>24</td>\n",
       "    </tr>\n",
       "  </tbody>\n",
       "</table>\n",
       "</div>"
      ],
      "text/plain": [
       "      tconst                 primaryTitle startYear  \\\n",
       "0  tt0000502                     Bohemios      1905   \n",
       "1  tt0000574  The Story of the Kelly Gang      1906   \n",
       "2  tt0000591             The Prodigal Son      1907   \n",
       "3  tt0000615           Robbery Under Arms      1907   \n",
       "4  tt0000630                       Hamlet      1908   \n",
       "\n",
       "                       genres  averageRating  numVotes  \n",
       "0                          \\N            4.4        15  \n",
       "1  Action,Adventure,Biography            6.1       736  \n",
       "2                       Drama            5.0        17  \n",
       "3                       Drama            4.5        24  \n",
       "4                       Drama            3.7        24  "
      ]
     },
     "execution_count": 40,
     "metadata": {},
     "output_type": "execute_result"
    }
   ],
   "source": [
    "movies_ratings = pd.merge(basics_df_stripped, ratings_df, how='inner', left_on='tconst', right_on='tconst')\n",
    "movies_ratings.head()"
   ]
  },
  {
   "cell_type": "markdown",
   "metadata": {},
   "source": [
    "Réinitialisation de l'index"
   ]
  },
  {
   "cell_type": "code",
   "execution_count": 41,
   "metadata": {},
   "outputs": [
    {
     "data": {
      "text/html": [
       "<div>\n",
       "<style scoped>\n",
       "    .dataframe tbody tr th:only-of-type {\n",
       "        vertical-align: middle;\n",
       "    }\n",
       "\n",
       "    .dataframe tbody tr th {\n",
       "        vertical-align: top;\n",
       "    }\n",
       "\n",
       "    .dataframe thead th {\n",
       "        text-align: right;\n",
       "    }\n",
       "</style>\n",
       "<table border=\"1\" class=\"dataframe\">\n",
       "  <thead>\n",
       "    <tr style=\"text-align: right;\">\n",
       "      <th></th>\n",
       "      <th>tconst</th>\n",
       "      <th>primaryTitle</th>\n",
       "      <th>startYear</th>\n",
       "      <th>genres</th>\n",
       "      <th>averageRating</th>\n",
       "      <th>numVotes</th>\n",
       "    </tr>\n",
       "  </thead>\n",
       "  <tbody>\n",
       "    <tr>\n",
       "      <th>0</th>\n",
       "      <td>tt0000502</td>\n",
       "      <td>Bohemios</td>\n",
       "      <td>1905</td>\n",
       "      <td>\\N</td>\n",
       "      <td>4.4</td>\n",
       "      <td>15</td>\n",
       "    </tr>\n",
       "    <tr>\n",
       "      <th>1</th>\n",
       "      <td>tt0000574</td>\n",
       "      <td>The Story of the Kelly Gang</td>\n",
       "      <td>1906</td>\n",
       "      <td>Action,Adventure,Biography</td>\n",
       "      <td>6.1</td>\n",
       "      <td>736</td>\n",
       "    </tr>\n",
       "    <tr>\n",
       "      <th>2</th>\n",
       "      <td>tt0000591</td>\n",
       "      <td>The Prodigal Son</td>\n",
       "      <td>1907</td>\n",
       "      <td>Drama</td>\n",
       "      <td>5.0</td>\n",
       "      <td>17</td>\n",
       "    </tr>\n",
       "    <tr>\n",
       "      <th>3</th>\n",
       "      <td>tt0000615</td>\n",
       "      <td>Robbery Under Arms</td>\n",
       "      <td>1907</td>\n",
       "      <td>Drama</td>\n",
       "      <td>4.5</td>\n",
       "      <td>24</td>\n",
       "    </tr>\n",
       "    <tr>\n",
       "      <th>4</th>\n",
       "      <td>tt0000630</td>\n",
       "      <td>Hamlet</td>\n",
       "      <td>1908</td>\n",
       "      <td>Drama</td>\n",
       "      <td>3.7</td>\n",
       "      <td>24</td>\n",
       "    </tr>\n",
       "  </tbody>\n",
       "</table>\n",
       "</div>"
      ],
      "text/plain": [
       "      tconst                 primaryTitle startYear  \\\n",
       "0  tt0000502                     Bohemios      1905   \n",
       "1  tt0000574  The Story of the Kelly Gang      1906   \n",
       "2  tt0000591             The Prodigal Son      1907   \n",
       "3  tt0000615           Robbery Under Arms      1907   \n",
       "4  tt0000630                       Hamlet      1908   \n",
       "\n",
       "                       genres  averageRating  numVotes  \n",
       "0                          \\N            4.4        15  \n",
       "1  Action,Adventure,Biography            6.1       736  \n",
       "2                       Drama            5.0        17  \n",
       "3                       Drama            4.5        24  \n",
       "4                       Drama            3.7        24  "
      ]
     },
     "execution_count": 41,
     "metadata": {},
     "output_type": "execute_result"
    }
   ],
   "source": [
    "movies_ratings.reset_index(drop=True, inplace=True)\n",
    "movies_ratings.head()"
   ]
  },
  {
   "cell_type": "markdown",
   "metadata": {},
   "source": [
    "## Sélection des données à étudier"
   ]
  },
  {
   "cell_type": "markdown",
   "metadata": {},
   "source": [
    "Limite des films à un score supérieur ou égal à 8.0"
   ]
  },
  {
   "cell_type": "code",
   "execution_count": 42,
   "metadata": {},
   "outputs": [
    {
     "data": {
      "text/html": [
       "<div>\n",
       "<style scoped>\n",
       "    .dataframe tbody tr th:only-of-type {\n",
       "        vertical-align: middle;\n",
       "    }\n",
       "\n",
       "    .dataframe tbody tr th {\n",
       "        vertical-align: top;\n",
       "    }\n",
       "\n",
       "    .dataframe thead th {\n",
       "        text-align: right;\n",
       "    }\n",
       "</style>\n",
       "<table border=\"1\" class=\"dataframe\">\n",
       "  <thead>\n",
       "    <tr style=\"text-align: right;\">\n",
       "      <th></th>\n",
       "      <th>tconst</th>\n",
       "      <th>primaryTitle</th>\n",
       "      <th>startYear</th>\n",
       "      <th>genres</th>\n",
       "      <th>averageRating</th>\n",
       "      <th>numVotes</th>\n",
       "    </tr>\n",
       "  </thead>\n",
       "  <tbody>\n",
       "    <tr>\n",
       "      <th>211</th>\n",
       "      <td>tt0004295</td>\n",
       "      <td>The Man from Mexico</td>\n",
       "      <td>1914</td>\n",
       "      <td>Comedy</td>\n",
       "      <td>8.6</td>\n",
       "      <td>39</td>\n",
       "    </tr>\n",
       "    <tr>\n",
       "      <th>335</th>\n",
       "      <td>tt0005554</td>\n",
       "      <td>The Island of Regeneration</td>\n",
       "      <td>1915</td>\n",
       "      <td>Drama</td>\n",
       "      <td>8.6</td>\n",
       "      <td>14</td>\n",
       "    </tr>\n",
       "    <tr>\n",
       "      <th>387</th>\n",
       "      <td>tt0005994</td>\n",
       "      <td>Ruslan and Ludmilla</td>\n",
       "      <td>1915</td>\n",
       "      <td>\\N</td>\n",
       "      <td>8.5</td>\n",
       "      <td>13</td>\n",
       "    </tr>\n",
       "    <tr>\n",
       "      <th>427</th>\n",
       "      <td>tt0006371</td>\n",
       "      <td>Arms and the Woman</td>\n",
       "      <td>1916</td>\n",
       "      <td>Drama</td>\n",
       "      <td>9.2</td>\n",
       "      <td>18</td>\n",
       "    </tr>\n",
       "    <tr>\n",
       "      <th>443</th>\n",
       "      <td>tt0006463</td>\n",
       "      <td>The Brand of Cowardice</td>\n",
       "      <td>1916</td>\n",
       "      <td>Drama</td>\n",
       "      <td>8.8</td>\n",
       "      <td>16</td>\n",
       "    </tr>\n",
       "  </tbody>\n",
       "</table>\n",
       "</div>"
      ],
      "text/plain": [
       "        tconst                primaryTitle startYear  genres  averageRating  \\\n",
       "211  tt0004295         The Man from Mexico      1914  Comedy            8.6   \n",
       "335  tt0005554  The Island of Regeneration      1915   Drama            8.6   \n",
       "387  tt0005994         Ruslan and Ludmilla      1915      \\N            8.5   \n",
       "427  tt0006371          Arms and the Woman      1916   Drama            9.2   \n",
       "443  tt0006463      The Brand of Cowardice      1916   Drama            8.8   \n",
       "\n",
       "     numVotes  \n",
       "211        39  \n",
       "335        14  \n",
       "387        13  \n",
       "427        18  \n",
       "443        16  "
      ]
     },
     "execution_count": 42,
     "metadata": {},
     "output_type": "execute_result"
    }
   ],
   "source": [
    "movies_ratings_top = movies_ratings[movies_ratings['averageRating'] >= 8.5]\n",
    "movies_ratings_top.head()"
   ]
  },
  {
   "cell_type": "markdown",
   "metadata": {},
   "source": [
    "Tri par `numvotes` afin d'avoir une idée de où fixer la limite"
   ]
  },
  {
   "cell_type": "code",
   "execution_count": 43,
   "metadata": {},
   "outputs": [
    {
     "data": {
      "text/html": [
       "<div>\n",
       "<style scoped>\n",
       "    .dataframe tbody tr th:only-of-type {\n",
       "        vertical-align: middle;\n",
       "    }\n",
       "\n",
       "    .dataframe tbody tr th {\n",
       "        vertical-align: top;\n",
       "    }\n",
       "\n",
       "    .dataframe thead th {\n",
       "        text-align: right;\n",
       "    }\n",
       "</style>\n",
       "<table border=\"1\" class=\"dataframe\">\n",
       "  <thead>\n",
       "    <tr style=\"text-align: right;\">\n",
       "      <th></th>\n",
       "      <th>tconst</th>\n",
       "      <th>primaryTitle</th>\n",
       "      <th>startYear</th>\n",
       "      <th>genres</th>\n",
       "      <th>averageRating</th>\n",
       "      <th>numVotes</th>\n",
       "    </tr>\n",
       "  </thead>\n",
       "  <tbody>\n",
       "    <tr>\n",
       "      <th>60334</th>\n",
       "      <td>tt0111161</td>\n",
       "      <td>The Shawshank Redemption</td>\n",
       "      <td>1994</td>\n",
       "      <td>Drama</td>\n",
       "      <td>9.3</td>\n",
       "      <td>2480651</td>\n",
       "    </tr>\n",
       "    <tr>\n",
       "      <th>130555</th>\n",
       "      <td>tt0468569</td>\n",
       "      <td>The Dark Knight</td>\n",
       "      <td>2008</td>\n",
       "      <td>Action,Crime,Drama</td>\n",
       "      <td>9.0</td>\n",
       "      <td>2435010</td>\n",
       "    </tr>\n",
       "    <tr>\n",
       "      <th>165487</th>\n",
       "      <td>tt1375666</td>\n",
       "      <td>Inception</td>\n",
       "      <td>2010</td>\n",
       "      <td>Action,Adventure,Sci-Fi</td>\n",
       "      <td>8.8</td>\n",
       "      <td>2185134</td>\n",
       "    </tr>\n",
       "    <tr>\n",
       "      <th>69405</th>\n",
       "      <td>tt0137523</td>\n",
       "      <td>Fight Club</td>\n",
       "      <td>1999</td>\n",
       "      <td>Drama</td>\n",
       "      <td>8.8</td>\n",
       "      <td>1954675</td>\n",
       "    </tr>\n",
       "    <tr>\n",
       "      <th>60186</th>\n",
       "      <td>tt0110912</td>\n",
       "      <td>Pulp Fiction</td>\n",
       "      <td>1994</td>\n",
       "      <td>Crime,Drama</td>\n",
       "      <td>8.9</td>\n",
       "      <td>1920023</td>\n",
       "    </tr>\n",
       "    <tr>\n",
       "      <th>...</th>\n",
       "      <td>...</td>\n",
       "      <td>...</td>\n",
       "      <td>...</td>\n",
       "      <td>...</td>\n",
       "      <td>...</td>\n",
       "      <td>...</td>\n",
       "    </tr>\n",
       "    <tr>\n",
       "      <th>254879</th>\n",
       "      <td>tt7846750</td>\n",
       "      <td>UnRepresented</td>\n",
       "      <td>2019</td>\n",
       "      <td>Documentary</td>\n",
       "      <td>9.2</td>\n",
       "      <td>5</td>\n",
       "    </tr>\n",
       "    <tr>\n",
       "      <th>150896</th>\n",
       "      <td>tt11354272</td>\n",
       "      <td>Raghupathi Venkaiah Naidu</td>\n",
       "      <td>2019</td>\n",
       "      <td>Drama</td>\n",
       "      <td>8.6</td>\n",
       "      <td>5</td>\n",
       "    </tr>\n",
       "    <tr>\n",
       "      <th>199761</th>\n",
       "      <td>tt2413146</td>\n",
       "      <td>Planeta blanc</td>\n",
       "      <td>2013</td>\n",
       "      <td>Biography,Documentary,History</td>\n",
       "      <td>8.8</td>\n",
       "      <td>5</td>\n",
       "    </tr>\n",
       "    <tr>\n",
       "      <th>245079</th>\n",
       "      <td>tt6487526</td>\n",
       "      <td>Angel Wagenstein: Art Is a Weapon</td>\n",
       "      <td>2017</td>\n",
       "      <td>Documentary</td>\n",
       "      <td>8.8</td>\n",
       "      <td>5</td>\n",
       "    </tr>\n",
       "    <tr>\n",
       "      <th>54041</th>\n",
       "      <td>tt0099324</td>\n",
       "      <td>Crossover</td>\n",
       "      <td>1990</td>\n",
       "      <td>\\N</td>\n",
       "      <td>9.0</td>\n",
       "      <td>5</td>\n",
       "    </tr>\n",
       "  </tbody>\n",
       "</table>\n",
       "<p>7625 rows × 6 columns</p>\n",
       "</div>"
      ],
      "text/plain": [
       "            tconst                       primaryTitle startYear  \\\n",
       "60334    tt0111161           The Shawshank Redemption      1994   \n",
       "130555   tt0468569                    The Dark Knight      2008   \n",
       "165487   tt1375666                          Inception      2010   \n",
       "69405    tt0137523                         Fight Club      1999   \n",
       "60186    tt0110912                       Pulp Fiction      1994   \n",
       "...            ...                                ...       ...   \n",
       "254879   tt7846750                      UnRepresented      2019   \n",
       "150896  tt11354272          Raghupathi Venkaiah Naidu      2019   \n",
       "199761   tt2413146                      Planeta blanc      2013   \n",
       "245079   tt6487526  Angel Wagenstein: Art Is a Weapon      2017   \n",
       "54041    tt0099324                          Crossover      1990   \n",
       "\n",
       "                               genres  averageRating  numVotes  \n",
       "60334                           Drama            9.3   2480651  \n",
       "130555             Action,Crime,Drama            9.0   2435010  \n",
       "165487        Action,Adventure,Sci-Fi            8.8   2185134  \n",
       "69405                           Drama            8.8   1954675  \n",
       "60186                     Crime,Drama            8.9   1920023  \n",
       "...                               ...            ...       ...  \n",
       "254879                    Documentary            9.2         5  \n",
       "150896                          Drama            8.6         5  \n",
       "199761  Biography,Documentary,History            8.8         5  \n",
       "245079                    Documentary            8.8         5  \n",
       "54041                              \\N            9.0         5  \n",
       "\n",
       "[7625 rows x 6 columns]"
      ]
     },
     "execution_count": 43,
     "metadata": {},
     "output_type": "execute_result"
    }
   ],
   "source": [
    "movies_ratings_top.sort_values(by=['numVotes'], ascending=False)"
   ]
  },
  {
   "cell_type": "code",
   "execution_count": 44,
   "metadata": {},
   "outputs": [
    {
     "data": {
      "text/plain": [
       "7663.883278688525"
      ]
     },
     "execution_count": 44,
     "metadata": {},
     "output_type": "execute_result"
    }
   ],
   "source": [
    "movies_ratings_top['numVotes'].mean()"
   ]
  },
  {
   "cell_type": "code",
   "execution_count": 45,
   "metadata": {},
   "outputs": [
    {
     "data": {
      "text/plain": [
       "16.0"
      ]
     },
     "execution_count": 45,
     "metadata": {},
     "output_type": "execute_result"
    }
   ],
   "source": [
    "movies_ratings_top['numVotes'].median()"
   ]
  },
  {
   "cell_type": "code",
   "execution_count": 46,
   "metadata": {},
   "outputs": [
    {
     "data": {
      "text/plain": [
       "36.0"
      ]
     },
     "execution_count": 46,
     "metadata": {},
     "output_type": "execute_result"
    }
   ],
   "source": [
    "movies_ratings_top['numVotes'].quantile(0.75)"
   ]
  },
  {
   "cell_type": "markdown",
   "metadata": {},
   "source": [
    "Sélection des films ayant uniquement plus de 10000 votes afin d'éliminer les outliers ayant un score non significatif"
   ]
  },
  {
   "cell_type": "code",
   "execution_count": 47,
   "metadata": {},
   "outputs": [
    {
     "data": {
      "text/html": [
       "<div>\n",
       "<style scoped>\n",
       "    .dataframe tbody tr th:only-of-type {\n",
       "        vertical-align: middle;\n",
       "    }\n",
       "\n",
       "    .dataframe tbody tr th {\n",
       "        vertical-align: top;\n",
       "    }\n",
       "\n",
       "    .dataframe thead th {\n",
       "        text-align: right;\n",
       "    }\n",
       "</style>\n",
       "<table border=\"1\" class=\"dataframe\">\n",
       "  <thead>\n",
       "    <tr style=\"text-align: right;\">\n",
       "      <th></th>\n",
       "      <th>tconst</th>\n",
       "      <th>primaryTitle</th>\n",
       "      <th>startYear</th>\n",
       "      <th>genres</th>\n",
       "      <th>averageRating</th>\n",
       "      <th>numVotes</th>\n",
       "    </tr>\n",
       "  </thead>\n",
       "  <tbody>\n",
       "    <tr>\n",
       "      <th>4590</th>\n",
       "      <td>tt0021749</td>\n",
       "      <td>City Lights</td>\n",
       "      <td>1931</td>\n",
       "      <td>Comedy,Drama,Romance</td>\n",
       "      <td>8.5</td>\n",
       "      <td>176889</td>\n",
       "    </tr>\n",
       "    <tr>\n",
       "      <th>8232</th>\n",
       "      <td>tt0027977</td>\n",
       "      <td>Modern Times</td>\n",
       "      <td>1936</td>\n",
       "      <td>Comedy,Drama,Family</td>\n",
       "      <td>8.5</td>\n",
       "      <td>229946</td>\n",
       "    </tr>\n",
       "    <tr>\n",
       "      <th>12604</th>\n",
       "      <td>tt0034583</td>\n",
       "      <td>Casablanca</td>\n",
       "      <td>1942</td>\n",
       "      <td>Drama,Romance,War</td>\n",
       "      <td>8.5</td>\n",
       "      <td>545356</td>\n",
       "    </tr>\n",
       "    <tr>\n",
       "      <th>15447</th>\n",
       "      <td>tt0038650</td>\n",
       "      <td>It's a Wonderful Life</td>\n",
       "      <td>1946</td>\n",
       "      <td>Drama,Family,Fantasy</td>\n",
       "      <td>8.6</td>\n",
       "      <td>424167</td>\n",
       "    </tr>\n",
       "    <tr>\n",
       "      <th>21385</th>\n",
       "      <td>tt0047396</td>\n",
       "      <td>Rear Window</td>\n",
       "      <td>1954</td>\n",
       "      <td>Mystery,Thriller</td>\n",
       "      <td>8.5</td>\n",
       "      <td>468007</td>\n",
       "    </tr>\n",
       "    <tr>\n",
       "      <th>...</th>\n",
       "      <td>...</td>\n",
       "      <td>...</td>\n",
       "      <td>...</td>\n",
       "      <td>...</td>\n",
       "      <td>...</td>\n",
       "      <td>...</td>\n",
       "    </tr>\n",
       "    <tr>\n",
       "      <th>258381</th>\n",
       "      <td>tt8413338</td>\n",
       "      <td>Kumbalangi Nights</td>\n",
       "      <td>2019</td>\n",
       "      <td>Comedy,Drama,Romance</td>\n",
       "      <td>8.6</td>\n",
       "      <td>12488</td>\n",
       "    </tr>\n",
       "    <tr>\n",
       "      <th>261358</th>\n",
       "      <td>tt8948790</td>\n",
       "      <td>Jersey</td>\n",
       "      <td>2019</td>\n",
       "      <td>Drama,Sport</td>\n",
       "      <td>8.6</td>\n",
       "      <td>12171</td>\n",
       "    </tr>\n",
       "    <tr>\n",
       "      <th>264122</th>\n",
       "      <td>tt9477520</td>\n",
       "      <td>Asuran</td>\n",
       "      <td>2019</td>\n",
       "      <td>Action,Drama</td>\n",
       "      <td>8.5</td>\n",
       "      <td>20165</td>\n",
       "    </tr>\n",
       "    <tr>\n",
       "      <th>264607</th>\n",
       "      <td>tt9617456</td>\n",
       "      <td>For Sama</td>\n",
       "      <td>2019</td>\n",
       "      <td>Documentary,War</td>\n",
       "      <td>8.5</td>\n",
       "      <td>10684</td>\n",
       "    </tr>\n",
       "    <tr>\n",
       "      <th>265960</th>\n",
       "      <td>tt9900782</td>\n",
       "      <td>Kaithi</td>\n",
       "      <td>2019</td>\n",
       "      <td>Action,Crime,Thriller</td>\n",
       "      <td>8.5</td>\n",
       "      <td>17846</td>\n",
       "    </tr>\n",
       "  </tbody>\n",
       "</table>\n",
       "<p>114 rows × 6 columns</p>\n",
       "</div>"
      ],
      "text/plain": [
       "           tconst           primaryTitle startYear                 genres  \\\n",
       "4590    tt0021749            City Lights      1931   Comedy,Drama,Romance   \n",
       "8232    tt0027977           Modern Times      1936    Comedy,Drama,Family   \n",
       "12604   tt0034583             Casablanca      1942      Drama,Romance,War   \n",
       "15447   tt0038650  It's a Wonderful Life      1946   Drama,Family,Fantasy   \n",
       "21385   tt0047396            Rear Window      1954       Mystery,Thriller   \n",
       "...           ...                    ...       ...                    ...   \n",
       "258381  tt8413338      Kumbalangi Nights      2019   Comedy,Drama,Romance   \n",
       "261358  tt8948790                 Jersey      2019            Drama,Sport   \n",
       "264122  tt9477520                 Asuran      2019           Action,Drama   \n",
       "264607  tt9617456               For Sama      2019        Documentary,War   \n",
       "265960  tt9900782                 Kaithi      2019  Action,Crime,Thriller   \n",
       "\n",
       "        averageRating  numVotes  \n",
       "4590              8.5    176889  \n",
       "8232              8.5    229946  \n",
       "12604             8.5    545356  \n",
       "15447             8.6    424167  \n",
       "21385             8.5    468007  \n",
       "...               ...       ...  \n",
       "258381            8.6     12488  \n",
       "261358            8.6     12171  \n",
       "264122            8.5     20165  \n",
       "264607            8.5     10684  \n",
       "265960            8.5     17846  \n",
       "\n",
       "[114 rows x 6 columns]"
      ]
     },
     "execution_count": 47,
     "metadata": {},
     "output_type": "execute_result"
    }
   ],
   "source": [
    "movies_ratings_top = movies_ratings_top.loc[movies_ratings_top['numVotes'] >= 10000]\n",
    "movies_ratings_top"
   ]
  },
  {
   "cell_type": "code",
   "execution_count": 48,
   "metadata": {},
   "outputs": [
    {
     "data": {
      "text/html": [
       "<div>\n",
       "<style scoped>\n",
       "    .dataframe tbody tr th:only-of-type {\n",
       "        vertical-align: middle;\n",
       "    }\n",
       "\n",
       "    .dataframe tbody tr th {\n",
       "        vertical-align: top;\n",
       "    }\n",
       "\n",
       "    .dataframe thead th {\n",
       "        text-align: right;\n",
       "    }\n",
       "</style>\n",
       "<table border=\"1\" class=\"dataframe\">\n",
       "  <thead>\n",
       "    <tr style=\"text-align: right;\">\n",
       "      <th></th>\n",
       "      <th>tconst</th>\n",
       "      <th>primaryTitle</th>\n",
       "      <th>startYear</th>\n",
       "      <th>genres</th>\n",
       "      <th>averageRating</th>\n",
       "      <th>numVotes</th>\n",
       "      <th>mainGenre</th>\n",
       "      <th>secondaryGenres</th>\n",
       "    </tr>\n",
       "  </thead>\n",
       "  <tbody>\n",
       "    <tr>\n",
       "      <th>4590</th>\n",
       "      <td>tt0021749</td>\n",
       "      <td>City Lights</td>\n",
       "      <td>1931</td>\n",
       "      <td>Comedy,Drama,Romance</td>\n",
       "      <td>8.5</td>\n",
       "      <td>176889</td>\n",
       "      <td>Comedy</td>\n",
       "      <td>Drama,Romance</td>\n",
       "    </tr>\n",
       "    <tr>\n",
       "      <th>8232</th>\n",
       "      <td>tt0027977</td>\n",
       "      <td>Modern Times</td>\n",
       "      <td>1936</td>\n",
       "      <td>Comedy,Drama,Family</td>\n",
       "      <td>8.5</td>\n",
       "      <td>229946</td>\n",
       "      <td>Comedy</td>\n",
       "      <td>Drama,Family</td>\n",
       "    </tr>\n",
       "    <tr>\n",
       "      <th>12604</th>\n",
       "      <td>tt0034583</td>\n",
       "      <td>Casablanca</td>\n",
       "      <td>1942</td>\n",
       "      <td>Drama,Romance,War</td>\n",
       "      <td>8.5</td>\n",
       "      <td>545356</td>\n",
       "      <td>Drama</td>\n",
       "      <td>Romance,War</td>\n",
       "    </tr>\n",
       "    <tr>\n",
       "      <th>15447</th>\n",
       "      <td>tt0038650</td>\n",
       "      <td>It's a Wonderful Life</td>\n",
       "      <td>1946</td>\n",
       "      <td>Drama,Family,Fantasy</td>\n",
       "      <td>8.6</td>\n",
       "      <td>424167</td>\n",
       "      <td>Drama</td>\n",
       "      <td>Family,Fantasy</td>\n",
       "    </tr>\n",
       "    <tr>\n",
       "      <th>21385</th>\n",
       "      <td>tt0047396</td>\n",
       "      <td>Rear Window</td>\n",
       "      <td>1954</td>\n",
       "      <td>Mystery,Thriller</td>\n",
       "      <td>8.5</td>\n",
       "      <td>468007</td>\n",
       "      <td>Mystery</td>\n",
       "      <td>Thriller</td>\n",
       "    </tr>\n",
       "    <tr>\n",
       "      <th>...</th>\n",
       "      <td>...</td>\n",
       "      <td>...</td>\n",
       "      <td>...</td>\n",
       "      <td>...</td>\n",
       "      <td>...</td>\n",
       "      <td>...</td>\n",
       "      <td>...</td>\n",
       "      <td>...</td>\n",
       "    </tr>\n",
       "    <tr>\n",
       "      <th>258381</th>\n",
       "      <td>tt8413338</td>\n",
       "      <td>Kumbalangi Nights</td>\n",
       "      <td>2019</td>\n",
       "      <td>Comedy,Drama,Romance</td>\n",
       "      <td>8.6</td>\n",
       "      <td>12488</td>\n",
       "      <td>Comedy</td>\n",
       "      <td>Drama,Romance</td>\n",
       "    </tr>\n",
       "    <tr>\n",
       "      <th>261358</th>\n",
       "      <td>tt8948790</td>\n",
       "      <td>Jersey</td>\n",
       "      <td>2019</td>\n",
       "      <td>Drama,Sport</td>\n",
       "      <td>8.6</td>\n",
       "      <td>12171</td>\n",
       "      <td>Drama</td>\n",
       "      <td>Sport</td>\n",
       "    </tr>\n",
       "    <tr>\n",
       "      <th>264122</th>\n",
       "      <td>tt9477520</td>\n",
       "      <td>Asuran</td>\n",
       "      <td>2019</td>\n",
       "      <td>Action,Drama</td>\n",
       "      <td>8.5</td>\n",
       "      <td>20165</td>\n",
       "      <td>Action</td>\n",
       "      <td>Drama</td>\n",
       "    </tr>\n",
       "    <tr>\n",
       "      <th>264607</th>\n",
       "      <td>tt9617456</td>\n",
       "      <td>For Sama</td>\n",
       "      <td>2019</td>\n",
       "      <td>Documentary,War</td>\n",
       "      <td>8.5</td>\n",
       "      <td>10684</td>\n",
       "      <td>Documentary</td>\n",
       "      <td>War</td>\n",
       "    </tr>\n",
       "    <tr>\n",
       "      <th>265960</th>\n",
       "      <td>tt9900782</td>\n",
       "      <td>Kaithi</td>\n",
       "      <td>2019</td>\n",
       "      <td>Action,Crime,Thriller</td>\n",
       "      <td>8.5</td>\n",
       "      <td>17846</td>\n",
       "      <td>Action</td>\n",
       "      <td>Crime,Thriller</td>\n",
       "    </tr>\n",
       "  </tbody>\n",
       "</table>\n",
       "<p>114 rows × 8 columns</p>\n",
       "</div>"
      ],
      "text/plain": [
       "           tconst           primaryTitle startYear                 genres  \\\n",
       "4590    tt0021749            City Lights      1931   Comedy,Drama,Romance   \n",
       "8232    tt0027977           Modern Times      1936    Comedy,Drama,Family   \n",
       "12604   tt0034583             Casablanca      1942      Drama,Romance,War   \n",
       "15447   tt0038650  It's a Wonderful Life      1946   Drama,Family,Fantasy   \n",
       "21385   tt0047396            Rear Window      1954       Mystery,Thriller   \n",
       "...           ...                    ...       ...                    ...   \n",
       "258381  tt8413338      Kumbalangi Nights      2019   Comedy,Drama,Romance   \n",
       "261358  tt8948790                 Jersey      2019            Drama,Sport   \n",
       "264122  tt9477520                 Asuran      2019           Action,Drama   \n",
       "264607  tt9617456               For Sama      2019        Documentary,War   \n",
       "265960  tt9900782                 Kaithi      2019  Action,Crime,Thriller   \n",
       "\n",
       "        averageRating  numVotes    mainGenre secondaryGenres  \n",
       "4590              8.5    176889       Comedy   Drama,Romance  \n",
       "8232              8.5    229946       Comedy    Drama,Family  \n",
       "12604             8.5    545356        Drama     Romance,War  \n",
       "15447             8.6    424167        Drama  Family,Fantasy  \n",
       "21385             8.5    468007      Mystery        Thriller  \n",
       "...               ...       ...          ...             ...  \n",
       "258381            8.6     12488       Comedy   Drama,Romance  \n",
       "261358            8.6     12171        Drama           Sport  \n",
       "264122            8.5     20165       Action           Drama  \n",
       "264607            8.5     10684  Documentary             War  \n",
       "265960            8.5     17846       Action  Crime,Thriller  \n",
       "\n",
       "[114 rows x 8 columns]"
      ]
     },
     "execution_count": 48,
     "metadata": {},
     "output_type": "execute_result"
    }
   ],
   "source": [
    "movies_ratings_top[['mainGenre', 'secondaryGenres']] = movies_ratings['genres'].str.split(',', n=1, expand=True)\n",
    "movies_ratings_top"
   ]
  },
  {
   "cell_type": "markdown",
   "metadata": {},
   "source": [
    "## Graphiques"
   ]
  },
  {
   "cell_type": "code",
   "execution_count": 50,
   "metadata": {},
   "outputs": [
    {
     "data": {
      "application/vnd.plotly.v1+json": {
       "config": {
        "plotlyServerURL": "https://plot.ly"
       },
       "data": [
        {
         "hovertemplate": "<b>%{hovertext}</b><br><br>Year=%{x}<br>Rating=%{marker.color}<br>Genre=%{z}<br>Number of Votes=%{marker.size}<extra></extra>",
         "hovertext": [
          "City Lights",
          "Modern Times",
          "Casablanca",
          "It's a Wonderful Life",
          "Rear Window",
          "Seven Samurai",
          "Pather Panchali",
          "12 Angry Men",
          "The World of Apu",
          "Psycho",
          "Le Trou",
          "Hara-Kiri",
          "Woman in the Dunes",
          "Operation 'Y' & Other Shurik's Adventures",
          "The Good, the Bad and the Ugly",
          "Once Upon a Time in the West",
          "The Godfather",
          "The Godfather: Part II",
          "The Pinchcliffe Grand Prix",
          "One Flew Over the Cuckoo's Nest",
          "Who's Singin' Over There?",
          "Star Wars: Episode IV - A New Hope",
          "Hanky Panky",
          "Star Wars: Episode V - The Empire Strikes Back",
          "The Marathon Family",
          "Balkan Spy",
          "Stop Making Sense",
          "Back to the Future",
          "Nayakan",
          "Grave of the Fireflies",
          "Cinema Paradiso",
          "Goodfellas",
          "Thalapathi",
          "The Silence of the Lambs",
          "Terminator 2: Judgment Day",
          "Baraka",
          "Schindler's List",
          "Forrest Gump",
          "The Lion King",
          "Léon: The Professional",
          "Pulp Fiction",
          "The Shawshank Redemption",
          "Se7en",
          "The Usual Suspects",
          "Pretty Village, Pretty Flame",
          "Life Is Beautiful",
          "American History X",
          "The Green Mile",
          "The Lord of the Rings: The Fellowship of the Ring",
          "Saving Private Ryan",
          "The Matrix",
          "Fight Club",
          "The Lord of the Rings: The Return of the King",
          "The Lord of the Rings: The Two Towers",
          "Gladiator",
          "Mr. Muhsin",
          "The Broken Landlord",
          "Spirited Away",
          "The Chaos Class",
          "The Chaos Class Failed the Class",
          "The Chaos Class Is on Vacation",
          "The Chaos Class Is Waking Up",
          "Kibar Feyzo",
          "The Pianist",
          "Saban, Son of Saban",
          "Süt Kardesler",
          "Tosun Pasa",
          "Çöpçüler Krali",
          "The Girl with the Red Scarf",
          "A Dog's Will",
          "Philanthropy",
          "City of God",
          "The Best of Youth",
          "Earthlings",
          "Anbe Sivam",
          "When I Grow Up, I'll Be a Kangaroo",
          "Black Friday",
          "The Departed",
          "The Lizard",
          "The Dark Knight",
          "The Prestige",
          "Happy Days",
          "Samsara",
          "Interstellar",
          "Home",
          "Soorarai Pottru",
          "Sardar Udham",
          "Shershaah",
          "Dara of Jasenovac",
          "Dear Zachary: A Letter to a Son About His Father",
          "Sarpatta Parambarai",
          "David Attenborough: A Life on Our Planet",
          "Drishyam 2",
          "Inception",
          "Senna",
          "The Intouchables",
          "Whiplash",
          "CM101MMXI Fundamentals",
          "The Salt of the Earth",
          "O.J.: Made in America",
          "Mirror Game",
          "The Mountain II",
          "Aruvi",
          "Vada Chennai",
          "Parasite",
          "96",
          "Mahanati",
          "Peranbu",
          "Pariyerum Perumal",
          "Kumbalangi Nights",
          "Jersey",
          "Asuran",
          "For Sama",
          "Kaithi"
         ],
         "legendgroup": "",
         "marker": {
          "color": [
           8.5,
           8.5,
           8.5,
           8.6,
           8.5,
           8.6,
           8.5,
           9,
           8.5,
           8.5,
           8.5,
           8.6,
           8.5,
           8.5,
           8.8,
           8.5,
           9.2,
           9,
           8.5,
           8.7,
           8.8,
           8.6,
           8.5,
           8.7,
           8.9,
           8.9,
           8.6,
           8.5,
           8.7,
           8.5,
           8.5,
           8.7,
           8.5,
           8.6,
           8.5,
           8.6,
           8.9,
           8.8,
           8.5,
           8.5,
           8.9,
           9.3,
           8.6,
           8.5,
           8.7,
           8.6,
           8.5,
           8.6,
           8.8,
           8.6,
           8.7,
           8.8,
           8.9,
           8.7,
           8.5,
           8.5,
           8.7,
           8.6,
           9.3,
           8.9,
           8.7,
           8.8,
           8.7,
           8.5,
           8.7,
           8.9,
           9,
           8.6,
           8.6,
           8.7,
           8.5,
           8.6,
           8.5,
           8.7,
           8.7,
           8.5,
           8.5,
           8.5,
           8.5,
           9,
           8.5,
           8.7,
           8.5,
           8.6,
           8.5,
           9.1,
           9.1,
           8.7,
           8.8,
           8.5,
           8.7,
           9,
           8.6,
           8.8,
           8.5,
           8.5,
           8.5,
           9.1,
           8.5,
           8.9,
           9.1,
           8.7,
           8.5,
           8.5,
           8.6,
           8.6,
           8.5,
           8.9,
           8.8,
           8.6,
           8.6,
           8.5,
           8.5,
           8.5
          ],
          "coloraxis": "coloraxis",
          "opacity": 0.8,
          "size": [
           176889,
           229946,
           545356,
           424167,
           468007,
           330517,
           28986,
           734210,
           13666,
           634898,
           16859,
           49884,
           18913,
           12723,
           721489,
           315842,
           1713340,
           1190120,
           12957,
           958367,
           14885,
           1283131,
           18750,
           1211355,
           15289,
           11063,
           14617,
           1119849,
           18448,
           254790,
           246853,
           1076805,
           11267,
           1340345,
           1038598,
           37797,
           1273489,
           1918063,
           989070,
           1088494,
           1920023,
           2480651,
           1527144,
           1033538,
           15784,
           655740,
           1071692,
           1210780,
           1740176,
           1299785,
           1772565,
           1954675,
           1718904,
           1553977,
           1407459,
           10570,
           14765,
           699279,
           39207,
           22806,
           17366,
           19174,
           15759,
           775742,
           17155,
           19422,
           22618,
           19509,
           15525,
           13255,
           12872,
           724848,
           21457,
           18662,
           18982,
           10207,
           20091,
           1247559,
           16849,
           2435010,
           1252179,
           10748,
           34760,
           1631714,
           22116,
           90958,
           22618,
           105924,
           79702,
           35265,
           15636,
           29563,
           31208,
           2185134,
           68000,
           801753,
           769966,
           44777,
           20935,
           18826,
           25151,
           106962,
           12303,
           14506,
           676191,
           24559,
           11330,
           14159,
           12498,
           12488,
           12171,
           20165,
           10684,
           17846
          ],
          "sizemode": "area",
          "sizeref": 3969.0416,
          "symbol": "circle"
         },
         "mode": "markers",
         "name": "",
         "scene": "scene",
         "showlegend": false,
         "type": "scatter3d",
         "x": [
          "1931",
          "1936",
          "1942",
          "1946",
          "1954",
          "1954",
          "1955",
          "1957",
          "1959",
          "1960",
          "1960",
          "1962",
          "1964",
          "1965",
          "1966",
          "1968",
          "1972",
          "1974",
          "1975",
          "1975",
          "1980",
          "1977",
          "1979",
          "1980",
          "1982",
          "1984",
          "1984",
          "1985",
          "1987",
          "1988",
          "1988",
          "1990",
          "1991",
          "1991",
          "1991",
          "1992",
          "1993",
          "1994",
          "1994",
          "1994",
          "1994",
          "1994",
          "1995",
          "1995",
          "1996",
          "1997",
          "1998",
          "1999",
          "2001",
          "1998",
          "1999",
          "1999",
          "2003",
          "2002",
          "2000",
          "1987",
          "1986",
          "2001",
          "1975",
          "1976",
          "1977",
          "1977",
          "1978",
          "2002",
          "1977",
          "1976",
          "1976",
          "1977",
          "1977",
          "2000",
          "2002",
          "2002",
          "2003",
          "2005",
          "2003",
          "2004",
          "2004",
          "2006",
          "2004",
          "2008",
          "2006",
          "1978",
          "2011",
          "2014",
          "2009",
          "2020",
          "2021",
          "2021",
          "2020",
          "2008",
          "2021",
          "2020",
          "2021",
          "2010",
          "2010",
          "2011",
          "2014",
          "2013",
          "2014",
          "2016",
          "2016",
          "2016",
          "2016",
          "2018",
          "2019",
          "2018",
          "2018",
          "2018",
          "2018",
          "2019",
          "2019",
          "2019",
          "2019",
          "2019"
         ],
         "y": [
          8.5,
          8.5,
          8.5,
          8.6,
          8.5,
          8.6,
          8.5,
          9,
          8.5,
          8.5,
          8.5,
          8.6,
          8.5,
          8.5,
          8.8,
          8.5,
          9.2,
          9,
          8.5,
          8.7,
          8.8,
          8.6,
          8.5,
          8.7,
          8.9,
          8.9,
          8.6,
          8.5,
          8.7,
          8.5,
          8.5,
          8.7,
          8.5,
          8.6,
          8.5,
          8.6,
          8.9,
          8.8,
          8.5,
          8.5,
          8.9,
          9.3,
          8.6,
          8.5,
          8.7,
          8.6,
          8.5,
          8.6,
          8.8,
          8.6,
          8.7,
          8.8,
          8.9,
          8.7,
          8.5,
          8.5,
          8.7,
          8.6,
          9.3,
          8.9,
          8.7,
          8.8,
          8.7,
          8.5,
          8.7,
          8.9,
          9,
          8.6,
          8.6,
          8.7,
          8.5,
          8.6,
          8.5,
          8.7,
          8.7,
          8.5,
          8.5,
          8.5,
          8.5,
          9,
          8.5,
          8.7,
          8.5,
          8.6,
          8.5,
          9.1,
          9.1,
          8.7,
          8.8,
          8.5,
          8.7,
          9,
          8.6,
          8.8,
          8.5,
          8.5,
          8.5,
          9.1,
          8.5,
          8.9,
          9.1,
          8.7,
          8.5,
          8.5,
          8.6,
          8.6,
          8.5,
          8.9,
          8.8,
          8.6,
          8.6,
          8.5,
          8.5,
          8.5
         ],
         "z": [
          "Comedy",
          "Comedy",
          "Drama",
          "Drama",
          "Mystery",
          "Action",
          "Drama",
          "Crime",
          "Drama",
          "Horror",
          "Crime",
          "Action",
          "Drama",
          "Comedy",
          "Western",
          "Western",
          "Crime",
          "Crime",
          "Animation",
          "Drama",
          "Adventure",
          "Action",
          "Comedy",
          "Action",
          "Comedy",
          "Comedy",
          "Documentary",
          "Adventure",
          "Crime",
          "Animation",
          "Drama",
          "Biography",
          "Action",
          "Crime",
          "Action",
          "Documentary",
          "Biography",
          "Drama",
          "Adventure",
          "Action",
          "Crime",
          "Drama",
          "Crime",
          "Crime",
          "Comedy",
          "Comedy",
          "Drama",
          "Crime",
          "Action",
          "Drama",
          "Action",
          "Drama",
          "Action",
          "Action",
          "Action",
          "Comedy",
          "Comedy",
          "Adventure",
          "Comedy",
          "Comedy",
          "Adventure",
          "Adventure",
          "Comedy",
          "Biography",
          "Comedy",
          "Comedy",
          "Comedy",
          "Comedy",
          "Drama",
          "Comedy",
          "Comedy",
          "Crime",
          "Drama",
          "Documentary",
          "Adventure",
          "Comedy",
          "Action",
          "Crime",
          "Comedy",
          "Action",
          "Drama",
          "Comedy",
          "Documentary",
          "Adventure",
          "Documentary",
          "Drama",
          "Biography",
          "Action",
          "Drama",
          "Biography",
          "Action",
          "Biography",
          "Crime",
          "Action",
          "Biography",
          "Biography",
          "Drama",
          "Comedy",
          "Biography",
          "Biography",
          "Crime",
          "Action",
          "Drama",
          "Action",
          "Comedy",
          "Drama",
          "Biography",
          "Drama",
          "Drama",
          "Comedy",
          "Drama",
          "Action",
          "Documentary",
          "Action"
         ]
        }
       ],
       "layout": {
        "coloraxis": {
         "colorbar": {
          "title": {
           "text": "Rating"
          }
         },
         "colorscale": [
          [
           0,
           "#0d0887"
          ],
          [
           0.1111111111111111,
           "#46039f"
          ],
          [
           0.2222222222222222,
           "#7201a8"
          ],
          [
           0.3333333333333333,
           "#9c179e"
          ],
          [
           0.4444444444444444,
           "#bd3786"
          ],
          [
           0.5555555555555556,
           "#d8576b"
          ],
          [
           0.6666666666666666,
           "#ed7953"
          ],
          [
           0.7777777777777778,
           "#fb9f3a"
          ],
          [
           0.8888888888888888,
           "#fdca26"
          ],
          [
           1,
           "#f0f921"
          ]
         ]
        },
        "height": 1000,
        "legend": {
         "itemsizing": "constant",
         "tracegroupgap": 0
        },
        "margin": {
         "t": 60
        },
        "scene": {
         "domain": {
          "x": [
           0,
           1
          ],
          "y": [
           0,
           1
          ]
         },
         "xaxis": {
          "title": {
           "text": "Year"
          }
         },
         "yaxis": {
          "title": {
           "text": "Rating"
          }
         },
         "zaxis": {
          "title": {
           "text": "Genre"
          }
         }
        },
        "template": {
         "data": {
          "bar": [
           {
            "error_x": {
             "color": "#f2f5fa"
            },
            "error_y": {
             "color": "#f2f5fa"
            },
            "marker": {
             "line": {
              "color": "rgb(17,17,17)",
              "width": 0.5
             },
             "pattern": {
              "fillmode": "overlay",
              "size": 10,
              "solidity": 0.2
             }
            },
            "type": "bar"
           }
          ],
          "barpolar": [
           {
            "marker": {
             "line": {
              "color": "rgb(17,17,17)",
              "width": 0.5
             },
             "pattern": {
              "fillmode": "overlay",
              "size": 10,
              "solidity": 0.2
             }
            },
            "type": "barpolar"
           }
          ],
          "carpet": [
           {
            "aaxis": {
             "endlinecolor": "#A2B1C6",
             "gridcolor": "#506784",
             "linecolor": "#506784",
             "minorgridcolor": "#506784",
             "startlinecolor": "#A2B1C6"
            },
            "baxis": {
             "endlinecolor": "#A2B1C6",
             "gridcolor": "#506784",
             "linecolor": "#506784",
             "minorgridcolor": "#506784",
             "startlinecolor": "#A2B1C6"
            },
            "type": "carpet"
           }
          ],
          "choropleth": [
           {
            "colorbar": {
             "outlinewidth": 0,
             "ticks": ""
            },
            "type": "choropleth"
           }
          ],
          "contour": [
           {
            "colorbar": {
             "outlinewidth": 0,
             "ticks": ""
            },
            "colorscale": [
             [
              0,
              "#0d0887"
             ],
             [
              0.1111111111111111,
              "#46039f"
             ],
             [
              0.2222222222222222,
              "#7201a8"
             ],
             [
              0.3333333333333333,
              "#9c179e"
             ],
             [
              0.4444444444444444,
              "#bd3786"
             ],
             [
              0.5555555555555556,
              "#d8576b"
             ],
             [
              0.6666666666666666,
              "#ed7953"
             ],
             [
              0.7777777777777778,
              "#fb9f3a"
             ],
             [
              0.8888888888888888,
              "#fdca26"
             ],
             [
              1,
              "#f0f921"
             ]
            ],
            "type": "contour"
           }
          ],
          "contourcarpet": [
           {
            "colorbar": {
             "outlinewidth": 0,
             "ticks": ""
            },
            "type": "contourcarpet"
           }
          ],
          "heatmap": [
           {
            "colorbar": {
             "outlinewidth": 0,
             "ticks": ""
            },
            "colorscale": [
             [
              0,
              "#0d0887"
             ],
             [
              0.1111111111111111,
              "#46039f"
             ],
             [
              0.2222222222222222,
              "#7201a8"
             ],
             [
              0.3333333333333333,
              "#9c179e"
             ],
             [
              0.4444444444444444,
              "#bd3786"
             ],
             [
              0.5555555555555556,
              "#d8576b"
             ],
             [
              0.6666666666666666,
              "#ed7953"
             ],
             [
              0.7777777777777778,
              "#fb9f3a"
             ],
             [
              0.8888888888888888,
              "#fdca26"
             ],
             [
              1,
              "#f0f921"
             ]
            ],
            "type": "heatmap"
           }
          ],
          "heatmapgl": [
           {
            "colorbar": {
             "outlinewidth": 0,
             "ticks": ""
            },
            "colorscale": [
             [
              0,
              "#0d0887"
             ],
             [
              0.1111111111111111,
              "#46039f"
             ],
             [
              0.2222222222222222,
              "#7201a8"
             ],
             [
              0.3333333333333333,
              "#9c179e"
             ],
             [
              0.4444444444444444,
              "#bd3786"
             ],
             [
              0.5555555555555556,
              "#d8576b"
             ],
             [
              0.6666666666666666,
              "#ed7953"
             ],
             [
              0.7777777777777778,
              "#fb9f3a"
             ],
             [
              0.8888888888888888,
              "#fdca26"
             ],
             [
              1,
              "#f0f921"
             ]
            ],
            "type": "heatmapgl"
           }
          ],
          "histogram": [
           {
            "marker": {
             "pattern": {
              "fillmode": "overlay",
              "size": 10,
              "solidity": 0.2
             }
            },
            "type": "histogram"
           }
          ],
          "histogram2d": [
           {
            "colorbar": {
             "outlinewidth": 0,
             "ticks": ""
            },
            "colorscale": [
             [
              0,
              "#0d0887"
             ],
             [
              0.1111111111111111,
              "#46039f"
             ],
             [
              0.2222222222222222,
              "#7201a8"
             ],
             [
              0.3333333333333333,
              "#9c179e"
             ],
             [
              0.4444444444444444,
              "#bd3786"
             ],
             [
              0.5555555555555556,
              "#d8576b"
             ],
             [
              0.6666666666666666,
              "#ed7953"
             ],
             [
              0.7777777777777778,
              "#fb9f3a"
             ],
             [
              0.8888888888888888,
              "#fdca26"
             ],
             [
              1,
              "#f0f921"
             ]
            ],
            "type": "histogram2d"
           }
          ],
          "histogram2dcontour": [
           {
            "colorbar": {
             "outlinewidth": 0,
             "ticks": ""
            },
            "colorscale": [
             [
              0,
              "#0d0887"
             ],
             [
              0.1111111111111111,
              "#46039f"
             ],
             [
              0.2222222222222222,
              "#7201a8"
             ],
             [
              0.3333333333333333,
              "#9c179e"
             ],
             [
              0.4444444444444444,
              "#bd3786"
             ],
             [
              0.5555555555555556,
              "#d8576b"
             ],
             [
              0.6666666666666666,
              "#ed7953"
             ],
             [
              0.7777777777777778,
              "#fb9f3a"
             ],
             [
              0.8888888888888888,
              "#fdca26"
             ],
             [
              1,
              "#f0f921"
             ]
            ],
            "type": "histogram2dcontour"
           }
          ],
          "mesh3d": [
           {
            "colorbar": {
             "outlinewidth": 0,
             "ticks": ""
            },
            "type": "mesh3d"
           }
          ],
          "parcoords": [
           {
            "line": {
             "colorbar": {
              "outlinewidth": 0,
              "ticks": ""
             }
            },
            "type": "parcoords"
           }
          ],
          "pie": [
           {
            "automargin": true,
            "type": "pie"
           }
          ],
          "scatter": [
           {
            "marker": {
             "line": {
              "color": "#283442"
             }
            },
            "type": "scatter"
           }
          ],
          "scatter3d": [
           {
            "line": {
             "colorbar": {
              "outlinewidth": 0,
              "ticks": ""
             }
            },
            "marker": {
             "colorbar": {
              "outlinewidth": 0,
              "ticks": ""
             }
            },
            "type": "scatter3d"
           }
          ],
          "scattercarpet": [
           {
            "marker": {
             "colorbar": {
              "outlinewidth": 0,
              "ticks": ""
             }
            },
            "type": "scattercarpet"
           }
          ],
          "scattergeo": [
           {
            "marker": {
             "colorbar": {
              "outlinewidth": 0,
              "ticks": ""
             }
            },
            "type": "scattergeo"
           }
          ],
          "scattergl": [
           {
            "marker": {
             "line": {
              "color": "#283442"
             }
            },
            "type": "scattergl"
           }
          ],
          "scattermapbox": [
           {
            "marker": {
             "colorbar": {
              "outlinewidth": 0,
              "ticks": ""
             }
            },
            "type": "scattermapbox"
           }
          ],
          "scatterpolar": [
           {
            "marker": {
             "colorbar": {
              "outlinewidth": 0,
              "ticks": ""
             }
            },
            "type": "scatterpolar"
           }
          ],
          "scatterpolargl": [
           {
            "marker": {
             "colorbar": {
              "outlinewidth": 0,
              "ticks": ""
             }
            },
            "type": "scatterpolargl"
           }
          ],
          "scatterternary": [
           {
            "marker": {
             "colorbar": {
              "outlinewidth": 0,
              "ticks": ""
             }
            },
            "type": "scatterternary"
           }
          ],
          "surface": [
           {
            "colorbar": {
             "outlinewidth": 0,
             "ticks": ""
            },
            "colorscale": [
             [
              0,
              "#0d0887"
             ],
             [
              0.1111111111111111,
              "#46039f"
             ],
             [
              0.2222222222222222,
              "#7201a8"
             ],
             [
              0.3333333333333333,
              "#9c179e"
             ],
             [
              0.4444444444444444,
              "#bd3786"
             ],
             [
              0.5555555555555556,
              "#d8576b"
             ],
             [
              0.6666666666666666,
              "#ed7953"
             ],
             [
              0.7777777777777778,
              "#fb9f3a"
             ],
             [
              0.8888888888888888,
              "#fdca26"
             ],
             [
              1,
              "#f0f921"
             ]
            ],
            "type": "surface"
           }
          ],
          "table": [
           {
            "cells": {
             "fill": {
              "color": "#506784"
             },
             "line": {
              "color": "rgb(17,17,17)"
             }
            },
            "header": {
             "fill": {
              "color": "#2a3f5f"
             },
             "line": {
              "color": "rgb(17,17,17)"
             }
            },
            "type": "table"
           }
          ]
         },
         "layout": {
          "annotationdefaults": {
           "arrowcolor": "#f2f5fa",
           "arrowhead": 0,
           "arrowwidth": 1
          },
          "autotypenumbers": "strict",
          "coloraxis": {
           "colorbar": {
            "outlinewidth": 0,
            "ticks": ""
           }
          },
          "colorscale": {
           "diverging": [
            [
             0,
             "#8e0152"
            ],
            [
             0.1,
             "#c51b7d"
            ],
            [
             0.2,
             "#de77ae"
            ],
            [
             0.3,
             "#f1b6da"
            ],
            [
             0.4,
             "#fde0ef"
            ],
            [
             0.5,
             "#f7f7f7"
            ],
            [
             0.6,
             "#e6f5d0"
            ],
            [
             0.7,
             "#b8e186"
            ],
            [
             0.8,
             "#7fbc41"
            ],
            [
             0.9,
             "#4d9221"
            ],
            [
             1,
             "#276419"
            ]
           ],
           "sequential": [
            [
             0,
             "#0d0887"
            ],
            [
             0.1111111111111111,
             "#46039f"
            ],
            [
             0.2222222222222222,
             "#7201a8"
            ],
            [
             0.3333333333333333,
             "#9c179e"
            ],
            [
             0.4444444444444444,
             "#bd3786"
            ],
            [
             0.5555555555555556,
             "#d8576b"
            ],
            [
             0.6666666666666666,
             "#ed7953"
            ],
            [
             0.7777777777777778,
             "#fb9f3a"
            ],
            [
             0.8888888888888888,
             "#fdca26"
            ],
            [
             1,
             "#f0f921"
            ]
           ],
           "sequentialminus": [
            [
             0,
             "#0d0887"
            ],
            [
             0.1111111111111111,
             "#46039f"
            ],
            [
             0.2222222222222222,
             "#7201a8"
            ],
            [
             0.3333333333333333,
             "#9c179e"
            ],
            [
             0.4444444444444444,
             "#bd3786"
            ],
            [
             0.5555555555555556,
             "#d8576b"
            ],
            [
             0.6666666666666666,
             "#ed7953"
            ],
            [
             0.7777777777777778,
             "#fb9f3a"
            ],
            [
             0.8888888888888888,
             "#fdca26"
            ],
            [
             1,
             "#f0f921"
            ]
           ]
          },
          "colorway": [
           "#636efa",
           "#EF553B",
           "#00cc96",
           "#ab63fa",
           "#FFA15A",
           "#19d3f3",
           "#FF6692",
           "#B6E880",
           "#FF97FF",
           "#FECB52"
          ],
          "font": {
           "color": "#f2f5fa"
          },
          "geo": {
           "bgcolor": "rgb(17,17,17)",
           "lakecolor": "rgb(17,17,17)",
           "landcolor": "rgb(17,17,17)",
           "showlakes": true,
           "showland": true,
           "subunitcolor": "#506784"
          },
          "hoverlabel": {
           "align": "left"
          },
          "hovermode": "closest",
          "mapbox": {
           "style": "dark"
          },
          "paper_bgcolor": "rgb(17,17,17)",
          "plot_bgcolor": "rgb(17,17,17)",
          "polar": {
           "angularaxis": {
            "gridcolor": "#506784",
            "linecolor": "#506784",
            "ticks": ""
           },
           "bgcolor": "rgb(17,17,17)",
           "radialaxis": {
            "gridcolor": "#506784",
            "linecolor": "#506784",
            "ticks": ""
           }
          },
          "scene": {
           "xaxis": {
            "backgroundcolor": "rgb(17,17,17)",
            "gridcolor": "#506784",
            "gridwidth": 2,
            "linecolor": "#506784",
            "showbackground": true,
            "ticks": "",
            "zerolinecolor": "#C8D4E3"
           },
           "yaxis": {
            "backgroundcolor": "rgb(17,17,17)",
            "gridcolor": "#506784",
            "gridwidth": 2,
            "linecolor": "#506784",
            "showbackground": true,
            "ticks": "",
            "zerolinecolor": "#C8D4E3"
           },
           "zaxis": {
            "backgroundcolor": "rgb(17,17,17)",
            "gridcolor": "#506784",
            "gridwidth": 2,
            "linecolor": "#506784",
            "showbackground": true,
            "ticks": "",
            "zerolinecolor": "#C8D4E3"
           }
          },
          "shapedefaults": {
           "line": {
            "color": "#f2f5fa"
           }
          },
          "sliderdefaults": {
           "bgcolor": "#C8D4E3",
           "bordercolor": "rgb(17,17,17)",
           "borderwidth": 1,
           "tickwidth": 0
          },
          "ternary": {
           "aaxis": {
            "gridcolor": "#506784",
            "linecolor": "#506784",
            "ticks": ""
           },
           "baxis": {
            "gridcolor": "#506784",
            "linecolor": "#506784",
            "ticks": ""
           },
           "bgcolor": "rgb(17,17,17)",
           "caxis": {
            "gridcolor": "#506784",
            "linecolor": "#506784",
            "ticks": ""
           }
          },
          "title": {
           "x": 0.05
          },
          "updatemenudefaults": {
           "bgcolor": "#506784",
           "borderwidth": 0
          },
          "xaxis": {
           "automargin": true,
           "gridcolor": "#283442",
           "linecolor": "#506784",
           "ticks": "",
           "title": {
            "standoff": 15
           },
           "zerolinecolor": "#283442",
           "zerolinewidth": 2
          },
          "yaxis": {
           "automargin": true,
           "gridcolor": "#283442",
           "linecolor": "#506784",
           "ticks": "",
           "title": {
            "standoff": 15
           },
           "zerolinecolor": "#283442",
           "zerolinewidth": 2
          }
         }
        },
        "width": 1300
       }
      }
     },
     "metadata": {},
     "output_type": "display_data"
    }
   ],
   "source": [
    "fig = px.scatter_3d(movies_ratings_top, \n",
    "    x='startYear', \n",
    "    y='averageRating', \n",
    "    z='mainGenre', \n",
    "    color='averageRating', \n",
    "    size='numVotes', \n",
    "    opacity = 0.8,\n",
    "    labels={\n",
    "        'startYear': 'Year',\n",
    "        'averageRating': 'Rating',\n",
    "        'mainGenre': 'Genre',\n",
    "        'numVotes': 'Number of Votes'\n",
    "    }, \n",
    "    size_max=25,\n",
    "    template='plotly_dark',\n",
    "    hover_name='primaryTitle'\n",
    ")\n",
    "\n",
    "\n",
    "fig.update_layout(width=1300, height=1000)\n",
    "fig.show()"
   ]
  },
  {
   "cell_type": "code",
   "execution_count": null,
   "metadata": {},
   "outputs": [],
   "source": []
  }
 ],
 "metadata": {
  "interpreter": {
   "hash": "40e8acbb205c65c00df44503a190e56d13bfb94037a433e00048fdfdd1adf4d2"
  },
  "kernelspec": {
   "display_name": "Python 3.8.12 64-bit ('base': conda)",
   "name": "python3"
  },
  "language_info": {
   "codemirror_mode": {
    "name": "ipython",
    "version": 3
   },
   "file_extension": ".py",
   "mimetype": "text/x-python",
   "name": "python",
   "nbconvert_exporter": "python",
   "pygments_lexer": "ipython3",
   "version": "3.8.12"
  },
  "orig_nbformat": 4
 },
 "nbformat": 4,
 "nbformat_minor": 2
}
