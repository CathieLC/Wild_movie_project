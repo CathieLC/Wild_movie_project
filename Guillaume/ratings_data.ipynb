{
 "cells": [
  {
   "cell_type": "markdown",
   "metadata": {},
   "source": [
    "# Analyse des meilleurs films"
   ]
  },
  {
   "cell_type": "markdown",
   "metadata": {},
   "source": [
    "## Imports des modules"
   ]
  },
  {
   "cell_type": "code",
   "execution_count": 2,
   "metadata": {},
   "outputs": [],
   "source": [
    "import pandas as pd\n",
    "import numpy as np\n",
    "import plotly.express as px \n",
    "import plotly.graph_objects as go \n",
    "import matplotlib.pyplot as plt\n",
    "import seaborn as sns"
   ]
  },
  {
   "cell_type": "markdown",
   "metadata": {},
   "source": [
    "## Lecture des datasets"
   ]
  },
  {
   "cell_type": "code",
   "execution_count": 3,
   "metadata": {},
   "outputs": [],
   "source": [
    "ratings_df = pd.read_csv(\"https://datasets.imdbws.com/title.ratings.tsv.gz\", sep=\"\\t\")"
   ]
  },
  {
   "cell_type": "code",
   "execution_count": 4,
   "metadata": {},
   "outputs": [],
   "source": [
    "basics_df = pd.read_csv(\"https://datasets.imdbws.com/title.basics.tsv.gz\", sep=\"\\t\", low_memory=False)"
   ]
  },
  {
   "cell_type": "code",
   "execution_count": 5,
   "metadata": {},
   "outputs": [
    {
     "data": {
      "text/html": [
       "<div>\n",
       "<style scoped>\n",
       "    .dataframe tbody tr th:only-of-type {\n",
       "        vertical-align: middle;\n",
       "    }\n",
       "\n",
       "    .dataframe tbody tr th {\n",
       "        vertical-align: top;\n",
       "    }\n",
       "\n",
       "    .dataframe thead th {\n",
       "        text-align: right;\n",
       "    }\n",
       "</style>\n",
       "<table border=\"1\" class=\"dataframe\">\n",
       "  <thead>\n",
       "    <tr style=\"text-align: right;\">\n",
       "      <th></th>\n",
       "      <th>tconst</th>\n",
       "      <th>averageRating</th>\n",
       "      <th>numVotes</th>\n",
       "    </tr>\n",
       "  </thead>\n",
       "  <tbody>\n",
       "    <tr>\n",
       "      <th>0</th>\n",
       "      <td>tt0000001</td>\n",
       "      <td>5.7</td>\n",
       "      <td>1832</td>\n",
       "    </tr>\n",
       "    <tr>\n",
       "      <th>1</th>\n",
       "      <td>tt0000002</td>\n",
       "      <td>6.0</td>\n",
       "      <td>236</td>\n",
       "    </tr>\n",
       "    <tr>\n",
       "      <th>2</th>\n",
       "      <td>tt0000003</td>\n",
       "      <td>6.5</td>\n",
       "      <td>1592</td>\n",
       "    </tr>\n",
       "    <tr>\n",
       "      <th>3</th>\n",
       "      <td>tt0000004</td>\n",
       "      <td>6.0</td>\n",
       "      <td>153</td>\n",
       "    </tr>\n",
       "    <tr>\n",
       "      <th>4</th>\n",
       "      <td>tt0000005</td>\n",
       "      <td>6.2</td>\n",
       "      <td>2408</td>\n",
       "    </tr>\n",
       "  </tbody>\n",
       "</table>\n",
       "</div>"
      ],
      "text/plain": [
       "      tconst  averageRating  numVotes\n",
       "0  tt0000001            5.7      1832\n",
       "1  tt0000002            6.0       236\n",
       "2  tt0000003            6.5      1592\n",
       "3  tt0000004            6.0       153\n",
       "4  tt0000005            6.2      2408"
      ]
     },
     "execution_count": 5,
     "metadata": {},
     "output_type": "execute_result"
    }
   ],
   "source": [
    "ratings_df.head()"
   ]
  },
  {
   "cell_type": "code",
   "execution_count": 6,
   "metadata": {},
   "outputs": [
    {
     "data": {
      "text/html": [
       "<div>\n",
       "<style scoped>\n",
       "    .dataframe tbody tr th:only-of-type {\n",
       "        vertical-align: middle;\n",
       "    }\n",
       "\n",
       "    .dataframe tbody tr th {\n",
       "        vertical-align: top;\n",
       "    }\n",
       "\n",
       "    .dataframe thead th {\n",
       "        text-align: right;\n",
       "    }\n",
       "</style>\n",
       "<table border=\"1\" class=\"dataframe\">\n",
       "  <thead>\n",
       "    <tr style=\"text-align: right;\">\n",
       "      <th></th>\n",
       "      <th>tconst</th>\n",
       "      <th>titleType</th>\n",
       "      <th>primaryTitle</th>\n",
       "      <th>originalTitle</th>\n",
       "      <th>isAdult</th>\n",
       "      <th>startYear</th>\n",
       "      <th>endYear</th>\n",
       "      <th>runtimeMinutes</th>\n",
       "      <th>genres</th>\n",
       "    </tr>\n",
       "  </thead>\n",
       "  <tbody>\n",
       "    <tr>\n",
       "      <th>0</th>\n",
       "      <td>tt0000001</td>\n",
       "      <td>short</td>\n",
       "      <td>Carmencita</td>\n",
       "      <td>Carmencita</td>\n",
       "      <td>0</td>\n",
       "      <td>1894</td>\n",
       "      <td>\\N</td>\n",
       "      <td>1</td>\n",
       "      <td>Documentary,Short</td>\n",
       "    </tr>\n",
       "    <tr>\n",
       "      <th>1</th>\n",
       "      <td>tt0000002</td>\n",
       "      <td>short</td>\n",
       "      <td>Le clown et ses chiens</td>\n",
       "      <td>Le clown et ses chiens</td>\n",
       "      <td>0</td>\n",
       "      <td>1892</td>\n",
       "      <td>\\N</td>\n",
       "      <td>5</td>\n",
       "      <td>Animation,Short</td>\n",
       "    </tr>\n",
       "    <tr>\n",
       "      <th>2</th>\n",
       "      <td>tt0000003</td>\n",
       "      <td>short</td>\n",
       "      <td>Pauvre Pierrot</td>\n",
       "      <td>Pauvre Pierrot</td>\n",
       "      <td>0</td>\n",
       "      <td>1892</td>\n",
       "      <td>\\N</td>\n",
       "      <td>4</td>\n",
       "      <td>Animation,Comedy,Romance</td>\n",
       "    </tr>\n",
       "    <tr>\n",
       "      <th>3</th>\n",
       "      <td>tt0000004</td>\n",
       "      <td>short</td>\n",
       "      <td>Un bon bock</td>\n",
       "      <td>Un bon bock</td>\n",
       "      <td>0</td>\n",
       "      <td>1892</td>\n",
       "      <td>\\N</td>\n",
       "      <td>12</td>\n",
       "      <td>Animation,Short</td>\n",
       "    </tr>\n",
       "    <tr>\n",
       "      <th>4</th>\n",
       "      <td>tt0000005</td>\n",
       "      <td>short</td>\n",
       "      <td>Blacksmith Scene</td>\n",
       "      <td>Blacksmith Scene</td>\n",
       "      <td>0</td>\n",
       "      <td>1893</td>\n",
       "      <td>\\N</td>\n",
       "      <td>1</td>\n",
       "      <td>Comedy,Short</td>\n",
       "    </tr>\n",
       "  </tbody>\n",
       "</table>\n",
       "</div>"
      ],
      "text/plain": [
       "      tconst titleType            primaryTitle           originalTitle  \\\n",
       "0  tt0000001     short              Carmencita              Carmencita   \n",
       "1  tt0000002     short  Le clown et ses chiens  Le clown et ses chiens   \n",
       "2  tt0000003     short          Pauvre Pierrot          Pauvre Pierrot   \n",
       "3  tt0000004     short             Un bon bock             Un bon bock   \n",
       "4  tt0000005     short        Blacksmith Scene        Blacksmith Scene   \n",
       "\n",
       "  isAdult startYear endYear runtimeMinutes                    genres  \n",
       "0       0      1894      \\N              1         Documentary,Short  \n",
       "1       0      1892      \\N              5           Animation,Short  \n",
       "2       0      1892      \\N              4  Animation,Comedy,Romance  \n",
       "3       0      1892      \\N             12           Animation,Short  \n",
       "4       0      1893      \\N              1              Comedy,Short  "
      ]
     },
     "execution_count": 6,
     "metadata": {},
     "output_type": "execute_result"
    }
   ],
   "source": [
    "basics_df.head()"
   ]
  },
  {
   "cell_type": "markdown",
   "metadata": {},
   "source": [
    "## Filtres"
   ]
  },
  {
   "cell_type": "markdown",
   "metadata": {},
   "source": [
    "Filtre sur le type `movie`"
   ]
  },
  {
   "cell_type": "code",
   "execution_count": 7,
   "metadata": {},
   "outputs": [
    {
     "data": {
      "text/html": [
       "<div>\n",
       "<style scoped>\n",
       "    .dataframe tbody tr th:only-of-type {\n",
       "        vertical-align: middle;\n",
       "    }\n",
       "\n",
       "    .dataframe tbody tr th {\n",
       "        vertical-align: top;\n",
       "    }\n",
       "\n",
       "    .dataframe thead th {\n",
       "        text-align: right;\n",
       "    }\n",
       "</style>\n",
       "<table border=\"1\" class=\"dataframe\">\n",
       "  <thead>\n",
       "    <tr style=\"text-align: right;\">\n",
       "      <th></th>\n",
       "      <th>tconst</th>\n",
       "      <th>titleType</th>\n",
       "      <th>primaryTitle</th>\n",
       "      <th>originalTitle</th>\n",
       "      <th>isAdult</th>\n",
       "      <th>startYear</th>\n",
       "      <th>endYear</th>\n",
       "      <th>runtimeMinutes</th>\n",
       "      <th>genres</th>\n",
       "    </tr>\n",
       "  </thead>\n",
       "  <tbody>\n",
       "    <tr>\n",
       "      <th>498</th>\n",
       "      <td>tt0000502</td>\n",
       "      <td>movie</td>\n",
       "      <td>Bohemios</td>\n",
       "      <td>Bohemios</td>\n",
       "      <td>0</td>\n",
       "      <td>1905</td>\n",
       "      <td>\\N</td>\n",
       "      <td>100</td>\n",
       "      <td>\\N</td>\n",
       "    </tr>\n",
       "    <tr>\n",
       "      <th>570</th>\n",
       "      <td>tt0000574</td>\n",
       "      <td>movie</td>\n",
       "      <td>The Story of the Kelly Gang</td>\n",
       "      <td>The Story of the Kelly Gang</td>\n",
       "      <td>0</td>\n",
       "      <td>1906</td>\n",
       "      <td>\\N</td>\n",
       "      <td>70</td>\n",
       "      <td>Action,Adventure,Biography</td>\n",
       "    </tr>\n",
       "    <tr>\n",
       "      <th>587</th>\n",
       "      <td>tt0000591</td>\n",
       "      <td>movie</td>\n",
       "      <td>The Prodigal Son</td>\n",
       "      <td>L'enfant prodigue</td>\n",
       "      <td>0</td>\n",
       "      <td>1907</td>\n",
       "      <td>\\N</td>\n",
       "      <td>90</td>\n",
       "      <td>Drama</td>\n",
       "    </tr>\n",
       "    <tr>\n",
       "      <th>610</th>\n",
       "      <td>tt0000615</td>\n",
       "      <td>movie</td>\n",
       "      <td>Robbery Under Arms</td>\n",
       "      <td>Robbery Under Arms</td>\n",
       "      <td>0</td>\n",
       "      <td>1907</td>\n",
       "      <td>\\N</td>\n",
       "      <td>\\N</td>\n",
       "      <td>Drama</td>\n",
       "    </tr>\n",
       "    <tr>\n",
       "      <th>625</th>\n",
       "      <td>tt0000630</td>\n",
       "      <td>movie</td>\n",
       "      <td>Hamlet</td>\n",
       "      <td>Amleto</td>\n",
       "      <td>0</td>\n",
       "      <td>1908</td>\n",
       "      <td>\\N</td>\n",
       "      <td>\\N</td>\n",
       "      <td>Drama</td>\n",
       "    </tr>\n",
       "  </tbody>\n",
       "</table>\n",
       "</div>"
      ],
      "text/plain": [
       "        tconst titleType                 primaryTitle  \\\n",
       "498  tt0000502     movie                     Bohemios   \n",
       "570  tt0000574     movie  The Story of the Kelly Gang   \n",
       "587  tt0000591     movie             The Prodigal Son   \n",
       "610  tt0000615     movie           Robbery Under Arms   \n",
       "625  tt0000630     movie                       Hamlet   \n",
       "\n",
       "                   originalTitle isAdult startYear endYear runtimeMinutes  \\\n",
       "498                     Bohemios       0      1905      \\N            100   \n",
       "570  The Story of the Kelly Gang       0      1906      \\N             70   \n",
       "587            L'enfant prodigue       0      1907      \\N             90   \n",
       "610           Robbery Under Arms       0      1907      \\N             \\N   \n",
       "625                       Amleto       0      1908      \\N             \\N   \n",
       "\n",
       "                         genres  \n",
       "498                          \\N  \n",
       "570  Action,Adventure,Biography  \n",
       "587                       Drama  \n",
       "610                       Drama  \n",
       "625                       Drama  "
      ]
     },
     "execution_count": 7,
     "metadata": {},
     "output_type": "execute_result"
    }
   ],
   "source": [
    "basics_df_movies =  basics_df[basics_df['titleType'] == 'movie']\n",
    "basics_df_movies.head()"
   ]
  },
  {
   "cell_type": "markdown",
   "metadata": {},
   "source": [
    "Retrait des films pour adultes avec la colonne `isAdult`"
   ]
  },
  {
   "cell_type": "code",
   "execution_count": 8,
   "metadata": {},
   "outputs": [
    {
     "data": {
      "text/html": [
       "<div>\n",
       "<style scoped>\n",
       "    .dataframe tbody tr th:only-of-type {\n",
       "        vertical-align: middle;\n",
       "    }\n",
       "\n",
       "    .dataframe tbody tr th {\n",
       "        vertical-align: top;\n",
       "    }\n",
       "\n",
       "    .dataframe thead th {\n",
       "        text-align: right;\n",
       "    }\n",
       "</style>\n",
       "<table border=\"1\" class=\"dataframe\">\n",
       "  <thead>\n",
       "    <tr style=\"text-align: right;\">\n",
       "      <th></th>\n",
       "      <th>tconst</th>\n",
       "      <th>titleType</th>\n",
       "      <th>primaryTitle</th>\n",
       "      <th>originalTitle</th>\n",
       "      <th>isAdult</th>\n",
       "      <th>startYear</th>\n",
       "      <th>endYear</th>\n",
       "      <th>runtimeMinutes</th>\n",
       "      <th>genres</th>\n",
       "    </tr>\n",
       "  </thead>\n",
       "  <tbody>\n",
       "    <tr>\n",
       "      <th>498</th>\n",
       "      <td>tt0000502</td>\n",
       "      <td>movie</td>\n",
       "      <td>Bohemios</td>\n",
       "      <td>Bohemios</td>\n",
       "      <td>0</td>\n",
       "      <td>1905</td>\n",
       "      <td>\\N</td>\n",
       "      <td>100</td>\n",
       "      <td>\\N</td>\n",
       "    </tr>\n",
       "    <tr>\n",
       "      <th>570</th>\n",
       "      <td>tt0000574</td>\n",
       "      <td>movie</td>\n",
       "      <td>The Story of the Kelly Gang</td>\n",
       "      <td>The Story of the Kelly Gang</td>\n",
       "      <td>0</td>\n",
       "      <td>1906</td>\n",
       "      <td>\\N</td>\n",
       "      <td>70</td>\n",
       "      <td>Action,Adventure,Biography</td>\n",
       "    </tr>\n",
       "    <tr>\n",
       "      <th>587</th>\n",
       "      <td>tt0000591</td>\n",
       "      <td>movie</td>\n",
       "      <td>The Prodigal Son</td>\n",
       "      <td>L'enfant prodigue</td>\n",
       "      <td>0</td>\n",
       "      <td>1907</td>\n",
       "      <td>\\N</td>\n",
       "      <td>90</td>\n",
       "      <td>Drama</td>\n",
       "    </tr>\n",
       "    <tr>\n",
       "      <th>610</th>\n",
       "      <td>tt0000615</td>\n",
       "      <td>movie</td>\n",
       "      <td>Robbery Under Arms</td>\n",
       "      <td>Robbery Under Arms</td>\n",
       "      <td>0</td>\n",
       "      <td>1907</td>\n",
       "      <td>\\N</td>\n",
       "      <td>\\N</td>\n",
       "      <td>Drama</td>\n",
       "    </tr>\n",
       "    <tr>\n",
       "      <th>625</th>\n",
       "      <td>tt0000630</td>\n",
       "      <td>movie</td>\n",
       "      <td>Hamlet</td>\n",
       "      <td>Amleto</td>\n",
       "      <td>0</td>\n",
       "      <td>1908</td>\n",
       "      <td>\\N</td>\n",
       "      <td>\\N</td>\n",
       "      <td>Drama</td>\n",
       "    </tr>\n",
       "  </tbody>\n",
       "</table>\n",
       "</div>"
      ],
      "text/plain": [
       "        tconst titleType                 primaryTitle  \\\n",
       "498  tt0000502     movie                     Bohemios   \n",
       "570  tt0000574     movie  The Story of the Kelly Gang   \n",
       "587  tt0000591     movie             The Prodigal Son   \n",
       "610  tt0000615     movie           Robbery Under Arms   \n",
       "625  tt0000630     movie                       Hamlet   \n",
       "\n",
       "                   originalTitle isAdult startYear endYear runtimeMinutes  \\\n",
       "498                     Bohemios       0      1905      \\N            100   \n",
       "570  The Story of the Kelly Gang       0      1906      \\N             70   \n",
       "587            L'enfant prodigue       0      1907      \\N             90   \n",
       "610           Robbery Under Arms       0      1907      \\N             \\N   \n",
       "625                       Amleto       0      1908      \\N             \\N   \n",
       "\n",
       "                         genres  \n",
       "498                          \\N  \n",
       "570  Action,Adventure,Biography  \n",
       "587                       Drama  \n",
       "610                       Drama  \n",
       "625                       Drama  "
      ]
     },
     "execution_count": 8,
     "metadata": {},
     "output_type": "execute_result"
    }
   ],
   "source": [
    "basics_df_movies = basics_df_movies[basics_df_movies['isAdult'] == '0']\n",
    "basics_df_movies.head()"
   ]
  },
  {
   "cell_type": "markdown",
   "metadata": {},
   "source": [
    "Sélection des colonnes pertinentes avant le merge"
   ]
  },
  {
   "cell_type": "code",
   "execution_count": 9,
   "metadata": {},
   "outputs": [
    {
     "data": {
      "text/html": [
       "<div>\n",
       "<style scoped>\n",
       "    .dataframe tbody tr th:only-of-type {\n",
       "        vertical-align: middle;\n",
       "    }\n",
       "\n",
       "    .dataframe tbody tr th {\n",
       "        vertical-align: top;\n",
       "    }\n",
       "\n",
       "    .dataframe thead th {\n",
       "        text-align: right;\n",
       "    }\n",
       "</style>\n",
       "<table border=\"1\" class=\"dataframe\">\n",
       "  <thead>\n",
       "    <tr style=\"text-align: right;\">\n",
       "      <th></th>\n",
       "      <th>tconst</th>\n",
       "      <th>primaryTitle</th>\n",
       "      <th>startYear</th>\n",
       "      <th>genres</th>\n",
       "    </tr>\n",
       "  </thead>\n",
       "  <tbody>\n",
       "    <tr>\n",
       "      <th>498</th>\n",
       "      <td>tt0000502</td>\n",
       "      <td>Bohemios</td>\n",
       "      <td>1905</td>\n",
       "      <td>\\N</td>\n",
       "    </tr>\n",
       "    <tr>\n",
       "      <th>570</th>\n",
       "      <td>tt0000574</td>\n",
       "      <td>The Story of the Kelly Gang</td>\n",
       "      <td>1906</td>\n",
       "      <td>Action,Adventure,Biography</td>\n",
       "    </tr>\n",
       "    <tr>\n",
       "      <th>587</th>\n",
       "      <td>tt0000591</td>\n",
       "      <td>The Prodigal Son</td>\n",
       "      <td>1907</td>\n",
       "      <td>Drama</td>\n",
       "    </tr>\n",
       "    <tr>\n",
       "      <th>610</th>\n",
       "      <td>tt0000615</td>\n",
       "      <td>Robbery Under Arms</td>\n",
       "      <td>1907</td>\n",
       "      <td>Drama</td>\n",
       "    </tr>\n",
       "    <tr>\n",
       "      <th>625</th>\n",
       "      <td>tt0000630</td>\n",
       "      <td>Hamlet</td>\n",
       "      <td>1908</td>\n",
       "      <td>Drama</td>\n",
       "    </tr>\n",
       "  </tbody>\n",
       "</table>\n",
       "</div>"
      ],
      "text/plain": [
       "        tconst                 primaryTitle startYear  \\\n",
       "498  tt0000502                     Bohemios      1905   \n",
       "570  tt0000574  The Story of the Kelly Gang      1906   \n",
       "587  tt0000591             The Prodigal Son      1907   \n",
       "610  tt0000615           Robbery Under Arms      1907   \n",
       "625  tt0000630                       Hamlet      1908   \n",
       "\n",
       "                         genres  \n",
       "498                          \\N  \n",
       "570  Action,Adventure,Biography  \n",
       "587                       Drama  \n",
       "610                       Drama  \n",
       "625                       Drama  "
      ]
     },
     "execution_count": 9,
     "metadata": {},
     "output_type": "execute_result"
    }
   ],
   "source": [
    "basics_df_stripped = basics_df_movies[['tconst', 'primaryTitle', 'startYear', 'genres']]\n",
    "basics_df_stripped.head()"
   ]
  },
  {
   "cell_type": "markdown",
   "metadata": {},
   "source": [
    "## Jointure des deux dataframes"
   ]
  },
  {
   "cell_type": "markdown",
   "metadata": {},
   "source": [
    "Merge des dataframes"
   ]
  },
  {
   "cell_type": "code",
   "execution_count": 10,
   "metadata": {},
   "outputs": [
    {
     "data": {
      "text/html": [
       "<div>\n",
       "<style scoped>\n",
       "    .dataframe tbody tr th:only-of-type {\n",
       "        vertical-align: middle;\n",
       "    }\n",
       "\n",
       "    .dataframe tbody tr th {\n",
       "        vertical-align: top;\n",
       "    }\n",
       "\n",
       "    .dataframe thead th {\n",
       "        text-align: right;\n",
       "    }\n",
       "</style>\n",
       "<table border=\"1\" class=\"dataframe\">\n",
       "  <thead>\n",
       "    <tr style=\"text-align: right;\">\n",
       "      <th></th>\n",
       "      <th>tconst</th>\n",
       "      <th>primaryTitle</th>\n",
       "      <th>startYear</th>\n",
       "      <th>genres</th>\n",
       "      <th>averageRating</th>\n",
       "      <th>numVotes</th>\n",
       "    </tr>\n",
       "  </thead>\n",
       "  <tbody>\n",
       "    <tr>\n",
       "      <th>0</th>\n",
       "      <td>tt0000502</td>\n",
       "      <td>Bohemios</td>\n",
       "      <td>1905</td>\n",
       "      <td>\\N</td>\n",
       "      <td>4.4</td>\n",
       "      <td>15</td>\n",
       "    </tr>\n",
       "    <tr>\n",
       "      <th>1</th>\n",
       "      <td>tt0000574</td>\n",
       "      <td>The Story of the Kelly Gang</td>\n",
       "      <td>1906</td>\n",
       "      <td>Action,Adventure,Biography</td>\n",
       "      <td>6.1</td>\n",
       "      <td>736</td>\n",
       "    </tr>\n",
       "    <tr>\n",
       "      <th>2</th>\n",
       "      <td>tt0000591</td>\n",
       "      <td>The Prodigal Son</td>\n",
       "      <td>1907</td>\n",
       "      <td>Drama</td>\n",
       "      <td>5.0</td>\n",
       "      <td>17</td>\n",
       "    </tr>\n",
       "    <tr>\n",
       "      <th>3</th>\n",
       "      <td>tt0000615</td>\n",
       "      <td>Robbery Under Arms</td>\n",
       "      <td>1907</td>\n",
       "      <td>Drama</td>\n",
       "      <td>4.5</td>\n",
       "      <td>24</td>\n",
       "    </tr>\n",
       "    <tr>\n",
       "      <th>4</th>\n",
       "      <td>tt0000630</td>\n",
       "      <td>Hamlet</td>\n",
       "      <td>1908</td>\n",
       "      <td>Drama</td>\n",
       "      <td>3.7</td>\n",
       "      <td>24</td>\n",
       "    </tr>\n",
       "  </tbody>\n",
       "</table>\n",
       "</div>"
      ],
      "text/plain": [
       "      tconst                 primaryTitle startYear  \\\n",
       "0  tt0000502                     Bohemios      1905   \n",
       "1  tt0000574  The Story of the Kelly Gang      1906   \n",
       "2  tt0000591             The Prodigal Son      1907   \n",
       "3  tt0000615           Robbery Under Arms      1907   \n",
       "4  tt0000630                       Hamlet      1908   \n",
       "\n",
       "                       genres  averageRating  numVotes  \n",
       "0                          \\N            4.4        15  \n",
       "1  Action,Adventure,Biography            6.1       736  \n",
       "2                       Drama            5.0        17  \n",
       "3                       Drama            4.5        24  \n",
       "4                       Drama            3.7        24  "
      ]
     },
     "execution_count": 10,
     "metadata": {},
     "output_type": "execute_result"
    }
   ],
   "source": [
    "movies_ratings = pd.merge(basics_df_stripped, ratings_df, how='inner', left_on='tconst', right_on='tconst')\n",
    "movies_ratings.head()"
   ]
  },
  {
   "cell_type": "markdown",
   "metadata": {},
   "source": [
    "Réinitialisation de l'index"
   ]
  },
  {
   "cell_type": "code",
   "execution_count": 11,
   "metadata": {},
   "outputs": [
    {
     "data": {
      "text/html": [
       "<div>\n",
       "<style scoped>\n",
       "    .dataframe tbody tr th:only-of-type {\n",
       "        vertical-align: middle;\n",
       "    }\n",
       "\n",
       "    .dataframe tbody tr th {\n",
       "        vertical-align: top;\n",
       "    }\n",
       "\n",
       "    .dataframe thead th {\n",
       "        text-align: right;\n",
       "    }\n",
       "</style>\n",
       "<table border=\"1\" class=\"dataframe\">\n",
       "  <thead>\n",
       "    <tr style=\"text-align: right;\">\n",
       "      <th></th>\n",
       "      <th>tconst</th>\n",
       "      <th>primaryTitle</th>\n",
       "      <th>startYear</th>\n",
       "      <th>genres</th>\n",
       "      <th>averageRating</th>\n",
       "      <th>numVotes</th>\n",
       "    </tr>\n",
       "  </thead>\n",
       "  <tbody>\n",
       "    <tr>\n",
       "      <th>0</th>\n",
       "      <td>tt0000502</td>\n",
       "      <td>Bohemios</td>\n",
       "      <td>1905</td>\n",
       "      <td>\\N</td>\n",
       "      <td>4.4</td>\n",
       "      <td>15</td>\n",
       "    </tr>\n",
       "    <tr>\n",
       "      <th>1</th>\n",
       "      <td>tt0000574</td>\n",
       "      <td>The Story of the Kelly Gang</td>\n",
       "      <td>1906</td>\n",
       "      <td>Action,Adventure,Biography</td>\n",
       "      <td>6.1</td>\n",
       "      <td>736</td>\n",
       "    </tr>\n",
       "    <tr>\n",
       "      <th>2</th>\n",
       "      <td>tt0000591</td>\n",
       "      <td>The Prodigal Son</td>\n",
       "      <td>1907</td>\n",
       "      <td>Drama</td>\n",
       "      <td>5.0</td>\n",
       "      <td>17</td>\n",
       "    </tr>\n",
       "    <tr>\n",
       "      <th>3</th>\n",
       "      <td>tt0000615</td>\n",
       "      <td>Robbery Under Arms</td>\n",
       "      <td>1907</td>\n",
       "      <td>Drama</td>\n",
       "      <td>4.5</td>\n",
       "      <td>24</td>\n",
       "    </tr>\n",
       "    <tr>\n",
       "      <th>4</th>\n",
       "      <td>tt0000630</td>\n",
       "      <td>Hamlet</td>\n",
       "      <td>1908</td>\n",
       "      <td>Drama</td>\n",
       "      <td>3.7</td>\n",
       "      <td>24</td>\n",
       "    </tr>\n",
       "  </tbody>\n",
       "</table>\n",
       "</div>"
      ],
      "text/plain": [
       "      tconst                 primaryTitle startYear  \\\n",
       "0  tt0000502                     Bohemios      1905   \n",
       "1  tt0000574  The Story of the Kelly Gang      1906   \n",
       "2  tt0000591             The Prodigal Son      1907   \n",
       "3  tt0000615           Robbery Under Arms      1907   \n",
       "4  tt0000630                       Hamlet      1908   \n",
       "\n",
       "                       genres  averageRating  numVotes  \n",
       "0                          \\N            4.4        15  \n",
       "1  Action,Adventure,Biography            6.1       736  \n",
       "2                       Drama            5.0        17  \n",
       "3                       Drama            4.5        24  \n",
       "4                       Drama            3.7        24  "
      ]
     },
     "execution_count": 11,
     "metadata": {},
     "output_type": "execute_result"
    }
   ],
   "source": [
    "movies_ratings.reset_index(drop=True, inplace=True)\n",
    "movies_ratings.head()"
   ]
  },
  {
   "cell_type": "markdown",
   "metadata": {},
   "source": [
    "## Sélection des données à étudier"
   ]
  },
  {
   "cell_type": "markdown",
   "metadata": {},
   "source": [
    "Limite des films à un score supérieur ou égal à 8.0"
   ]
  },
  {
   "cell_type": "code",
   "execution_count": 12,
   "metadata": {},
   "outputs": [
    {
     "data": {
      "text/html": [
       "<div>\n",
       "<style scoped>\n",
       "    .dataframe tbody tr th:only-of-type {\n",
       "        vertical-align: middle;\n",
       "    }\n",
       "\n",
       "    .dataframe tbody tr th {\n",
       "        vertical-align: top;\n",
       "    }\n",
       "\n",
       "    .dataframe thead th {\n",
       "        text-align: right;\n",
       "    }\n",
       "</style>\n",
       "<table border=\"1\" class=\"dataframe\">\n",
       "  <thead>\n",
       "    <tr style=\"text-align: right;\">\n",
       "      <th></th>\n",
       "      <th>tconst</th>\n",
       "      <th>primaryTitle</th>\n",
       "      <th>startYear</th>\n",
       "      <th>genres</th>\n",
       "      <th>averageRating</th>\n",
       "      <th>numVotes</th>\n",
       "    </tr>\n",
       "  </thead>\n",
       "  <tbody>\n",
       "    <tr>\n",
       "      <th>163</th>\n",
       "      <td>tt0003748</td>\n",
       "      <td>Captain Alvarez</td>\n",
       "      <td>1914</td>\n",
       "      <td>Drama</td>\n",
       "      <td>8.3</td>\n",
       "      <td>16</td>\n",
       "    </tr>\n",
       "    <tr>\n",
       "      <th>195</th>\n",
       "      <td>tt0004167</td>\n",
       "      <td>Jane Eyre</td>\n",
       "      <td>1914</td>\n",
       "      <td>Drama</td>\n",
       "      <td>8.0</td>\n",
       "      <td>19</td>\n",
       "    </tr>\n",
       "    <tr>\n",
       "      <th>211</th>\n",
       "      <td>tt0004295</td>\n",
       "      <td>The Man from Mexico</td>\n",
       "      <td>1914</td>\n",
       "      <td>Comedy</td>\n",
       "      <td>8.6</td>\n",
       "      <td>39</td>\n",
       "    </tr>\n",
       "    <tr>\n",
       "      <th>219</th>\n",
       "      <td>tt0004363</td>\n",
       "      <td>Mrs. Black Is Back</td>\n",
       "      <td>1914</td>\n",
       "      <td>Comedy</td>\n",
       "      <td>8.0</td>\n",
       "      <td>18</td>\n",
       "    </tr>\n",
       "    <tr>\n",
       "      <th>232</th>\n",
       "      <td>tt0004496</td>\n",
       "      <td>A Prince of India</td>\n",
       "      <td>1914</td>\n",
       "      <td>Drama</td>\n",
       "      <td>8.4</td>\n",
       "      <td>14</td>\n",
       "    </tr>\n",
       "  </tbody>\n",
       "</table>\n",
       "</div>"
      ],
      "text/plain": [
       "        tconst         primaryTitle startYear  genres  averageRating  numVotes\n",
       "163  tt0003748      Captain Alvarez      1914   Drama            8.3        16\n",
       "195  tt0004167            Jane Eyre      1914   Drama            8.0        19\n",
       "211  tt0004295  The Man from Mexico      1914  Comedy            8.6        39\n",
       "219  tt0004363   Mrs. Black Is Back      1914  Comedy            8.0        18\n",
       "232  tt0004496    A Prince of India      1914   Drama            8.4        14"
      ]
     },
     "execution_count": 12,
     "metadata": {},
     "output_type": "execute_result"
    }
   ],
   "source": [
    "movies_ratings_top = movies_ratings[movies_ratings['averageRating'] >= 8.0]\n",
    "movies_ratings_top.head()"
   ]
  },
  {
   "cell_type": "markdown",
   "metadata": {},
   "source": [
    "Tri par `numvotes` afin d'avoir une idée de où fixer la limite"
   ]
  },
  {
   "cell_type": "code",
   "execution_count": 13,
   "metadata": {},
   "outputs": [
    {
     "data": {
      "text/html": [
       "<div>\n",
       "<style scoped>\n",
       "    .dataframe tbody tr th:only-of-type {\n",
       "        vertical-align: middle;\n",
       "    }\n",
       "\n",
       "    .dataframe tbody tr th {\n",
       "        vertical-align: top;\n",
       "    }\n",
       "\n",
       "    .dataframe thead th {\n",
       "        text-align: right;\n",
       "    }\n",
       "</style>\n",
       "<table border=\"1\" class=\"dataframe\">\n",
       "  <thead>\n",
       "    <tr style=\"text-align: right;\">\n",
       "      <th></th>\n",
       "      <th>tconst</th>\n",
       "      <th>primaryTitle</th>\n",
       "      <th>startYear</th>\n",
       "      <th>genres</th>\n",
       "      <th>averageRating</th>\n",
       "      <th>numVotes</th>\n",
       "    </tr>\n",
       "  </thead>\n",
       "  <tbody>\n",
       "    <tr>\n",
       "      <th>60334</th>\n",
       "      <td>tt0111161</td>\n",
       "      <td>The Shawshank Redemption</td>\n",
       "      <td>1994</td>\n",
       "      <td>Drama</td>\n",
       "      <td>9.3</td>\n",
       "      <td>2480651</td>\n",
       "    </tr>\n",
       "    <tr>\n",
       "      <th>130555</th>\n",
       "      <td>tt0468569</td>\n",
       "      <td>The Dark Knight</td>\n",
       "      <td>2008</td>\n",
       "      <td>Action,Crime,Drama</td>\n",
       "      <td>9.0</td>\n",
       "      <td>2435010</td>\n",
       "    </tr>\n",
       "    <tr>\n",
       "      <th>165487</th>\n",
       "      <td>tt1375666</td>\n",
       "      <td>Inception</td>\n",
       "      <td>2010</td>\n",
       "      <td>Action,Adventure,Sci-Fi</td>\n",
       "      <td>8.8</td>\n",
       "      <td>2185134</td>\n",
       "    </tr>\n",
       "    <tr>\n",
       "      <th>69405</th>\n",
       "      <td>tt0137523</td>\n",
       "      <td>Fight Club</td>\n",
       "      <td>1999</td>\n",
       "      <td>Drama</td>\n",
       "      <td>8.8</td>\n",
       "      <td>1954675</td>\n",
       "    </tr>\n",
       "    <tr>\n",
       "      <th>60186</th>\n",
       "      <td>tt0110912</td>\n",
       "      <td>Pulp Fiction</td>\n",
       "      <td>1994</td>\n",
       "      <td>Crime,Drama</td>\n",
       "      <td>8.9</td>\n",
       "      <td>1920023</td>\n",
       "    </tr>\n",
       "    <tr>\n",
       "      <th>...</th>\n",
       "      <td>...</td>\n",
       "      <td>...</td>\n",
       "      <td>...</td>\n",
       "      <td>...</td>\n",
       "      <td>...</td>\n",
       "      <td>...</td>\n",
       "    </tr>\n",
       "    <tr>\n",
       "      <th>159719</th>\n",
       "      <td>tt1284984</td>\n",
       "      <td>Heimatklänge</td>\n",
       "      <td>1994</td>\n",
       "      <td>\\N</td>\n",
       "      <td>8.8</td>\n",
       "      <td>5</td>\n",
       "    </tr>\n",
       "    <tr>\n",
       "      <th>241710</th>\n",
       "      <td>tt6139792</td>\n",
       "      <td>Sarasota Half in Dream</td>\n",
       "      <td>2016</td>\n",
       "      <td>Documentary</td>\n",
       "      <td>8.2</td>\n",
       "      <td>5</td>\n",
       "    </tr>\n",
       "    <tr>\n",
       "      <th>159543</th>\n",
       "      <td>tt12821820</td>\n",
       "      <td>Agha Saeed</td>\n",
       "      <td>1988</td>\n",
       "      <td>Documentary</td>\n",
       "      <td>8.0</td>\n",
       "      <td>5</td>\n",
       "    </tr>\n",
       "    <tr>\n",
       "      <th>158950</th>\n",
       "      <td>tt12729378</td>\n",
       "      <td>Kings of Europe: The Chelsea Story</td>\n",
       "      <td>2012</td>\n",
       "      <td>Documentary</td>\n",
       "      <td>8.6</td>\n",
       "      <td>5</td>\n",
       "    </tr>\n",
       "    <tr>\n",
       "      <th>228026</th>\n",
       "      <td>tt4776604</td>\n",
       "      <td>Portrait of a Soldier</td>\n",
       "      <td>2015</td>\n",
       "      <td>Documentary</td>\n",
       "      <td>8.4</td>\n",
       "      <td>5</td>\n",
       "    </tr>\n",
       "  </tbody>\n",
       "</table>\n",
       "<p>19176 rows × 6 columns</p>\n",
       "</div>"
      ],
      "text/plain": [
       "            tconst                        primaryTitle startYear  \\\n",
       "60334    tt0111161            The Shawshank Redemption      1994   \n",
       "130555   tt0468569                     The Dark Knight      2008   \n",
       "165487   tt1375666                           Inception      2010   \n",
       "69405    tt0137523                          Fight Club      1999   \n",
       "60186    tt0110912                        Pulp Fiction      1994   \n",
       "...            ...                                 ...       ...   \n",
       "159719   tt1284984                        Heimatklänge      1994   \n",
       "241710   tt6139792              Sarasota Half in Dream      2016   \n",
       "159543  tt12821820                          Agha Saeed      1988   \n",
       "158950  tt12729378  Kings of Europe: The Chelsea Story      2012   \n",
       "228026   tt4776604               Portrait of a Soldier      2015   \n",
       "\n",
       "                         genres  averageRating  numVotes  \n",
       "60334                     Drama            9.3   2480651  \n",
       "130555       Action,Crime,Drama            9.0   2435010  \n",
       "165487  Action,Adventure,Sci-Fi            8.8   2185134  \n",
       "69405                     Drama            8.8   1954675  \n",
       "60186               Crime,Drama            8.9   1920023  \n",
       "...                         ...            ...       ...  \n",
       "159719                       \\N            8.8         5  \n",
       "241710              Documentary            8.2         5  \n",
       "159543              Documentary            8.0         5  \n",
       "158950              Documentary            8.6         5  \n",
       "228026              Documentary            8.4         5  \n",
       "\n",
       "[19176 rows x 6 columns]"
      ]
     },
     "execution_count": 13,
     "metadata": {},
     "output_type": "execute_result"
    }
   ],
   "source": [
    "movies_ratings_top.sort_values(by=['numVotes'], ascending=False)"
   ]
  },
  {
   "cell_type": "code",
   "execution_count": 14,
   "metadata": {},
   "outputs": [
    {
     "data": {
      "text/plain": [
       "9959.015175219023"
      ]
     },
     "execution_count": 14,
     "metadata": {},
     "output_type": "execute_result"
    }
   ],
   "source": [
    "movies_ratings_top['numVotes'].mean()"
   ]
  },
  {
   "cell_type": "code",
   "execution_count": 15,
   "metadata": {},
   "outputs": [
    {
     "data": {
      "text/plain": [
       "19.0"
      ]
     },
     "execution_count": 15,
     "metadata": {},
     "output_type": "execute_result"
    }
   ],
   "source": [
    "movies_ratings_top['numVotes'].median()"
   ]
  },
  {
   "cell_type": "code",
   "execution_count": 16,
   "metadata": {},
   "outputs": [
    {
     "data": {
      "text/plain": [
       "50.0"
      ]
     },
     "execution_count": 16,
     "metadata": {},
     "output_type": "execute_result"
    }
   ],
   "source": [
    "movies_ratings_top['numVotes'].quantile(0.75)"
   ]
  },
  {
   "cell_type": "markdown",
   "metadata": {},
   "source": [
    "Sélection des films ayant uniquement plus de 10000 votes afin d'éliminer les outliers ayant un score non significatif"
   ]
  },
  {
   "cell_type": "code",
   "execution_count": 17,
   "metadata": {},
   "outputs": [
    {
     "data": {
      "text/html": [
       "<div>\n",
       "<style scoped>\n",
       "    .dataframe tbody tr th:only-of-type {\n",
       "        vertical-align: middle;\n",
       "    }\n",
       "\n",
       "    .dataframe tbody tr th {\n",
       "        vertical-align: top;\n",
       "    }\n",
       "\n",
       "    .dataframe thead th {\n",
       "        text-align: right;\n",
       "    }\n",
       "</style>\n",
       "<table border=\"1\" class=\"dataframe\">\n",
       "  <thead>\n",
       "    <tr style=\"text-align: right;\">\n",
       "      <th></th>\n",
       "      <th>tconst</th>\n",
       "      <th>primaryTitle</th>\n",
       "      <th>startYear</th>\n",
       "      <th>genres</th>\n",
       "      <th>averageRating</th>\n",
       "      <th>numVotes</th>\n",
       "    </tr>\n",
       "  </thead>\n",
       "  <tbody>\n",
       "    <tr>\n",
       "      <th>1033</th>\n",
       "      <td>tt0010323</td>\n",
       "      <td>The Cabinet of Dr. Caligari</td>\n",
       "      <td>1920</td>\n",
       "      <td>Horror,Mystery,Thriller</td>\n",
       "      <td>8.1</td>\n",
       "      <td>60826</td>\n",
       "    </tr>\n",
       "    <tr>\n",
       "      <th>1469</th>\n",
       "      <td>tt0012349</td>\n",
       "      <td>The Kid</td>\n",
       "      <td>1921</td>\n",
       "      <td>Comedy,Drama,Family</td>\n",
       "      <td>8.3</td>\n",
       "      <td>120811</td>\n",
       "    </tr>\n",
       "    <tr>\n",
       "      <th>1474</th>\n",
       "      <td>tt0012364</td>\n",
       "      <td>The Phantom Carriage</td>\n",
       "      <td>1921</td>\n",
       "      <td>Drama,Fantasy,Horror</td>\n",
       "      <td>8.1</td>\n",
       "      <td>11772</td>\n",
       "    </tr>\n",
       "    <tr>\n",
       "      <th>1934</th>\n",
       "      <td>tt0014429</td>\n",
       "      <td>Safety Last!</td>\n",
       "      <td>1923</td>\n",
       "      <td>Action,Comedy,Thriller</td>\n",
       "      <td>8.1</td>\n",
       "      <td>19762</td>\n",
       "    </tr>\n",
       "    <tr>\n",
       "      <th>2094</th>\n",
       "      <td>tt0015064</td>\n",
       "      <td>The Last Laugh</td>\n",
       "      <td>1924</td>\n",
       "      <td>Drama</td>\n",
       "      <td>8.1</td>\n",
       "      <td>13522</td>\n",
       "    </tr>\n",
       "    <tr>\n",
       "      <th>...</th>\n",
       "      <td>...</td>\n",
       "      <td>...</td>\n",
       "      <td>...</td>\n",
       "      <td>...</td>\n",
       "      <td>...</td>\n",
       "      <td>...</td>\n",
       "    </tr>\n",
       "    <tr>\n",
       "      <th>264122</th>\n",
       "      <td>tt9477520</td>\n",
       "      <td>Asuran</td>\n",
       "      <td>2019</td>\n",
       "      <td>Action,Drama</td>\n",
       "      <td>8.5</td>\n",
       "      <td>20165</td>\n",
       "    </tr>\n",
       "    <tr>\n",
       "      <th>264183</th>\n",
       "      <td>tt9500372</td>\n",
       "      <td>Pocket Hercules: Naim Süleymanoglu</td>\n",
       "      <td>2019</td>\n",
       "      <td>Biography,Drama,Sport</td>\n",
       "      <td>8.3</td>\n",
       "      <td>10781</td>\n",
       "    </tr>\n",
       "    <tr>\n",
       "      <th>264607</th>\n",
       "      <td>tt9617456</td>\n",
       "      <td>For Sama</td>\n",
       "      <td>2019</td>\n",
       "      <td>Documentary,War</td>\n",
       "      <td>8.5</td>\n",
       "      <td>10684</td>\n",
       "    </tr>\n",
       "    <tr>\n",
       "      <th>265587</th>\n",
       "      <td>tt9817070</td>\n",
       "      <td>Just 6.5</td>\n",
       "      <td>2019</td>\n",
       "      <td>Action,Crime,Drama</td>\n",
       "      <td>8.0</td>\n",
       "      <td>11446</td>\n",
       "    </tr>\n",
       "    <tr>\n",
       "      <th>265960</th>\n",
       "      <td>tt9900782</td>\n",
       "      <td>Kaithi</td>\n",
       "      <td>2019</td>\n",
       "      <td>Action,Crime,Thriller</td>\n",
       "      <td>8.5</td>\n",
       "      <td>17846</td>\n",
       "    </tr>\n",
       "  </tbody>\n",
       "</table>\n",
       "<p>757 rows × 6 columns</p>\n",
       "</div>"
      ],
      "text/plain": [
       "           tconst                        primaryTitle startYear  \\\n",
       "1033    tt0010323         The Cabinet of Dr. Caligari      1920   \n",
       "1469    tt0012349                             The Kid      1921   \n",
       "1474    tt0012364                The Phantom Carriage      1921   \n",
       "1934    tt0014429                        Safety Last!      1923   \n",
       "2094    tt0015064                      The Last Laugh      1924   \n",
       "...           ...                                 ...       ...   \n",
       "264122  tt9477520                              Asuran      2019   \n",
       "264183  tt9500372  Pocket Hercules: Naim Süleymanoglu      2019   \n",
       "264607  tt9617456                            For Sama      2019   \n",
       "265587  tt9817070                            Just 6.5      2019   \n",
       "265960  tt9900782                              Kaithi      2019   \n",
       "\n",
       "                         genres  averageRating  numVotes  \n",
       "1033    Horror,Mystery,Thriller            8.1     60826  \n",
       "1469        Comedy,Drama,Family            8.3    120811  \n",
       "1474       Drama,Fantasy,Horror            8.1     11772  \n",
       "1934     Action,Comedy,Thriller            8.1     19762  \n",
       "2094                      Drama            8.1     13522  \n",
       "...                         ...            ...       ...  \n",
       "264122             Action,Drama            8.5     20165  \n",
       "264183    Biography,Drama,Sport            8.3     10781  \n",
       "264607          Documentary,War            8.5     10684  \n",
       "265587       Action,Crime,Drama            8.0     11446  \n",
       "265960    Action,Crime,Thriller            8.5     17846  \n",
       "\n",
       "[757 rows x 6 columns]"
      ]
     },
     "execution_count": 17,
     "metadata": {},
     "output_type": "execute_result"
    }
   ],
   "source": [
    "movies_ratings_top = movies_ratings_top.loc[movies_ratings_top['numVotes'] >= 10000]\n",
    "movies_ratings_top"
   ]
  },
  {
   "cell_type": "code",
   "execution_count": 18,
   "metadata": {},
   "outputs": [
    {
     "data": {
      "text/html": [
       "<div>\n",
       "<style scoped>\n",
       "    .dataframe tbody tr th:only-of-type {\n",
       "        vertical-align: middle;\n",
       "    }\n",
       "\n",
       "    .dataframe tbody tr th {\n",
       "        vertical-align: top;\n",
       "    }\n",
       "\n",
       "    .dataframe thead th {\n",
       "        text-align: right;\n",
       "    }\n",
       "</style>\n",
       "<table border=\"1\" class=\"dataframe\">\n",
       "  <thead>\n",
       "    <tr style=\"text-align: right;\">\n",
       "      <th></th>\n",
       "      <th>tconst</th>\n",
       "      <th>primaryTitle</th>\n",
       "      <th>startYear</th>\n",
       "      <th>genres</th>\n",
       "      <th>averageRating</th>\n",
       "      <th>numVotes</th>\n",
       "      <th>mainGenre</th>\n",
       "      <th>secondaryGenres</th>\n",
       "    </tr>\n",
       "  </thead>\n",
       "  <tbody>\n",
       "    <tr>\n",
       "      <th>1033</th>\n",
       "      <td>tt0010323</td>\n",
       "      <td>The Cabinet of Dr. Caligari</td>\n",
       "      <td>1920</td>\n",
       "      <td>Horror,Mystery,Thriller</td>\n",
       "      <td>8.1</td>\n",
       "      <td>60826</td>\n",
       "      <td>Horror</td>\n",
       "      <td>Mystery,Thriller</td>\n",
       "    </tr>\n",
       "    <tr>\n",
       "      <th>1469</th>\n",
       "      <td>tt0012349</td>\n",
       "      <td>The Kid</td>\n",
       "      <td>1921</td>\n",
       "      <td>Comedy,Drama,Family</td>\n",
       "      <td>8.3</td>\n",
       "      <td>120811</td>\n",
       "      <td>Comedy</td>\n",
       "      <td>Drama,Family</td>\n",
       "    </tr>\n",
       "    <tr>\n",
       "      <th>1474</th>\n",
       "      <td>tt0012364</td>\n",
       "      <td>The Phantom Carriage</td>\n",
       "      <td>1921</td>\n",
       "      <td>Drama,Fantasy,Horror</td>\n",
       "      <td>8.1</td>\n",
       "      <td>11772</td>\n",
       "      <td>Drama</td>\n",
       "      <td>Fantasy,Horror</td>\n",
       "    </tr>\n",
       "    <tr>\n",
       "      <th>1934</th>\n",
       "      <td>tt0014429</td>\n",
       "      <td>Safety Last!</td>\n",
       "      <td>1923</td>\n",
       "      <td>Action,Comedy,Thriller</td>\n",
       "      <td>8.1</td>\n",
       "      <td>19762</td>\n",
       "      <td>Action</td>\n",
       "      <td>Comedy,Thriller</td>\n",
       "    </tr>\n",
       "    <tr>\n",
       "      <th>2094</th>\n",
       "      <td>tt0015064</td>\n",
       "      <td>The Last Laugh</td>\n",
       "      <td>1924</td>\n",
       "      <td>Drama</td>\n",
       "      <td>8.1</td>\n",
       "      <td>13522</td>\n",
       "      <td>Drama</td>\n",
       "      <td>None</td>\n",
       "    </tr>\n",
       "    <tr>\n",
       "      <th>...</th>\n",
       "      <td>...</td>\n",
       "      <td>...</td>\n",
       "      <td>...</td>\n",
       "      <td>...</td>\n",
       "      <td>...</td>\n",
       "      <td>...</td>\n",
       "      <td>...</td>\n",
       "      <td>...</td>\n",
       "    </tr>\n",
       "    <tr>\n",
       "      <th>264122</th>\n",
       "      <td>tt9477520</td>\n",
       "      <td>Asuran</td>\n",
       "      <td>2019</td>\n",
       "      <td>Action,Drama</td>\n",
       "      <td>8.5</td>\n",
       "      <td>20165</td>\n",
       "      <td>Action</td>\n",
       "      <td>Drama</td>\n",
       "    </tr>\n",
       "    <tr>\n",
       "      <th>264183</th>\n",
       "      <td>tt9500372</td>\n",
       "      <td>Pocket Hercules: Naim Süleymanoglu</td>\n",
       "      <td>2019</td>\n",
       "      <td>Biography,Drama,Sport</td>\n",
       "      <td>8.3</td>\n",
       "      <td>10781</td>\n",
       "      <td>Biography</td>\n",
       "      <td>Drama,Sport</td>\n",
       "    </tr>\n",
       "    <tr>\n",
       "      <th>264607</th>\n",
       "      <td>tt9617456</td>\n",
       "      <td>For Sama</td>\n",
       "      <td>2019</td>\n",
       "      <td>Documentary,War</td>\n",
       "      <td>8.5</td>\n",
       "      <td>10684</td>\n",
       "      <td>Documentary</td>\n",
       "      <td>War</td>\n",
       "    </tr>\n",
       "    <tr>\n",
       "      <th>265587</th>\n",
       "      <td>tt9817070</td>\n",
       "      <td>Just 6.5</td>\n",
       "      <td>2019</td>\n",
       "      <td>Action,Crime,Drama</td>\n",
       "      <td>8.0</td>\n",
       "      <td>11446</td>\n",
       "      <td>Action</td>\n",
       "      <td>Crime,Drama</td>\n",
       "    </tr>\n",
       "    <tr>\n",
       "      <th>265960</th>\n",
       "      <td>tt9900782</td>\n",
       "      <td>Kaithi</td>\n",
       "      <td>2019</td>\n",
       "      <td>Action,Crime,Thriller</td>\n",
       "      <td>8.5</td>\n",
       "      <td>17846</td>\n",
       "      <td>Action</td>\n",
       "      <td>Crime,Thriller</td>\n",
       "    </tr>\n",
       "  </tbody>\n",
       "</table>\n",
       "<p>757 rows × 8 columns</p>\n",
       "</div>"
      ],
      "text/plain": [
       "           tconst                        primaryTitle startYear  \\\n",
       "1033    tt0010323         The Cabinet of Dr. Caligari      1920   \n",
       "1469    tt0012349                             The Kid      1921   \n",
       "1474    tt0012364                The Phantom Carriage      1921   \n",
       "1934    tt0014429                        Safety Last!      1923   \n",
       "2094    tt0015064                      The Last Laugh      1924   \n",
       "...           ...                                 ...       ...   \n",
       "264122  tt9477520                              Asuran      2019   \n",
       "264183  tt9500372  Pocket Hercules: Naim Süleymanoglu      2019   \n",
       "264607  tt9617456                            For Sama      2019   \n",
       "265587  tt9817070                            Just 6.5      2019   \n",
       "265960  tt9900782                              Kaithi      2019   \n",
       "\n",
       "                         genres  averageRating  numVotes    mainGenre  \\\n",
       "1033    Horror,Mystery,Thriller            8.1     60826       Horror   \n",
       "1469        Comedy,Drama,Family            8.3    120811       Comedy   \n",
       "1474       Drama,Fantasy,Horror            8.1     11772        Drama   \n",
       "1934     Action,Comedy,Thriller            8.1     19762       Action   \n",
       "2094                      Drama            8.1     13522        Drama   \n",
       "...                         ...            ...       ...          ...   \n",
       "264122             Action,Drama            8.5     20165       Action   \n",
       "264183    Biography,Drama,Sport            8.3     10781    Biography   \n",
       "264607          Documentary,War            8.5     10684  Documentary   \n",
       "265587       Action,Crime,Drama            8.0     11446       Action   \n",
       "265960    Action,Crime,Thriller            8.5     17846       Action   \n",
       "\n",
       "         secondaryGenres  \n",
       "1033    Mystery,Thriller  \n",
       "1469        Drama,Family  \n",
       "1474      Fantasy,Horror  \n",
       "1934     Comedy,Thriller  \n",
       "2094                None  \n",
       "...                  ...  \n",
       "264122             Drama  \n",
       "264183       Drama,Sport  \n",
       "264607               War  \n",
       "265587       Crime,Drama  \n",
       "265960    Crime,Thriller  \n",
       "\n",
       "[757 rows x 8 columns]"
      ]
     },
     "execution_count": 18,
     "metadata": {},
     "output_type": "execute_result"
    }
   ],
   "source": [
    "movies_ratings_top[['mainGenre', 'secondaryGenres']] = movies_ratings['genres'].str.split(',', n=1, expand=True)\n",
    "movies_ratings_top"
   ]
  },
  {
   "cell_type": "code",
   "execution_count": 27,
   "metadata": {},
   "outputs": [
    {
     "data": {
      "text/html": [
       "<div>\n",
       "<style scoped>\n",
       "    .dataframe tbody tr th:only-of-type {\n",
       "        vertical-align: middle;\n",
       "    }\n",
       "\n",
       "    .dataframe tbody tr th {\n",
       "        vertical-align: top;\n",
       "    }\n",
       "\n",
       "    .dataframe thead th {\n",
       "        text-align: right;\n",
       "    }\n",
       "</style>\n",
       "<table border=\"1\" class=\"dataframe\">\n",
       "  <thead>\n",
       "    <tr style=\"text-align: right;\">\n",
       "      <th></th>\n",
       "      <th>tconst</th>\n",
       "      <th>primaryTitle</th>\n",
       "      <th>startYear</th>\n",
       "      <th>genres</th>\n",
       "      <th>averageRating</th>\n",
       "      <th>numVotes</th>\n",
       "      <th>mainGenre</th>\n",
       "      <th>secondaryGenres</th>\n",
       "    </tr>\n",
       "  </thead>\n",
       "  <tbody>\n",
       "    <tr>\n",
       "      <th>95643</th>\n",
       "      <td>tt0252487</td>\n",
       "      <td>The Chaos Class</td>\n",
       "      <td>1975</td>\n",
       "      <td>Comedy,Drama</td>\n",
       "      <td>9.3</td>\n",
       "      <td>39207</td>\n",
       "      <td>Comedy</td>\n",
       "      <td>Drama</td>\n",
       "    </tr>\n",
       "    <tr>\n",
       "      <th>60334</th>\n",
       "      <td>tt0111161</td>\n",
       "      <td>The Shawshank Redemption</td>\n",
       "      <td>1994</td>\n",
       "      <td>Drama</td>\n",
       "      <td>9.3</td>\n",
       "      <td>2480651</td>\n",
       "      <td>Drama</td>\n",
       "      <td>None</td>\n",
       "    </tr>\n",
       "    <tr>\n",
       "      <th>36124</th>\n",
       "      <td>tt0068646</td>\n",
       "      <td>The Godfather</td>\n",
       "      <td>1972</td>\n",
       "      <td>Crime,Drama</td>\n",
       "      <td>9.2</td>\n",
       "      <td>1713340</td>\n",
       "      <td>Crime</td>\n",
       "      <td>Drama</td>\n",
       "    </tr>\n",
       "    <tr>\n",
       "      <th>143183</th>\n",
       "      <td>tt10280296</td>\n",
       "      <td>Sardar Udham</td>\n",
       "      <td>2021</td>\n",
       "      <td>Biography,Crime,Drama</td>\n",
       "      <td>9.1</td>\n",
       "      <td>22618</td>\n",
       "      <td>Biography</td>\n",
       "      <td>Crime,Drama</td>\n",
       "    </tr>\n",
       "    <tr>\n",
       "      <th>234112</th>\n",
       "      <td>tt5354160</td>\n",
       "      <td>Mirror Game</td>\n",
       "      <td>2016</td>\n",
       "      <td>Crime,Mystery,Thriller</td>\n",
       "      <td>9.1</td>\n",
       "      <td>25151</td>\n",
       "      <td>Crime</td>\n",
       "      <td>Mystery,Thriller</td>\n",
       "    </tr>\n",
       "    <tr>\n",
       "      <th>...</th>\n",
       "      <td>...</td>\n",
       "      <td>...</td>\n",
       "      <td>...</td>\n",
       "      <td>...</td>\n",
       "      <td>...</td>\n",
       "      <td>...</td>\n",
       "      <td>...</td>\n",
       "      <td>...</td>\n",
       "    </tr>\n",
       "    <tr>\n",
       "      <th>132265</th>\n",
       "      <td>tt0482571</td>\n",
       "      <td>The Prestige</td>\n",
       "      <td>2006</td>\n",
       "      <td>Drama,Mystery,Sci-Fi</td>\n",
       "      <td>8.5</td>\n",
       "      <td>1252179</td>\n",
       "      <td>Drama</td>\n",
       "      <td>Mystery,Sci-Fi</td>\n",
       "    </tr>\n",
       "    <tr>\n",
       "      <th>134525</th>\n",
       "      <td>tt0770802</td>\n",
       "      <td>Samsara</td>\n",
       "      <td>2011</td>\n",
       "      <td>Documentary,Music</td>\n",
       "      <td>8.5</td>\n",
       "      <td>34760</td>\n",
       "      <td>Documentary</td>\n",
       "      <td>Music</td>\n",
       "    </tr>\n",
       "    <tr>\n",
       "      <th>33093</th>\n",
       "      <td>tt0064116</td>\n",
       "      <td>Once Upon a Time in the West</td>\n",
       "      <td>1968</td>\n",
       "      <td>Western</td>\n",
       "      <td>8.5</td>\n",
       "      <td>315842</td>\n",
       "      <td>Western</td>\n",
       "      <td>None</td>\n",
       "    </tr>\n",
       "    <tr>\n",
       "      <th>216392</th>\n",
       "      <td>tt3674140</td>\n",
       "      <td>The Salt of the Earth</td>\n",
       "      <td>2014</td>\n",
       "      <td>Biography,Documentary,History</td>\n",
       "      <td>8.5</td>\n",
       "      <td>20935</td>\n",
       "      <td>Biography</td>\n",
       "      <td>Documentary,History</td>\n",
       "    </tr>\n",
       "    <tr>\n",
       "      <th>122301</th>\n",
       "      <td>tt0400234</td>\n",
       "      <td>Black Friday</td>\n",
       "      <td>2004</td>\n",
       "      <td>Action,Crime,Drama</td>\n",
       "      <td>8.5</td>\n",
       "      <td>20091</td>\n",
       "      <td>Action</td>\n",
       "      <td>Crime,Drama</td>\n",
       "    </tr>\n",
       "  </tbody>\n",
       "</table>\n",
       "<p>100 rows × 8 columns</p>\n",
       "</div>"
      ],
      "text/plain": [
       "            tconst                  primaryTitle startYear  \\\n",
       "95643    tt0252487               The Chaos Class      1975   \n",
       "60334    tt0111161      The Shawshank Redemption      1994   \n",
       "36124    tt0068646                 The Godfather      1972   \n",
       "143183  tt10280296                  Sardar Udham      2021   \n",
       "234112   tt5354160                   Mirror Game      2016   \n",
       "...            ...                           ...       ...   \n",
       "132265   tt0482571                  The Prestige      2006   \n",
       "134525   tt0770802                       Samsara      2011   \n",
       "33093    tt0064116  Once Upon a Time in the West      1968   \n",
       "216392   tt3674140         The Salt of the Earth      2014   \n",
       "122301   tt0400234                  Black Friday      2004   \n",
       "\n",
       "                               genres  averageRating  numVotes    mainGenre  \\\n",
       "95643                    Comedy,Drama            9.3     39207       Comedy   \n",
       "60334                           Drama            9.3   2480651        Drama   \n",
       "36124                     Crime,Drama            9.2   1713340        Crime   \n",
       "143183          Biography,Crime,Drama            9.1     22618    Biography   \n",
       "234112         Crime,Mystery,Thriller            9.1     25151        Crime   \n",
       "...                               ...            ...       ...          ...   \n",
       "132265           Drama,Mystery,Sci-Fi            8.5   1252179        Drama   \n",
       "134525              Documentary,Music            8.5     34760  Documentary   \n",
       "33093                         Western            8.5    315842      Western   \n",
       "216392  Biography,Documentary,History            8.5     20935    Biography   \n",
       "122301             Action,Crime,Drama            8.5     20091       Action   \n",
       "\n",
       "            secondaryGenres  \n",
       "95643                 Drama  \n",
       "60334                  None  \n",
       "36124                 Drama  \n",
       "143183          Crime,Drama  \n",
       "234112     Mystery,Thriller  \n",
       "...                     ...  \n",
       "132265       Mystery,Sci-Fi  \n",
       "134525                Music  \n",
       "33093                  None  \n",
       "216392  Documentary,History  \n",
       "122301          Crime,Drama  \n",
       "\n",
       "[100 rows x 8 columns]"
      ]
     },
     "execution_count": 27,
     "metadata": {},
     "output_type": "execute_result"
    }
   ],
   "source": [
    "movies_ratings_top.sort_values('averageRating', ascending=False, inplace=True)\n",
    "movies_ratings_top = movies_ratings_top.iloc[:100,:]"
   ]
  },
  {
   "cell_type": "code",
   "execution_count": 30,
   "metadata": {},
   "outputs": [
    {
     "name": "stderr",
     "output_type": "stream",
     "text": [
      "/Users/guillaumearp/opt/anaconda3/lib/python3.8/site-packages/pandas/util/_decorators.py:311: SettingWithCopyWarning:\n",
      "\n",
      "\n",
      "A value is trying to be set on a copy of a slice from a DataFrame\n",
      "\n",
      "See the caveats in the documentation: https://pandas.pydata.org/pandas-docs/stable/user_guide/indexing.html#returning-a-view-versus-a-copy\n",
      "\n"
     ]
    }
   ],
   "source": []
  },
  {
   "cell_type": "markdown",
   "metadata": {},
   "source": [
    "## Graphiques"
   ]
  },
  {
   "cell_type": "code",
   "execution_count": 31,
   "metadata": {},
   "outputs": [
    {
     "data": {
      "application/vnd.plotly.v1+json": {
       "config": {
        "plotlyServerURL": "https://plot.ly"
       },
       "data": [
        {
         "hovertemplate": "Genre=Comedy<br>Year=%{x}<br>Rating=%{y}<br>numVotes=%{marker.size}<extra></extra>",
         "legendgroup": "Comedy",
         "marker": {
          "color": "#313131",
          "size": [
           229946,
           12723,
           39207,
           19422,
           22806,
           22618,
           19509,
           17155,
           15759,
           10748,
           18750,
           15289,
           11063,
           14765,
           10570,
           15784,
           655740,
           13255,
           12872,
           10207,
           44777,
           12488,
           676191
          ],
          "sizemode": "area",
          "sizeref": 6201.6275,
          "symbol": "circle"
         },
         "mode": "markers",
         "name": "Comedy",
         "orientation": "v",
         "showlegend": true,
         "type": "scatter",
         "x": [
          "1936",
          "1965",
          "1975",
          "1976",
          "1976",
          "1976",
          "1977",
          "1977",
          "1978",
          "1978",
          "1979",
          "1982",
          "1984",
          "1986",
          "1987",
          "1996",
          "1997",
          "2000",
          "2002",
          "2004",
          "2013",
          "2019",
          "2019"
         ],
         "xaxis": "x",
         "y": [
          8.5,
          8.5,
          9.3,
          8.9,
          8.9,
          9,
          8.6,
          8.7,
          8.7,
          8.7,
          8.5,
          8.9,
          8.9,
          8.7,
          8.5,
          8.7,
          8.6,
          8.7,
          8.5,
          8.5,
          9.1,
          8.6,
          8.6
         ],
         "yaxis": "y"
        },
        {
         "hovertemplate": "Genre=Drama<br>Year=%{x}<br>Rating=%{y}<br>numVotes=%{marker.size}<extra></extra>",
         "legendgroup": "Drama",
         "marker": {
          "color": "#3d019d",
          "size": [
           424167,
           13666,
           18913,
           958367,
           15525,
           2480651,
           1918063,
           1299785,
           1954675,
           21457,
           1252179,
           24559,
           14159,
           12498,
           12171,
           90958,
           79702
          ],
          "sizemode": "area",
          "sizeref": 6201.6275,
          "symbol": "circle"
         },
         "mode": "markers",
         "name": "Drama",
         "orientation": "v",
         "showlegend": true,
         "type": "scatter",
         "x": [
          "1946",
          "1959",
          "1964",
          "1975",
          "1977",
          "1994",
          "1994",
          "1998",
          "1999",
          "2003",
          "2006",
          "2018",
          "2018",
          "2018",
          "2019",
          "2020",
          "2020"
         ],
         "xaxis": "x",
         "y": [
          8.6,
          8.5,
          8.5,
          8.7,
          8.6,
          9.3,
          8.8,
          8.6,
          8.8,
          8.5,
          8.5,
          8.6,
          8.9,
          8.8,
          8.6,
          9.1,
          8.8
         ],
         "yaxis": "y"
        },
        {
         "hovertemplate": "Genre=Action<br>Year=%{x}<br>Rating=%{y}<br>numVotes=%{marker.size}<extra></extra>",
         "legendgroup": "Action",
         "marker": {
          "color": "#3810dc",
          "size": [
           330517,
           49884,
           1283131,
           1211355,
           11267,
           1038598,
           1088494,
           1772565,
           1407459,
           1740176,
           1553977,
           1718904,
           20091,
           2435010,
           2185134,
           106962,
           15636,
           105924
          ],
          "sizemode": "area",
          "sizeref": 6201.6275,
          "symbol": "circle"
         },
         "mode": "markers",
         "name": "Action",
         "orientation": "v",
         "showlegend": true,
         "type": "scatter",
         "x": [
          "1954",
          "1962",
          "1977",
          "1980",
          "1991",
          "1991",
          "1994",
          "1999",
          "2000",
          "2001",
          "2002",
          "2003",
          "2004",
          "2008",
          "2010",
          "2016",
          "2021",
          "2021"
         ],
         "xaxis": "x",
         "y": [
          8.6,
          8.6,
          8.6,
          8.7,
          8.5,
          8.5,
          8.5,
          8.7,
          8.5,
          8.8,
          8.7,
          8.9,
          8.5,
          9,
          8.8,
          8.7,
          8.7,
          8.7
         ],
         "yaxis": "y"
        },
        {
         "hovertemplate": "Genre=Crime<br>Year=%{x}<br>Rating=%{y}<br>numVotes=%{marker.size}<extra></extra>",
         "legendgroup": "Crime",
         "marker": {
          "color": "#2d47f9",
          "size": [
           734210,
           16859,
           1713340,
           1190120,
           18448,
           1340345,
           1920023,
           1033538,
           1527144,
           1210780,
           724848,
           1247559,
           25151,
           31208
          ],
          "sizemode": "area",
          "sizeref": 6201.6275,
          "symbol": "circle"
         },
         "mode": "markers",
         "name": "Crime",
         "orientation": "v",
         "showlegend": true,
         "type": "scatter",
         "x": [
          "1957",
          "1960",
          "1972",
          "1974",
          "1987",
          "1991",
          "1994",
          "1995",
          "1995",
          "1999",
          "2002",
          "2006",
          "2016",
          "2021"
         ],
         "xaxis": "x",
         "y": [
          9,
          8.5,
          9.2,
          9,
          8.7,
          8.6,
          8.9,
          8.5,
          8.6,
          8.6,
          8.6,
          8.5,
          9.1,
          8.6
         ],
         "yaxis": "y"
        },
        {
         "hovertemplate": "Genre=Horror<br>Year=%{x}<br>Rating=%{y}<br>numVotes=%{marker.size}<extra></extra>",
         "legendgroup": "Horror",
         "marker": {
          "color": "#2593ff",
          "size": [
           634898
          ],
          "sizemode": "area",
          "sizeref": 6201.6275,
          "symbol": "circle"
         },
         "mode": "markers",
         "name": "Horror",
         "orientation": "v",
         "showlegend": true,
         "type": "scatter",
         "x": [
          "1960"
         ],
         "xaxis": "x",
         "y": [
          8.5
         ],
         "yaxis": "y"
        },
        {
         "hovertemplate": "Genre=Western<br>Year=%{x}<br>Rating=%{y}<br>numVotes=%{marker.size}<extra></extra>",
         "legendgroup": "Western",
         "marker": {
          "color": "#2adef6",
          "size": [
           721489,
           315842
          ],
          "sizemode": "area",
          "sizeref": 6201.6275,
          "symbol": "circle"
         },
         "mode": "markers",
         "name": "Western",
         "orientation": "v",
         "showlegend": true,
         "type": "scatter",
         "x": [
          "1966",
          "1968"
         ],
         "xaxis": "x",
         "y": [
          8.8,
          8.5
         ],
         "yaxis": "y"
        },
        {
         "hovertemplate": "Genre=Animation<br>Year=%{x}<br>Rating=%{y}<br>numVotes=%{marker.size}<extra></extra>",
         "legendgroup": "Animation",
         "marker": {
          "color": "#60fdfa",
          "size": [
           12957
          ],
          "sizemode": "area",
          "sizeref": 6201.6275,
          "symbol": "circle"
         },
         "mode": "markers",
         "name": "Animation",
         "orientation": "v",
         "showlegend": true,
         "type": "scatter",
         "x": [
          "1975"
         ],
         "xaxis": "x",
         "y": [
          8.5
         ],
         "yaxis": "y"
        },
        {
         "hovertemplate": "Genre=Adventure<br>Year=%{x}<br>Rating=%{y}<br>numVotes=%{marker.size}<extra></extra>",
         "legendgroup": "Adventure",
         "marker": {
          "color": "#aefdff",
          "size": [
           19174,
           17366,
           14885,
           1119849,
           989070,
           699279,
           18982,
           1631714
          ],
          "sizemode": "area",
          "sizeref": 6201.6275,
          "symbol": "circle"
         },
         "mode": "markers",
         "name": "Adventure",
         "orientation": "v",
         "showlegend": true,
         "type": "scatter",
         "x": [
          "1977",
          "1977",
          "1980",
          "1985",
          "1994",
          "2001",
          "2003",
          "2014"
         ],
         "xaxis": "x",
         "y": [
          8.8,
          8.7,
          8.8,
          8.5,
          8.5,
          8.6,
          8.7,
          8.6
         ],
         "yaxis": "y"
        },
        {
         "hovertemplate": "Genre=Documentary<br>Year=%{x}<br>Rating=%{y}<br>numVotes=%{marker.size}<extra></extra>",
         "legendgroup": "Documentary",
         "marker": {
          "color": "#f3f3f1",
          "size": [
           14617,
           37797,
           18662,
           22116,
           34760
          ],
          "sizemode": "area",
          "sizeref": 6201.6275,
          "symbol": "circle"
         },
         "mode": "markers",
         "name": "Documentary",
         "orientation": "v",
         "showlegend": true,
         "type": "scatter",
         "x": [
          "1984",
          "1992",
          "2005",
          "2009",
          "2011"
         ],
         "xaxis": "x",
         "y": [
          8.6,
          8.6,
          8.7,
          8.5,
          8.5
         ],
         "yaxis": "y"
        },
        {
         "hovertemplate": "Genre=Biography<br>Year=%{x}<br>Rating=%{y}<br>numVotes=%{marker.size}<extra></extra>",
         "legendgroup": "Biography",
         "marker": {
          "color": "#fffda9",
          "size": [
           1076805,
           1273489,
           775742,
           35265,
           68000,
           801753,
           20935,
           18826,
           11330,
           29563,
           22618
          ],
          "sizemode": "area",
          "sizeref": 6201.6275,
          "symbol": "circle"
         },
         "mode": "markers",
         "name": "Biography",
         "orientation": "v",
         "showlegend": true,
         "type": "scatter",
         "x": [
          "1990",
          "1993",
          "2002",
          "2008",
          "2010",
          "2011",
          "2014",
          "2016",
          "2018",
          "2020",
          "2021"
         ],
         "xaxis": "x",
         "y": [
          8.7,
          8.9,
          8.5,
          8.5,
          8.5,
          8.5,
          8.5,
          8.9,
          8.5,
          9,
          9.1
         ],
         "yaxis": "y"
        }
       ],
       "layout": {
        "height": 600,
        "legend": {
         "itemsizing": "constant",
         "title": {
          "text": "Genre"
         },
         "tracegroupgap": 0
        },
        "template": {
         "data": {
          "bar": [
           {
            "error_x": {
             "color": "#2a3f5f"
            },
            "error_y": {
             "color": "#2a3f5f"
            },
            "marker": {
             "line": {
              "color": "#E5ECF6",
              "width": 0.5
             },
             "pattern": {
              "fillmode": "overlay",
              "size": 10,
              "solidity": 0.2
             }
            },
            "type": "bar"
           }
          ],
          "barpolar": [
           {
            "marker": {
             "line": {
              "color": "#E5ECF6",
              "width": 0.5
             },
             "pattern": {
              "fillmode": "overlay",
              "size": 10,
              "solidity": 0.2
             }
            },
            "type": "barpolar"
           }
          ],
          "carpet": [
           {
            "aaxis": {
             "endlinecolor": "#2a3f5f",
             "gridcolor": "white",
             "linecolor": "white",
             "minorgridcolor": "white",
             "startlinecolor": "#2a3f5f"
            },
            "baxis": {
             "endlinecolor": "#2a3f5f",
             "gridcolor": "white",
             "linecolor": "white",
             "minorgridcolor": "white",
             "startlinecolor": "#2a3f5f"
            },
            "type": "carpet"
           }
          ],
          "choropleth": [
           {
            "colorbar": {
             "outlinewidth": 0,
             "ticks": ""
            },
            "type": "choropleth"
           }
          ],
          "contour": [
           {
            "colorbar": {
             "outlinewidth": 0,
             "ticks": ""
            },
            "colorscale": [
             [
              0,
              "#0d0887"
             ],
             [
              0.1111111111111111,
              "#46039f"
             ],
             [
              0.2222222222222222,
              "#7201a8"
             ],
             [
              0.3333333333333333,
              "#9c179e"
             ],
             [
              0.4444444444444444,
              "#bd3786"
             ],
             [
              0.5555555555555556,
              "#d8576b"
             ],
             [
              0.6666666666666666,
              "#ed7953"
             ],
             [
              0.7777777777777778,
              "#fb9f3a"
             ],
             [
              0.8888888888888888,
              "#fdca26"
             ],
             [
              1,
              "#f0f921"
             ]
            ],
            "type": "contour"
           }
          ],
          "contourcarpet": [
           {
            "colorbar": {
             "outlinewidth": 0,
             "ticks": ""
            },
            "type": "contourcarpet"
           }
          ],
          "heatmap": [
           {
            "colorbar": {
             "outlinewidth": 0,
             "ticks": ""
            },
            "colorscale": [
             [
              0,
              "#0d0887"
             ],
             [
              0.1111111111111111,
              "#46039f"
             ],
             [
              0.2222222222222222,
              "#7201a8"
             ],
             [
              0.3333333333333333,
              "#9c179e"
             ],
             [
              0.4444444444444444,
              "#bd3786"
             ],
             [
              0.5555555555555556,
              "#d8576b"
             ],
             [
              0.6666666666666666,
              "#ed7953"
             ],
             [
              0.7777777777777778,
              "#fb9f3a"
             ],
             [
              0.8888888888888888,
              "#fdca26"
             ],
             [
              1,
              "#f0f921"
             ]
            ],
            "type": "heatmap"
           }
          ],
          "heatmapgl": [
           {
            "colorbar": {
             "outlinewidth": 0,
             "ticks": ""
            },
            "colorscale": [
             [
              0,
              "#0d0887"
             ],
             [
              0.1111111111111111,
              "#46039f"
             ],
             [
              0.2222222222222222,
              "#7201a8"
             ],
             [
              0.3333333333333333,
              "#9c179e"
             ],
             [
              0.4444444444444444,
              "#bd3786"
             ],
             [
              0.5555555555555556,
              "#d8576b"
             ],
             [
              0.6666666666666666,
              "#ed7953"
             ],
             [
              0.7777777777777778,
              "#fb9f3a"
             ],
             [
              0.8888888888888888,
              "#fdca26"
             ],
             [
              1,
              "#f0f921"
             ]
            ],
            "type": "heatmapgl"
           }
          ],
          "histogram": [
           {
            "marker": {
             "pattern": {
              "fillmode": "overlay",
              "size": 10,
              "solidity": 0.2
             }
            },
            "type": "histogram"
           }
          ],
          "histogram2d": [
           {
            "colorbar": {
             "outlinewidth": 0,
             "ticks": ""
            },
            "colorscale": [
             [
              0,
              "#0d0887"
             ],
             [
              0.1111111111111111,
              "#46039f"
             ],
             [
              0.2222222222222222,
              "#7201a8"
             ],
             [
              0.3333333333333333,
              "#9c179e"
             ],
             [
              0.4444444444444444,
              "#bd3786"
             ],
             [
              0.5555555555555556,
              "#d8576b"
             ],
             [
              0.6666666666666666,
              "#ed7953"
             ],
             [
              0.7777777777777778,
              "#fb9f3a"
             ],
             [
              0.8888888888888888,
              "#fdca26"
             ],
             [
              1,
              "#f0f921"
             ]
            ],
            "type": "histogram2d"
           }
          ],
          "histogram2dcontour": [
           {
            "colorbar": {
             "outlinewidth": 0,
             "ticks": ""
            },
            "colorscale": [
             [
              0,
              "#0d0887"
             ],
             [
              0.1111111111111111,
              "#46039f"
             ],
             [
              0.2222222222222222,
              "#7201a8"
             ],
             [
              0.3333333333333333,
              "#9c179e"
             ],
             [
              0.4444444444444444,
              "#bd3786"
             ],
             [
              0.5555555555555556,
              "#d8576b"
             ],
             [
              0.6666666666666666,
              "#ed7953"
             ],
             [
              0.7777777777777778,
              "#fb9f3a"
             ],
             [
              0.8888888888888888,
              "#fdca26"
             ],
             [
              1,
              "#f0f921"
             ]
            ],
            "type": "histogram2dcontour"
           }
          ],
          "mesh3d": [
           {
            "colorbar": {
             "outlinewidth": 0,
             "ticks": ""
            },
            "type": "mesh3d"
           }
          ],
          "parcoords": [
           {
            "line": {
             "colorbar": {
              "outlinewidth": 0,
              "ticks": ""
             }
            },
            "type": "parcoords"
           }
          ],
          "pie": [
           {
            "automargin": true,
            "type": "pie"
           }
          ],
          "scatter": [
           {
            "marker": {
             "colorbar": {
              "outlinewidth": 0,
              "ticks": ""
             }
            },
            "type": "scatter"
           }
          ],
          "scatter3d": [
           {
            "line": {
             "colorbar": {
              "outlinewidth": 0,
              "ticks": ""
             }
            },
            "marker": {
             "colorbar": {
              "outlinewidth": 0,
              "ticks": ""
             }
            },
            "type": "scatter3d"
           }
          ],
          "scattercarpet": [
           {
            "marker": {
             "colorbar": {
              "outlinewidth": 0,
              "ticks": ""
             }
            },
            "type": "scattercarpet"
           }
          ],
          "scattergeo": [
           {
            "marker": {
             "colorbar": {
              "outlinewidth": 0,
              "ticks": ""
             }
            },
            "type": "scattergeo"
           }
          ],
          "scattergl": [
           {
            "marker": {
             "colorbar": {
              "outlinewidth": 0,
              "ticks": ""
             }
            },
            "type": "scattergl"
           }
          ],
          "scattermapbox": [
           {
            "marker": {
             "colorbar": {
              "outlinewidth": 0,
              "ticks": ""
             }
            },
            "type": "scattermapbox"
           }
          ],
          "scatterpolar": [
           {
            "marker": {
             "colorbar": {
              "outlinewidth": 0,
              "ticks": ""
             }
            },
            "type": "scatterpolar"
           }
          ],
          "scatterpolargl": [
           {
            "marker": {
             "colorbar": {
              "outlinewidth": 0,
              "ticks": ""
             }
            },
            "type": "scatterpolargl"
           }
          ],
          "scatterternary": [
           {
            "marker": {
             "colorbar": {
              "outlinewidth": 0,
              "ticks": ""
             }
            },
            "type": "scatterternary"
           }
          ],
          "surface": [
           {
            "colorbar": {
             "outlinewidth": 0,
             "ticks": ""
            },
            "colorscale": [
             [
              0,
              "#0d0887"
             ],
             [
              0.1111111111111111,
              "#46039f"
             ],
             [
              0.2222222222222222,
              "#7201a8"
             ],
             [
              0.3333333333333333,
              "#9c179e"
             ],
             [
              0.4444444444444444,
              "#bd3786"
             ],
             [
              0.5555555555555556,
              "#d8576b"
             ],
             [
              0.6666666666666666,
              "#ed7953"
             ],
             [
              0.7777777777777778,
              "#fb9f3a"
             ],
             [
              0.8888888888888888,
              "#fdca26"
             ],
             [
              1,
              "#f0f921"
             ]
            ],
            "type": "surface"
           }
          ],
          "table": [
           {
            "cells": {
             "fill": {
              "color": "#EBF0F8"
             },
             "line": {
              "color": "white"
             }
            },
            "header": {
             "fill": {
              "color": "#C8D4E3"
             },
             "line": {
              "color": "white"
             }
            },
            "type": "table"
           }
          ]
         },
         "layout": {
          "annotationdefaults": {
           "arrowcolor": "#2a3f5f",
           "arrowhead": 0,
           "arrowwidth": 1
          },
          "autotypenumbers": "strict",
          "coloraxis": {
           "colorbar": {
            "outlinewidth": 0,
            "ticks": ""
           }
          },
          "colorscale": {
           "diverging": [
            [
             0,
             "#8e0152"
            ],
            [
             0.1,
             "#c51b7d"
            ],
            [
             0.2,
             "#de77ae"
            ],
            [
             0.3,
             "#f1b6da"
            ],
            [
             0.4,
             "#fde0ef"
            ],
            [
             0.5,
             "#f7f7f7"
            ],
            [
             0.6,
             "#e6f5d0"
            ],
            [
             0.7,
             "#b8e186"
            ],
            [
             0.8,
             "#7fbc41"
            ],
            [
             0.9,
             "#4d9221"
            ],
            [
             1,
             "#276419"
            ]
           ],
           "sequential": [
            [
             0,
             "#0d0887"
            ],
            [
             0.1111111111111111,
             "#46039f"
            ],
            [
             0.2222222222222222,
             "#7201a8"
            ],
            [
             0.3333333333333333,
             "#9c179e"
            ],
            [
             0.4444444444444444,
             "#bd3786"
            ],
            [
             0.5555555555555556,
             "#d8576b"
            ],
            [
             0.6666666666666666,
             "#ed7953"
            ],
            [
             0.7777777777777778,
             "#fb9f3a"
            ],
            [
             0.8888888888888888,
             "#fdca26"
            ],
            [
             1,
             "#f0f921"
            ]
           ],
           "sequentialminus": [
            [
             0,
             "#0d0887"
            ],
            [
             0.1111111111111111,
             "#46039f"
            ],
            [
             0.2222222222222222,
             "#7201a8"
            ],
            [
             0.3333333333333333,
             "#9c179e"
            ],
            [
             0.4444444444444444,
             "#bd3786"
            ],
            [
             0.5555555555555556,
             "#d8576b"
            ],
            [
             0.6666666666666666,
             "#ed7953"
            ],
            [
             0.7777777777777778,
             "#fb9f3a"
            ],
            [
             0.8888888888888888,
             "#fdca26"
            ],
            [
             1,
             "#f0f921"
            ]
           ]
          },
          "colorway": [
           "#636efa",
           "#EF553B",
           "#00cc96",
           "#ab63fa",
           "#FFA15A",
           "#19d3f3",
           "#FF6692",
           "#B6E880",
           "#FF97FF",
           "#FECB52"
          ],
          "font": {
           "color": "#2a3f5f"
          },
          "geo": {
           "bgcolor": "white",
           "lakecolor": "white",
           "landcolor": "#E5ECF6",
           "showlakes": true,
           "showland": true,
           "subunitcolor": "white"
          },
          "hoverlabel": {
           "align": "left"
          },
          "hovermode": "closest",
          "mapbox": {
           "style": "light"
          },
          "paper_bgcolor": "white",
          "plot_bgcolor": "#E5ECF6",
          "polar": {
           "angularaxis": {
            "gridcolor": "white",
            "linecolor": "white",
            "ticks": ""
           },
           "bgcolor": "#E5ECF6",
           "radialaxis": {
            "gridcolor": "white",
            "linecolor": "white",
            "ticks": ""
           }
          },
          "scene": {
           "xaxis": {
            "backgroundcolor": "#E5ECF6",
            "gridcolor": "white",
            "gridwidth": 2,
            "linecolor": "white",
            "showbackground": true,
            "ticks": "",
            "zerolinecolor": "white"
           },
           "yaxis": {
            "backgroundcolor": "#E5ECF6",
            "gridcolor": "white",
            "gridwidth": 2,
            "linecolor": "white",
            "showbackground": true,
            "ticks": "",
            "zerolinecolor": "white"
           },
           "zaxis": {
            "backgroundcolor": "#E5ECF6",
            "gridcolor": "white",
            "gridwidth": 2,
            "linecolor": "white",
            "showbackground": true,
            "ticks": "",
            "zerolinecolor": "white"
           }
          },
          "shapedefaults": {
           "line": {
            "color": "#2a3f5f"
           }
          },
          "ternary": {
           "aaxis": {
            "gridcolor": "white",
            "linecolor": "white",
            "ticks": ""
           },
           "baxis": {
            "gridcolor": "white",
            "linecolor": "white",
            "ticks": ""
           },
           "bgcolor": "#E5ECF6",
           "caxis": {
            "gridcolor": "white",
            "linecolor": "white",
            "ticks": ""
           }
          },
          "title": {
           "x": 0.05
          },
          "xaxis": {
           "automargin": true,
           "gridcolor": "white",
           "linecolor": "white",
           "ticks": "",
           "title": {
            "standoff": 15
           },
           "zerolinecolor": "white",
           "zerolinewidth": 2
          },
          "yaxis": {
           "automargin": true,
           "gridcolor": "white",
           "linecolor": "white",
           "ticks": "",
           "title": {
            "standoff": 15
           },
           "zerolinecolor": "white",
           "zerolinewidth": 2
          }
         }
        },
        "title": {
         "text": "Ratings"
        },
        "width": 1000,
        "xaxis": {
         "anchor": "y",
         "domain": [
          0,
          1
         ],
         "title": {
          "text": "Year"
         }
        },
        "yaxis": {
         "anchor": "x",
         "domain": [
          0,
          1
         ],
         "title": {
          "text": "Rating"
         }
        }
       }
      }
     },
     "metadata": {},
     "output_type": "display_data"
    }
   ],
   "source": [
    "fig = px.scatter(movies_ratings_top,\n",
    "    x='startYear',\n",
    "    y='averageRating',\n",
    "    size='numVotes',\n",
    "    color='mainGenre',\n",
    "    color_discrete_sequence= px.colors.cyclical.Edge,\n",
    "    title='Ratings',\n",
    "    template='plotly',\n",
    "    labels={\n",
    "        'startYear': 'Year',\n",
    "        'averageRating': 'Rating',\n",
    "        'mainGenre': 'Genre'\n",
    "    }\n",
    ")\n",
    "fig.update_layout(width=1000, height=600)\n",
    "fig.show()"
   ]
  },
  {
   "cell_type": "code",
   "execution_count": 29,
   "metadata": {},
   "outputs": [
    {
     "data": {
      "application/vnd.plotly.v1+json": {
       "config": {
        "plotlyServerURL": "https://plot.ly"
       },
       "data": [
        {
         "hovertemplate": "<b>%{hovertext}</b><br><br>Year=%{x}<br>Rating=%{marker.color}<br>Genre=%{z}<br>Number of Votes=%{marker.size}<extra></extra>",
         "hovertext": [
          "The Chaos Class",
          "The Shawshank Redemption",
          "The Godfather",
          "Sardar Udham",
          "Mirror Game",
          "CM101MMXI Fundamentals",
          "Soorarai Pottru",
          "The Dark Knight",
          "Tosun Pasa",
          "12 Angry Men",
          "David Attenborough: A Life on Our Planet",
          "The Godfather: Part II",
          "Pulp Fiction",
          "Peranbu",
          "Schindler's List",
          "The Lord of the Rings: The Return of the King",
          "Balkan Spy",
          "The Marathon Family",
          "Süt Kardesler",
          "The Chaos Class Failed the Class",
          "O.J.: Made in America",
          "Fight Club",
          "Inception",
          "Pariyerum Perumal",
          "Who's Singin' Over There?",
          "The Chaos Class Is Waking Up",
          "Dara of Jasenovac",
          "Forrest Gump",
          "The Good, the Bad and the Ugly",
          "The Lord of the Rings: The Fellowship of the Ring",
          "Earthlings",
          "One Flew Over the Cuckoo's Nest",
          "A Dog's Will",
          "Sarpatta Parambarai",
          "The Chaos Class Is on Vacation",
          "Anbe Sivam",
          "Saban, Son of Saban",
          "Happy Days",
          "Kibar Feyzo",
          "The Matrix",
          "Star Wars: Episode V - The Empire Strikes Back",
          "The Broken Landlord",
          "Nayakan",
          "Shershaah",
          "Goodfellas",
          "The Lord of the Rings: The Two Towers",
          "The Mountain II",
          "Pretty Village, Pretty Flame",
          "Drishyam 2",
          "Kumbalangi Nights",
          "Se7en",
          "Jersey",
          "Çöpçüler Krali",
          "City of God",
          "Seven Samurai",
          "Baraka",
          "The Girl with the Red Scarf",
          "The Silence of the Lambs",
          "Hara-Kiri",
          "Spirited Away",
          "Parasite",
          "Saving Private Ryan",
          "The Green Mile",
          "Life Is Beautiful",
          "Stop Making Sense",
          "96",
          "It's a Wonderful Life",
          "Star Wars: Episode IV - A New Hope",
          "Interstellar",
          "Gladiator",
          "When I Grow Up, I'll Be a Kangaroo",
          "The Lion King",
          "Senna",
          "The Departed",
          "Thalapathi",
          "Woman in the Dunes",
          "Terminator 2: Judgment Day",
          "The Intouchables",
          "Psycho",
          "Philanthropy",
          "The World of Apu",
          "Dear Zachary: A Letter to a Son About His Father",
          "Home",
          "The Pianist",
          "The Best of Youth",
          "Back to the Future",
          "Léon: The Professional",
          "The Pinchcliffe Grand Prix",
          "The Usual Suspects",
          "Modern Times",
          "Hanky Panky",
          "Mr. Muhsin",
          "Operation 'Y' & Other Shurik's Adventures",
          "Mahanati",
          "Le Trou",
          "The Prestige",
          "Samsara",
          "Once Upon a Time in the West",
          "The Salt of the Earth",
          "Black Friday"
         ],
         "legendgroup": "",
         "marker": {
          "color": [
           9.3,
           9.3,
           9.2,
           9.1,
           9.1,
           9.1,
           9.1,
           9,
           9,
           9,
           9,
           9,
           8.9,
           8.9,
           8.9,
           8.9,
           8.9,
           8.9,
           8.9,
           8.9,
           8.9,
           8.8,
           8.8,
           8.8,
           8.8,
           8.8,
           8.8,
           8.8,
           8.8,
           8.8,
           8.7,
           8.7,
           8.7,
           8.7,
           8.7,
           8.7,
           8.7,
           8.7,
           8.7,
           8.7,
           8.7,
           8.7,
           8.7,
           8.7,
           8.7,
           8.7,
           8.7,
           8.7,
           8.6,
           8.6,
           8.6,
           8.6,
           8.6,
           8.6,
           8.6,
           8.6,
           8.6,
           8.6,
           8.6,
           8.6,
           8.6,
           8.6,
           8.6,
           8.6,
           8.6,
           8.6,
           8.6,
           8.6,
           8.6,
           8.5,
           8.5,
           8.5,
           8.5,
           8.5,
           8.5,
           8.5,
           8.5,
           8.5,
           8.5,
           8.5,
           8.5,
           8.5,
           8.5,
           8.5,
           8.5,
           8.5,
           8.5,
           8.5,
           8.5,
           8.5,
           8.5,
           8.5,
           8.5,
           8.5,
           8.5,
           8.5,
           8.5,
           8.5,
           8.5,
           8.5
          ],
          "coloraxis": "coloraxis",
          "opacity": 0.8,
          "size": [
           39207,
           2480651,
           1713340,
           22618,
           25151,
           44777,
           90958,
           2435010,
           22618,
           734210,
           29563,
           1190120,
           1920023,
           14159,
           1273489,
           1718904,
           11063,
           15289,
           19422,
           22806,
           18826,
           1954675,
           2185134,
           12498,
           14885,
           19174,
           79702,
           1918063,
           721489,
           1740176,
           18662,
           958367,
           13255,
           15636,
           17366,
           18982,
           17155,
           10748,
           15759,
           1772565,
           1211355,
           14765,
           18448,
           105924,
           1076805,
           1553977,
           106962,
           15784,
           31208,
           12488,
           1527144,
           12171,
           19509,
           724848,
           330517,
           37797,
           15525,
           1340345,
           49884,
           699279,
           676191,
           1299785,
           1210780,
           655740,
           14617,
           24559,
           424167,
           1283131,
           1631714,
           1407459,
           10207,
           989070,
           68000,
           1247559,
           11267,
           18913,
           1038598,
           801753,
           634898,
           12872,
           13666,
           35265,
           22116,
           775742,
           21457,
           1119849,
           1088494,
           12957,
           1033538,
           229946,
           18750,
           10570,
           12723,
           11330,
           16859,
           1252179,
           34760,
           315842,
           20935,
           20091
          ],
          "sizemode": "area",
          "sizeref": 3969.0416,
          "symbol": "circle"
         },
         "mode": "markers",
         "name": "",
         "scene": "scene",
         "showlegend": false,
         "type": "scatter3d",
         "x": [
          "1975",
          "1994",
          "1972",
          "2021",
          "2016",
          "2013",
          "2020",
          "2008",
          "1976",
          "1957",
          "2020",
          "1974",
          "1994",
          "2018",
          "1993",
          "2003",
          "1984",
          "1982",
          "1976",
          "1976",
          "2016",
          "1999",
          "2010",
          "2018",
          "1980",
          "1977",
          "2020",
          "1994",
          "1966",
          "2001",
          "2005",
          "1975",
          "2000",
          "2021",
          "1977",
          "2003",
          "1977",
          "1978",
          "1978",
          "1999",
          "1980",
          "1986",
          "1987",
          "2021",
          "1990",
          "2002",
          "2016",
          "1996",
          "2021",
          "2019",
          "1995",
          "2019",
          "1977",
          "2002",
          "1954",
          "1992",
          "1977",
          "1991",
          "1962",
          "2001",
          "2019",
          "1998",
          "1999",
          "1997",
          "1984",
          "2018",
          "1946",
          "1977",
          "2014",
          "2000",
          "2004",
          "1994",
          "2010",
          "2006",
          "1991",
          "1964",
          "1991",
          "2011",
          "1960",
          "2002",
          "1959",
          "2008",
          "2009",
          "2002",
          "2003",
          "1985",
          "1994",
          "1975",
          "1995",
          "1936",
          "1979",
          "1987",
          "1965",
          "2018",
          "1960",
          "2006",
          "2011",
          "1968",
          "2014",
          "2004"
         ],
         "y": [
          9.3,
          9.3,
          9.2,
          9.1,
          9.1,
          9.1,
          9.1,
          9,
          9,
          9,
          9,
          9,
          8.9,
          8.9,
          8.9,
          8.9,
          8.9,
          8.9,
          8.9,
          8.9,
          8.9,
          8.8,
          8.8,
          8.8,
          8.8,
          8.8,
          8.8,
          8.8,
          8.8,
          8.8,
          8.7,
          8.7,
          8.7,
          8.7,
          8.7,
          8.7,
          8.7,
          8.7,
          8.7,
          8.7,
          8.7,
          8.7,
          8.7,
          8.7,
          8.7,
          8.7,
          8.7,
          8.7,
          8.6,
          8.6,
          8.6,
          8.6,
          8.6,
          8.6,
          8.6,
          8.6,
          8.6,
          8.6,
          8.6,
          8.6,
          8.6,
          8.6,
          8.6,
          8.6,
          8.6,
          8.6,
          8.6,
          8.6,
          8.6,
          8.5,
          8.5,
          8.5,
          8.5,
          8.5,
          8.5,
          8.5,
          8.5,
          8.5,
          8.5,
          8.5,
          8.5,
          8.5,
          8.5,
          8.5,
          8.5,
          8.5,
          8.5,
          8.5,
          8.5,
          8.5,
          8.5,
          8.5,
          8.5,
          8.5,
          8.5,
          8.5,
          8.5,
          8.5,
          8.5,
          8.5
         ],
         "z": [
          "Comedy",
          "Drama",
          "Crime",
          "Biography",
          "Crime",
          "Comedy",
          "Drama",
          "Action",
          "Comedy",
          "Crime",
          "Biography",
          "Crime",
          "Crime",
          "Drama",
          "Biography",
          "Action",
          "Comedy",
          "Comedy",
          "Comedy",
          "Comedy",
          "Biography",
          "Drama",
          "Action",
          "Drama",
          "Adventure",
          "Adventure",
          "Drama",
          "Drama",
          "Western",
          "Action",
          "Documentary",
          "Drama",
          "Comedy",
          "Action",
          "Adventure",
          "Adventure",
          "Comedy",
          "Comedy",
          "Comedy",
          "Action",
          "Action",
          "Comedy",
          "Crime",
          "Action",
          "Biography",
          "Action",
          "Action",
          "Comedy",
          "Crime",
          "Comedy",
          "Crime",
          "Drama",
          "Comedy",
          "Crime",
          "Action",
          "Documentary",
          "Drama",
          "Crime",
          "Action",
          "Adventure",
          "Comedy",
          "Drama",
          "Crime",
          "Comedy",
          "Documentary",
          "Drama",
          "Drama",
          "Action",
          "Adventure",
          "Action",
          "Comedy",
          "Adventure",
          "Biography",
          "Crime",
          "Action",
          "Drama",
          "Action",
          "Biography",
          "Horror",
          "Comedy",
          "Drama",
          "Biography",
          "Documentary",
          "Biography",
          "Drama",
          "Adventure",
          "Action",
          "Animation",
          "Crime",
          "Comedy",
          "Comedy",
          "Comedy",
          "Comedy",
          "Biography",
          "Crime",
          "Drama",
          "Documentary",
          "Western",
          "Biography",
          "Action"
         ]
        }
       ],
       "layout": {
        "coloraxis": {
         "colorbar": {
          "title": {
           "text": "Rating"
          }
         },
         "colorscale": [
          [
           0,
           "#0d0887"
          ],
          [
           0.1111111111111111,
           "#46039f"
          ],
          [
           0.2222222222222222,
           "#7201a8"
          ],
          [
           0.3333333333333333,
           "#9c179e"
          ],
          [
           0.4444444444444444,
           "#bd3786"
          ],
          [
           0.5555555555555556,
           "#d8576b"
          ],
          [
           0.6666666666666666,
           "#ed7953"
          ],
          [
           0.7777777777777778,
           "#fb9f3a"
          ],
          [
           0.8888888888888888,
           "#fdca26"
          ],
          [
           1,
           "#f0f921"
          ]
         ]
        },
        "height": 1000,
        "legend": {
         "itemsizing": "constant",
         "tracegroupgap": 0
        },
        "margin": {
         "t": 60
        },
        "scene": {
         "domain": {
          "x": [
           0,
           1
          ],
          "y": [
           0,
           1
          ]
         },
         "xaxis": {
          "title": {
           "text": "Year"
          }
         },
         "yaxis": {
          "title": {
           "text": "Rating"
          }
         },
         "zaxis": {
          "title": {
           "text": "Genre"
          }
         }
        },
        "template": {
         "data": {
          "bar": [
           {
            "error_x": {
             "color": "#f2f5fa"
            },
            "error_y": {
             "color": "#f2f5fa"
            },
            "marker": {
             "line": {
              "color": "rgb(17,17,17)",
              "width": 0.5
             },
             "pattern": {
              "fillmode": "overlay",
              "size": 10,
              "solidity": 0.2
             }
            },
            "type": "bar"
           }
          ],
          "barpolar": [
           {
            "marker": {
             "line": {
              "color": "rgb(17,17,17)",
              "width": 0.5
             },
             "pattern": {
              "fillmode": "overlay",
              "size": 10,
              "solidity": 0.2
             }
            },
            "type": "barpolar"
           }
          ],
          "carpet": [
           {
            "aaxis": {
             "endlinecolor": "#A2B1C6",
             "gridcolor": "#506784",
             "linecolor": "#506784",
             "minorgridcolor": "#506784",
             "startlinecolor": "#A2B1C6"
            },
            "baxis": {
             "endlinecolor": "#A2B1C6",
             "gridcolor": "#506784",
             "linecolor": "#506784",
             "minorgridcolor": "#506784",
             "startlinecolor": "#A2B1C6"
            },
            "type": "carpet"
           }
          ],
          "choropleth": [
           {
            "colorbar": {
             "outlinewidth": 0,
             "ticks": ""
            },
            "type": "choropleth"
           }
          ],
          "contour": [
           {
            "colorbar": {
             "outlinewidth": 0,
             "ticks": ""
            },
            "colorscale": [
             [
              0,
              "#0d0887"
             ],
             [
              0.1111111111111111,
              "#46039f"
             ],
             [
              0.2222222222222222,
              "#7201a8"
             ],
             [
              0.3333333333333333,
              "#9c179e"
             ],
             [
              0.4444444444444444,
              "#bd3786"
             ],
             [
              0.5555555555555556,
              "#d8576b"
             ],
             [
              0.6666666666666666,
              "#ed7953"
             ],
             [
              0.7777777777777778,
              "#fb9f3a"
             ],
             [
              0.8888888888888888,
              "#fdca26"
             ],
             [
              1,
              "#f0f921"
             ]
            ],
            "type": "contour"
           }
          ],
          "contourcarpet": [
           {
            "colorbar": {
             "outlinewidth": 0,
             "ticks": ""
            },
            "type": "contourcarpet"
           }
          ],
          "heatmap": [
           {
            "colorbar": {
             "outlinewidth": 0,
             "ticks": ""
            },
            "colorscale": [
             [
              0,
              "#0d0887"
             ],
             [
              0.1111111111111111,
              "#46039f"
             ],
             [
              0.2222222222222222,
              "#7201a8"
             ],
             [
              0.3333333333333333,
              "#9c179e"
             ],
             [
              0.4444444444444444,
              "#bd3786"
             ],
             [
              0.5555555555555556,
              "#d8576b"
             ],
             [
              0.6666666666666666,
              "#ed7953"
             ],
             [
              0.7777777777777778,
              "#fb9f3a"
             ],
             [
              0.8888888888888888,
              "#fdca26"
             ],
             [
              1,
              "#f0f921"
             ]
            ],
            "type": "heatmap"
           }
          ],
          "heatmapgl": [
           {
            "colorbar": {
             "outlinewidth": 0,
             "ticks": ""
            },
            "colorscale": [
             [
              0,
              "#0d0887"
             ],
             [
              0.1111111111111111,
              "#46039f"
             ],
             [
              0.2222222222222222,
              "#7201a8"
             ],
             [
              0.3333333333333333,
              "#9c179e"
             ],
             [
              0.4444444444444444,
              "#bd3786"
             ],
             [
              0.5555555555555556,
              "#d8576b"
             ],
             [
              0.6666666666666666,
              "#ed7953"
             ],
             [
              0.7777777777777778,
              "#fb9f3a"
             ],
             [
              0.8888888888888888,
              "#fdca26"
             ],
             [
              1,
              "#f0f921"
             ]
            ],
            "type": "heatmapgl"
           }
          ],
          "histogram": [
           {
            "marker": {
             "pattern": {
              "fillmode": "overlay",
              "size": 10,
              "solidity": 0.2
             }
            },
            "type": "histogram"
           }
          ],
          "histogram2d": [
           {
            "colorbar": {
             "outlinewidth": 0,
             "ticks": ""
            },
            "colorscale": [
             [
              0,
              "#0d0887"
             ],
             [
              0.1111111111111111,
              "#46039f"
             ],
             [
              0.2222222222222222,
              "#7201a8"
             ],
             [
              0.3333333333333333,
              "#9c179e"
             ],
             [
              0.4444444444444444,
              "#bd3786"
             ],
             [
              0.5555555555555556,
              "#d8576b"
             ],
             [
              0.6666666666666666,
              "#ed7953"
             ],
             [
              0.7777777777777778,
              "#fb9f3a"
             ],
             [
              0.8888888888888888,
              "#fdca26"
             ],
             [
              1,
              "#f0f921"
             ]
            ],
            "type": "histogram2d"
           }
          ],
          "histogram2dcontour": [
           {
            "colorbar": {
             "outlinewidth": 0,
             "ticks": ""
            },
            "colorscale": [
             [
              0,
              "#0d0887"
             ],
             [
              0.1111111111111111,
              "#46039f"
             ],
             [
              0.2222222222222222,
              "#7201a8"
             ],
             [
              0.3333333333333333,
              "#9c179e"
             ],
             [
              0.4444444444444444,
              "#bd3786"
             ],
             [
              0.5555555555555556,
              "#d8576b"
             ],
             [
              0.6666666666666666,
              "#ed7953"
             ],
             [
              0.7777777777777778,
              "#fb9f3a"
             ],
             [
              0.8888888888888888,
              "#fdca26"
             ],
             [
              1,
              "#f0f921"
             ]
            ],
            "type": "histogram2dcontour"
           }
          ],
          "mesh3d": [
           {
            "colorbar": {
             "outlinewidth": 0,
             "ticks": ""
            },
            "type": "mesh3d"
           }
          ],
          "parcoords": [
           {
            "line": {
             "colorbar": {
              "outlinewidth": 0,
              "ticks": ""
             }
            },
            "type": "parcoords"
           }
          ],
          "pie": [
           {
            "automargin": true,
            "type": "pie"
           }
          ],
          "scatter": [
           {
            "marker": {
             "line": {
              "color": "#283442"
             }
            },
            "type": "scatter"
           }
          ],
          "scatter3d": [
           {
            "line": {
             "colorbar": {
              "outlinewidth": 0,
              "ticks": ""
             }
            },
            "marker": {
             "colorbar": {
              "outlinewidth": 0,
              "ticks": ""
             }
            },
            "type": "scatter3d"
           }
          ],
          "scattercarpet": [
           {
            "marker": {
             "colorbar": {
              "outlinewidth": 0,
              "ticks": ""
             }
            },
            "type": "scattercarpet"
           }
          ],
          "scattergeo": [
           {
            "marker": {
             "colorbar": {
              "outlinewidth": 0,
              "ticks": ""
             }
            },
            "type": "scattergeo"
           }
          ],
          "scattergl": [
           {
            "marker": {
             "line": {
              "color": "#283442"
             }
            },
            "type": "scattergl"
           }
          ],
          "scattermapbox": [
           {
            "marker": {
             "colorbar": {
              "outlinewidth": 0,
              "ticks": ""
             }
            },
            "type": "scattermapbox"
           }
          ],
          "scatterpolar": [
           {
            "marker": {
             "colorbar": {
              "outlinewidth": 0,
              "ticks": ""
             }
            },
            "type": "scatterpolar"
           }
          ],
          "scatterpolargl": [
           {
            "marker": {
             "colorbar": {
              "outlinewidth": 0,
              "ticks": ""
             }
            },
            "type": "scatterpolargl"
           }
          ],
          "scatterternary": [
           {
            "marker": {
             "colorbar": {
              "outlinewidth": 0,
              "ticks": ""
             }
            },
            "type": "scatterternary"
           }
          ],
          "surface": [
           {
            "colorbar": {
             "outlinewidth": 0,
             "ticks": ""
            },
            "colorscale": [
             [
              0,
              "#0d0887"
             ],
             [
              0.1111111111111111,
              "#46039f"
             ],
             [
              0.2222222222222222,
              "#7201a8"
             ],
             [
              0.3333333333333333,
              "#9c179e"
             ],
             [
              0.4444444444444444,
              "#bd3786"
             ],
             [
              0.5555555555555556,
              "#d8576b"
             ],
             [
              0.6666666666666666,
              "#ed7953"
             ],
             [
              0.7777777777777778,
              "#fb9f3a"
             ],
             [
              0.8888888888888888,
              "#fdca26"
             ],
             [
              1,
              "#f0f921"
             ]
            ],
            "type": "surface"
           }
          ],
          "table": [
           {
            "cells": {
             "fill": {
              "color": "#506784"
             },
             "line": {
              "color": "rgb(17,17,17)"
             }
            },
            "header": {
             "fill": {
              "color": "#2a3f5f"
             },
             "line": {
              "color": "rgb(17,17,17)"
             }
            },
            "type": "table"
           }
          ]
         },
         "layout": {
          "annotationdefaults": {
           "arrowcolor": "#f2f5fa",
           "arrowhead": 0,
           "arrowwidth": 1
          },
          "autotypenumbers": "strict",
          "coloraxis": {
           "colorbar": {
            "outlinewidth": 0,
            "ticks": ""
           }
          },
          "colorscale": {
           "diverging": [
            [
             0,
             "#8e0152"
            ],
            [
             0.1,
             "#c51b7d"
            ],
            [
             0.2,
             "#de77ae"
            ],
            [
             0.3,
             "#f1b6da"
            ],
            [
             0.4,
             "#fde0ef"
            ],
            [
             0.5,
             "#f7f7f7"
            ],
            [
             0.6,
             "#e6f5d0"
            ],
            [
             0.7,
             "#b8e186"
            ],
            [
             0.8,
             "#7fbc41"
            ],
            [
             0.9,
             "#4d9221"
            ],
            [
             1,
             "#276419"
            ]
           ],
           "sequential": [
            [
             0,
             "#0d0887"
            ],
            [
             0.1111111111111111,
             "#46039f"
            ],
            [
             0.2222222222222222,
             "#7201a8"
            ],
            [
             0.3333333333333333,
             "#9c179e"
            ],
            [
             0.4444444444444444,
             "#bd3786"
            ],
            [
             0.5555555555555556,
             "#d8576b"
            ],
            [
             0.6666666666666666,
             "#ed7953"
            ],
            [
             0.7777777777777778,
             "#fb9f3a"
            ],
            [
             0.8888888888888888,
             "#fdca26"
            ],
            [
             1,
             "#f0f921"
            ]
           ],
           "sequentialminus": [
            [
             0,
             "#0d0887"
            ],
            [
             0.1111111111111111,
             "#46039f"
            ],
            [
             0.2222222222222222,
             "#7201a8"
            ],
            [
             0.3333333333333333,
             "#9c179e"
            ],
            [
             0.4444444444444444,
             "#bd3786"
            ],
            [
             0.5555555555555556,
             "#d8576b"
            ],
            [
             0.6666666666666666,
             "#ed7953"
            ],
            [
             0.7777777777777778,
             "#fb9f3a"
            ],
            [
             0.8888888888888888,
             "#fdca26"
            ],
            [
             1,
             "#f0f921"
            ]
           ]
          },
          "colorway": [
           "#636efa",
           "#EF553B",
           "#00cc96",
           "#ab63fa",
           "#FFA15A",
           "#19d3f3",
           "#FF6692",
           "#B6E880",
           "#FF97FF",
           "#FECB52"
          ],
          "font": {
           "color": "#f2f5fa"
          },
          "geo": {
           "bgcolor": "rgb(17,17,17)",
           "lakecolor": "rgb(17,17,17)",
           "landcolor": "rgb(17,17,17)",
           "showlakes": true,
           "showland": true,
           "subunitcolor": "#506784"
          },
          "hoverlabel": {
           "align": "left"
          },
          "hovermode": "closest",
          "mapbox": {
           "style": "dark"
          },
          "paper_bgcolor": "rgb(17,17,17)",
          "plot_bgcolor": "rgb(17,17,17)",
          "polar": {
           "angularaxis": {
            "gridcolor": "#506784",
            "linecolor": "#506784",
            "ticks": ""
           },
           "bgcolor": "rgb(17,17,17)",
           "radialaxis": {
            "gridcolor": "#506784",
            "linecolor": "#506784",
            "ticks": ""
           }
          },
          "scene": {
           "xaxis": {
            "backgroundcolor": "rgb(17,17,17)",
            "gridcolor": "#506784",
            "gridwidth": 2,
            "linecolor": "#506784",
            "showbackground": true,
            "ticks": "",
            "zerolinecolor": "#C8D4E3"
           },
           "yaxis": {
            "backgroundcolor": "rgb(17,17,17)",
            "gridcolor": "#506784",
            "gridwidth": 2,
            "linecolor": "#506784",
            "showbackground": true,
            "ticks": "",
            "zerolinecolor": "#C8D4E3"
           },
           "zaxis": {
            "backgroundcolor": "rgb(17,17,17)",
            "gridcolor": "#506784",
            "gridwidth": 2,
            "linecolor": "#506784",
            "showbackground": true,
            "ticks": "",
            "zerolinecolor": "#C8D4E3"
           }
          },
          "shapedefaults": {
           "line": {
            "color": "#f2f5fa"
           }
          },
          "sliderdefaults": {
           "bgcolor": "#C8D4E3",
           "bordercolor": "rgb(17,17,17)",
           "borderwidth": 1,
           "tickwidth": 0
          },
          "ternary": {
           "aaxis": {
            "gridcolor": "#506784",
            "linecolor": "#506784",
            "ticks": ""
           },
           "baxis": {
            "gridcolor": "#506784",
            "linecolor": "#506784",
            "ticks": ""
           },
           "bgcolor": "rgb(17,17,17)",
           "caxis": {
            "gridcolor": "#506784",
            "linecolor": "#506784",
            "ticks": ""
           }
          },
          "title": {
           "x": 0.05
          },
          "updatemenudefaults": {
           "bgcolor": "#506784",
           "borderwidth": 0
          },
          "xaxis": {
           "automargin": true,
           "gridcolor": "#283442",
           "linecolor": "#506784",
           "ticks": "",
           "title": {
            "standoff": 15
           },
           "zerolinecolor": "#283442",
           "zerolinewidth": 2
          },
          "yaxis": {
           "automargin": true,
           "gridcolor": "#283442",
           "linecolor": "#506784",
           "ticks": "",
           "title": {
            "standoff": 15
           },
           "zerolinecolor": "#283442",
           "zerolinewidth": 2
          }
         }
        },
        "width": 1300
       }
      }
     },
     "metadata": {},
     "output_type": "display_data"
    }
   ],
   "source": [
    "fig = px.scatter_3d(movies_ratings_top, \n",
    "    x='startYear', \n",
    "    y='averageRating', \n",
    "    z='mainGenre', \n",
    "    color='averageRating', \n",
    "    size='numVotes', \n",
    "    opacity = 0.8,\n",
    "    labels={\n",
    "        'startYear': 'Year',\n",
    "        'averageRating': 'Rating',\n",
    "        'mainGenre': 'Genre',\n",
    "        'numVotes': 'Number of Votes'\n",
    "    }, \n",
    "    size_max=25,\n",
    "    template='plotly_dark',\n",
    "    hover_name='primaryTitle'\n",
    ")\n",
    "\n",
    "\n",
    "fig.update_layout(width=1300, height=1000)\n",
    "fig.show()"
   ]
  },
  {
   "cell_type": "code",
   "execution_count": null,
   "metadata": {},
   "outputs": [],
   "source": []
  }
 ],
 "metadata": {
  "interpreter": {
   "hash": "40e8acbb205c65c00df44503a190e56d13bfb94037a433e00048fdfdd1adf4d2"
  },
  "kernelspec": {
   "display_name": "Python 3.8.12 64-bit ('base': conda)",
   "name": "python3"
  },
  "language_info": {
   "codemirror_mode": {
    "name": "ipython",
    "version": 3
   },
   "file_extension": ".py",
   "mimetype": "text/x-python",
   "name": "python",
   "nbconvert_exporter": "python",
   "pygments_lexer": "ipython3",
   "version": "3.8.12"
  },
  "orig_nbformat": 4
 },
 "nbformat": 4,
 "nbformat_minor": 2
}
