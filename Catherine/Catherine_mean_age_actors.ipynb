{
 "cells": [
  {
   "cell_type": "markdown",
   "metadata": {},
   "source": [
    "Les acteurs ont en moyenne quel âge ? données films et acteurs (champs age, birth year et start year)\n",
    "age moyen à date du film\n",
    "\n",
    "trier les acteurs = str.contains (actor actress) et explode pour prendre que les acteurs\n",
    "Prendre que ceux nés après 1800\n",
    "\n",
    "idem pour les knownForTitles\n",
    "\n",
    "colonne âge de l'acteur\n",
    "\n"
   ]
  },
  {
   "cell_type": "code",
   "execution_count": 82,
   "metadata": {},
   "outputs": [],
   "source": [
    "import pandas as pd\n",
    "from datetime import datetime\n",
    "from datetime import timedelta\n",
    "import numpy as np\n",
    "import plotly.express as px \n",
    "import plotly.graph_objects as go \n",
    "import matplotlib.pyplot as plt\n",
    "import seaborn as sns"
   ]
  },
  {
   "cell_type": "code",
   "execution_count": 83,
   "metadata": {},
   "outputs": [],
   "source": [
    "# appel de la table acteurs\n",
    "\n",
    "actors = pd.read_csv('https://datasets.imdbws.com/name.basics.tsv.gz', sep = '\\t', low_memory=False)\n"
   ]
  },
  {
   "cell_type": "code",
   "execution_count": 84,
   "metadata": {},
   "outputs": [],
   "source": [
    "# tri des acteurs par date de naissance puis date de décès\n",
    "\n",
    "actors.sort_values(by=['birthYear','deathYear'], inplace=True)\n",
    "\n"
   ]
  },
  {
   "cell_type": "code",
   "execution_count": 85,
   "metadata": {},
   "outputs": [],
   "source": [
    "#rest index \n",
    "\n",
    "actors.reset_index(inplace=True)"
   ]
  },
  {
   "cell_type": "code",
   "execution_count": 86,
   "metadata": {},
   "outputs": [
    {
     "data": {
      "text/html": [
       "<div>\n",
       "<style scoped>\n",
       "    .dataframe tbody tr th:only-of-type {\n",
       "        vertical-align: middle;\n",
       "    }\n",
       "\n",
       "    .dataframe tbody tr th {\n",
       "        vertical-align: top;\n",
       "    }\n",
       "\n",
       "    .dataframe thead th {\n",
       "        text-align: right;\n",
       "    }\n",
       "</style>\n",
       "<table border=\"1\" class=\"dataframe\">\n",
       "  <thead>\n",
       "    <tr style=\"text-align: right;\">\n",
       "      <th></th>\n",
       "      <th>index</th>\n",
       "      <th>nconst</th>\n",
       "      <th>primaryName</th>\n",
       "      <th>birthYear</th>\n",
       "      <th>deathYear</th>\n",
       "      <th>primaryProfession</th>\n",
       "      <th>knownForTitles</th>\n",
       "    </tr>\n",
       "  </thead>\n",
       "  <tbody>\n",
       "    <tr>\n",
       "      <th>0</th>\n",
       "      <td>739770</td>\n",
       "      <td>nm0784172</td>\n",
       "      <td>Lucio Anneo Seneca</td>\n",
       "      <td>0004</td>\n",
       "      <td>0065</td>\n",
       "      <td>writer</td>\n",
       "      <td>tt0049203,tt0237666,tt0218822,tt0972562</td>\n",
       "    </tr>\n",
       "    <tr>\n",
       "      <th>1</th>\n",
       "      <td>6783714</td>\n",
       "      <td>nm4511421</td>\n",
       "      <td>Megan Liz Smith</td>\n",
       "      <td>0012</td>\n",
       "      <td>\\N</td>\n",
       "      <td>miscellaneous,actress</td>\n",
       "      <td>tt3416744,tt1966378,tt10183848</td>\n",
       "    </tr>\n",
       "    <tr>\n",
       "      <th>2</th>\n",
       "      <td>10356392</td>\n",
       "      <td>nm8810146</td>\n",
       "      <td>Paul Walsh</td>\n",
       "      <td>0021</td>\n",
       "      <td>\\N</td>\n",
       "      <td>actor</td>\n",
       "      <td>tt0314567,tt0093223,tt0098878</td>\n",
       "    </tr>\n",
       "    <tr>\n",
       "      <th>3</th>\n",
       "      <td>407676</td>\n",
       "      <td>nm0430769</td>\n",
       "      <td>Flavius Josephus</td>\n",
       "      <td>0037</td>\n",
       "      <td>0095</td>\n",
       "      <td>writer,miscellaneous</td>\n",
       "      <td>tt0049833,tt0237666,tt0009573,tt0273236</td>\n",
       "    </tr>\n",
       "    <tr>\n",
       "      <th>4</th>\n",
       "      <td>3902529</td>\n",
       "      <td>nm1306202</td>\n",
       "      <td>Plutarch</td>\n",
       "      <td>0046</td>\n",
       "      <td>0122</td>\n",
       "      <td>writer</td>\n",
       "      <td>tt0272979,tt0237666,tt0472473,tt0056937</td>\n",
       "    </tr>\n",
       "  </tbody>\n",
       "</table>\n",
       "</div>"
      ],
      "text/plain": [
       "      index     nconst         primaryName birthYear deathYear  \\\n",
       "0    739770  nm0784172  Lucio Anneo Seneca      0004      0065   \n",
       "1   6783714  nm4511421     Megan Liz Smith      0012        \\N   \n",
       "2  10356392  nm8810146          Paul Walsh      0021        \\N   \n",
       "3    407676  nm0430769    Flavius Josephus      0037      0095   \n",
       "4   3902529  nm1306202            Plutarch      0046      0122   \n",
       "\n",
       "       primaryProfession                           knownForTitles  \n",
       "0                 writer  tt0049203,tt0237666,tt0218822,tt0972562  \n",
       "1  miscellaneous,actress           tt3416744,tt1966378,tt10183848  \n",
       "2                  actor            tt0314567,tt0093223,tt0098878  \n",
       "3   writer,miscellaneous  tt0049833,tt0237666,tt0009573,tt0273236  \n",
       "4                 writer  tt0272979,tt0237666,tt0472473,tt0056937  "
      ]
     },
     "execution_count": 86,
     "metadata": {},
     "output_type": "execute_result"
    }
   ],
   "source": [
    "actors.head()"
   ]
  },
  {
   "cell_type": "code",
   "execution_count": 87,
   "metadata": {},
   "outputs": [],
   "source": [
    "#drop colonne index en double \n",
    "actors.drop('index',axis = 1, inplace=True)"
   ]
  },
  {
   "cell_type": "code",
   "execution_count": 88,
   "metadata": {},
   "outputs": [
    {
     "name": "stdout",
     "output_type": "stream",
     "text": [
      "<class 'pandas.core.frame.DataFrame'>\n",
      "RangeIndex: 11362755 entries, 0 to 11362754\n",
      "Data columns (total 6 columns):\n",
      " #   Column             Dtype \n",
      "---  ------             ----- \n",
      " 0   nconst             object\n",
      " 1   primaryName        object\n",
      " 2   birthYear          object\n",
      " 3   deathYear          object\n",
      " 4   primaryProfession  object\n",
      " 5   knownForTitles     object\n",
      "dtypes: object(6)\n",
      "memory usage: 520.1+ MB\n"
     ]
    }
   ],
   "source": [
    "#type de données des colonnes : object, je veux du datetime ou du int\n",
    "\n",
    "actors.info('birthYear')"
   ]
  },
  {
   "cell_type": "code",
   "execution_count": 89,
   "metadata": {},
   "outputs": [
    {
     "name": "stdout",
     "output_type": "stream",
     "text": [
      "             nconst         primaryName birthYear deathYear  \\\n",
      "537229    nm0653992                Ovid        \\N      0017   \n",
      "537230    nm1359896       Philo Judaeus        \\N      0050   \n",
      "537231    nm0678112           Petronius        \\N      0066   \n",
      "537232    nm1504864             Juvenal        \\N      0140   \n",
      "537233    nm3847263    Jacob Tsurtaveli        \\N      0485   \n",
      "...             ...                 ...       ...       ...   \n",
      "11362750  nm9993714   Romeo del Rosario        \\N        \\N   \n",
      "11362751  nm9993716       Essias Loberg        \\N        \\N   \n",
      "11362752  nm9993717  Harikrishnan Rajan        \\N        \\N   \n",
      "11362753  nm9993718         Aayush Nair        \\N        \\N   \n",
      "11362754  nm9993719          Andre Hill        \\N        \\N   \n",
      "\n",
      "                            primaryProfession  \\\n",
      "537229                                 writer   \n",
      "537230                          miscellaneous   \n",
      "537231                                 writer   \n",
      "537232                                 writer   \n",
      "537233                                 writer   \n",
      "...                                       ...   \n",
      "11362750  animation_department,art_department   \n",
      "11362751                                  NaN   \n",
      "11362752                      cinematographer   \n",
      "11362753                      cinematographer   \n",
      "11362754                                  NaN   \n",
      "\n",
      "                                   knownForTitles  \n",
      "537229    tt0085182,tt3179572,tt3907210,tt0057818  \n",
      "537230                                  tt0049833  \n",
      "537231    tt9064588,tt0166788,tt0064940,tt0058904  \n",
      "537232                                  tt0401443  \n",
      "537233                                  tt1615444  \n",
      "...                                           ...  \n",
      "11362750                     tt2455546,tt11657662  \n",
      "11362751                                       \\N  \n",
      "11362752                                tt8736744  \n",
      "11362753                                       \\N  \n",
      "11362754                                       \\N  \n",
      "\n",
      "[10825526 rows x 6 columns]\n"
     ]
    }
   ],
   "source": [
    "# Recherches de acteurs sans date de naissance indiquée\n",
    "\n",
    "actors_without_birthYear = actors.loc[actors['birthYear'] =='\\\\N']\n",
    "print(actors_without_birthYear)"
   ]
  },
  {
   "cell_type": "code",
   "execution_count": null,
   "metadata": {},
   "outputs": [],
   "source": []
  },
  {
   "cell_type": "code",
   "execution_count": 90,
   "metadata": {},
   "outputs": [],
   "source": [
    "actors['birthYear'].replace('\\\\N', np.nan, inplace=True)"
   ]
  },
  {
   "cell_type": "code",
   "execution_count": 91,
   "metadata": {},
   "outputs": [],
   "source": [
    "# suppression des lignes Nan rapport à la date de naissance\n",
    "\n",
    "#actors.dropna(subset=['birthYear'], inplace=True)"
   ]
  },
  {
   "cell_type": "code",
   "execution_count": 92,
   "metadata": {},
   "outputs": [
    {
     "data": {
      "text/plain": [
       "(11362755, 6)"
      ]
     },
     "execution_count": 92,
     "metadata": {},
     "output_type": "execute_result"
    }
   ],
   "source": [
    "actors.shape"
   ]
  },
  {
   "cell_type": "code",
   "execution_count": 98,
   "metadata": {},
   "outputs": [
    {
     "data": {
      "text/html": [
       "<div>\n",
       "<style scoped>\n",
       "    .dataframe tbody tr th:only-of-type {\n",
       "        vertical-align: middle;\n",
       "    }\n",
       "\n",
       "    .dataframe tbody tr th {\n",
       "        vertical-align: top;\n",
       "    }\n",
       "\n",
       "    .dataframe thead th {\n",
       "        text-align: right;\n",
       "    }\n",
       "</style>\n",
       "<table border=\"1\" class=\"dataframe\">\n",
       "  <thead>\n",
       "    <tr style=\"text-align: right;\">\n",
       "      <th></th>\n",
       "      <th>nconst</th>\n",
       "      <th>primaryName</th>\n",
       "      <th>birthYear</th>\n",
       "      <th>deathYear</th>\n",
       "      <th>primaryProfession</th>\n",
       "      <th>knownForTitles</th>\n",
       "    </tr>\n",
       "  </thead>\n",
       "  <tbody>\n",
       "    <tr>\n",
       "      <th>0</th>\n",
       "      <td>nm0784172</td>\n",
       "      <td>Lucio Anneo Seneca</td>\n",
       "      <td>0004</td>\n",
       "      <td>0065</td>\n",
       "      <td>writer</td>\n",
       "      <td>tt0049203,tt0237666,tt0218822,tt0972562</td>\n",
       "    </tr>\n",
       "    <tr>\n",
       "      <th>1</th>\n",
       "      <td>nm4511421</td>\n",
       "      <td>Megan Liz Smith</td>\n",
       "      <td>0012</td>\n",
       "      <td>\\N</td>\n",
       "      <td>miscellaneous,actress</td>\n",
       "      <td>tt3416744,tt1966378,tt10183848</td>\n",
       "    </tr>\n",
       "    <tr>\n",
       "      <th>2</th>\n",
       "      <td>nm8810146</td>\n",
       "      <td>Paul Walsh</td>\n",
       "      <td>0021</td>\n",
       "      <td>\\N</td>\n",
       "      <td>actor</td>\n",
       "      <td>tt0314567,tt0093223,tt0098878</td>\n",
       "    </tr>\n",
       "    <tr>\n",
       "      <th>3</th>\n",
       "      <td>nm0430769</td>\n",
       "      <td>Flavius Josephus</td>\n",
       "      <td>0037</td>\n",
       "      <td>0095</td>\n",
       "      <td>writer,miscellaneous</td>\n",
       "      <td>tt0049833,tt0237666,tt0009573,tt0273236</td>\n",
       "    </tr>\n",
       "    <tr>\n",
       "      <th>4</th>\n",
       "      <td>nm1306202</td>\n",
       "      <td>Plutarch</td>\n",
       "      <td>0046</td>\n",
       "      <td>0122</td>\n",
       "      <td>writer</td>\n",
       "      <td>tt0272979,tt0237666,tt0472473,tt0056937</td>\n",
       "    </tr>\n",
       "  </tbody>\n",
       "</table>\n",
       "</div>"
      ],
      "text/plain": [
       "      nconst         primaryName birthYear deathYear      primaryProfession  \\\n",
       "0  nm0784172  Lucio Anneo Seneca      0004      0065                 writer   \n",
       "1  nm4511421     Megan Liz Smith      0012        \\N  miscellaneous,actress   \n",
       "2  nm8810146          Paul Walsh      0021        \\N                  actor   \n",
       "3  nm0430769    Flavius Josephus      0037      0095   writer,miscellaneous   \n",
       "4  nm1306202            Plutarch      0046      0122                 writer   \n",
       "\n",
       "                            knownForTitles  \n",
       "0  tt0049203,tt0237666,tt0218822,tt0972562  \n",
       "1           tt3416744,tt1966378,tt10183848  \n",
       "2            tt0314567,tt0093223,tt0098878  \n",
       "3  tt0049833,tt0237666,tt0009573,tt0273236  \n",
       "4  tt0272979,tt0237666,tt0472473,tt0056937  "
      ]
     },
     "execution_count": 98,
     "metadata": {},
     "output_type": "execute_result"
    }
   ],
   "source": [
    "actors.head()"
   ]
  },
  {
   "cell_type": "code",
   "execution_count": 93,
   "metadata": {},
   "outputs": [],
   "source": [
    "# actors['birthYear']= actors['birthYear'].astype(int)"
   ]
  },
  {
   "cell_type": "code",
   "execution_count": 94,
   "metadata": {},
   "outputs": [],
   "source": [
    "# prendre que la colonne birth\n",
    "#actors_birth = actors['birthYear'] \n",
    "#print(actors_birth)"
   ]
  },
  {
   "cell_type": "code",
   "execution_count": 95,
   "metadata": {},
   "outputs": [
    {
     "data": {
      "text/plain": [
       "\"actors_birth2 = actors_birth(['actors_birth'] >= 1850)\\nprint(actors_birth2)\\n\\n#actors['birthYear'] = datetime.strptime(actors['birthYear'], '%Y')\""
      ]
     },
     "execution_count": 95,
     "metadata": {},
     "output_type": "execute_result"
    }
   ],
   "source": [
    "'''actors_birth2 = actors_birth(['actors_birth'] >= 1850)\n",
    "print(actors_birth2)\n",
    "\n",
    "#actors['birthYear'] = datetime.strptime(actors['birthYear'], '%Y')'''"
   ]
  },
  {
   "cell_type": "code",
   "execution_count": 96,
   "metadata": {},
   "outputs": [],
   "source": [
    "#transformer les date en int\n"
   ]
  },
  {
   "cell_type": "code",
   "execution_count": 97,
   "metadata": {},
   "outputs": [],
   "source": [
    "#actors.loc[actors['birthYear'] == ' ']"
   ]
  }
 ],
 "metadata": {
  "interpreter": {
   "hash": "2737ab35ba7d25f8071971e636d55a06dcafe00db434104323c773939bb24f14"
  },
  "kernelspec": {
   "display_name": "Python 3.9.0 32-bit",
   "name": "python3"
  },
  "language_info": {
   "codemirror_mode": {
    "name": "ipython",
    "version": 3
   },
   "file_extension": ".py",
   "mimetype": "text/x-python",
   "name": "python",
   "nbconvert_exporter": "python",
   "pygments_lexer": "ipython3",
   "version": "3.8.8"
  },
  "orig_nbformat": 4
 },
 "nbformat": 4,
 "nbformat_minor": 2
}
