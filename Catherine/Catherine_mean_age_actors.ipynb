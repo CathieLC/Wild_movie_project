{
 "cells": [
  {
   "cell_type": "markdown",
   "metadata": {},
   "source": [
    "Les acteurs ont en moyenne quel âge ? données films et acteurs (champs age, birth year et start year)\n",
    "***age moyen à date du film\n",
    "\n",
    "1- Appel des deux tables - trie ordre croissant - reset index et drop colonne en trop pour les deux tables\n",
    "\n",
    "2- Nettoyage de la base Movies :\n",
    "         - Conservation uniquement des films titleType = movie\n",
    "         - Retrait des films isadult\n",
    "         - Suppresion colonne quine me sont plus utiles\n",
    "         - Explode genre en plusieurs colonnes\n",
    "\n",
    "3- Nettoyage de la base Actors :\n",
    "        - Supprimer les acteurs nés avant 1800 pour alléger la base\n",
    "        - Explode colonne primaryProfession et conserver actor actress\n",
    "        - Retirer la colonne deathYear\n",
    "        - Explode colonne knownForTitles en film 1 film 2 etc....\n",
    "        \n",
    "        \n",
    "\n",
    "\n",
    "3- Joindre les tables et retrier :\n",
    "    - Supprimer les films plus anciens que 1918\n",
    "    - Suprimer les lignes ou l'âge de l'acteur n'est pas renseigné\n",
    "(ce tri n'a pas été fait avant car cela permet de nattoyer la base acteurs/movies en même temps)\n",
    "\n",
    "4 - Créer une colonne âge acteur dans le film : Date du film - date de naissance (startYear - birthYear)\n",
    "\n",
    "5 - il me faudra une moyenne de cette colonne pour répondre à la question par année\n",
    "\n",
    "\n",
    "\n",
    "\n"
   ]
  },
  {
   "cell_type": "code",
   "execution_count": 167,
   "metadata": {},
   "outputs": [],
   "source": [
    "import pandas as pd\n",
    "from datetime import datetime\n",
    "from datetime import timedelta\n",
    "import numpy as np\n",
    "import plotly.express as px \n",
    "import plotly.graph_objects as go \n",
    "import matplotlib.pyplot as plt\n",
    "import seaborn as sns"
   ]
  },
  {
   "cell_type": "markdown",
   "metadata": {},
   "source": [
    "## 1- Appel des trois tables - trie - reset index et drop colonne en trop pour les deux tables :\n",
    " actors = name.basics\n",
    " movies = title.basics\n",
    " title = "
   ]
  },
  {
   "cell_type": "markdown",
   "metadata": {},
   "source": [
    "## Table Actors"
   ]
  },
  {
   "cell_type": "code",
   "execution_count": 168,
   "metadata": {},
   "outputs": [
    {
     "ename": "ParserError",
     "evalue": "Error tokenizing data. C error: out of memory",
     "output_type": "error",
     "traceback": [
      "\u001b[1;31m---------------------------------------------------------------------------\u001b[0m",
      "\u001b[1;31mParserError\u001b[0m                               Traceback (most recent call last)",
      "\u001b[1;32m~\\AppData\\Local\\Temp/ipykernel_13920/4008073158.py\u001b[0m in \u001b[0;36m<module>\u001b[1;34m\u001b[0m\n\u001b[0;32m      1\u001b[0m \u001b[1;31m# appel de la table acteurs\u001b[0m\u001b[1;33m\u001b[0m\u001b[1;33m\u001b[0m\u001b[1;33m\u001b[0m\u001b[0m\n\u001b[0;32m      2\u001b[0m \u001b[1;33m\u001b[0m\u001b[0m\n\u001b[1;32m----> 3\u001b[1;33m \u001b[0mactors\u001b[0m \u001b[1;33m=\u001b[0m \u001b[0mpd\u001b[0m\u001b[1;33m.\u001b[0m\u001b[0mread_csv\u001b[0m\u001b[1;33m(\u001b[0m\u001b[1;34m'https://datasets.imdbws.com/name.basics.tsv.gz'\u001b[0m\u001b[1;33m,\u001b[0m \u001b[0msep\u001b[0m \u001b[1;33m=\u001b[0m \u001b[1;34m'\\t'\u001b[0m\u001b[1;33m,\u001b[0m \u001b[0mlow_memory\u001b[0m\u001b[1;33m=\u001b[0m\u001b[1;32mFalse\u001b[0m\u001b[1;33m)\u001b[0m\u001b[1;33m\u001b[0m\u001b[1;33m\u001b[0m\u001b[0m\n\u001b[0m",
      "\u001b[1;32m~\\anaconda3\\lib\\site-packages\\pandas\\util\\_decorators.py\u001b[0m in \u001b[0;36mwrapper\u001b[1;34m(*args, **kwargs)\u001b[0m\n\u001b[0;32m    309\u001b[0m                     \u001b[0mstacklevel\u001b[0m\u001b[1;33m=\u001b[0m\u001b[0mstacklevel\u001b[0m\u001b[1;33m,\u001b[0m\u001b[1;33m\u001b[0m\u001b[1;33m\u001b[0m\u001b[0m\n\u001b[0;32m    310\u001b[0m                 )\n\u001b[1;32m--> 311\u001b[1;33m             \u001b[1;32mreturn\u001b[0m \u001b[0mfunc\u001b[0m\u001b[1;33m(\u001b[0m\u001b[1;33m*\u001b[0m\u001b[0margs\u001b[0m\u001b[1;33m,\u001b[0m \u001b[1;33m**\u001b[0m\u001b[0mkwargs\u001b[0m\u001b[1;33m)\u001b[0m\u001b[1;33m\u001b[0m\u001b[1;33m\u001b[0m\u001b[0m\n\u001b[0m\u001b[0;32m    312\u001b[0m \u001b[1;33m\u001b[0m\u001b[0m\n\u001b[0;32m    313\u001b[0m         \u001b[1;32mreturn\u001b[0m \u001b[0mwrapper\u001b[0m\u001b[1;33m\u001b[0m\u001b[1;33m\u001b[0m\u001b[0m\n",
      "\u001b[1;32m~\\anaconda3\\lib\\site-packages\\pandas\\io\\parsers\\readers.py\u001b[0m in \u001b[0;36mread_csv\u001b[1;34m(filepath_or_buffer, sep, delimiter, header, names, index_col, usecols, squeeze, prefix, mangle_dupe_cols, dtype, engine, converters, true_values, false_values, skipinitialspace, skiprows, skipfooter, nrows, na_values, keep_default_na, na_filter, verbose, skip_blank_lines, parse_dates, infer_datetime_format, keep_date_col, date_parser, dayfirst, cache_dates, iterator, chunksize, compression, thousands, decimal, lineterminator, quotechar, quoting, doublequote, escapechar, comment, encoding, encoding_errors, dialect, error_bad_lines, warn_bad_lines, on_bad_lines, delim_whitespace, low_memory, memory_map, float_precision, storage_options)\u001b[0m\n\u001b[0;32m    584\u001b[0m     \u001b[0mkwds\u001b[0m\u001b[1;33m.\u001b[0m\u001b[0mupdate\u001b[0m\u001b[1;33m(\u001b[0m\u001b[0mkwds_defaults\u001b[0m\u001b[1;33m)\u001b[0m\u001b[1;33m\u001b[0m\u001b[1;33m\u001b[0m\u001b[0m\n\u001b[0;32m    585\u001b[0m \u001b[1;33m\u001b[0m\u001b[0m\n\u001b[1;32m--> 586\u001b[1;33m     \u001b[1;32mreturn\u001b[0m \u001b[0m_read\u001b[0m\u001b[1;33m(\u001b[0m\u001b[0mfilepath_or_buffer\u001b[0m\u001b[1;33m,\u001b[0m \u001b[0mkwds\u001b[0m\u001b[1;33m)\u001b[0m\u001b[1;33m\u001b[0m\u001b[1;33m\u001b[0m\u001b[0m\n\u001b[0m\u001b[0;32m    587\u001b[0m \u001b[1;33m\u001b[0m\u001b[0m\n\u001b[0;32m    588\u001b[0m \u001b[1;33m\u001b[0m\u001b[0m\n",
      "\u001b[1;32m~\\anaconda3\\lib\\site-packages\\pandas\\io\\parsers\\readers.py\u001b[0m in \u001b[0;36m_read\u001b[1;34m(filepath_or_buffer, kwds)\u001b[0m\n\u001b[0;32m    486\u001b[0m \u001b[1;33m\u001b[0m\u001b[0m\n\u001b[0;32m    487\u001b[0m     \u001b[1;32mwith\u001b[0m \u001b[0mparser\u001b[0m\u001b[1;33m:\u001b[0m\u001b[1;33m\u001b[0m\u001b[1;33m\u001b[0m\u001b[0m\n\u001b[1;32m--> 488\u001b[1;33m         \u001b[1;32mreturn\u001b[0m \u001b[0mparser\u001b[0m\u001b[1;33m.\u001b[0m\u001b[0mread\u001b[0m\u001b[1;33m(\u001b[0m\u001b[0mnrows\u001b[0m\u001b[1;33m)\u001b[0m\u001b[1;33m\u001b[0m\u001b[1;33m\u001b[0m\u001b[0m\n\u001b[0m\u001b[0;32m    489\u001b[0m \u001b[1;33m\u001b[0m\u001b[0m\n\u001b[0;32m    490\u001b[0m \u001b[1;33m\u001b[0m\u001b[0m\n",
      "\u001b[1;32m~\\anaconda3\\lib\\site-packages\\pandas\\io\\parsers\\readers.py\u001b[0m in \u001b[0;36mread\u001b[1;34m(self, nrows)\u001b[0m\n\u001b[0;32m   1045\u001b[0m     \u001b[1;32mdef\u001b[0m \u001b[0mread\u001b[0m\u001b[1;33m(\u001b[0m\u001b[0mself\u001b[0m\u001b[1;33m,\u001b[0m \u001b[0mnrows\u001b[0m\u001b[1;33m=\u001b[0m\u001b[1;32mNone\u001b[0m\u001b[1;33m)\u001b[0m\u001b[1;33m:\u001b[0m\u001b[1;33m\u001b[0m\u001b[1;33m\u001b[0m\u001b[0m\n\u001b[0;32m   1046\u001b[0m         \u001b[0mnrows\u001b[0m \u001b[1;33m=\u001b[0m \u001b[0mvalidate_integer\u001b[0m\u001b[1;33m(\u001b[0m\u001b[1;34m\"nrows\"\u001b[0m\u001b[1;33m,\u001b[0m \u001b[0mnrows\u001b[0m\u001b[1;33m)\u001b[0m\u001b[1;33m\u001b[0m\u001b[1;33m\u001b[0m\u001b[0m\n\u001b[1;32m-> 1047\u001b[1;33m         \u001b[0mindex\u001b[0m\u001b[1;33m,\u001b[0m \u001b[0mcolumns\u001b[0m\u001b[1;33m,\u001b[0m \u001b[0mcol_dict\u001b[0m \u001b[1;33m=\u001b[0m \u001b[0mself\u001b[0m\u001b[1;33m.\u001b[0m\u001b[0m_engine\u001b[0m\u001b[1;33m.\u001b[0m\u001b[0mread\u001b[0m\u001b[1;33m(\u001b[0m\u001b[0mnrows\u001b[0m\u001b[1;33m)\u001b[0m\u001b[1;33m\u001b[0m\u001b[1;33m\u001b[0m\u001b[0m\n\u001b[0m\u001b[0;32m   1048\u001b[0m \u001b[1;33m\u001b[0m\u001b[0m\n\u001b[0;32m   1049\u001b[0m         \u001b[1;32mif\u001b[0m \u001b[0mindex\u001b[0m \u001b[1;32mis\u001b[0m \u001b[1;32mNone\u001b[0m\u001b[1;33m:\u001b[0m\u001b[1;33m\u001b[0m\u001b[1;33m\u001b[0m\u001b[0m\n",
      "\u001b[1;32m~\\anaconda3\\lib\\site-packages\\pandas\\io\\parsers\\c_parser_wrapper.py\u001b[0m in \u001b[0;36mread\u001b[1;34m(self, nrows)\u001b[0m\n\u001b[0;32m    226\u001b[0m \u001b[1;33m\u001b[0m\u001b[0m\n\u001b[0;32m    227\u001b[0m             \u001b[1;32melse\u001b[0m\u001b[1;33m:\u001b[0m\u001b[1;33m\u001b[0m\u001b[1;33m\u001b[0m\u001b[0m\n\u001b[1;32m--> 228\u001b[1;33m                 \u001b[0mdata\u001b[0m \u001b[1;33m=\u001b[0m \u001b[0mself\u001b[0m\u001b[1;33m.\u001b[0m\u001b[0m_reader\u001b[0m\u001b[1;33m.\u001b[0m\u001b[0mread\u001b[0m\u001b[1;33m(\u001b[0m\u001b[0mnrows\u001b[0m\u001b[1;33m)\u001b[0m\u001b[1;33m\u001b[0m\u001b[1;33m\u001b[0m\u001b[0m\n\u001b[0m\u001b[0;32m    229\u001b[0m         \u001b[1;32mexcept\u001b[0m \u001b[0mStopIteration\u001b[0m\u001b[1;33m:\u001b[0m\u001b[1;33m\u001b[0m\u001b[1;33m\u001b[0m\u001b[0m\n\u001b[0;32m    230\u001b[0m             \u001b[1;32mif\u001b[0m \u001b[0mself\u001b[0m\u001b[1;33m.\u001b[0m\u001b[0m_first_chunk\u001b[0m\u001b[1;33m:\u001b[0m\u001b[1;33m\u001b[0m\u001b[1;33m\u001b[0m\u001b[0m\n",
      "\u001b[1;32m~\\anaconda3\\lib\\site-packages\\pandas\\_libs\\parsers.pyx\u001b[0m in \u001b[0;36mpandas._libs.parsers.TextReader.read\u001b[1;34m()\u001b[0m\n",
      "\u001b[1;32m~\\anaconda3\\lib\\site-packages\\pandas\\_libs\\parsers.pyx\u001b[0m in \u001b[0;36mpandas._libs.parsers.TextReader._read_rows\u001b[1;34m()\u001b[0m\n",
      "\u001b[1;32m~\\anaconda3\\lib\\site-packages\\pandas\\_libs\\parsers.pyx\u001b[0m in \u001b[0;36mpandas._libs.parsers.raise_parser_error\u001b[1;34m()\u001b[0m\n",
      "\u001b[1;31mParserError\u001b[0m: Error tokenizing data. C error: out of memory"
     ]
    }
   ],
   "source": [
    "# appel de la table acteurs\n",
    "\n",
    "actors = pd.read_csv('https://datasets.imdbws.com/name.basics.tsv.gz', sep = '\\t', low_memory=False)"
   ]
  },
  {
   "cell_type": "code",
   "execution_count": null,
   "metadata": {},
   "outputs": [],
   "source": [
    "# tri des acteurs par date de naissance \n",
    "actors.sort_values(by=['birthYear'], inplace=True)\n",
    "\n",
    "#reset index \n",
    "actors.reset_index(inplace=True)\n",
    "\n",
    "#drop colonne index en double \n",
    "actors.drop('index',axis = 1, inplace=True)\n",
    "\n"
   ]
  },
  {
   "cell_type": "code",
   "execution_count": null,
   "metadata": {},
   "outputs": [
    {
     "data": {
      "text/html": [
       "<div>\n",
       "<style scoped>\n",
       "    .dataframe tbody tr th:only-of-type {\n",
       "        vertical-align: middle;\n",
       "    }\n",
       "\n",
       "    .dataframe tbody tr th {\n",
       "        vertical-align: top;\n",
       "    }\n",
       "\n",
       "    .dataframe thead th {\n",
       "        text-align: right;\n",
       "    }\n",
       "</style>\n",
       "<table border=\"1\" class=\"dataframe\">\n",
       "  <thead>\n",
       "    <tr style=\"text-align: right;\">\n",
       "      <th></th>\n",
       "      <th>nconst</th>\n",
       "      <th>primaryName</th>\n",
       "      <th>birthYear</th>\n",
       "      <th>deathYear</th>\n",
       "      <th>primaryProfession</th>\n",
       "      <th>knownForTitles</th>\n",
       "    </tr>\n",
       "  </thead>\n",
       "  <tbody>\n",
       "    <tr>\n",
       "      <th>0</th>\n",
       "      <td>nm0784172</td>\n",
       "      <td>Lucio Anneo Seneca</td>\n",
       "      <td>0004</td>\n",
       "      <td>0065</td>\n",
       "      <td>writer</td>\n",
       "      <td>tt0049203,tt0972562,tt0218822,tt0237666</td>\n",
       "    </tr>\n",
       "    <tr>\n",
       "      <th>1</th>\n",
       "      <td>nm4511421</td>\n",
       "      <td>Megan Liz Smith</td>\n",
       "      <td>0012</td>\n",
       "      <td>\\N</td>\n",
       "      <td>miscellaneous,actress</td>\n",
       "      <td>tt3416744,tt1966378,tt10183848</td>\n",
       "    </tr>\n",
       "    <tr>\n",
       "      <th>2</th>\n",
       "      <td>nm8810146</td>\n",
       "      <td>Paul Walsh</td>\n",
       "      <td>0021</td>\n",
       "      <td>\\N</td>\n",
       "      <td>actor</td>\n",
       "      <td>tt0098878,tt0314567,tt0093223</td>\n",
       "    </tr>\n",
       "    <tr>\n",
       "      <th>3</th>\n",
       "      <td>nm0430769</td>\n",
       "      <td>Flavius Josephus</td>\n",
       "      <td>0037</td>\n",
       "      <td>0095</td>\n",
       "      <td>writer,miscellaneous</td>\n",
       "      <td>tt0273236,tt0237666,tt0009573,tt0049833</td>\n",
       "    </tr>\n",
       "    <tr>\n",
       "      <th>4</th>\n",
       "      <td>nm1306202</td>\n",
       "      <td>Plutarch</td>\n",
       "      <td>0046</td>\n",
       "      <td>0122</td>\n",
       "      <td>writer</td>\n",
       "      <td>tt0237666,tt0272979,tt0056937,tt0472473</td>\n",
       "    </tr>\n",
       "  </tbody>\n",
       "</table>\n",
       "</div>"
      ],
      "text/plain": [
       "      nconst         primaryName birthYear deathYear      primaryProfession  \\\n",
       "0  nm0784172  Lucio Anneo Seneca      0004      0065                 writer   \n",
       "1  nm4511421     Megan Liz Smith      0012        \\N  miscellaneous,actress   \n",
       "2  nm8810146          Paul Walsh      0021        \\N                  actor   \n",
       "3  nm0430769    Flavius Josephus      0037      0095   writer,miscellaneous   \n",
       "4  nm1306202            Plutarch      0046      0122                 writer   \n",
       "\n",
       "                            knownForTitles  \n",
       "0  tt0049203,tt0972562,tt0218822,tt0237666  \n",
       "1           tt3416744,tt1966378,tt10183848  \n",
       "2            tt0098878,tt0314567,tt0093223  \n",
       "3  tt0273236,tt0237666,tt0009573,tt0049833  \n",
       "4  tt0237666,tt0272979,tt0056937,tt0472473  "
      ]
     },
     "execution_count": 103,
     "metadata": {},
     "output_type": "execute_result"
    }
   ],
   "source": [
    "# check si l'ordre est bien modifié et l'index modifié\n",
    "\n",
    "actors.head()"
   ]
  },
  {
   "cell_type": "code",
   "execution_count": null,
   "metadata": {},
   "outputs": [
    {
     "data": {
      "text/plain": [
       "(11366782, 6)"
      ]
     },
     "execution_count": 104,
     "metadata": {},
     "output_type": "execute_result"
    }
   ],
   "source": [
    "actors.shape # table brute"
   ]
  },
  {
   "cell_type": "markdown",
   "metadata": {},
   "source": [
    "## Table Movies"
   ]
  },
  {
   "cell_type": "code",
   "execution_count": null,
   "metadata": {},
   "outputs": [],
   "source": [
    "# appel de la table films (j'ai pris title basics qui contient l'année du film)\n",
    "\n",
    "movies = pd.read_csv('https://datasets.imdbws.com/title.basics.tsv.gz', sep = '\\t', low_memory=False)\n",
    "movies.sort_values('startYear', inplace=True)"
   ]
  },
  {
   "cell_type": "code",
   "execution_count": null,
   "metadata": {},
   "outputs": [],
   "source": [
    "#reset index base movies\n",
    "movies.reset_index(inplace=True)\n",
    "\n",
    "#drop colonne index en double \n",
    "movies.drop('index',axis = 1, inplace=True)"
   ]
  },
  {
   "cell_type": "code",
   "execution_count": null,
   "metadata": {},
   "outputs": [
    {
     "data": {
      "text/html": [
       "<div>\n",
       "<style scoped>\n",
       "    .dataframe tbody tr th:only-of-type {\n",
       "        vertical-align: middle;\n",
       "    }\n",
       "\n",
       "    .dataframe tbody tr th {\n",
       "        vertical-align: top;\n",
       "    }\n",
       "\n",
       "    .dataframe thead th {\n",
       "        text-align: right;\n",
       "    }\n",
       "</style>\n",
       "<table border=\"1\" class=\"dataframe\">\n",
       "  <thead>\n",
       "    <tr style=\"text-align: right;\">\n",
       "      <th></th>\n",
       "      <th>tconst</th>\n",
       "      <th>titleType</th>\n",
       "      <th>primaryTitle</th>\n",
       "      <th>originalTitle</th>\n",
       "      <th>isAdult</th>\n",
       "      <th>startYear</th>\n",
       "      <th>endYear</th>\n",
       "      <th>runtimeMinutes</th>\n",
       "      <th>genres</th>\n",
       "    </tr>\n",
       "  </thead>\n",
       "  <tbody>\n",
       "    <tr>\n",
       "      <th>0</th>\n",
       "      <td>tt3155794</td>\n",
       "      <td>short</td>\n",
       "      <td>Passage de Venus</td>\n",
       "      <td>Passage de Venus</td>\n",
       "      <td>0</td>\n",
       "      <td>1874</td>\n",
       "      <td>\\N</td>\n",
       "      <td>1</td>\n",
       "      <td>Documentary,Short</td>\n",
       "    </tr>\n",
       "    <tr>\n",
       "      <th>1</th>\n",
       "      <td>tt14495706</td>\n",
       "      <td>short</td>\n",
       "      <td>La Rosace Magique</td>\n",
       "      <td>La Rosace Magique</td>\n",
       "      <td>0</td>\n",
       "      <td>1877</td>\n",
       "      <td>\\N</td>\n",
       "      <td>1</td>\n",
       "      <td>Animation,Short</td>\n",
       "    </tr>\n",
       "    <tr>\n",
       "      <th>2</th>\n",
       "      <td>tt2221420</td>\n",
       "      <td>short</td>\n",
       "      <td>Sallie Gardner at a Gallop</td>\n",
       "      <td>Sallie Gardner at a Gallop</td>\n",
       "      <td>0</td>\n",
       "      <td>1878</td>\n",
       "      <td>\\N</td>\n",
       "      <td>1</td>\n",
       "      <td>Documentary,Short</td>\n",
       "    </tr>\n",
       "    <tr>\n",
       "      <th>3</th>\n",
       "      <td>tt12592084</td>\n",
       "      <td>short</td>\n",
       "      <td>Le singe musicien</td>\n",
       "      <td>Le singe musicien</td>\n",
       "      <td>0</td>\n",
       "      <td>1878</td>\n",
       "      <td>\\N</td>\n",
       "      <td>1</td>\n",
       "      <td>Animation,Short</td>\n",
       "    </tr>\n",
       "    <tr>\n",
       "      <th>4</th>\n",
       "      <td>tt7816420</td>\n",
       "      <td>short</td>\n",
       "      <td>Athlete Swinging a Pick</td>\n",
       "      <td>Athlete Swinging a Pick</td>\n",
       "      <td>0</td>\n",
       "      <td>1881</td>\n",
       "      <td>\\N</td>\n",
       "      <td>1</td>\n",
       "      <td>Documentary,Short</td>\n",
       "    </tr>\n",
       "  </tbody>\n",
       "</table>\n",
       "</div>"
      ],
      "text/plain": [
       "       tconst titleType                primaryTitle  \\\n",
       "0   tt3155794     short            Passage de Venus   \n",
       "1  tt14495706     short           La Rosace Magique   \n",
       "2   tt2221420     short  Sallie Gardner at a Gallop   \n",
       "3  tt12592084     short           Le singe musicien   \n",
       "4   tt7816420     short     Athlete Swinging a Pick   \n",
       "\n",
       "                originalTitle isAdult startYear endYear runtimeMinutes  \\\n",
       "0            Passage de Venus       0      1874      \\N              1   \n",
       "1           La Rosace Magique       0      1877      \\N              1   \n",
       "2  Sallie Gardner at a Gallop       0      1878      \\N              1   \n",
       "3           Le singe musicien       0      1878      \\N              1   \n",
       "4     Athlete Swinging a Pick       0      1881      \\N              1   \n",
       "\n",
       "              genres  \n",
       "0  Documentary,Short  \n",
       "1    Animation,Short  \n",
       "2  Documentary,Short  \n",
       "3    Animation,Short  \n",
       "4  Documentary,Short  "
      ]
     },
     "execution_count": 107,
     "metadata": {},
     "output_type": "execute_result"
    }
   ],
   "source": [
    "# check si l'ordre est bien modifié et l'index modifié\n",
    "movies.head() "
   ]
  },
  {
   "cell_type": "code",
   "execution_count": null,
   "metadata": {},
   "outputs": [
    {
     "data": {
      "text/plain": [
       "(8468615, 9)"
      ]
     },
     "execution_count": 108,
     "metadata": {},
     "output_type": "execute_result"
    }
   ],
   "source": [
    "movies.shape # table brute"
   ]
  },
  {
   "cell_type": "markdown",
   "metadata": {},
   "source": [
    "## Table Title"
   ]
  },
  {
   "cell_type": "code",
   "execution_count": null,
   "metadata": {},
   "outputs": [],
   "source": [
    "# appel de la table title\n",
    "title = pd.read_csv(\"https://datasets.imdbws.com/title.principals.tsv.gz\", sep=\"\\t\")"
   ]
  },
  {
   "cell_type": "code",
   "execution_count": null,
   "metadata": {},
   "outputs": [],
   "source": [
    "# filtre par category actor and actress\n",
    "title = title.loc[(title['category']=='actor')|(title['category']=='actress')]"
   ]
  },
  {
   "cell_type": "code",
   "execution_count": null,
   "metadata": {},
   "outputs": [],
   "source": [
    "#reset index base title\n",
    "title.reset_index(inplace=True)\n",
    "\n",
    "#drop colonne index en double \n",
    "title.drop('index',axis = 1, inplace=True)"
   ]
  },
  {
   "cell_type": "code",
   "execution_count": null,
   "metadata": {},
   "outputs": [],
   "source": [
    "# remplacer les \\n par des nan\n",
    "title.replace('\\\\N', np.nan, inplace=True)"
   ]
  },
  {
   "cell_type": "code",
   "execution_count": null,
   "metadata": {},
   "outputs": [
    {
     "data": {
      "text/html": [
       "<div>\n",
       "<style scoped>\n",
       "    .dataframe tbody tr th:only-of-type {\n",
       "        vertical-align: middle;\n",
       "    }\n",
       "\n",
       "    .dataframe tbody tr th {\n",
       "        vertical-align: top;\n",
       "    }\n",
       "\n",
       "    .dataframe thead th {\n",
       "        text-align: right;\n",
       "    }\n",
       "</style>\n",
       "<table border=\"1\" class=\"dataframe\">\n",
       "  <thead>\n",
       "    <tr style=\"text-align: right;\">\n",
       "      <th></th>\n",
       "      <th>tconst</th>\n",
       "      <th>ordering</th>\n",
       "      <th>nconst</th>\n",
       "      <th>category</th>\n",
       "      <th>job</th>\n",
       "      <th>characters</th>\n",
       "    </tr>\n",
       "  </thead>\n",
       "  <tbody>\n",
       "    <tr>\n",
       "      <th>0</th>\n",
       "      <td>tt0000005</td>\n",
       "      <td>1</td>\n",
       "      <td>nm0443482</td>\n",
       "      <td>actor</td>\n",
       "      <td>NaN</td>\n",
       "      <td>[\"Blacksmith\"]</td>\n",
       "    </tr>\n",
       "    <tr>\n",
       "      <th>1</th>\n",
       "      <td>tt0000005</td>\n",
       "      <td>2</td>\n",
       "      <td>nm0653042</td>\n",
       "      <td>actor</td>\n",
       "      <td>NaN</td>\n",
       "      <td>[\"Assistant\"]</td>\n",
       "    </tr>\n",
       "    <tr>\n",
       "      <th>2</th>\n",
       "      <td>tt0000007</td>\n",
       "      <td>1</td>\n",
       "      <td>nm0179163</td>\n",
       "      <td>actor</td>\n",
       "      <td>NaN</td>\n",
       "      <td>NaN</td>\n",
       "    </tr>\n",
       "    <tr>\n",
       "      <th>3</th>\n",
       "      <td>tt0000007</td>\n",
       "      <td>2</td>\n",
       "      <td>nm0183947</td>\n",
       "      <td>actor</td>\n",
       "      <td>NaN</td>\n",
       "      <td>NaN</td>\n",
       "    </tr>\n",
       "    <tr>\n",
       "      <th>4</th>\n",
       "      <td>tt0000008</td>\n",
       "      <td>1</td>\n",
       "      <td>nm0653028</td>\n",
       "      <td>actor</td>\n",
       "      <td>NaN</td>\n",
       "      <td>[\"Sneezing Man\"]</td>\n",
       "    </tr>\n",
       "  </tbody>\n",
       "</table>\n",
       "</div>"
      ],
      "text/plain": [
       "      tconst  ordering     nconst category  job        characters\n",
       "0  tt0000005         1  nm0443482    actor  NaN    [\"Blacksmith\"]\n",
       "1  tt0000005         2  nm0653042    actor  NaN     [\"Assistant\"]\n",
       "2  tt0000007         1  nm0179163    actor  NaN               NaN\n",
       "3  tt0000007         2  nm0183947    actor  NaN               NaN\n",
       "4  tt0000008         1  nm0653028    actor  NaN  [\"Sneezing Man\"]"
      ]
     },
     "execution_count": 113,
     "metadata": {},
     "output_type": "execute_result"
    }
   ],
   "source": [
    "# check si l'index est bien modifié\n",
    "title.head()"
   ]
  },
  {
   "cell_type": "markdown",
   "metadata": {},
   "source": [
    "## 2-Nettoyage de la base Movies :\n",
    "###          - Remplacer les \\N par des nan\n",
    "###          - Conservation uniquement des films titleType = movie\n",
    "###          - Retrait des films isadult\n",
    "###          - Suppresion des colonnes qui ne me sont plus utiles\n",
    "\n",
    "###          - Explode genre en plusieurs colonnes"
   ]
  },
  {
   "cell_type": "code",
   "execution_count": null,
   "metadata": {},
   "outputs": [],
   "source": [
    "# Remplacer les \\N par des nan\n",
    "\n",
    "movies.replace('\\\\N', np.nan, inplace=True)"
   ]
  },
  {
   "cell_type": "code",
   "execution_count": null,
   "metadata": {},
   "outputs": [
    {
     "data": {
      "text/html": [
       "<div>\n",
       "<style scoped>\n",
       "    .dataframe tbody tr th:only-of-type {\n",
       "        vertical-align: middle;\n",
       "    }\n",
       "\n",
       "    .dataframe tbody tr th {\n",
       "        vertical-align: top;\n",
       "    }\n",
       "\n",
       "    .dataframe thead th {\n",
       "        text-align: right;\n",
       "    }\n",
       "</style>\n",
       "<table border=\"1\" class=\"dataframe\">\n",
       "  <thead>\n",
       "    <tr style=\"text-align: right;\">\n",
       "      <th></th>\n",
       "      <th>tconst</th>\n",
       "      <th>primaryTitle</th>\n",
       "      <th>originalTitle</th>\n",
       "      <th>startYear</th>\n",
       "      <th>runtimeMinutes</th>\n",
       "      <th>firstGenre</th>\n",
       "      <th>secondyGenre</th>\n",
       "    </tr>\n",
       "  </thead>\n",
       "  <tbody>\n",
       "    <tr>\n",
       "      <th>0</th>\n",
       "      <td>tt2210499</td>\n",
       "      <td>Birmingham</td>\n",
       "      <td>Birmingham</td>\n",
       "      <td>1896</td>\n",
       "      <td>61</td>\n",
       "      <td>Documentary</td>\n",
       "      <td>None</td>\n",
       "    </tr>\n",
       "    <tr>\n",
       "      <th>1</th>\n",
       "      <td>tt0229676</td>\n",
       "      <td>Reproduction of the Corbett and Fitzsimmons Fight</td>\n",
       "      <td>Reproduction of the Corbett and Fitzsimmons Fight</td>\n",
       "      <td>1897</td>\n",
       "      <td>NaN</td>\n",
       "      <td>Documentary</td>\n",
       "      <td>News</td>\n",
       "    </tr>\n",
       "    <tr>\n",
       "      <th>2</th>\n",
       "      <td>tt0236940</td>\n",
       "      <td>69th Regiment Passing in Review</td>\n",
       "      <td>69th Regiment Passing in Review</td>\n",
       "      <td>1898</td>\n",
       "      <td>NaN</td>\n",
       "      <td>Documentary</td>\n",
       "      <td>None</td>\n",
       "    </tr>\n",
       "    <tr>\n",
       "      <th>3</th>\n",
       "      <td>tt0235357</td>\n",
       "      <td>Dressing Paper Dolls</td>\n",
       "      <td>Dressing Paper Dolls</td>\n",
       "      <td>1898</td>\n",
       "      <td>NaN</td>\n",
       "      <td>Documentary</td>\n",
       "      <td>None</td>\n",
       "    </tr>\n",
       "    <tr>\n",
       "      <th>4</th>\n",
       "      <td>tt0138349</td>\n",
       "      <td>O Carnaval em Lisboa</td>\n",
       "      <td>O Carnaval em Lisboa</td>\n",
       "      <td>1898</td>\n",
       "      <td>NaN</td>\n",
       "      <td>Documentary</td>\n",
       "      <td>None</td>\n",
       "    </tr>\n",
       "  </tbody>\n",
       "</table>\n",
       "</div>"
      ],
      "text/plain": [
       "      tconst                                       primaryTitle  \\\n",
       "0  tt2210499                                         Birmingham   \n",
       "1  tt0229676  Reproduction of the Corbett and Fitzsimmons Fight   \n",
       "2  tt0236940                    69th Regiment Passing in Review   \n",
       "3  tt0235357                               Dressing Paper Dolls   \n",
       "4  tt0138349                               O Carnaval em Lisboa   \n",
       "\n",
       "                                       originalTitle startYear runtimeMinutes  \\\n",
       "0                                         Birmingham      1896             61   \n",
       "1  Reproduction of the Corbett and Fitzsimmons Fight      1897            NaN   \n",
       "2                    69th Regiment Passing in Review      1898            NaN   \n",
       "3                               Dressing Paper Dolls      1898            NaN   \n",
       "4                               O Carnaval em Lisboa      1898            NaN   \n",
       "\n",
       "    firstGenre secondyGenre  \n",
       "0  Documentary         None  \n",
       "1  Documentary         News  \n",
       "2  Documentary         None  \n",
       "3  Documentary         None  \n",
       "4  Documentary         None  "
      ]
     },
     "execution_count": 166,
     "metadata": {},
     "output_type": "execute_result"
    }
   ],
   "source": [
    "movies.head()"
   ]
  },
  {
   "cell_type": "code",
   "execution_count": null,
   "metadata": {},
   "outputs": [],
   "source": [
    "#Conservation uniquement des films titleType = movie\n",
    "\n",
    "movies = movies[movies['titleType'] == 'movie']"
   ]
  },
  {
   "cell_type": "code",
   "execution_count": null,
   "metadata": {},
   "outputs": [],
   "source": [
    "# Retrait des films isadult \n",
    "\n",
    "movies = movies[movies['isAdult'] == '0']"
   ]
  },
  {
   "cell_type": "code",
   "execution_count": null,
   "metadata": {},
   "outputs": [],
   "source": [
    "# supression des colonnes titleType, endYear, isAdult \n",
    "\n",
    "movies = movies.drop(columns=['titleType', 'endYear', 'isAdult'])"
   ]
  },
  {
   "cell_type": "code",
   "execution_count": null,
   "metadata": {},
   "outputs": [],
   "source": [
    "movies.head(2)"
   ]
  },
  {
   "cell_type": "code",
   "execution_count": null,
   "metadata": {},
   "outputs": [],
   "source": [
    "# change str en int sur les colonnes startYear et runtimeMinutes\n",
    "movies.astype({'startYear': int})\n",
    "movies.astype({'runtimeMinutes': int})\n",
    "\n",
    "#je ne conserve que les durées entre 58mn et inf à 270mn\n",
    "movies = movies[(movies['runtimeMinutes']>=58)&(movies['runtimeMinutes']<=270)]"
   ]
  },
  {
   "cell_type": "code",
   "execution_count": null,
   "metadata": {},
   "outputs": [],
   "source": [
    "#reset index base movies (again !)\n",
    "movies.reset_index(inplace=True)\n",
    "\n",
    "#drop colonne index en double \n",
    "movies.drop('index',axis = 1, inplace=True)"
   ]
  },
  {
   "cell_type": "code",
   "execution_count": null,
   "metadata": {},
   "outputs": [
    {
     "data": {
      "text/plain": [
       "(584862, 6)"
      ]
     },
     "execution_count": 118,
     "metadata": {},
     "output_type": "execute_result"
    }
   ],
   "source": [
    "# table uniquement avec les données conservées\n",
    "movies.shape "
   ]
  },
  {
   "cell_type": "code",
   "execution_count": null,
   "metadata": {},
   "outputs": [
    {
     "data": {
      "text/html": [
       "<div>\n",
       "<style scoped>\n",
       "    .dataframe tbody tr th:only-of-type {\n",
       "        vertical-align: middle;\n",
       "    }\n",
       "\n",
       "    .dataframe tbody tr th {\n",
       "        vertical-align: top;\n",
       "    }\n",
       "\n",
       "    .dataframe thead th {\n",
       "        text-align: right;\n",
       "    }\n",
       "</style>\n",
       "<table border=\"1\" class=\"dataframe\">\n",
       "  <thead>\n",
       "    <tr style=\"text-align: right;\">\n",
       "      <th></th>\n",
       "      <th>tconst</th>\n",
       "      <th>primaryTitle</th>\n",
       "      <th>originalTitle</th>\n",
       "      <th>startYear</th>\n",
       "      <th>runtimeMinutes</th>\n",
       "      <th>genres</th>\n",
       "    </tr>\n",
       "  </thead>\n",
       "  <tbody>\n",
       "    <tr>\n",
       "      <th>0</th>\n",
       "      <td>tt2210499</td>\n",
       "      <td>Birmingham</td>\n",
       "      <td>Birmingham</td>\n",
       "      <td>1896</td>\n",
       "      <td>61</td>\n",
       "      <td>Documentary</td>\n",
       "    </tr>\n",
       "    <tr>\n",
       "      <th>1</th>\n",
       "      <td>tt0229676</td>\n",
       "      <td>Reproduction of the Corbett and Fitzsimmons Fight</td>\n",
       "      <td>Reproduction of the Corbett and Fitzsimmons Fight</td>\n",
       "      <td>1897</td>\n",
       "      <td>\\N</td>\n",
       "      <td>Documentary,News,Sport</td>\n",
       "    </tr>\n",
       "    <tr>\n",
       "      <th>2</th>\n",
       "      <td>tt0236940</td>\n",
       "      <td>69th Regiment Passing in Review</td>\n",
       "      <td>69th Regiment Passing in Review</td>\n",
       "      <td>1898</td>\n",
       "      <td>\\N</td>\n",
       "      <td>Documentary</td>\n",
       "    </tr>\n",
       "    <tr>\n",
       "      <th>3</th>\n",
       "      <td>tt0235357</td>\n",
       "      <td>Dressing Paper Dolls</td>\n",
       "      <td>Dressing Paper Dolls</td>\n",
       "      <td>1898</td>\n",
       "      <td>\\N</td>\n",
       "      <td>Documentary</td>\n",
       "    </tr>\n",
       "    <tr>\n",
       "      <th>4</th>\n",
       "      <td>tt0138349</td>\n",
       "      <td>O Carnaval em Lisboa</td>\n",
       "      <td>O Carnaval em Lisboa</td>\n",
       "      <td>1898</td>\n",
       "      <td>\\N</td>\n",
       "      <td>Documentary</td>\n",
       "    </tr>\n",
       "  </tbody>\n",
       "</table>\n",
       "</div>"
      ],
      "text/plain": [
       "      tconst                                       primaryTitle  \\\n",
       "0  tt2210499                                         Birmingham   \n",
       "1  tt0229676  Reproduction of the Corbett and Fitzsimmons Fight   \n",
       "2  tt0236940                    69th Regiment Passing in Review   \n",
       "3  tt0235357                               Dressing Paper Dolls   \n",
       "4  tt0138349                               O Carnaval em Lisboa   \n",
       "\n",
       "                                       originalTitle startYear runtimeMinutes  \\\n",
       "0                                         Birmingham      1896             61   \n",
       "1  Reproduction of the Corbett and Fitzsimmons Fight      1897             \\N   \n",
       "2                    69th Regiment Passing in Review      1898             \\N   \n",
       "3                               Dressing Paper Dolls      1898             \\N   \n",
       "4                               O Carnaval em Lisboa      1898             \\N   \n",
       "\n",
       "                   genres  \n",
       "0             Documentary  \n",
       "1  Documentary,News,Sport  \n",
       "2             Documentary  \n",
       "3             Documentary  \n",
       "4             Documentary  "
      ]
     },
     "execution_count": 119,
     "metadata": {},
     "output_type": "execute_result"
    }
   ],
   "source": [
    "movies.head()"
   ]
  },
  {
   "cell_type": "code",
   "execution_count": null,
   "metadata": {},
   "outputs": [],
   "source": [
    "#Explode genre en plusieurs colonnes\n",
    "movies[['firstGenre', 'secondyGenre', 'thirdGenre']] = movies['genres'].str.split(',', n=2, expand=True)\n",
    "\n",
    "#drop colonne genres et thirdGenre\n",
    "movies.drop(columns=['genres', 'thirdGenre'],axis = 1, inplace=True)\n"
   ]
  },
  {
   "cell_type": "code",
   "execution_count": null,
   "metadata": {},
   "outputs": [
    {
     "data": {
      "text/html": [
       "<div>\n",
       "<style scoped>\n",
       "    .dataframe tbody tr th:only-of-type {\n",
       "        vertical-align: middle;\n",
       "    }\n",
       "\n",
       "    .dataframe tbody tr th {\n",
       "        vertical-align: top;\n",
       "    }\n",
       "\n",
       "    .dataframe thead th {\n",
       "        text-align: right;\n",
       "    }\n",
       "</style>\n",
       "<table border=\"1\" class=\"dataframe\">\n",
       "  <thead>\n",
       "    <tr style=\"text-align: right;\">\n",
       "      <th></th>\n",
       "      <th>tconst</th>\n",
       "      <th>primaryTitle</th>\n",
       "      <th>originalTitle</th>\n",
       "      <th>startYear</th>\n",
       "      <th>runtimeMinutes</th>\n",
       "      <th>firstGenre</th>\n",
       "      <th>secondyGenre</th>\n",
       "    </tr>\n",
       "  </thead>\n",
       "  <tbody>\n",
       "    <tr>\n",
       "      <th>0</th>\n",
       "      <td>tt2210499</td>\n",
       "      <td>Birmingham</td>\n",
       "      <td>Birmingham</td>\n",
       "      <td>1896</td>\n",
       "      <td>61</td>\n",
       "      <td>Documentary</td>\n",
       "      <td>None</td>\n",
       "    </tr>\n",
       "    <tr>\n",
       "      <th>1</th>\n",
       "      <td>tt0229676</td>\n",
       "      <td>Reproduction of the Corbett and Fitzsimmons Fight</td>\n",
       "      <td>Reproduction of the Corbett and Fitzsimmons Fight</td>\n",
       "      <td>1897</td>\n",
       "      <td>\\N</td>\n",
       "      <td>Documentary</td>\n",
       "      <td>News</td>\n",
       "    </tr>\n",
       "    <tr>\n",
       "      <th>2</th>\n",
       "      <td>tt0236940</td>\n",
       "      <td>69th Regiment Passing in Review</td>\n",
       "      <td>69th Regiment Passing in Review</td>\n",
       "      <td>1898</td>\n",
       "      <td>\\N</td>\n",
       "      <td>Documentary</td>\n",
       "      <td>None</td>\n",
       "    </tr>\n",
       "    <tr>\n",
       "      <th>3</th>\n",
       "      <td>tt0235357</td>\n",
       "      <td>Dressing Paper Dolls</td>\n",
       "      <td>Dressing Paper Dolls</td>\n",
       "      <td>1898</td>\n",
       "      <td>\\N</td>\n",
       "      <td>Documentary</td>\n",
       "      <td>None</td>\n",
       "    </tr>\n",
       "    <tr>\n",
       "      <th>4</th>\n",
       "      <td>tt0138349</td>\n",
       "      <td>O Carnaval em Lisboa</td>\n",
       "      <td>O Carnaval em Lisboa</td>\n",
       "      <td>1898</td>\n",
       "      <td>\\N</td>\n",
       "      <td>Documentary</td>\n",
       "      <td>None</td>\n",
       "    </tr>\n",
       "  </tbody>\n",
       "</table>\n",
       "</div>"
      ],
      "text/plain": [
       "      tconst                                       primaryTitle  \\\n",
       "0  tt2210499                                         Birmingham   \n",
       "1  tt0229676  Reproduction of the Corbett and Fitzsimmons Fight   \n",
       "2  tt0236940                    69th Regiment Passing in Review   \n",
       "3  tt0235357                               Dressing Paper Dolls   \n",
       "4  tt0138349                               O Carnaval em Lisboa   \n",
       "\n",
       "                                       originalTitle startYear runtimeMinutes  \\\n",
       "0                                         Birmingham      1896             61   \n",
       "1  Reproduction of the Corbett and Fitzsimmons Fight      1897             \\N   \n",
       "2                    69th Regiment Passing in Review      1898             \\N   \n",
       "3                               Dressing Paper Dolls      1898             \\N   \n",
       "4                               O Carnaval em Lisboa      1898             \\N   \n",
       "\n",
       "    firstGenre secondyGenre  \n",
       "0  Documentary         None  \n",
       "1  Documentary         News  \n",
       "2  Documentary         None  \n",
       "3  Documentary         None  \n",
       "4  Documentary         None  "
      ]
     },
     "execution_count": 121,
     "metadata": {},
     "output_type": "execute_result"
    }
   ],
   "source": [
    "movies.head()"
   ]
  },
  {
   "cell_type": "code",
   "execution_count": null,
   "metadata": {},
   "outputs": [
    {
     "data": {
      "text/plain": [
       "(584862, 7)"
      ]
     },
     "execution_count": 122,
     "metadata": {},
     "output_type": "execute_result"
    }
   ],
   "source": [
    "movies.shape"
   ]
  },
  {
   "cell_type": "markdown",
   "metadata": {},
   "source": [
    "## 3- Nettoyage de la base Actors :\n",
    "###        - Remplacer les \\N par des nan\n",
    "###        - Supprimer les lignes qui contiennent des nan dans la colonne birthYear  \n",
    "###        - Retirer les colonnes qui ne me sont pas utiles\n",
    "###        - Supprimer les acteurs nés avant 1800 + reset index"
   ]
  },
  {
   "cell_type": "code",
   "execution_count": null,
   "metadata": {},
   "outputs": [],
   "source": [
    "# remplacer les \\N pas des nan \n",
    "\n",
    "actors.replace('\\\\N', np.nan, inplace=True)"
   ]
  },
  {
   "cell_type": "code",
   "execution_count": null,
   "metadata": {},
   "outputs": [],
   "source": [
    "# suppression des lignes qui comportent des Nan dans la colonne birthYear\n",
    "\n",
    "actors.dropna(subset=['birthYear'], inplace=True)"
   ]
  },
  {
   "cell_type": "code",
   "execution_count": null,
   "metadata": {},
   "outputs": [],
   "source": [
    "# Retirer les colonnes qui ne me sont pas utiles\n",
    "actors.drop(columns=['deathYear', 'primaryProfession', 'knownForTitles'], inplace=True)"
   ]
  },
  {
   "cell_type": "code",
   "execution_count": null,
   "metadata": {},
   "outputs": [],
   "source": [
    "# ne conserve que les rows actors nés avant 1800\n",
    "actors = actors[actors['birthYear'] >= '1800']\n",
    "\n",
    "#reset index base actors (again !)\n",
    "actors.reset_index(inplace=True)\n",
    "\n",
    "#drop colonne index en double (again !)\n",
    "actors.drop('index',axis = 1, inplace=True)"
   ]
  },
  {
   "cell_type": "code",
   "execution_count": null,
   "metadata": {},
   "outputs": [
    {
     "data": {
      "text/html": [
       "<div>\n",
       "<style scoped>\n",
       "    .dataframe tbody tr th:only-of-type {\n",
       "        vertical-align: middle;\n",
       "    }\n",
       "\n",
       "    .dataframe tbody tr th {\n",
       "        vertical-align: top;\n",
       "    }\n",
       "\n",
       "    .dataframe thead th {\n",
       "        text-align: right;\n",
       "    }\n",
       "</style>\n",
       "<table border=\"1\" class=\"dataframe\">\n",
       "  <thead>\n",
       "    <tr style=\"text-align: right;\">\n",
       "      <th></th>\n",
       "      <th>nconst</th>\n",
       "      <th>primaryName</th>\n",
       "      <th>birthYear</th>\n",
       "      <th>primaryProfession</th>\n",
       "      <th>knownForTitles</th>\n",
       "    </tr>\n",
       "  </thead>\n",
       "  <tbody>\n",
       "    <tr>\n",
       "      <th>0</th>\n",
       "      <td>nm3885064</td>\n",
       "      <td>Momin Khan Momin</td>\n",
       "      <td>1800</td>\n",
       "      <td>music_department</td>\n",
       "      <td>tt1645182</td>\n",
       "    </tr>\n",
       "    <tr>\n",
       "      <th>1</th>\n",
       "      <td>nm0353596</td>\n",
       "      <td>David Haggart</td>\n",
       "      <td>1801</td>\n",
       "      <td>writer</td>\n",
       "      <td>tt0064988</td>\n",
       "    </tr>\n",
       "    <tr>\n",
       "      <th>2</th>\n",
       "      <td>nm0486937</td>\n",
       "      <td>Joseph Lanner</td>\n",
       "      <td>1801</td>\n",
       "      <td>soundtrack,composer,music_department</td>\n",
       "      <td>tt0080455,tt0031270,tt0024749,tt0036235</td>\n",
       "    </tr>\n",
       "    <tr>\n",
       "      <th>3</th>\n",
       "      <td>nm0626587</td>\n",
       "      <td>Johann Nestroy</td>\n",
       "      <td>1801</td>\n",
       "      <td>writer,soundtrack</td>\n",
       "      <td>tt0338389,tt0457357,tt0240548,tt0195893</td>\n",
       "    </tr>\n",
       "    <tr>\n",
       "      <th>4</th>\n",
       "      <td>nm0333187</td>\n",
       "      <td>Christian Dietrich Grabbe</td>\n",
       "      <td>1801</td>\n",
       "      <td>writer</td>\n",
       "      <td>tt0352909,tt0109781,tt0451590,tt0207421</td>\n",
       "    </tr>\n",
       "  </tbody>\n",
       "</table>\n",
       "</div>"
      ],
      "text/plain": [
       "      nconst                primaryName birthYear  \\\n",
       "0  nm3885064           Momin Khan Momin      1800   \n",
       "1  nm0353596              David Haggart      1801   \n",
       "2  nm0486937              Joseph Lanner      1801   \n",
       "3  nm0626587             Johann Nestroy      1801   \n",
       "4  nm0333187  Christian Dietrich Grabbe      1801   \n",
       "\n",
       "                      primaryProfession  \\\n",
       "0                      music_department   \n",
       "1                                writer   \n",
       "2  soundtrack,composer,music_department   \n",
       "3                     writer,soundtrack   \n",
       "4                                writer   \n",
       "\n",
       "                            knownForTitles  \n",
       "0                                tt1645182  \n",
       "1                                tt0064988  \n",
       "2  tt0080455,tt0031270,tt0024749,tt0036235  \n",
       "3  tt0338389,tt0457357,tt0240548,tt0195893  \n",
       "4  tt0352909,tt0109781,tt0451590,tt0207421  "
      ]
     },
     "execution_count": 129,
     "metadata": {},
     "output_type": "execute_result"
    }
   ],
   "source": [
    "# check index\n",
    "actors.head()"
   ]
  },
  {
   "cell_type": "code",
   "execution_count": null,
   "metadata": {},
   "outputs": [],
   "source": [
    "# explode colonne primaryProfession\n",
    "#actors[['firstProfession', 'secondProfession', 'thirdProfession']] = actors['primaryProfession'].str.split(',', n=2, expand=True)\n",
    "\n",
    "#drop colonne primaryProfession\n",
    "#actors.drop(columns=['primaryProfession'],axis = 1, inplace=True)"
   ]
  },
  {
   "cell_type": "code",
   "execution_count": null,
   "metadata": {},
   "outputs": [],
   "source": [
    "# check dataframe actors\n",
    "#actors.head()"
   ]
  },
  {
   "cell_type": "code",
   "execution_count": null,
   "metadata": {},
   "outputs": [],
   "source": [
    "# Je ne garde que les acteurs/actrices de mes trois colonnes : firstProfession, secondProfession, thirdProfession\n",
    "\n",
    "#actors = actors[(actors['firstProfession'].isin(['actress','actor'])) | ( actors['secondProfession'].isin(['actress','actor'])) | ( actors['thirdProfession'].isin(['actress','actor']))]"
   ]
  },
  {
   "cell_type": "code",
   "execution_count": null,
   "metadata": {},
   "outputs": [],
   "source": [
    "#drop colums firstProfession, secondProfession, thirdProfession qui ne me sont plus utiles\n",
    "#actors.drop(columns=['firstProfession','secondProfession', 'thirdProfession'],axis = 1, inplace=True)"
   ]
  },
  {
   "cell_type": "markdown",
   "metadata": {},
   "source": [
    "## 3- Nettoyage de la base Title :\n",
    "###        - Remplacer les \\N par des nan\n",
    "###        - dropna sur les cellules tconst non renseignées\n",
    "###        - supprimer les colonnes inutiles"
   ]
  },
  {
   "cell_type": "code",
   "execution_count": null,
   "metadata": {},
   "outputs": [],
   "source": [
    "# Remplacer les \\N par des nan\n",
    "\n",
    "title.replace('\\\\N', np.nan, inplace=True)"
   ]
  },
  {
   "cell_type": "code",
   "execution_count": null,
   "metadata": {},
   "outputs": [
    {
     "data": {
      "text/html": [
       "<div>\n",
       "<style scoped>\n",
       "    .dataframe tbody tr th:only-of-type {\n",
       "        vertical-align: middle;\n",
       "    }\n",
       "\n",
       "    .dataframe tbody tr th {\n",
       "        vertical-align: top;\n",
       "    }\n",
       "\n",
       "    .dataframe thead th {\n",
       "        text-align: right;\n",
       "    }\n",
       "</style>\n",
       "<table border=\"1\" class=\"dataframe\">\n",
       "  <thead>\n",
       "    <tr style=\"text-align: right;\">\n",
       "      <th></th>\n",
       "      <th>tconst</th>\n",
       "      <th>ordering</th>\n",
       "      <th>nconst</th>\n",
       "      <th>category</th>\n",
       "      <th>job</th>\n",
       "      <th>characters</th>\n",
       "    </tr>\n",
       "  </thead>\n",
       "  <tbody>\n",
       "    <tr>\n",
       "      <th>0</th>\n",
       "      <td>tt0000005</td>\n",
       "      <td>1</td>\n",
       "      <td>nm0443482</td>\n",
       "      <td>actor</td>\n",
       "      <td>NaN</td>\n",
       "      <td>[\"Blacksmith\"]</td>\n",
       "    </tr>\n",
       "    <tr>\n",
       "      <th>1</th>\n",
       "      <td>tt0000005</td>\n",
       "      <td>2</td>\n",
       "      <td>nm0653042</td>\n",
       "      <td>actor</td>\n",
       "      <td>NaN</td>\n",
       "      <td>[\"Assistant\"]</td>\n",
       "    </tr>\n",
       "    <tr>\n",
       "      <th>2</th>\n",
       "      <td>tt0000007</td>\n",
       "      <td>1</td>\n",
       "      <td>nm0179163</td>\n",
       "      <td>actor</td>\n",
       "      <td>NaN</td>\n",
       "      <td>NaN</td>\n",
       "    </tr>\n",
       "    <tr>\n",
       "      <th>3</th>\n",
       "      <td>tt0000007</td>\n",
       "      <td>2</td>\n",
       "      <td>nm0183947</td>\n",
       "      <td>actor</td>\n",
       "      <td>NaN</td>\n",
       "      <td>NaN</td>\n",
       "    </tr>\n",
       "    <tr>\n",
       "      <th>4</th>\n",
       "      <td>tt0000008</td>\n",
       "      <td>1</td>\n",
       "      <td>nm0653028</td>\n",
       "      <td>actor</td>\n",
       "      <td>NaN</td>\n",
       "      <td>[\"Sneezing Man\"]</td>\n",
       "    </tr>\n",
       "    <tr>\n",
       "      <th>...</th>\n",
       "      <td>...</td>\n",
       "      <td>...</td>\n",
       "      <td>...</td>\n",
       "      <td>...</td>\n",
       "      <td>...</td>\n",
       "      <td>...</td>\n",
       "    </tr>\n",
       "    <tr>\n",
       "      <th>18873947</th>\n",
       "      <td>tt9916856</td>\n",
       "      <td>4</td>\n",
       "      <td>nm10538647</td>\n",
       "      <td>actress</td>\n",
       "      <td>NaN</td>\n",
       "      <td>[\"Kathi\"]</td>\n",
       "    </tr>\n",
       "    <tr>\n",
       "      <th>18873948</th>\n",
       "      <td>tt9916880</td>\n",
       "      <td>1</td>\n",
       "      <td>nm1483166</td>\n",
       "      <td>actor</td>\n",
       "      <td>NaN</td>\n",
       "      <td>[\"Rude Ralph\",\"Mischievous Mike\",\"Jolly Josh\"]</td>\n",
       "    </tr>\n",
       "    <tr>\n",
       "      <th>18873949</th>\n",
       "      <td>tt9916880</td>\n",
       "      <td>2</td>\n",
       "      <td>nm0254176</td>\n",
       "      <td>actress</td>\n",
       "      <td>NaN</td>\n",
       "      <td>[\"Moody Margaret\"]</td>\n",
       "    </tr>\n",
       "    <tr>\n",
       "      <th>18873950</th>\n",
       "      <td>tt9916880</td>\n",
       "      <td>3</td>\n",
       "      <td>nm0286175</td>\n",
       "      <td>actor</td>\n",
       "      <td>NaN</td>\n",
       "      <td>[\"Dad\",\"Aerobic Al\",\"Nasty Nicola\"]</td>\n",
       "    </tr>\n",
       "    <tr>\n",
       "      <th>18873951</th>\n",
       "      <td>tt9916880</td>\n",
       "      <td>4</td>\n",
       "      <td>nm10535738</td>\n",
       "      <td>actress</td>\n",
       "      <td>NaN</td>\n",
       "      <td>[\"Horrid Henry\"]</td>\n",
       "    </tr>\n",
       "  </tbody>\n",
       "</table>\n",
       "<p>18873952 rows × 6 columns</p>\n",
       "</div>"
      ],
      "text/plain": [
       "             tconst  ordering      nconst category  job  \\\n",
       "0         tt0000005         1   nm0443482    actor  NaN   \n",
       "1         tt0000005         2   nm0653042    actor  NaN   \n",
       "2         tt0000007         1   nm0179163    actor  NaN   \n",
       "3         tt0000007         2   nm0183947    actor  NaN   \n",
       "4         tt0000008         1   nm0653028    actor  NaN   \n",
       "...             ...       ...         ...      ...  ...   \n",
       "18873947  tt9916856         4  nm10538647  actress  NaN   \n",
       "18873948  tt9916880         1   nm1483166    actor  NaN   \n",
       "18873949  tt9916880         2   nm0254176  actress  NaN   \n",
       "18873950  tt9916880         3   nm0286175    actor  NaN   \n",
       "18873951  tt9916880         4  nm10535738  actress  NaN   \n",
       "\n",
       "                                              characters  \n",
       "0                                         [\"Blacksmith\"]  \n",
       "1                                          [\"Assistant\"]  \n",
       "2                                                    NaN  \n",
       "3                                                    NaN  \n",
       "4                                       [\"Sneezing Man\"]  \n",
       "...                                                  ...  \n",
       "18873947                                       [\"Kathi\"]  \n",
       "18873948  [\"Rude Ralph\",\"Mischievous Mike\",\"Jolly Josh\"]  \n",
       "18873949                              [\"Moody Margaret\"]  \n",
       "18873950             [\"Dad\",\"Aerobic Al\",\"Nasty Nicola\"]  \n",
       "18873951                                [\"Horrid Henry\"]  \n",
       "\n",
       "[18873952 rows x 6 columns]"
      ]
     },
     "execution_count": 157,
     "metadata": {},
     "output_type": "execute_result"
    }
   ],
   "source": [
    "#dropna sur les cellules startyear non renseignées\n",
    "\n",
    "title.dropna(subset=['tconst'])"
   ]
  },
  {
   "cell_type": "code",
   "execution_count": null,
   "metadata": {},
   "outputs": [],
   "source": [
    "# suppression des colonnes inutiles\n",
    "\n",
    "title.drop(columns=['ordering','job', 'characters'], inplace=True)"
   ]
  },
  {
   "cell_type": "markdown",
   "metadata": {},
   "source": [
    "## 3- Joindre les tables et retrier :"
   ]
  },
  {
   "cell_type": "code",
   "execution_count": null,
   "metadata": {},
   "outputs": [
    {
     "data": {
      "text/html": [
       "<div>\n",
       "<style scoped>\n",
       "    .dataframe tbody tr th:only-of-type {\n",
       "        vertical-align: middle;\n",
       "    }\n",
       "\n",
       "    .dataframe tbody tr th {\n",
       "        vertical-align: top;\n",
       "    }\n",
       "\n",
       "    .dataframe thead th {\n",
       "        text-align: right;\n",
       "    }\n",
       "</style>\n",
       "<table border=\"1\" class=\"dataframe\">\n",
       "  <thead>\n",
       "    <tr style=\"text-align: right;\">\n",
       "      <th></th>\n",
       "      <th>nconst</th>\n",
       "      <th>primaryName</th>\n",
       "      <th>birthYear</th>\n",
       "      <th>title1</th>\n",
       "      <th>title2</th>\n",
       "      <th>title3</th>\n",
       "      <th>title4</th>\n",
       "    </tr>\n",
       "  </thead>\n",
       "  <tbody>\n",
       "    <tr>\n",
       "      <th>0</th>\n",
       "      <td>nm6368729</td>\n",
       "      <td>William H. Taylor</td>\n",
       "      <td>1827</td>\n",
       "      <td>tt0021511</td>\n",
       "      <td>None</td>\n",
       "      <td>None</td>\n",
       "      <td>None</td>\n",
       "    </tr>\n",
       "    <tr>\n",
       "      <th>1</th>\n",
       "      <td>nm0853014</td>\n",
       "      <td>Pop Taylor</td>\n",
       "      <td>1828</td>\n",
       "      <td>tt0015864</td>\n",
       "      <td>tt0009886</td>\n",
       "      <td>None</td>\n",
       "      <td>None</td>\n",
       "    </tr>\n",
       "  </tbody>\n",
       "</table>\n",
       "</div>"
      ],
      "text/plain": [
       "      nconst        primaryName birthYear     title1     title2 title3 title4\n",
       "0  nm6368729  William H. Taylor      1827  tt0021511       None   None   None\n",
       "1  nm0853014         Pop Taylor      1828  tt0015864  tt0009886   None   None"
      ]
     },
     "execution_count": 145,
     "metadata": {},
     "output_type": "execute_result"
    }
   ],
   "source": [
    "actors.head(2)"
   ]
  },
  {
   "cell_type": "code",
   "execution_count": null,
   "metadata": {},
   "outputs": [
    {
     "data": {
      "text/html": [
       "<div>\n",
       "<style scoped>\n",
       "    .dataframe tbody tr th:only-of-type {\n",
       "        vertical-align: middle;\n",
       "    }\n",
       "\n",
       "    .dataframe tbody tr th {\n",
       "        vertical-align: top;\n",
       "    }\n",
       "\n",
       "    .dataframe thead th {\n",
       "        text-align: right;\n",
       "    }\n",
       "</style>\n",
       "<table border=\"1\" class=\"dataframe\">\n",
       "  <thead>\n",
       "    <tr style=\"text-align: right;\">\n",
       "      <th></th>\n",
       "      <th>tconst</th>\n",
       "      <th>primaryTitle</th>\n",
       "      <th>originalTitle</th>\n",
       "      <th>startYear</th>\n",
       "      <th>runtimeMinutes</th>\n",
       "      <th>firstGenre</th>\n",
       "      <th>secondyGenre</th>\n",
       "    </tr>\n",
       "  </thead>\n",
       "  <tbody>\n",
       "    <tr>\n",
       "      <th>0</th>\n",
       "      <td>tt2210499</td>\n",
       "      <td>Birmingham</td>\n",
       "      <td>Birmingham</td>\n",
       "      <td>1896</td>\n",
       "      <td>61</td>\n",
       "      <td>Documentary</td>\n",
       "      <td>None</td>\n",
       "    </tr>\n",
       "    <tr>\n",
       "      <th>1</th>\n",
       "      <td>tt0229676</td>\n",
       "      <td>Reproduction of the Corbett and Fitzsimmons Fight</td>\n",
       "      <td>Reproduction of the Corbett and Fitzsimmons Fight</td>\n",
       "      <td>1897</td>\n",
       "      <td>\\N</td>\n",
       "      <td>Documentary</td>\n",
       "      <td>News</td>\n",
       "    </tr>\n",
       "  </tbody>\n",
       "</table>\n",
       "</div>"
      ],
      "text/plain": [
       "      tconst                                       primaryTitle  \\\n",
       "0  tt2210499                                         Birmingham   \n",
       "1  tt0229676  Reproduction of the Corbett and Fitzsimmons Fight   \n",
       "\n",
       "                                       originalTitle startYear runtimeMinutes  \\\n",
       "0                                         Birmingham      1896             61   \n",
       "1  Reproduction of the Corbett and Fitzsimmons Fight      1897             \\N   \n",
       "\n",
       "    firstGenre secondyGenre  \n",
       "0  Documentary         None  \n",
       "1  Documentary         News  "
      ]
     },
     "execution_count": 146,
     "metadata": {},
     "output_type": "execute_result"
    }
   ],
   "source": [
    "movies.head(2)"
   ]
  },
  {
   "cell_type": "code",
   "execution_count": null,
   "metadata": {},
   "outputs": [
    {
     "data": {
      "text/html": [
       "<div>\n",
       "<style scoped>\n",
       "    .dataframe tbody tr th:only-of-type {\n",
       "        vertical-align: middle;\n",
       "    }\n",
       "\n",
       "    .dataframe tbody tr th {\n",
       "        vertical-align: top;\n",
       "    }\n",
       "\n",
       "    .dataframe thead th {\n",
       "        text-align: right;\n",
       "    }\n",
       "</style>\n",
       "<table border=\"1\" class=\"dataframe\">\n",
       "  <thead>\n",
       "    <tr style=\"text-align: right;\">\n",
       "      <th></th>\n",
       "      <th>tconst</th>\n",
       "      <th>nconst</th>\n",
       "      <th>category</th>\n",
       "    </tr>\n",
       "  </thead>\n",
       "  <tbody>\n",
       "    <tr>\n",
       "      <th>0</th>\n",
       "      <td>tt0000005</td>\n",
       "      <td>nm0443482</td>\n",
       "      <td>actor</td>\n",
       "    </tr>\n",
       "    <tr>\n",
       "      <th>1</th>\n",
       "      <td>tt0000005</td>\n",
       "      <td>nm0653042</td>\n",
       "      <td>actor</td>\n",
       "    </tr>\n",
       "  </tbody>\n",
       "</table>\n",
       "</div>"
      ],
      "text/plain": [
       "      tconst     nconst category\n",
       "0  tt0000005  nm0443482    actor\n",
       "1  tt0000005  nm0653042    actor"
      ]
     },
     "execution_count": 163,
     "metadata": {},
     "output_type": "execute_result"
    }
   ],
   "source": [
    "title.head(2)"
   ]
  },
  {
   "cell_type": "code",
   "execution_count": null,
   "metadata": {},
   "outputs": [],
   "source": [
    "#new_df_actors = pd.merge(title, movies,  how='left', left_on=['tconst'], right_on = ['tconst'])"
   ]
  },
  {
   "cell_type": "code",
   "execution_count": null,
   "metadata": {},
   "outputs": [],
   "source": []
  }
 ],
 "metadata": {
  "interpreter": {
   "hash": "2737ab35ba7d25f8071971e636d55a06dcafe00db434104323c773939bb24f14"
  },
  "kernelspec": {
   "display_name": "Python 3.9.0 32-bit",
   "name": "python3"
  },
  "language_info": {
   "codemirror_mode": {
    "name": "ipython",
    "version": 3
   },
   "file_extension": ".py",
   "mimetype": "text/x-python",
   "name": "python",
   "nbconvert_exporter": "python",
   "pygments_lexer": "ipython3",
   "version": "3.8.12"
  },
  "orig_nbformat": 4
 },
 "nbformat": 4,
 "nbformat_minor": 2
}
