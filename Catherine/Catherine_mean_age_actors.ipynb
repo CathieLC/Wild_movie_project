{
 "cells": [
  {
   "cell_type": "markdown",
   "metadata": {},
   "source": [
    "Les acteurs ont en moyenne quel âge ? données films et acteurs (champs age, birth year et start year)\n",
    "***age moyen à date du film\n",
    "\n",
    "1- Appel des deux tables - trie ordre croissant - reset index et drop colonne en trop pour les deux tables\n",
    "\n",
    "2- Nettoyage de la base Movies :\n",
    "         - Conservation uniquement des films titleType = movie\n",
    "         - Retrait des films isadult\n",
    "         - Suppresion colonne quine me sont plus utiles\n",
    "         - Explode genre en plusieurs colonnes\n",
    "\n",
    "3- Nettoyage de la base Actors :\n",
    "        - Supprimer les acteurs nés avant 1800 pour alléger la base\n",
    "        - Explode colonne primaryProfession et conserver actor actress\n",
    "        - Retirer la colonne deathYear\n",
    "        - Explode colonne knownForTitles en film 1 film 2 etc....\n",
    "        \n",
    "        \n",
    "\n",
    "\n",
    "3- Joindre les tables et retrier :\n",
    "    - Supprimer les films plus anciens que 1918\n",
    "    - Suprimer les lignes ou l'âge de l'acteur n'est pas renseigné\n",
    "(ce tri n'a pas été fait avant car cela permet de nattoyer la base acteurs/movies en même temps)\n",
    "\n",
    "4 - Créer une colonne âge acteur dans le film : Date du film - date de naissance (startYear - birthYear)\n",
    "\n",
    "5 - il me faudra une moyenne de cette colonne pour répondre à la question par année\n",
    "\n",
    "\n",
    "\n",
    "\n"
   ]
  },
  {
   "cell_type": "code",
   "execution_count": 165,
   "metadata": {},
   "outputs": [],
   "source": [
    "import pandas as pd\n",
    "from datetime import datetime\n",
    "from datetime import timedelta\n",
    "import numpy as np\n",
    "import plotly.express as px \n",
    "import plotly.graph_objects as go \n",
    "import matplotlib.pyplot as plt\n",
    "import seaborn as sns"
   ]
  },
  {
   "cell_type": "markdown",
   "metadata": {},
   "source": [
    "## 1- Appel des trois tables - trie - reset index et drop colonne en trop pour les deux tables :\n",
    " actors = name.basics\n",
    " movies = title.basics\n",
    " title = "
   ]
  },
  {
   "cell_type": "markdown",
   "metadata": {},
   "source": [
    "## Table Actors"
   ]
  },
  {
   "cell_type": "code",
   "execution_count": 166,
   "metadata": {},
   "outputs": [],
   "source": [
    "# appel de la table acteurs\n",
    "\n",
    "actors = pd.read_csv('https://datasets.imdbws.com/name.basics.tsv.gz', sep = '\\t', low_memory=False)"
   ]
  },
  {
   "cell_type": "code",
   "execution_count": 167,
   "metadata": {},
   "outputs": [],
   "source": [
    "# tri des acteurs par date de naissance \n",
    "actors.sort_values(by=['birthYear'], inplace=True)\n",
    "\n",
    "#reset index \n",
    "actors.reset_index(inplace=True)\n",
    "\n",
    "#drop colonne index en double \n",
    "actors.drop('index',axis = 1, inplace=True)\n",
    "\n"
   ]
  },
  {
   "cell_type": "code",
   "execution_count": 168,
   "metadata": {},
   "outputs": [
    {
     "data": {
      "text/html": [
       "<div>\n",
       "<style scoped>\n",
       "    .dataframe tbody tr th:only-of-type {\n",
       "        vertical-align: middle;\n",
       "    }\n",
       "\n",
       "    .dataframe tbody tr th {\n",
       "        vertical-align: top;\n",
       "    }\n",
       "\n",
       "    .dataframe thead th {\n",
       "        text-align: right;\n",
       "    }\n",
       "</style>\n",
       "<table border=\"1\" class=\"dataframe\">\n",
       "  <thead>\n",
       "    <tr style=\"text-align: right;\">\n",
       "      <th></th>\n",
       "      <th>nconst</th>\n",
       "      <th>primaryName</th>\n",
       "      <th>birthYear</th>\n",
       "      <th>deathYear</th>\n",
       "      <th>primaryProfession</th>\n",
       "      <th>knownForTitles</th>\n",
       "    </tr>\n",
       "  </thead>\n",
       "  <tbody>\n",
       "    <tr>\n",
       "      <th>0</th>\n",
       "      <td>nm0784172</td>\n",
       "      <td>Lucio Anneo Seneca</td>\n",
       "      <td>0004</td>\n",
       "      <td>0065</td>\n",
       "      <td>writer</td>\n",
       "      <td>tt0218822,tt0049203,tt0237666,tt0972562</td>\n",
       "    </tr>\n",
       "    <tr>\n",
       "      <th>1</th>\n",
       "      <td>nm4511421</td>\n",
       "      <td>Megan Liz Smith</td>\n",
       "      <td>0012</td>\n",
       "      <td>\\N</td>\n",
       "      <td>miscellaneous,actress</td>\n",
       "      <td>tt1966378,tt10183848,tt3416744</td>\n",
       "    </tr>\n",
       "    <tr>\n",
       "      <th>2</th>\n",
       "      <td>nm8810146</td>\n",
       "      <td>Paul Walsh</td>\n",
       "      <td>0021</td>\n",
       "      <td>\\N</td>\n",
       "      <td>actor</td>\n",
       "      <td>tt0314567,tt0093223,tt0098878</td>\n",
       "    </tr>\n",
       "    <tr>\n",
       "      <th>3</th>\n",
       "      <td>nm0430769</td>\n",
       "      <td>Flavius Josephus</td>\n",
       "      <td>0037</td>\n",
       "      <td>0095</td>\n",
       "      <td>writer,miscellaneous</td>\n",
       "      <td>tt0009573,tt0237666,tt0049833,tt0273236</td>\n",
       "    </tr>\n",
       "    <tr>\n",
       "      <th>4</th>\n",
       "      <td>nm1306202</td>\n",
       "      <td>Plutarch</td>\n",
       "      <td>0046</td>\n",
       "      <td>0122</td>\n",
       "      <td>writer</td>\n",
       "      <td>tt0056937,tt0272979,tt0237666,tt0472473</td>\n",
       "    </tr>\n",
       "  </tbody>\n",
       "</table>\n",
       "</div>"
      ],
      "text/plain": [
       "      nconst         primaryName birthYear deathYear      primaryProfession  \\\n",
       "0  nm0784172  Lucio Anneo Seneca      0004      0065                 writer   \n",
       "1  nm4511421     Megan Liz Smith      0012        \\N  miscellaneous,actress   \n",
       "2  nm8810146          Paul Walsh      0021        \\N                  actor   \n",
       "3  nm0430769    Flavius Josephus      0037      0095   writer,miscellaneous   \n",
       "4  nm1306202            Plutarch      0046      0122                 writer   \n",
       "\n",
       "                            knownForTitles  \n",
       "0  tt0218822,tt0049203,tt0237666,tt0972562  \n",
       "1           tt1966378,tt10183848,tt3416744  \n",
       "2            tt0314567,tt0093223,tt0098878  \n",
       "3  tt0009573,tt0237666,tt0049833,tt0273236  \n",
       "4  tt0056937,tt0272979,tt0237666,tt0472473  "
      ]
     },
     "execution_count": 168,
     "metadata": {},
     "output_type": "execute_result"
    }
   ],
   "source": [
    "# check si l'ordre est bien modifié et l'index modifié\n",
    "\n",
    "actors.head()"
   ]
  },
  {
   "cell_type": "code",
   "execution_count": 169,
   "metadata": {},
   "outputs": [
    {
     "data": {
      "text/plain": [
       "(11368358, 6)"
      ]
     },
     "execution_count": 169,
     "metadata": {},
     "output_type": "execute_result"
    }
   ],
   "source": [
    "actors.shape # table brute"
   ]
  },
  {
   "cell_type": "markdown",
   "metadata": {},
   "source": [
    "## Table Movies"
   ]
  },
  {
   "cell_type": "code",
   "execution_count": 170,
   "metadata": {},
   "outputs": [],
   "source": [
    "# appel de la table films (j'ai pris title basics qui contient l'année du film)\n",
    "\n",
    "movies = pd.read_csv('https://datasets.imdbws.com/title.basics.tsv.gz', sep = '\\t', low_memory=False)\n",
    "movies.sort_values('startYear', inplace=True)"
   ]
  },
  {
   "cell_type": "code",
   "execution_count": 171,
   "metadata": {},
   "outputs": [],
   "source": [
    "#reset index base movies\n",
    "movies.reset_index(inplace=True)\n",
    "\n",
    "#drop colonne index en double \n",
    "movies.drop('index',axis = 1, inplace=True)"
   ]
  },
  {
   "cell_type": "code",
   "execution_count": 172,
   "metadata": {},
   "outputs": [
    {
     "data": {
      "text/html": [
       "<div>\n",
       "<style scoped>\n",
       "    .dataframe tbody tr th:only-of-type {\n",
       "        vertical-align: middle;\n",
       "    }\n",
       "\n",
       "    .dataframe tbody tr th {\n",
       "        vertical-align: top;\n",
       "    }\n",
       "\n",
       "    .dataframe thead th {\n",
       "        text-align: right;\n",
       "    }\n",
       "</style>\n",
       "<table border=\"1\" class=\"dataframe\">\n",
       "  <thead>\n",
       "    <tr style=\"text-align: right;\">\n",
       "      <th></th>\n",
       "      <th>tconst</th>\n",
       "      <th>titleType</th>\n",
       "      <th>primaryTitle</th>\n",
       "      <th>originalTitle</th>\n",
       "      <th>isAdult</th>\n",
       "      <th>startYear</th>\n",
       "      <th>endYear</th>\n",
       "      <th>runtimeMinutes</th>\n",
       "      <th>genres</th>\n",
       "    </tr>\n",
       "  </thead>\n",
       "  <tbody>\n",
       "    <tr>\n",
       "      <th>0</th>\n",
       "      <td>tt3155794</td>\n",
       "      <td>short</td>\n",
       "      <td>Passage de Venus</td>\n",
       "      <td>Passage de Venus</td>\n",
       "      <td>0</td>\n",
       "      <td>1874</td>\n",
       "      <td>\\N</td>\n",
       "      <td>1</td>\n",
       "      <td>Documentary,Short</td>\n",
       "    </tr>\n",
       "    <tr>\n",
       "      <th>1</th>\n",
       "      <td>tt14495706</td>\n",
       "      <td>short</td>\n",
       "      <td>La Rosace Magique</td>\n",
       "      <td>La Rosace Magique</td>\n",
       "      <td>0</td>\n",
       "      <td>1877</td>\n",
       "      <td>\\N</td>\n",
       "      <td>1</td>\n",
       "      <td>Animation,Short</td>\n",
       "    </tr>\n",
       "    <tr>\n",
       "      <th>2</th>\n",
       "      <td>tt12592084</td>\n",
       "      <td>short</td>\n",
       "      <td>Le singe musicien</td>\n",
       "      <td>Le singe musicien</td>\n",
       "      <td>0</td>\n",
       "      <td>1878</td>\n",
       "      <td>\\N</td>\n",
       "      <td>1</td>\n",
       "      <td>Animation,Short</td>\n",
       "    </tr>\n",
       "    <tr>\n",
       "      <th>3</th>\n",
       "      <td>tt2221420</td>\n",
       "      <td>short</td>\n",
       "      <td>Sallie Gardner at a Gallop</td>\n",
       "      <td>Sallie Gardner at a Gallop</td>\n",
       "      <td>0</td>\n",
       "      <td>1878</td>\n",
       "      <td>\\N</td>\n",
       "      <td>1</td>\n",
       "      <td>Documentary,Short</td>\n",
       "    </tr>\n",
       "    <tr>\n",
       "      <th>4</th>\n",
       "      <td>tt15320514</td>\n",
       "      <td>short</td>\n",
       "      <td>Skeleton of Horse</td>\n",
       "      <td>Skeleton of Horse</td>\n",
       "      <td>0</td>\n",
       "      <td>1881</td>\n",
       "      <td>\\N</td>\n",
       "      <td>1</td>\n",
       "      <td>Animation,Short</td>\n",
       "    </tr>\n",
       "  </tbody>\n",
       "</table>\n",
       "</div>"
      ],
      "text/plain": [
       "       tconst titleType                primaryTitle  \\\n",
       "0   tt3155794     short            Passage de Venus   \n",
       "1  tt14495706     short           La Rosace Magique   \n",
       "2  tt12592084     short           Le singe musicien   \n",
       "3   tt2221420     short  Sallie Gardner at a Gallop   \n",
       "4  tt15320514     short           Skeleton of Horse   \n",
       "\n",
       "                originalTitle isAdult startYear endYear runtimeMinutes  \\\n",
       "0            Passage de Venus       0      1874      \\N              1   \n",
       "1           La Rosace Magique       0      1877      \\N              1   \n",
       "2           Le singe musicien       0      1878      \\N              1   \n",
       "3  Sallie Gardner at a Gallop       0      1878      \\N              1   \n",
       "4           Skeleton of Horse       0      1881      \\N              1   \n",
       "\n",
       "              genres  \n",
       "0  Documentary,Short  \n",
       "1    Animation,Short  \n",
       "2    Animation,Short  \n",
       "3  Documentary,Short  \n",
       "4    Animation,Short  "
      ]
     },
     "execution_count": 172,
     "metadata": {},
     "output_type": "execute_result"
    }
   ],
   "source": [
    "# check si l'ordre est bien modifié et l'index modifié\n",
    "movies.head() "
   ]
  },
  {
   "cell_type": "code",
   "execution_count": 173,
   "metadata": {},
   "outputs": [
    {
     "data": {
      "text/plain": [
       "(8479240, 9)"
      ]
     },
     "execution_count": 173,
     "metadata": {},
     "output_type": "execute_result"
    }
   ],
   "source": [
    "movies.shape # table brute"
   ]
  },
  {
   "cell_type": "markdown",
   "metadata": {},
   "source": [
    "## Table Title"
   ]
  },
  {
   "cell_type": "code",
   "execution_count": 174,
   "metadata": {},
   "outputs": [],
   "source": [
    "# appel de la table title\n",
    "title = pd.read_csv(\"https://datasets.imdbws.com/title.principals.tsv.gz\", sep=\"\\t\")"
   ]
  },
  {
   "cell_type": "code",
   "execution_count": 175,
   "metadata": {},
   "outputs": [],
   "source": [
    "# filtre par category actor and actress\n",
    "title = title.loc[(title['category']=='actor')|(title['category']=='actress')]"
   ]
  },
  {
   "cell_type": "code",
   "execution_count": 176,
   "metadata": {},
   "outputs": [],
   "source": [
    "#reset index base title\n",
    "title.reset_index(inplace=True)\n",
    "\n",
    "#drop colonne index en double \n",
    "title.drop('index',axis = 1, inplace=True)"
   ]
  },
  {
   "cell_type": "code",
   "execution_count": 177,
   "metadata": {},
   "outputs": [],
   "source": [
    "# remplacer les \\n par des nan\n",
    "title.replace('\\\\N', np.nan, inplace=True)"
   ]
  },
  {
   "cell_type": "code",
   "execution_count": 178,
   "metadata": {},
   "outputs": [
    {
     "data": {
      "text/html": [
       "<div>\n",
       "<style scoped>\n",
       "    .dataframe tbody tr th:only-of-type {\n",
       "        vertical-align: middle;\n",
       "    }\n",
       "\n",
       "    .dataframe tbody tr th {\n",
       "        vertical-align: top;\n",
       "    }\n",
       "\n",
       "    .dataframe thead th {\n",
       "        text-align: right;\n",
       "    }\n",
       "</style>\n",
       "<table border=\"1\" class=\"dataframe\">\n",
       "  <thead>\n",
       "    <tr style=\"text-align: right;\">\n",
       "      <th></th>\n",
       "      <th>tconst</th>\n",
       "      <th>ordering</th>\n",
       "      <th>nconst</th>\n",
       "      <th>category</th>\n",
       "      <th>job</th>\n",
       "      <th>characters</th>\n",
       "    </tr>\n",
       "  </thead>\n",
       "  <tbody>\n",
       "    <tr>\n",
       "      <th>0</th>\n",
       "      <td>tt0000005</td>\n",
       "      <td>1</td>\n",
       "      <td>nm0443482</td>\n",
       "      <td>actor</td>\n",
       "      <td>NaN</td>\n",
       "      <td>[\"Blacksmith\"]</td>\n",
       "    </tr>\n",
       "    <tr>\n",
       "      <th>1</th>\n",
       "      <td>tt0000005</td>\n",
       "      <td>2</td>\n",
       "      <td>nm0653042</td>\n",
       "      <td>actor</td>\n",
       "      <td>NaN</td>\n",
       "      <td>[\"Assistant\"]</td>\n",
       "    </tr>\n",
       "    <tr>\n",
       "      <th>2</th>\n",
       "      <td>tt0000007</td>\n",
       "      <td>1</td>\n",
       "      <td>nm0179163</td>\n",
       "      <td>actor</td>\n",
       "      <td>NaN</td>\n",
       "      <td>NaN</td>\n",
       "    </tr>\n",
       "    <tr>\n",
       "      <th>3</th>\n",
       "      <td>tt0000007</td>\n",
       "      <td>2</td>\n",
       "      <td>nm0183947</td>\n",
       "      <td>actor</td>\n",
       "      <td>NaN</td>\n",
       "      <td>NaN</td>\n",
       "    </tr>\n",
       "    <tr>\n",
       "      <th>4</th>\n",
       "      <td>tt0000008</td>\n",
       "      <td>1</td>\n",
       "      <td>nm0653028</td>\n",
       "      <td>actor</td>\n",
       "      <td>NaN</td>\n",
       "      <td>[\"Sneezing Man\"]</td>\n",
       "    </tr>\n",
       "  </tbody>\n",
       "</table>\n",
       "</div>"
      ],
      "text/plain": [
       "      tconst  ordering     nconst category  job        characters\n",
       "0  tt0000005         1  nm0443482    actor  NaN    [\"Blacksmith\"]\n",
       "1  tt0000005         2  nm0653042    actor  NaN     [\"Assistant\"]\n",
       "2  tt0000007         1  nm0179163    actor  NaN               NaN\n",
       "3  tt0000007         2  nm0183947    actor  NaN               NaN\n",
       "4  tt0000008         1  nm0653028    actor  NaN  [\"Sneezing Man\"]"
      ]
     },
     "execution_count": 178,
     "metadata": {},
     "output_type": "execute_result"
    }
   ],
   "source": [
    "# check si l'index est bien modifié\n",
    "title.head()"
   ]
  },
  {
   "cell_type": "markdown",
   "metadata": {},
   "source": [
    "## 2-Nettoyage de la base Movies :\n",
    "###          - Remplacer les \\N par des nan\n",
    "###          - Conservation uniquement des films titleType = movie\n",
    "###          - Retrait des films isadult\n",
    "###          - Suppresion des colonnes qui ne me sont plus utiles\n",
    "###          - suppression des lignes aux données startYear et runtimeMinutes avec des nan\n",
    "###          - change str en int sur les colonnes startYear et runtimeMinutes et tri sur durée + reset index\n",
    "###          - Tri des valeurs par nconst + set index"
   ]
  },
  {
   "cell_type": "code",
   "execution_count": 179,
   "metadata": {},
   "outputs": [],
   "source": [
    "# Remplacer les \\N par des nan\n",
    "\n",
    "movies.replace('\\\\N', np.nan, inplace=True)"
   ]
  },
  {
   "cell_type": "code",
   "execution_count": 180,
   "metadata": {},
   "outputs": [],
   "source": [
    "#Conservation uniquement des films titleType = movie\n",
    "\n",
    "movies = movies[movies['titleType'] == 'movie']"
   ]
  },
  {
   "cell_type": "code",
   "execution_count": 181,
   "metadata": {},
   "outputs": [],
   "source": [
    "# Retrait des films isadult \n",
    "\n",
    "movies = movies[movies['isAdult'] == '0']"
   ]
  },
  {
   "cell_type": "code",
   "execution_count": 182,
   "metadata": {},
   "outputs": [],
   "source": [
    "# supression des colonnes inutiles\n",
    "movies = movies.drop(columns=['primaryTitle','titleType', 'endYear', 'isAdult'])\n",
    "\n",
    "#movies = movies.drop(columns=['primaryTitle','originalTitle','titleType', 'endYear', 'isAdult', 'genres'])"
   ]
  },
  {
   "cell_type": "code",
   "execution_count": 183,
   "metadata": {},
   "outputs": [
    {
     "data": {
      "text/html": [
       "<div>\n",
       "<style scoped>\n",
       "    .dataframe tbody tr th:only-of-type {\n",
       "        vertical-align: middle;\n",
       "    }\n",
       "\n",
       "    .dataframe tbody tr th {\n",
       "        vertical-align: top;\n",
       "    }\n",
       "\n",
       "    .dataframe thead th {\n",
       "        text-align: right;\n",
       "    }\n",
       "</style>\n",
       "<table border=\"1\" class=\"dataframe\">\n",
       "  <thead>\n",
       "    <tr style=\"text-align: right;\">\n",
       "      <th></th>\n",
       "      <th>tconst</th>\n",
       "      <th>originalTitle</th>\n",
       "      <th>startYear</th>\n",
       "      <th>runtimeMinutes</th>\n",
       "      <th>genres</th>\n",
       "    </tr>\n",
       "  </thead>\n",
       "  <tbody>\n",
       "    <tr>\n",
       "      <th>682</th>\n",
       "      <td>tt2210499</td>\n",
       "      <td>Birmingham</td>\n",
       "      <td>1896</td>\n",
       "      <td>61</td>\n",
       "      <td>Documentary</td>\n",
       "    </tr>\n",
       "    <tr>\n",
       "      <th>1488</th>\n",
       "      <td>tt0229676</td>\n",
       "      <td>Reproduction of the Corbett and Fitzsimmons Fight</td>\n",
       "      <td>1897</td>\n",
       "      <td>NaN</td>\n",
       "      <td>Documentary,News,Sport</td>\n",
       "    </tr>\n",
       "  </tbody>\n",
       "</table>\n",
       "</div>"
      ],
      "text/plain": [
       "         tconst                                      originalTitle startYear  \\\n",
       "682   tt2210499                                         Birmingham      1896   \n",
       "1488  tt0229676  Reproduction of the Corbett and Fitzsimmons Fight      1897   \n",
       "\n",
       "     runtimeMinutes                  genres  \n",
       "682              61             Documentary  \n",
       "1488            NaN  Documentary,News,Sport  "
      ]
     },
     "execution_count": 183,
     "metadata": {},
     "output_type": "execute_result"
    }
   ],
   "source": [
    "movies.head(2)"
   ]
  },
  {
   "cell_type": "code",
   "execution_count": 184,
   "metadata": {},
   "outputs": [],
   "source": [
    "# suppression des lignes aux données startYear et runtimeMinutes avec des nan\n",
    "\n",
    "movies.dropna(subset=['startYear', 'runtimeMinutes' ], inplace=True)\n",
    "\n"
   ]
  },
  {
   "cell_type": "code",
   "execution_count": 185,
   "metadata": {},
   "outputs": [],
   "source": [
    "# change str en int sur les colonnes startYear et runtimeMinutes\n",
    "movies = movies.astype({'startYear': int})\n",
    "movies = movies.astype({'runtimeMinutes': int})"
   ]
  },
  {
   "cell_type": "code",
   "execution_count": 186,
   "metadata": {},
   "outputs": [],
   "source": [
    "#je ne conserve que les durées entre 58mn et inf à 270mn\n",
    "movies = movies[(movies['runtimeMinutes']>=58) & (movies['runtimeMinutes']<=270)]"
   ]
  },
  {
   "cell_type": "code",
   "execution_count": 187,
   "metadata": {},
   "outputs": [],
   "source": [
    "#reset index base movies (again !)\n",
    "movies.reset_index(inplace=True)\n",
    "\n",
    "#drop colonne index en double \n",
    "movies.drop('index',axis = 1, inplace=True)"
   ]
  },
  {
   "cell_type": "code",
   "execution_count": 188,
   "metadata": {},
   "outputs": [],
   "source": [
    "# trie par valeur nconst\n",
    "movies = movies.sort_values('tconst')\n",
    "\n",
    "#set_index = nconst\n",
    "movies = movies.set_index('tconst')"
   ]
  },
  {
   "cell_type": "code",
   "execution_count": 189,
   "metadata": {},
   "outputs": [
    {
     "data": {
      "text/html": [
       "<div>\n",
       "<style scoped>\n",
       "    .dataframe tbody tr th:only-of-type {\n",
       "        vertical-align: middle;\n",
       "    }\n",
       "\n",
       "    .dataframe tbody tr th {\n",
       "        vertical-align: top;\n",
       "    }\n",
       "\n",
       "    .dataframe thead th {\n",
       "        text-align: right;\n",
       "    }\n",
       "</style>\n",
       "<table border=\"1\" class=\"dataframe\">\n",
       "  <thead>\n",
       "    <tr style=\"text-align: right;\">\n",
       "      <th></th>\n",
       "      <th>originalTitle</th>\n",
       "      <th>startYear</th>\n",
       "      <th>runtimeMinutes</th>\n",
       "      <th>genres</th>\n",
       "    </tr>\n",
       "    <tr>\n",
       "      <th>tconst</th>\n",
       "      <th></th>\n",
       "      <th></th>\n",
       "      <th></th>\n",
       "      <th></th>\n",
       "    </tr>\n",
       "  </thead>\n",
       "  <tbody>\n",
       "    <tr>\n",
       "      <th>tt0000502</th>\n",
       "      <td>Bohemios</td>\n",
       "      <td>1905</td>\n",
       "      <td>100</td>\n",
       "      <td>NaN</td>\n",
       "    </tr>\n",
       "    <tr>\n",
       "      <th>tt0000574</th>\n",
       "      <td>The Story of the Kelly Gang</td>\n",
       "      <td>1906</td>\n",
       "      <td>70</td>\n",
       "      <td>Action,Adventure,Biography</td>\n",
       "    </tr>\n",
       "  </tbody>\n",
       "</table>\n",
       "</div>"
      ],
      "text/plain": [
       "                         originalTitle  startYear  runtimeMinutes  \\\n",
       "tconst                                                              \n",
       "tt0000502                     Bohemios       1905             100   \n",
       "tt0000574  The Story of the Kelly Gang       1906              70   \n",
       "\n",
       "                               genres  \n",
       "tconst                                 \n",
       "tt0000502                         NaN  \n",
       "tt0000574  Action,Adventure,Biography  "
      ]
     },
     "execution_count": 189,
     "metadata": {},
     "output_type": "execute_result"
    }
   ],
   "source": [
    "#check\n",
    "movies.head(2)"
   ]
  },
  {
   "cell_type": "code",
   "execution_count": 190,
   "metadata": {},
   "outputs": [
    {
     "data": {
      "text/plain": [
       "(326163, 4)"
      ]
     },
     "execution_count": 190,
     "metadata": {},
     "output_type": "execute_result"
    }
   ],
   "source": [
    "# table uniquement avec les données conservées\n",
    "movies.shape "
   ]
  },
  {
   "cell_type": "markdown",
   "metadata": {},
   "source": [
    "## 3- Nettoyage de la base Actors :\n",
    "###        - Remplacer les \\N par des nan\n",
    "###        - Supprimer les lignes qui contiennent des nan dans la colonne birthYear  \n",
    "###        - Retirer les colonnes qui ne me sont pas utiles\n",
    "###        - Supprimer les acteurs nés avant 1800 + reset index\n",
    "###        - change str en int sur les colonnes startYear et runtimeMinutes\n",
    "###        - Tri des valeurs par nconst + set index"
   ]
  },
  {
   "cell_type": "code",
   "execution_count": 191,
   "metadata": {},
   "outputs": [],
   "source": [
    "# remplacer les \\N pas des nan \n",
    "\n",
    "actors.replace('\\\\N', np.nan, inplace=True)"
   ]
  },
  {
   "cell_type": "code",
   "execution_count": 192,
   "metadata": {},
   "outputs": [],
   "source": [
    "# suppression des lignes qui comportent des Nan dans la colonne birthYear\n",
    "\n",
    "actors.dropna(subset=['birthYear'], inplace=True)"
   ]
  },
  {
   "cell_type": "code",
   "execution_count": 193,
   "metadata": {},
   "outputs": [],
   "source": [
    "# Retirer les colonnes qui ne me sont pas utiles\n",
    "#actors.drop(columns=['deathYear', 'primaryProfession', 'knownForTitles'], inplace=True)"
   ]
  },
  {
   "cell_type": "code",
   "execution_count": 194,
   "metadata": {},
   "outputs": [],
   "source": [
    "# ne conserve que les rows des acteurs/actrices nés avant 1800\n",
    "actors = actors[actors['birthYear'] >= '1800']\n",
    "\n",
    "#reset index base actors (again !)\n",
    "actors.reset_index(inplace=True)\n",
    "\n",
    "#drop colonne index en double (again !)\n",
    "actors.drop('index',axis = 1, inplace=True)"
   ]
  },
  {
   "cell_type": "code",
   "execution_count": 195,
   "metadata": {},
   "outputs": [],
   "source": [
    "# change str en int sur les colonnes startYear et runtimeMinutes\n",
    "actors = actors.astype({'birthYear': int})"
   ]
  },
  {
   "cell_type": "code",
   "execution_count": 196,
   "metadata": {},
   "outputs": [],
   "source": [
    "# Table actors - trie par valeur nconst\n",
    "actors = actors.sort_values('nconst')\n",
    "\n",
    "#set_index = nconst\n",
    "actors = actors.set_index('nconst')"
   ]
  },
  {
   "cell_type": "code",
   "execution_count": 197,
   "metadata": {},
   "outputs": [
    {
     "name": "stdout",
     "output_type": "stream",
     "text": [
      "<class 'pandas.core.frame.DataFrame'>\n",
      "Index: 536849 entries, nm0000001 to nm9993675\n",
      "Data columns (total 5 columns):\n",
      " #   Column             Non-Null Count   Dtype \n",
      "---  ------             --------------   ----- \n",
      " 0   primaryName        536849 non-null  object\n",
      " 1   birthYear          536849 non-null  int32 \n",
      " 2   deathYear          183622 non-null  object\n",
      " 3   primaryProfession  470277 non-null  object\n",
      " 4   knownForTitles     523878 non-null  object\n",
      "dtypes: int32(1), object(4)\n",
      "memory usage: 22.5+ MB\n"
     ]
    }
   ],
   "source": [
    "actors.info()"
   ]
  },
  {
   "cell_type": "code",
   "execution_count": 198,
   "metadata": {},
   "outputs": [
    {
     "data": {
      "text/html": [
       "<div>\n",
       "<style scoped>\n",
       "    .dataframe tbody tr th:only-of-type {\n",
       "        vertical-align: middle;\n",
       "    }\n",
       "\n",
       "    .dataframe tbody tr th {\n",
       "        vertical-align: top;\n",
       "    }\n",
       "\n",
       "    .dataframe thead th {\n",
       "        text-align: right;\n",
       "    }\n",
       "</style>\n",
       "<table border=\"1\" class=\"dataframe\">\n",
       "  <thead>\n",
       "    <tr style=\"text-align: right;\">\n",
       "      <th></th>\n",
       "      <th>primaryName</th>\n",
       "      <th>birthYear</th>\n",
       "      <th>deathYear</th>\n",
       "      <th>primaryProfession</th>\n",
       "      <th>knownForTitles</th>\n",
       "    </tr>\n",
       "    <tr>\n",
       "      <th>nconst</th>\n",
       "      <th></th>\n",
       "      <th></th>\n",
       "      <th></th>\n",
       "      <th></th>\n",
       "      <th></th>\n",
       "    </tr>\n",
       "  </thead>\n",
       "  <tbody>\n",
       "    <tr>\n",
       "      <th>nm0000001</th>\n",
       "      <td>Fred Astaire</td>\n",
       "      <td>1899</td>\n",
       "      <td>1987</td>\n",
       "      <td>soundtrack,actor,miscellaneous</td>\n",
       "      <td>tt0031983,tt0050419,tt0053137,tt0072308</td>\n",
       "    </tr>\n",
       "    <tr>\n",
       "      <th>nm0000002</th>\n",
       "      <td>Lauren Bacall</td>\n",
       "      <td>1924</td>\n",
       "      <td>2014</td>\n",
       "      <td>actress,soundtrack</td>\n",
       "      <td>tt0071877,tt0117057,tt0038355,tt0037382</td>\n",
       "    </tr>\n",
       "    <tr>\n",
       "      <th>nm0000003</th>\n",
       "      <td>Brigitte Bardot</td>\n",
       "      <td>1934</td>\n",
       "      <td>NaN</td>\n",
       "      <td>actress,soundtrack,music_department</td>\n",
       "      <td>tt0056404,tt0049189,tt0054452,tt0057345</td>\n",
       "    </tr>\n",
       "    <tr>\n",
       "      <th>nm0000004</th>\n",
       "      <td>John Belushi</td>\n",
       "      <td>1949</td>\n",
       "      <td>1982</td>\n",
       "      <td>actor,soundtrack,writer</td>\n",
       "      <td>tt0078723,tt0080455,tt0072562,tt0077975</td>\n",
       "    </tr>\n",
       "    <tr>\n",
       "      <th>nm0000005</th>\n",
       "      <td>Ingmar Bergman</td>\n",
       "      <td>1918</td>\n",
       "      <td>2007</td>\n",
       "      <td>writer,director,actor</td>\n",
       "      <td>tt0083922,tt0060827,tt0050986,tt0050976</td>\n",
       "    </tr>\n",
       "  </tbody>\n",
       "</table>\n",
       "</div>"
      ],
      "text/plain": [
       "               primaryName  birthYear deathYear  \\\n",
       "nconst                                            \n",
       "nm0000001     Fred Astaire       1899      1987   \n",
       "nm0000002    Lauren Bacall       1924      2014   \n",
       "nm0000003  Brigitte Bardot       1934       NaN   \n",
       "nm0000004     John Belushi       1949      1982   \n",
       "nm0000005   Ingmar Bergman       1918      2007   \n",
       "\n",
       "                             primaryProfession  \\\n",
       "nconst                                           \n",
       "nm0000001       soundtrack,actor,miscellaneous   \n",
       "nm0000002                   actress,soundtrack   \n",
       "nm0000003  actress,soundtrack,music_department   \n",
       "nm0000004              actor,soundtrack,writer   \n",
       "nm0000005                writer,director,actor   \n",
       "\n",
       "                                    knownForTitles  \n",
       "nconst                                              \n",
       "nm0000001  tt0031983,tt0050419,tt0053137,tt0072308  \n",
       "nm0000002  tt0071877,tt0117057,tt0038355,tt0037382  \n",
       "nm0000003  tt0056404,tt0049189,tt0054452,tt0057345  \n",
       "nm0000004  tt0078723,tt0080455,tt0072562,tt0077975  \n",
       "nm0000005  tt0083922,tt0060827,tt0050986,tt0050976  "
      ]
     },
     "execution_count": 198,
     "metadata": {},
     "output_type": "execute_result"
    }
   ],
   "source": [
    "# check index\n",
    "actors.head()"
   ]
  },
  {
   "cell_type": "code",
   "execution_count": 199,
   "metadata": {},
   "outputs": [],
   "source": [
    "# explode colonne primaryProfession\n",
    "#actors[['firstProfession', 'secondProfession', 'thirdProfession']] = actors['primaryProfession'].str.split(',', n=2, expand=True)\n",
    "\n",
    "#drop colonne primaryProfession\n",
    "#actors.drop(columns=['primaryProfession'],axis = 1, inplace=True)"
   ]
  },
  {
   "cell_type": "code",
   "execution_count": 200,
   "metadata": {},
   "outputs": [],
   "source": [
    "# check dataframe actors\n",
    "#actors.head()"
   ]
  },
  {
   "cell_type": "code",
   "execution_count": 201,
   "metadata": {},
   "outputs": [],
   "source": [
    "# Je ne garde que les acteurs/actrices de mes trois colonnes : firstProfession, secondProfession, thirdProfession\n",
    "\n",
    "#actors = actors[(actors['firstProfession'].isin(['actress','actor'])) | ( actors['secondProfession'].isin(['actress','actor'])) | ( actors['thirdProfession'].isin(['actress','actor']))]"
   ]
  },
  {
   "cell_type": "code",
   "execution_count": 202,
   "metadata": {},
   "outputs": [],
   "source": [
    "#drop colums firstProfession, secondProfession, thirdProfession qui ne me sont plus utiles\n",
    "#actors.drop(columns=['firstProfession','secondProfession', 'thirdProfession'],axis = 1, inplace=True)"
   ]
  },
  {
   "cell_type": "markdown",
   "metadata": {},
   "source": [
    "## 3- Nettoyage de la base Title :\n",
    "###        - Remplacer les \\N par des nan\n",
    "###        - dropna sur les cellules tconst non renseignées\n",
    "###        - supprimer les colonnes inutiles\n",
    "###        - Tri des valeurs par nconst + set index"
   ]
  },
  {
   "cell_type": "code",
   "execution_count": 203,
   "metadata": {},
   "outputs": [],
   "source": [
    "# Remplacer les \\N par des nan\n",
    "\n",
    "title.replace('\\\\N', np.nan, inplace=True)"
   ]
  },
  {
   "cell_type": "code",
   "execution_count": 204,
   "metadata": {},
   "outputs": [],
   "source": [
    "#dropna sur les cellules startyear non renseignées\n",
    "\n",
    "title.dropna(subset=['tconst'],inplace=True)"
   ]
  },
  {
   "cell_type": "code",
   "execution_count": 205,
   "metadata": {},
   "outputs": [
    {
     "data": {
      "text/html": [
       "<div>\n",
       "<style scoped>\n",
       "    .dataframe tbody tr th:only-of-type {\n",
       "        vertical-align: middle;\n",
       "    }\n",
       "\n",
       "    .dataframe tbody tr th {\n",
       "        vertical-align: top;\n",
       "    }\n",
       "\n",
       "    .dataframe thead th {\n",
       "        text-align: right;\n",
       "    }\n",
       "</style>\n",
       "<table border=\"1\" class=\"dataframe\">\n",
       "  <thead>\n",
       "    <tr style=\"text-align: right;\">\n",
       "      <th></th>\n",
       "      <th>tconst</th>\n",
       "      <th>ordering</th>\n",
       "      <th>nconst</th>\n",
       "      <th>category</th>\n",
       "      <th>job</th>\n",
       "      <th>characters</th>\n",
       "    </tr>\n",
       "  </thead>\n",
       "  <tbody>\n",
       "    <tr>\n",
       "      <th>0</th>\n",
       "      <td>tt0000005</td>\n",
       "      <td>1</td>\n",
       "      <td>nm0443482</td>\n",
       "      <td>actor</td>\n",
       "      <td>NaN</td>\n",
       "      <td>[\"Blacksmith\"]</td>\n",
       "    </tr>\n",
       "    <tr>\n",
       "      <th>1</th>\n",
       "      <td>tt0000005</td>\n",
       "      <td>2</td>\n",
       "      <td>nm0653042</td>\n",
       "      <td>actor</td>\n",
       "      <td>NaN</td>\n",
       "      <td>[\"Assistant\"]</td>\n",
       "    </tr>\n",
       "  </tbody>\n",
       "</table>\n",
       "</div>"
      ],
      "text/plain": [
       "      tconst  ordering     nconst category  job      characters\n",
       "0  tt0000005         1  nm0443482    actor  NaN  [\"Blacksmith\"]\n",
       "1  tt0000005         2  nm0653042    actor  NaN   [\"Assistant\"]"
      ]
     },
     "execution_count": 205,
     "metadata": {},
     "output_type": "execute_result"
    }
   ],
   "source": [
    "title.head(2)"
   ]
  },
  {
   "cell_type": "code",
   "execution_count": 206,
   "metadata": {},
   "outputs": [],
   "source": [
    "# suppression des colonnes inutiles\n",
    "\n",
    "title.drop(columns=['ordering','job', 'characters'], inplace=True)"
   ]
  },
  {
   "cell_type": "code",
   "execution_count": 207,
   "metadata": {},
   "outputs": [],
   "source": [
    "# trie par valeur nconst\n",
    "title = title.sort_values('nconst')\n",
    "\n",
    "#set_index = nconst\n",
    "title = title.set_index('nconst')"
   ]
  },
  {
   "cell_type": "code",
   "execution_count": 208,
   "metadata": {},
   "outputs": [
    {
     "data": {
      "text/html": [
       "<div>\n",
       "<style scoped>\n",
       "    .dataframe tbody tr th:only-of-type {\n",
       "        vertical-align: middle;\n",
       "    }\n",
       "\n",
       "    .dataframe tbody tr th {\n",
       "        vertical-align: top;\n",
       "    }\n",
       "\n",
       "    .dataframe thead th {\n",
       "        text-align: right;\n",
       "    }\n",
       "</style>\n",
       "<table border=\"1\" class=\"dataframe\">\n",
       "  <thead>\n",
       "    <tr style=\"text-align: right;\">\n",
       "      <th></th>\n",
       "      <th>tconst</th>\n",
       "      <th>category</th>\n",
       "    </tr>\n",
       "    <tr>\n",
       "      <th>nconst</th>\n",
       "      <th></th>\n",
       "      <th></th>\n",
       "    </tr>\n",
       "  </thead>\n",
       "  <tbody>\n",
       "    <tr>\n",
       "      <th>nm0000001</th>\n",
       "      <td>tt0055307</td>\n",
       "      <td>actor</td>\n",
       "    </tr>\n",
       "    <tr>\n",
       "      <th>nm0000001</th>\n",
       "      <td>tt0031983</td>\n",
       "      <td>actor</td>\n",
       "    </tr>\n",
       "    <tr>\n",
       "      <th>nm0000001</th>\n",
       "      <td>tt0029971</td>\n",
       "      <td>actor</td>\n",
       "    </tr>\n",
       "    <tr>\n",
       "      <th>nm0000001</th>\n",
       "      <td>tt0507706</td>\n",
       "      <td>actor</td>\n",
       "    </tr>\n",
       "    <tr>\n",
       "      <th>nm0000001</th>\n",
       "      <td>tt0038370</td>\n",
       "      <td>actor</td>\n",
       "    </tr>\n",
       "  </tbody>\n",
       "</table>\n",
       "</div>"
      ],
      "text/plain": [
       "              tconst category\n",
       "nconst                       \n",
       "nm0000001  tt0055307    actor\n",
       "nm0000001  tt0031983    actor\n",
       "nm0000001  tt0029971    actor\n",
       "nm0000001  tt0507706    actor\n",
       "nm0000001  tt0038370    actor"
      ]
     },
     "execution_count": 208,
     "metadata": {},
     "output_type": "execute_result"
    }
   ],
   "source": [
    "title.head()"
   ]
  },
  {
   "cell_type": "markdown",
   "metadata": {},
   "source": [
    "## 3- Joindre les tables et retrier :"
   ]
  },
  {
   "cell_type": "code",
   "execution_count": 209,
   "metadata": {},
   "outputs": [
    {
     "data": {
      "text/html": [
       "<div>\n",
       "<style scoped>\n",
       "    .dataframe tbody tr th:only-of-type {\n",
       "        vertical-align: middle;\n",
       "    }\n",
       "\n",
       "    .dataframe tbody tr th {\n",
       "        vertical-align: top;\n",
       "    }\n",
       "\n",
       "    .dataframe thead th {\n",
       "        text-align: right;\n",
       "    }\n",
       "</style>\n",
       "<table border=\"1\" class=\"dataframe\">\n",
       "  <thead>\n",
       "    <tr style=\"text-align: right;\">\n",
       "      <th></th>\n",
       "      <th>primaryName</th>\n",
       "      <th>birthYear</th>\n",
       "      <th>deathYear</th>\n",
       "      <th>primaryProfession</th>\n",
       "      <th>knownForTitles</th>\n",
       "    </tr>\n",
       "    <tr>\n",
       "      <th>nconst</th>\n",
       "      <th></th>\n",
       "      <th></th>\n",
       "      <th></th>\n",
       "      <th></th>\n",
       "      <th></th>\n",
       "    </tr>\n",
       "  </thead>\n",
       "  <tbody>\n",
       "    <tr>\n",
       "      <th>nm0000001</th>\n",
       "      <td>Fred Astaire</td>\n",
       "      <td>1899</td>\n",
       "      <td>1987</td>\n",
       "      <td>soundtrack,actor,miscellaneous</td>\n",
       "      <td>tt0031983,tt0050419,tt0053137,tt0072308</td>\n",
       "    </tr>\n",
       "    <tr>\n",
       "      <th>nm0000002</th>\n",
       "      <td>Lauren Bacall</td>\n",
       "      <td>1924</td>\n",
       "      <td>2014</td>\n",
       "      <td>actress,soundtrack</td>\n",
       "      <td>tt0071877,tt0117057,tt0038355,tt0037382</td>\n",
       "    </tr>\n",
       "  </tbody>\n",
       "</table>\n",
       "</div>"
      ],
      "text/plain": [
       "             primaryName  birthYear deathYear               primaryProfession  \\\n",
       "nconst                                                                          \n",
       "nm0000001   Fred Astaire       1899      1987  soundtrack,actor,miscellaneous   \n",
       "nm0000002  Lauren Bacall       1924      2014              actress,soundtrack   \n",
       "\n",
       "                                    knownForTitles  \n",
       "nconst                                              \n",
       "nm0000001  tt0031983,tt0050419,tt0053137,tt0072308  \n",
       "nm0000002  tt0071877,tt0117057,tt0038355,tt0037382  "
      ]
     },
     "execution_count": 209,
     "metadata": {},
     "output_type": "execute_result"
    }
   ],
   "source": [
    "# Table actors\n",
    "actors.head(2)\n"
   ]
  },
  {
   "cell_type": "code",
   "execution_count": 210,
   "metadata": {},
   "outputs": [
    {
     "data": {
      "text/html": [
       "<div>\n",
       "<style scoped>\n",
       "    .dataframe tbody tr th:only-of-type {\n",
       "        vertical-align: middle;\n",
       "    }\n",
       "\n",
       "    .dataframe tbody tr th {\n",
       "        vertical-align: top;\n",
       "    }\n",
       "\n",
       "    .dataframe thead th {\n",
       "        text-align: right;\n",
       "    }\n",
       "</style>\n",
       "<table border=\"1\" class=\"dataframe\">\n",
       "  <thead>\n",
       "    <tr style=\"text-align: right;\">\n",
       "      <th></th>\n",
       "      <th>tconst</th>\n",
       "      <th>category</th>\n",
       "    </tr>\n",
       "    <tr>\n",
       "      <th>nconst</th>\n",
       "      <th></th>\n",
       "      <th></th>\n",
       "    </tr>\n",
       "  </thead>\n",
       "  <tbody>\n",
       "    <tr>\n",
       "      <th>nm0000001</th>\n",
       "      <td>tt0055307</td>\n",
       "      <td>actor</td>\n",
       "    </tr>\n",
       "    <tr>\n",
       "      <th>nm0000001</th>\n",
       "      <td>tt0031983</td>\n",
       "      <td>actor</td>\n",
       "    </tr>\n",
       "  </tbody>\n",
       "</table>\n",
       "</div>"
      ],
      "text/plain": [
       "              tconst category\n",
       "nconst                       \n",
       "nm0000001  tt0055307    actor\n",
       "nm0000001  tt0031983    actor"
      ]
     },
     "execution_count": 210,
     "metadata": {},
     "output_type": "execute_result"
    }
   ],
   "source": [
    "# table title:\n",
    "title.head(2)"
   ]
  },
  {
   "cell_type": "code",
   "execution_count": 211,
   "metadata": {},
   "outputs": [],
   "source": [
    "# merge des tables actors et title \n",
    "df_actors_title = actors.merge(title , how='inner', on='nconst')\n",
    "\n",
    "#reset index de la nouvelle table : df_actors_title\n",
    "df_actors_title = df_actors_title.reset_index()\n",
    "\n",
    "#check\n",
    "df_actors_title.head(2)"
   ]
  },
  {
   "cell_type": "code",
   "execution_count": 215,
   "metadata": {},
   "outputs": [],
   "source": [
    "#set index de la table merge avec la colonne tconst (pour mon prochain merge)\n",
    "df_actors_title = df_actors_title.set_index('tconst')\n",
    "\n",
    "#check\n",
    "df_actors_title.head(2)"
   ]
  },
  {
   "cell_type": "code",
   "execution_count": 217,
   "metadata": {},
   "outputs": [
    {
     "data": {
      "text/html": [
       "<div>\n",
       "<style scoped>\n",
       "    .dataframe tbody tr th:only-of-type {\n",
       "        vertical-align: middle;\n",
       "    }\n",
       "\n",
       "    .dataframe tbody tr th {\n",
       "        vertical-align: top;\n",
       "    }\n",
       "\n",
       "    .dataframe thead th {\n",
       "        text-align: right;\n",
       "    }\n",
       "</style>\n",
       "<table border=\"1\" class=\"dataframe\">\n",
       "  <thead>\n",
       "    <tr style=\"text-align: right;\">\n",
       "      <th></th>\n",
       "      <th>originalTitle</th>\n",
       "      <th>startYear</th>\n",
       "      <th>runtimeMinutes</th>\n",
       "      <th>genres</th>\n",
       "    </tr>\n",
       "    <tr>\n",
       "      <th>tconst</th>\n",
       "      <th></th>\n",
       "      <th></th>\n",
       "      <th></th>\n",
       "      <th></th>\n",
       "    </tr>\n",
       "  </thead>\n",
       "  <tbody>\n",
       "    <tr>\n",
       "      <th>tt0000502</th>\n",
       "      <td>Bohemios</td>\n",
       "      <td>1905</td>\n",
       "      <td>100</td>\n",
       "      <td>NaN</td>\n",
       "    </tr>\n",
       "    <tr>\n",
       "      <th>tt0000574</th>\n",
       "      <td>The Story of the Kelly Gang</td>\n",
       "      <td>1906</td>\n",
       "      <td>70</td>\n",
       "      <td>Action,Adventure,Biography</td>\n",
       "    </tr>\n",
       "  </tbody>\n",
       "</table>\n",
       "</div>"
      ],
      "text/plain": [
       "                         originalTitle  startYear  runtimeMinutes  \\\n",
       "tconst                                                              \n",
       "tt0000502                     Bohemios       1905             100   \n",
       "tt0000574  The Story of the Kelly Gang       1906              70   \n",
       "\n",
       "                               genres  \n",
       "tconst                                 \n",
       "tt0000502                         NaN  \n",
       "tt0000574  Action,Adventure,Biography  "
      ]
     },
     "execution_count": 217,
     "metadata": {},
     "output_type": "execute_result"
    }
   ],
   "source": [
    "# Table  movies\n",
    "movies.head(2)"
   ]
  },
  {
   "cell_type": "code",
   "execution_count": 248,
   "metadata": {},
   "outputs": [],
   "source": [
    "# merge des tables df_actors_title  et movies\n",
    "\n",
    "actors_title_movies = df_actors_title.merge(movies, how='inner', on='tconst' )\n",
    "\n",
    "# check merge actors_title  et movies\n",
    "actors_title_movies.head(2)\n"
   ]
  },
  {
   "cell_type": "markdown",
   "metadata": {},
   "source": [
    "## Création colonne de l'âge de l'acteur au moment du film"
   ]
  },
  {
   "cell_type": "code",
   "execution_count": 282,
   "metadata": {},
   "outputs": [
    {
     "data": {
      "text/html": [
       "<div>\n",
       "<style scoped>\n",
       "    .dataframe tbody tr th:only-of-type {\n",
       "        vertical-align: middle;\n",
       "    }\n",
       "\n",
       "    .dataframe tbody tr th {\n",
       "        vertical-align: top;\n",
       "    }\n",
       "\n",
       "    .dataframe thead th {\n",
       "        text-align: right;\n",
       "    }\n",
       "</style>\n",
       "<table border=\"1\" class=\"dataframe\">\n",
       "  <thead>\n",
       "    <tr style=\"text-align: right;\">\n",
       "      <th></th>\n",
       "      <th>primaryName</th>\n",
       "      <th>birthYear</th>\n",
       "      <th>deathYear</th>\n",
       "      <th>category</th>\n",
       "      <th>originalTitle</th>\n",
       "      <th>startYear</th>\n",
       "      <th>age_actor_actress</th>\n",
       "    </tr>\n",
       "  </thead>\n",
       "  <tbody>\n",
       "    <tr>\n",
       "      <th>0</th>\n",
       "      <td>Fred Astaire</td>\n",
       "      <td>1899</td>\n",
       "      <td>1987</td>\n",
       "      <td>actor</td>\n",
       "      <td>The Pleasure of His Company</td>\n",
       "      <td>1961</td>\n",
       "      <td>62</td>\n",
       "    </tr>\n",
       "    <tr>\n",
       "      <th>1</th>\n",
       "      <td>Debbie Reynolds</td>\n",
       "      <td>1932</td>\n",
       "      <td>2016</td>\n",
       "      <td>actress</td>\n",
       "      <td>The Pleasure of His Company</td>\n",
       "      <td>1961</td>\n",
       "      <td>29</td>\n",
       "    </tr>\n",
       "  </tbody>\n",
       "</table>\n",
       "</div>"
      ],
      "text/plain": [
       "       primaryName  birthYear deathYear category                originalTitle  \\\n",
       "0     Fred Astaire       1899      1987    actor  The Pleasure of His Company   \n",
       "1  Debbie Reynolds       1932      2016  actress  The Pleasure of His Company   \n",
       "\n",
       "   startYear  age_actor_actress  \n",
       "0       1961                 62  \n",
       "1       1961                 29  "
      ]
     },
     "execution_count": 282,
     "metadata": {},
     "output_type": "execute_result"
    }
   ],
   "source": [
    "# age_actor_actress = startYear - birthYear\n",
    "actors_title_movies['age_actor_actress'] = actors_title_movies['startYear'] - actors_title_movies['birthYear']\n",
    "\n",
    "#check\n",
    "actors_title_movies.head(2)\n"
   ]
  },
  {
   "cell_type": "markdown",
   "metadata": {},
   "source": [
    "## Clean df merge comprenant les 3 tables : actors_title_movies"
   ]
  },
  {
   "cell_type": "code",
   "execution_count": null,
   "metadata": {},
   "outputs": [],
   "source": [
    "#reset index de la table pour que la Pk soit unique\n",
    "actors_title_movies = actors_title_movies.reset_index()\n",
    "\n",
    "#drop colonnes qui m'ont servi uniquement à vérifier mes merges\n",
    "actors_title_movies.drop(columns=['tconst', 'nconst', 'primaryProfession','knownForTitles','runtimeMinutes', 'genres'], inplace=True)\n",
    "\n",
    "# je tri ici car cela permet de trier toutes les tables d'un seul et éviter de faire 3 fois la même opé\n",
    "actors_title_movies = actors_title_movies[(actors_title_movies['startYear'] >= 1918) & (actors_title_movies['startYear'] <= 2021)]\n",
    "\n",
    "#check\n",
    "actors_title_movies.head()"
   ]
  },
  {
   "cell_type": "markdown",
   "metadata": {},
   "source": [
    "## Groupby startYear et moyenne des ages des acteurs (tous genres confondus)\n",
    "### Pour avoir l'âge moyen des acteurs par année"
   ]
  },
  {
   "cell_type": "code",
   "execution_count": 285,
   "metadata": {},
   "outputs": [
    {
     "data": {
      "text/html": [
       "<div>\n",
       "<style scoped>\n",
       "    .dataframe tbody tr th:only-of-type {\n",
       "        vertical-align: middle;\n",
       "    }\n",
       "\n",
       "    .dataframe tbody tr th {\n",
       "        vertical-align: top;\n",
       "    }\n",
       "\n",
       "    .dataframe thead th {\n",
       "        text-align: right;\n",
       "    }\n",
       "</style>\n",
       "<table border=\"1\" class=\"dataframe\">\n",
       "  <thead>\n",
       "    <tr style=\"text-align: right;\">\n",
       "      <th></th>\n",
       "      <th>startYear</th>\n",
       "      <th>age_actor_actress</th>\n",
       "    </tr>\n",
       "  </thead>\n",
       "  <tbody>\n",
       "    <tr>\n",
       "      <th>0</th>\n",
       "      <td>1918</td>\n",
       "      <td>37.0</td>\n",
       "    </tr>\n",
       "    <tr>\n",
       "      <th>1</th>\n",
       "      <td>1919</td>\n",
       "      <td>36.0</td>\n",
       "    </tr>\n",
       "    <tr>\n",
       "      <th>2</th>\n",
       "      <td>1920</td>\n",
       "      <td>37.0</td>\n",
       "    </tr>\n",
       "    <tr>\n",
       "      <th>3</th>\n",
       "      <td>1921</td>\n",
       "      <td>37.0</td>\n",
       "    </tr>\n",
       "    <tr>\n",
       "      <th>4</th>\n",
       "      <td>1922</td>\n",
       "      <td>37.0</td>\n",
       "    </tr>\n",
       "  </tbody>\n",
       "</table>\n",
       "</div>"
      ],
      "text/plain": [
       "   startYear  age_actor_actress\n",
       "0       1918               37.0\n",
       "1       1919               36.0\n",
       "2       1920               37.0\n",
       "3       1921               37.0\n",
       "4       1922               37.0"
      ]
     },
     "execution_count": 285,
     "metadata": {},
     "output_type": "execute_result"
    }
   ],
   "source": [
    "# calcul moyenne age groupby(by=[\"originalTitle\" & \"startYear\"])\n",
    "age_mean_year = round(actors_title_movies.groupby(by=[\"startYear\"]).mean('age_actor_actress'))\n",
    "\n",
    "#reset index\n",
    "age_mean_year = age_mean_year.reset_index()\n",
    "\n",
    "#drop colonnes\n",
    "age_mean_year.drop(columns=['index', 'birthYear'], inplace =True)\n",
    "\n",
    "#check df age_mean2\n",
    "age_mean_year.head()"
   ]
  },
  {
   "cell_type": "markdown",
   "metadata": {},
   "source": [
    "## Table actor et table actress"
   ]
  },
  {
   "cell_type": "code",
   "execution_count": 293,
   "metadata": {},
   "outputs": [],
   "source": [
    "# Actors\n",
    "actors = actors_title_movies[actors_title_movies['category'] == \"actor\"]\n",
    "\n",
    "#Actress\n",
    "actress = actors_title_movies[actors_title_movies['category'] == \"actress\"]\n"
   ]
  },
  {
   "cell_type": "markdown",
   "metadata": {},
   "source": [
    "## Groupby startYear et moyenne des ages des acteurs masculins"
   ]
  },
  {
   "cell_type": "code",
   "execution_count": 294,
   "metadata": {},
   "outputs": [
    {
     "data": {
      "text/html": [
       "<div>\n",
       "<style scoped>\n",
       "    .dataframe tbody tr th:only-of-type {\n",
       "        vertical-align: middle;\n",
       "    }\n",
       "\n",
       "    .dataframe tbody tr th {\n",
       "        vertical-align: top;\n",
       "    }\n",
       "\n",
       "    .dataframe thead th {\n",
       "        text-align: right;\n",
       "    }\n",
       "</style>\n",
       "<table border=\"1\" class=\"dataframe\">\n",
       "  <thead>\n",
       "    <tr style=\"text-align: right;\">\n",
       "      <th></th>\n",
       "      <th>startYear</th>\n",
       "      <th>mean_age_actors</th>\n",
       "    </tr>\n",
       "  </thead>\n",
       "  <tbody>\n",
       "    <tr>\n",
       "      <th>0</th>\n",
       "      <td>1918</td>\n",
       "      <td>40.0</td>\n",
       "    </tr>\n",
       "    <tr>\n",
       "      <th>1</th>\n",
       "      <td>1919</td>\n",
       "      <td>40.0</td>\n",
       "    </tr>\n",
       "    <tr>\n",
       "      <th>2</th>\n",
       "      <td>1920</td>\n",
       "      <td>40.0</td>\n",
       "    </tr>\n",
       "    <tr>\n",
       "      <th>3</th>\n",
       "      <td>1921</td>\n",
       "      <td>40.0</td>\n",
       "    </tr>\n",
       "    <tr>\n",
       "      <th>4</th>\n",
       "      <td>1922</td>\n",
       "      <td>40.0</td>\n",
       "    </tr>\n",
       "  </tbody>\n",
       "</table>\n",
       "</div>"
      ],
      "text/plain": [
       "   startYear  mean_age_actors\n",
       "0       1918             40.0\n",
       "1       1919             40.0\n",
       "2       1920             40.0\n",
       "3       1921             40.0\n",
       "4       1922             40.0"
      ]
     },
     "execution_count": 294,
     "metadata": {},
     "output_type": "execute_result"
    }
   ],
   "source": [
    "# calcul moyenne age groupby(by=[\"originalTitle\" & \"startYear\"])\n",
    "age_mean_year_actors = round(actors.groupby(by=[\"startYear\"]).mean('age_actor_actress'))\n",
    "\n",
    "#reset index\n",
    "age_mean_year_actors = age_mean_year_actors.reset_index()\n",
    "\n",
    "#drop colonnes\n",
    "age_mean_year_actors.drop(columns=['index', 'birthYear'], inplace =True)\n",
    "\n",
    "#rename nom colonne age_actor_actress\n",
    "age_mean_year_actors.rename(columns={'age_actor_actress':'mean_age_actors'}, inplace=True)\n",
    "\n",
    "#check df age_mean2\n",
    "age_mean_year_actors.head()"
   ]
  },
  {
   "cell_type": "markdown",
   "metadata": {},
   "source": [
    "## Groupby startYear et moyenne des ages des actrices"
   ]
  },
  {
   "cell_type": "code",
   "execution_count": 295,
   "metadata": {},
   "outputs": [
    {
     "data": {
      "text/html": [
       "<div>\n",
       "<style scoped>\n",
       "    .dataframe tbody tr th:only-of-type {\n",
       "        vertical-align: middle;\n",
       "    }\n",
       "\n",
       "    .dataframe tbody tr th {\n",
       "        vertical-align: top;\n",
       "    }\n",
       "\n",
       "    .dataframe thead th {\n",
       "        text-align: right;\n",
       "    }\n",
       "</style>\n",
       "<table border=\"1\" class=\"dataframe\">\n",
       "  <thead>\n",
       "    <tr style=\"text-align: right;\">\n",
       "      <th></th>\n",
       "      <th>startYear</th>\n",
       "      <th>mean_age_actress</th>\n",
       "    </tr>\n",
       "  </thead>\n",
       "  <tbody>\n",
       "    <tr>\n",
       "      <th>0</th>\n",
       "      <td>1918</td>\n",
       "      <td>31.0</td>\n",
       "    </tr>\n",
       "    <tr>\n",
       "      <th>1</th>\n",
       "      <td>1919</td>\n",
       "      <td>30.0</td>\n",
       "    </tr>\n",
       "    <tr>\n",
       "      <th>2</th>\n",
       "      <td>1920</td>\n",
       "      <td>31.0</td>\n",
       "    </tr>\n",
       "    <tr>\n",
       "      <th>3</th>\n",
       "      <td>1921</td>\n",
       "      <td>33.0</td>\n",
       "    </tr>\n",
       "    <tr>\n",
       "      <th>4</th>\n",
       "      <td>1922</td>\n",
       "      <td>32.0</td>\n",
       "    </tr>\n",
       "  </tbody>\n",
       "</table>\n",
       "</div>"
      ],
      "text/plain": [
       "   startYear  mean_age_actress\n",
       "0       1918              31.0\n",
       "1       1919              30.0\n",
       "2       1920              31.0\n",
       "3       1921              33.0\n",
       "4       1922              32.0"
      ]
     },
     "execution_count": 295,
     "metadata": {},
     "output_type": "execute_result"
    }
   ],
   "source": [
    "# calcul moyenne age groupby(by=[\"originalTitle\" & \"startYear\"])\n",
    "age_mean_year_actress = round(actress.groupby(by=[\"startYear\"]).mean('age_actor_actress'))\n",
    "\n",
    "#reset index\n",
    "age_mean_year_actress = age_mean_year_actress.reset_index()\n",
    "\n",
    "#drop colonnes\n",
    "age_mean_year_actress.drop(columns=['index', 'birthYear'], inplace =True)\n",
    "\n",
    "#rename nom colonne age_actor_actress\n",
    "age_mean_year_actress.rename(columns={'age_actor_actress':'mean_age_actress'}, inplace=True)\n",
    "\n",
    "#check df age_mean2\n",
    "age_mean_year_actress.head()"
   ]
  },
  {
   "cell_type": "code",
   "execution_count": 242,
   "metadata": {},
   "outputs": [],
   "source": [
    "# calcul moyenne age groupby(by=[\"originalTitle\" & \"startYear\"])\n",
    "age_mean_actors = round(actors.groupby(by=[\"originalTitle\"]).mean('age_actor_actress'))\n",
    "age_mean_actors = age_mean_actors.groupby('startYear').mean('age_actor_actress')\n",
    "\n",
    "age_mean_actors.reset_index(inplace=True)\n",
    "age_mean_actors.drop('birthYear', axis = 1, inplace=True)\n"
   ]
  },
  {
   "cell_type": "code",
   "execution_count": 243,
   "metadata": {},
   "outputs": [
    {
     "data": {
      "text/html": [
       "<div>\n",
       "<style scoped>\n",
       "    .dataframe tbody tr th:only-of-type {\n",
       "        vertical-align: middle;\n",
       "    }\n",
       "\n",
       "    .dataframe tbody tr th {\n",
       "        vertical-align: top;\n",
       "    }\n",
       "\n",
       "    .dataframe thead th {\n",
       "        text-align: right;\n",
       "    }\n",
       "</style>\n",
       "<table border=\"1\" class=\"dataframe\">\n",
       "  <thead>\n",
       "    <tr style=\"text-align: right;\">\n",
       "      <th></th>\n",
       "      <th>startYear</th>\n",
       "      <th>age_actor_actress</th>\n",
       "    </tr>\n",
       "  </thead>\n",
       "  <tbody>\n",
       "    <tr>\n",
       "      <th>0</th>\n",
       "      <td>1918.0</td>\n",
       "      <td>39.132075</td>\n",
       "    </tr>\n",
       "    <tr>\n",
       "      <th>1</th>\n",
       "      <td>1919.0</td>\n",
       "      <td>39.948187</td>\n",
       "    </tr>\n",
       "    <tr>\n",
       "      <th>2</th>\n",
       "      <td>1920.0</td>\n",
       "      <td>39.569672</td>\n",
       "    </tr>\n",
       "    <tr>\n",
       "      <th>3</th>\n",
       "      <td>1921.0</td>\n",
       "      <td>39.777778</td>\n",
       "    </tr>\n",
       "    <tr>\n",
       "      <th>4</th>\n",
       "      <td>1922.0</td>\n",
       "      <td>39.625000</td>\n",
       "    </tr>\n",
       "  </tbody>\n",
       "</table>\n",
       "</div>"
      ],
      "text/plain": [
       "   startYear  age_actor_actress\n",
       "0     1918.0          39.132075\n",
       "1     1919.0          39.948187\n",
       "2     1920.0          39.569672\n",
       "3     1921.0          39.777778\n",
       "4     1922.0          39.625000"
      ]
     },
     "execution_count": 243,
     "metadata": {},
     "output_type": "execute_result"
    }
   ],
   "source": [
    "age_mean_actors.head()"
   ]
  },
  {
   "cell_type": "code",
   "execution_count": null,
   "metadata": {},
   "outputs": [],
   "source": [
    "#graph\n",
    "\n",
    "'''fig = px.line(\n",
    "    runtime_mean,\n",
    "    y='runtimeMinutes',\n",
    "    title='Average movie duration per year',\n",
    "    line_shape='spline',\n",
    "    labels={'startYear': 'Year', 'runtimeMinutes': 'Movie Duration in Minutes'},\n",
    "    color_discrete_sequence=['green']    \n",
    ")\n",
    "\n",
    "fig.update_layout(\n",
    "    width=1300,\n",
    "    height=600,\n",
    "    template='plotly_dark'\n",
    ")\n",
    "fig.show()'''"
   ]
  },
  {
   "cell_type": "markdown",
   "metadata": {},
   "source": [
    "## Groupeby originalTitle et moyenne des ages des acteurs (tous genres confondus)\n",
    "## Ensuite Groupeby startYear et moyenne des ages des acteurs (tous genres confondus)\n",
    "(Si on ne procède pas ainsi nous n'avons plus les titres des films)"
   ]
  },
  {
   "cell_type": "code",
   "execution_count": null,
   "metadata": {},
   "outputs": [],
   "source": [
    "def groupbyinutile ():\n",
    "    # calcul moyenne age groupby(by=[\"originalTitle\" & \"startYear\"])\n",
    "    age_mean = round(actors_title_movies.groupby(by=[\"originalTitle\"]).mean('age_actor_actress'))\n",
    "\n",
    "    #reset index\n",
    "    age_mean = age_mean.reset_index()\n",
    "\n",
    "    #Groupby startYear pour conserver le nom des films\n",
    "    age_mean2 = age_mean.groupby('startYear').mean('age_actor_actress')\n",
    "\n",
    "    #reset index\n",
    "    age_mean2 = age_mean.reset_index()\n",
    "    age_mean2.drop(columns=['index', 'birthYear'], inplace =True)\n",
    "\n",
    "    #check df age_mean2\n",
    "    age_mean2.head()\n"
   ]
  },
  {
   "cell_type": "markdown",
   "metadata": {},
   "source": [
    "## Test du code"
   ]
  },
  {
   "cell_type": "code",
   "execution_count": 286,
   "metadata": {},
   "outputs": [
    {
     "data": {
      "text/html": [
       "<div>\n",
       "<style scoped>\n",
       "    .dataframe tbody tr th:only-of-type {\n",
       "        vertical-align: middle;\n",
       "    }\n",
       "\n",
       "    .dataframe tbody tr th {\n",
       "        vertical-align: top;\n",
       "    }\n",
       "\n",
       "    .dataframe thead th {\n",
       "        text-align: right;\n",
       "    }\n",
       "</style>\n",
       "<table border=\"1\" class=\"dataframe\">\n",
       "  <thead>\n",
       "    <tr style=\"text-align: right;\">\n",
       "      <th></th>\n",
       "      <th>index</th>\n",
       "      <th>primaryName</th>\n",
       "      <th>birthYear</th>\n",
       "      <th>deathYear</th>\n",
       "      <th>category</th>\n",
       "      <th>originalTitle</th>\n",
       "      <th>startYear</th>\n",
       "      <th>age_actor_actress</th>\n",
       "    </tr>\n",
       "  </thead>\n",
       "  <tbody>\n",
       "    <tr>\n",
       "      <th>122</th>\n",
       "      <td>122</td>\n",
       "      <td>Fred Astaire</td>\n",
       "      <td>1899</td>\n",
       "      <td>1987</td>\n",
       "      <td>actor</td>\n",
       "      <td>Easter Parade</td>\n",
       "      <td>1948</td>\n",
       "      <td>49</td>\n",
       "    </tr>\n",
       "    <tr>\n",
       "      <th>123</th>\n",
       "      <td>123</td>\n",
       "      <td>Judy Garland</td>\n",
       "      <td>1922</td>\n",
       "      <td>1969</td>\n",
       "      <td>actress</td>\n",
       "      <td>Easter Parade</td>\n",
       "      <td>1948</td>\n",
       "      <td>26</td>\n",
       "    </tr>\n",
       "    <tr>\n",
       "      <th>124</th>\n",
       "      <td>124</td>\n",
       "      <td>Peter Lawford</td>\n",
       "      <td>1923</td>\n",
       "      <td>1984</td>\n",
       "      <td>actor</td>\n",
       "      <td>Easter Parade</td>\n",
       "      <td>1948</td>\n",
       "      <td>25</td>\n",
       "    </tr>\n",
       "    <tr>\n",
       "      <th>125</th>\n",
       "      <td>125</td>\n",
       "      <td>Ann Miller</td>\n",
       "      <td>1923</td>\n",
       "      <td>2004</td>\n",
       "      <td>actress</td>\n",
       "      <td>Easter Parade</td>\n",
       "      <td>1948</td>\n",
       "      <td>25</td>\n",
       "    </tr>\n",
       "  </tbody>\n",
       "</table>\n",
       "</div>"
      ],
      "text/plain": [
       "     index    primaryName  birthYear deathYear category  originalTitle  \\\n",
       "122    122   Fred Astaire       1899      1987    actor  Easter Parade   \n",
       "123    123   Judy Garland       1922      1969  actress  Easter Parade   \n",
       "124    124  Peter Lawford       1923      1984    actor  Easter Parade   \n",
       "125    125     Ann Miller       1923      2004  actress  Easter Parade   \n",
       "\n",
       "     startYear  age_actor_actress  \n",
       "122       1948                 49  \n",
       "123       1948                 26  \n",
       "124       1948                 25  \n",
       "125       1948                 25  "
      ]
     },
     "execution_count": 286,
     "metadata": {},
     "output_type": "execute_result"
    }
   ],
   "source": [
    "#film Easter Parade pour checker ensuite la moyenne manuellement\n",
    "check_film = actors_title_movies[actors_title_movies['originalTitle'] == \"Easter Parade\"]\n",
    "check_film\n",
    "\n",
    "#Contrôle manuel = (49 + 26 + 25 + 25) /4 = 31"
   ]
  },
  {
   "cell_type": "code",
   "execution_count": 284,
   "metadata": {},
   "outputs": [
    {
     "data": {
      "text/html": [
       "<div>\n",
       "<style scoped>\n",
       "    .dataframe tbody tr th:only-of-type {\n",
       "        vertical-align: middle;\n",
       "    }\n",
       "\n",
       "    .dataframe tbody tr th {\n",
       "        vertical-align: top;\n",
       "    }\n",
       "\n",
       "    .dataframe thead th {\n",
       "        text-align: right;\n",
       "    }\n",
       "</style>\n",
       "<table border=\"1\" class=\"dataframe\">\n",
       "  <thead>\n",
       "    <tr style=\"text-align: right;\">\n",
       "      <th></th>\n",
       "      <th>originalTitle</th>\n",
       "      <th>startYear</th>\n",
       "      <th>age_actor_actress</th>\n",
       "    </tr>\n",
       "  </thead>\n",
       "  <tbody>\n",
       "    <tr>\n",
       "      <th>45948</th>\n",
       "      <td>Easter Parade</td>\n",
       "      <td>1948.0</td>\n",
       "      <td>31.0</td>\n",
       "    </tr>\n",
       "  </tbody>\n",
       "</table>\n",
       "</div>"
      ],
      "text/plain": [
       "       originalTitle  startYear  age_actor_actress\n",
       "45948  Easter Parade     1948.0               31.0"
      ]
     },
     "execution_count": 284,
     "metadata": {},
     "output_type": "execute_result"
    }
   ],
   "source": [
    "# selection du film : Easter Parade\tet voir si la moyenne age_actor_actress est la même que ci-dessus\n",
    "\n",
    "age_mean_film_Easter = age_mean2[age_mean2['originalTitle'] == \"Easter Parade\"]\n",
    "age_mean_film_Easter"
   ]
  }
 ],
 "metadata": {
  "interpreter": {
   "hash": "2737ab35ba7d25f8071971e636d55a06dcafe00db434104323c773939bb24f14"
  },
  "kernelspec": {
   "display_name": "Python 3.9.0 32-bit",
   "name": "python3"
  },
  "language_info": {
   "codemirror_mode": {
    "name": "ipython",
    "version": 3
   },
   "file_extension": ".py",
   "mimetype": "text/x-python",
   "name": "python",
   "nbconvert_exporter": "python",
   "pygments_lexer": "ipython3",
   "version": "3.8.12"
  },
  "orig_nbformat": 4
 },
 "nbformat": 4,
 "nbformat_minor": 2
}
