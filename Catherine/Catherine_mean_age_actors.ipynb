{
 "cells": [
  {
   "cell_type": "markdown",
   "metadata": {},
   "source": [
    "Les acteurs ont en moyenne quel âge ? données films et acteurs (champs age, birth year et start year)\n",
    "***age moyen à date du film\n",
    "\n",
    "1- Appel des deux tables - trie ordre croissant - reset index et drop colonne en trop pour les deux tables\n",
    "\n",
    "2- Nettoyage de la base Movies :\n",
    "         - Conservation uniquement des films titleType = movie\n",
    "         - Retrait des films isadult\n",
    "         - Suppresion colonne quine me sont plus utiles\n",
    "         - Explode genre en plusieurs colonnes\n",
    "\n",
    "3- Nettoyage de la base Actors :\n",
    "        - Supprimer les acteurs nés avant 1800 pour alléger la base\n",
    "        - Explode colonne primaryProfession et conserver actor actress\n",
    "        - Retirer la colonne deathYear\n",
    "        - Explode colonne knownForTitles en film 1 film 2 etc....\n",
    "        \n",
    "        \n",
    "\n",
    "\n",
    "3- Joindre les tables et retrier :\n",
    "    - Supprimer les films plus anciens que 1918\n",
    "    - Suprimer les lignes ou l'âge de l'acteur n'est pas renseigné\n",
    "(ce trie n'a pas été fait avant car cela permet de nattoyer la base acteurs/movies en même temps)\n",
    "\n",
    "4 - Créer une colonne âge acteur dans le film : Date du film - date de naissance (startYear - birthYear)\n",
    "\n",
    "5 - il me faudra une moyenne de cette colonne pour répondre à la question\n",
    "\n",
    "\n",
    "\n",
    "\n"
   ]
  },
  {
   "cell_type": "code",
   "execution_count": 214,
   "metadata": {},
   "outputs": [],
   "source": [
    "import pandas as pd\n",
    "from datetime import datetime\n",
    "from datetime import timedelta\n",
    "import numpy as np\n",
    "import plotly.express as px \n",
    "import plotly.graph_objects as go \n",
    "import matplotlib.pyplot as plt\n",
    "import seaborn as sns"
   ]
  },
  {
   "cell_type": "markdown",
   "metadata": {},
   "source": [
    "## 1- Appel des deux tables - trie - reset index et drop colonne en trop pour les deux tables"
   ]
  },
  {
   "cell_type": "markdown",
   "metadata": {},
   "source": [
    "## Table Actors"
   ]
  },
  {
   "cell_type": "code",
   "execution_count": 215,
   "metadata": {},
   "outputs": [],
   "source": [
    "# appel de la table acteurs\n",
    "\n",
    "actors = pd.read_csv('https://datasets.imdbws.com/name.basics.tsv.gz', sep = '\\t', low_memory=False)"
   ]
  },
  {
   "cell_type": "code",
   "execution_count": 216,
   "metadata": {},
   "outputs": [],
   "source": [
    "# tri des acteurs par date de naissance puis date de décès\n",
    "actors.sort_values(by=['birthYear','deathYear'], inplace=True)\n",
    "\n",
    "#reset index \n",
    "actors.reset_index(inplace=True)\n",
    "\n",
    "#drop colonne index en double \n",
    "actors.drop('index',axis = 1, inplace=True)\n",
    "\n"
   ]
  },
  {
   "cell_type": "code",
   "execution_count": 217,
   "metadata": {},
   "outputs": [
    {
     "data": {
      "text/html": [
       "<div>\n",
       "<style scoped>\n",
       "    .dataframe tbody tr th:only-of-type {\n",
       "        vertical-align: middle;\n",
       "    }\n",
       "\n",
       "    .dataframe tbody tr th {\n",
       "        vertical-align: top;\n",
       "    }\n",
       "\n",
       "    .dataframe thead th {\n",
       "        text-align: right;\n",
       "    }\n",
       "</style>\n",
       "<table border=\"1\" class=\"dataframe\">\n",
       "  <thead>\n",
       "    <tr style=\"text-align: right;\">\n",
       "      <th></th>\n",
       "      <th>nconst</th>\n",
       "      <th>primaryName</th>\n",
       "      <th>birthYear</th>\n",
       "      <th>deathYear</th>\n",
       "      <th>primaryProfession</th>\n",
       "      <th>knownForTitles</th>\n",
       "    </tr>\n",
       "  </thead>\n",
       "  <tbody>\n",
       "    <tr>\n",
       "      <th>0</th>\n",
       "      <td>nm0784172</td>\n",
       "      <td>Lucio Anneo Seneca</td>\n",
       "      <td>0004</td>\n",
       "      <td>0065</td>\n",
       "      <td>writer</td>\n",
       "      <td>tt0049203,tt0972562,tt0218822,tt0237666</td>\n",
       "    </tr>\n",
       "    <tr>\n",
       "      <th>1</th>\n",
       "      <td>nm4511421</td>\n",
       "      <td>Megan Liz Smith</td>\n",
       "      <td>0012</td>\n",
       "      <td>\\N</td>\n",
       "      <td>miscellaneous,actress</td>\n",
       "      <td>tt3416744,tt1966378,tt10183848</td>\n",
       "    </tr>\n",
       "    <tr>\n",
       "      <th>2</th>\n",
       "      <td>nm8810146</td>\n",
       "      <td>Paul Walsh</td>\n",
       "      <td>0021</td>\n",
       "      <td>\\N</td>\n",
       "      <td>actor</td>\n",
       "      <td>tt0098878,tt0314567,tt0093223</td>\n",
       "    </tr>\n",
       "    <tr>\n",
       "      <th>3</th>\n",
       "      <td>nm0430769</td>\n",
       "      <td>Flavius Josephus</td>\n",
       "      <td>0037</td>\n",
       "      <td>0095</td>\n",
       "      <td>writer,miscellaneous</td>\n",
       "      <td>tt0273236,tt0237666,tt0009573,tt0049833</td>\n",
       "    </tr>\n",
       "    <tr>\n",
       "      <th>4</th>\n",
       "      <td>nm1306202</td>\n",
       "      <td>Plutarch</td>\n",
       "      <td>0046</td>\n",
       "      <td>0122</td>\n",
       "      <td>writer</td>\n",
       "      <td>tt0237666,tt0272979,tt0056937,tt0472473</td>\n",
       "    </tr>\n",
       "  </tbody>\n",
       "</table>\n",
       "</div>"
      ],
      "text/plain": [
       "      nconst         primaryName birthYear deathYear      primaryProfession  \\\n",
       "0  nm0784172  Lucio Anneo Seneca      0004      0065                 writer   \n",
       "1  nm4511421     Megan Liz Smith      0012        \\N  miscellaneous,actress   \n",
       "2  nm8810146          Paul Walsh      0021        \\N                  actor   \n",
       "3  nm0430769    Flavius Josephus      0037      0095   writer,miscellaneous   \n",
       "4  nm1306202            Plutarch      0046      0122                 writer   \n",
       "\n",
       "                            knownForTitles  \n",
       "0  tt0049203,tt0972562,tt0218822,tt0237666  \n",
       "1           tt3416744,tt1966378,tt10183848  \n",
       "2            tt0098878,tt0314567,tt0093223  \n",
       "3  tt0273236,tt0237666,tt0009573,tt0049833  \n",
       "4  tt0237666,tt0272979,tt0056937,tt0472473  "
      ]
     },
     "execution_count": 217,
     "metadata": {},
     "output_type": "execute_result"
    }
   ],
   "source": [
    "# check si l'ordre est bien modifié et l'index modifié\n",
    "\n",
    "actors.head()"
   ]
  },
  {
   "cell_type": "code",
   "execution_count": 218,
   "metadata": {},
   "outputs": [
    {
     "data": {
      "text/plain": [
       "(11366782, 6)"
      ]
     },
     "execution_count": 218,
     "metadata": {},
     "output_type": "execute_result"
    }
   ],
   "source": [
    "actors.shape"
   ]
  },
  {
   "cell_type": "markdown",
   "metadata": {},
   "source": [
    "## Table Movies"
   ]
  },
  {
   "cell_type": "code",
   "execution_count": 219,
   "metadata": {},
   "outputs": [],
   "source": [
    "# appel de la table films (j'ai pris title basics qui contient l'année du film)\n",
    "\n",
    "movies = pd.read_csv('https://datasets.imdbws.com/title.basics.tsv.gz', sep = '\\t', low_memory=False)\n",
    "movies.sort_values('startYear', inplace=True)"
   ]
  },
  {
   "cell_type": "code",
   "execution_count": 220,
   "metadata": {},
   "outputs": [],
   "source": [
    "#reset index base movies\n",
    "movies.reset_index(inplace=True)\n",
    "\n",
    "#drop colonne index en double \n",
    "movies.drop('index',axis = 1, inplace=True)"
   ]
  },
  {
   "cell_type": "code",
   "execution_count": 221,
   "metadata": {},
   "outputs": [
    {
     "data": {
      "text/html": [
       "<div>\n",
       "<style scoped>\n",
       "    .dataframe tbody tr th:only-of-type {\n",
       "        vertical-align: middle;\n",
       "    }\n",
       "\n",
       "    .dataframe tbody tr th {\n",
       "        vertical-align: top;\n",
       "    }\n",
       "\n",
       "    .dataframe thead th {\n",
       "        text-align: right;\n",
       "    }\n",
       "</style>\n",
       "<table border=\"1\" class=\"dataframe\">\n",
       "  <thead>\n",
       "    <tr style=\"text-align: right;\">\n",
       "      <th></th>\n",
       "      <th>tconst</th>\n",
       "      <th>titleType</th>\n",
       "      <th>primaryTitle</th>\n",
       "      <th>originalTitle</th>\n",
       "      <th>isAdult</th>\n",
       "      <th>startYear</th>\n",
       "      <th>endYear</th>\n",
       "      <th>runtimeMinutes</th>\n",
       "      <th>genres</th>\n",
       "    </tr>\n",
       "  </thead>\n",
       "  <tbody>\n",
       "    <tr>\n",
       "      <th>0</th>\n",
       "      <td>tt3155794</td>\n",
       "      <td>short</td>\n",
       "      <td>Passage de Venus</td>\n",
       "      <td>Passage de Venus</td>\n",
       "      <td>0</td>\n",
       "      <td>1874</td>\n",
       "      <td>\\N</td>\n",
       "      <td>1</td>\n",
       "      <td>Documentary,Short</td>\n",
       "    </tr>\n",
       "    <tr>\n",
       "      <th>1</th>\n",
       "      <td>tt14495706</td>\n",
       "      <td>short</td>\n",
       "      <td>La Rosace Magique</td>\n",
       "      <td>La Rosace Magique</td>\n",
       "      <td>0</td>\n",
       "      <td>1877</td>\n",
       "      <td>\\N</td>\n",
       "      <td>1</td>\n",
       "      <td>Animation,Short</td>\n",
       "    </tr>\n",
       "    <tr>\n",
       "      <th>2</th>\n",
       "      <td>tt2221420</td>\n",
       "      <td>short</td>\n",
       "      <td>Sallie Gardner at a Gallop</td>\n",
       "      <td>Sallie Gardner at a Gallop</td>\n",
       "      <td>0</td>\n",
       "      <td>1878</td>\n",
       "      <td>\\N</td>\n",
       "      <td>1</td>\n",
       "      <td>Documentary,Short</td>\n",
       "    </tr>\n",
       "    <tr>\n",
       "      <th>3</th>\n",
       "      <td>tt12592084</td>\n",
       "      <td>short</td>\n",
       "      <td>Le singe musicien</td>\n",
       "      <td>Le singe musicien</td>\n",
       "      <td>0</td>\n",
       "      <td>1878</td>\n",
       "      <td>\\N</td>\n",
       "      <td>1</td>\n",
       "      <td>Animation,Short</td>\n",
       "    </tr>\n",
       "    <tr>\n",
       "      <th>4</th>\n",
       "      <td>tt7816420</td>\n",
       "      <td>short</td>\n",
       "      <td>Athlete Swinging a Pick</td>\n",
       "      <td>Athlete Swinging a Pick</td>\n",
       "      <td>0</td>\n",
       "      <td>1881</td>\n",
       "      <td>\\N</td>\n",
       "      <td>1</td>\n",
       "      <td>Documentary,Short</td>\n",
       "    </tr>\n",
       "  </tbody>\n",
       "</table>\n",
       "</div>"
      ],
      "text/plain": [
       "       tconst titleType                primaryTitle  \\\n",
       "0   tt3155794     short            Passage de Venus   \n",
       "1  tt14495706     short           La Rosace Magique   \n",
       "2   tt2221420     short  Sallie Gardner at a Gallop   \n",
       "3  tt12592084     short           Le singe musicien   \n",
       "4   tt7816420     short     Athlete Swinging a Pick   \n",
       "\n",
       "                originalTitle isAdult startYear endYear runtimeMinutes  \\\n",
       "0            Passage de Venus       0      1874      \\N              1   \n",
       "1           La Rosace Magique       0      1877      \\N              1   \n",
       "2  Sallie Gardner at a Gallop       0      1878      \\N              1   \n",
       "3           Le singe musicien       0      1878      \\N              1   \n",
       "4     Athlete Swinging a Pick       0      1881      \\N              1   \n",
       "\n",
       "              genres  \n",
       "0  Documentary,Short  \n",
       "1    Animation,Short  \n",
       "2  Documentary,Short  \n",
       "3    Animation,Short  \n",
       "4  Documentary,Short  "
      ]
     },
     "execution_count": 221,
     "metadata": {},
     "output_type": "execute_result"
    }
   ],
   "source": [
    "# check si l'ordre est bien modifié et l'index modifié\n",
    "movies.head() "
   ]
  },
  {
   "cell_type": "code",
   "execution_count": 222,
   "metadata": {},
   "outputs": [
    {
     "data": {
      "text/plain": [
       "(8468615, 9)"
      ]
     },
     "execution_count": 222,
     "metadata": {},
     "output_type": "execute_result"
    }
   ],
   "source": [
    "movies.shape # table brute"
   ]
  },
  {
   "cell_type": "markdown",
   "metadata": {},
   "source": [
    "## 2- Nettoyage de la base Movies :\n",
    "###          - Conservation uniquement des films titleType = movie\n",
    "###          - Retrait des films isadult\n",
    "###          - Suppresion des colonnes qui ne me sont plus utiles\n",
    "###          - Explode genre en plusieurs colonnes"
   ]
  },
  {
   "cell_type": "code",
   "execution_count": 223,
   "metadata": {},
   "outputs": [],
   "source": [
    "#Conservation uniquement des films titleType = movie\n",
    "\n",
    "movies = movies[movies['titleType'] == 'movie']"
   ]
  },
  {
   "cell_type": "code",
   "execution_count": 224,
   "metadata": {},
   "outputs": [],
   "source": [
    "# Retrait des films isadult - là je décide garder uniquement les 0 qu ne sont pas isAdult\n",
    "movies = movies[movies['isAdult'] == '0']"
   ]
  },
  {
   "cell_type": "code",
   "execution_count": 225,
   "metadata": {},
   "outputs": [],
   "source": [
    "# supression des colonnes titleType, endYear, isAdult \n",
    "\n",
    "movies = movies.drop(columns=['titleType', 'endYear', 'isAdult'])"
   ]
  },
  {
   "cell_type": "code",
   "execution_count": 226,
   "metadata": {},
   "outputs": [],
   "source": [
    "#reset index base movies (again !)\n",
    "movies.reset_index(inplace=True)\n",
    "\n",
    "#drop colonne index en double \n",
    "movies.drop('index',axis = 1, inplace=True)"
   ]
  },
  {
   "cell_type": "code",
   "execution_count": 227,
   "metadata": {},
   "outputs": [
    {
     "data": {
      "text/plain": [
       "(584862, 6)"
      ]
     },
     "execution_count": 227,
     "metadata": {},
     "output_type": "execute_result"
    }
   ],
   "source": [
    "# table uniquement avec les données conservées\n",
    "movies.shape "
   ]
  },
  {
   "cell_type": "code",
   "execution_count": 228,
   "metadata": {},
   "outputs": [
    {
     "data": {
      "text/html": [
       "<div>\n",
       "<style scoped>\n",
       "    .dataframe tbody tr th:only-of-type {\n",
       "        vertical-align: middle;\n",
       "    }\n",
       "\n",
       "    .dataframe tbody tr th {\n",
       "        vertical-align: top;\n",
       "    }\n",
       "\n",
       "    .dataframe thead th {\n",
       "        text-align: right;\n",
       "    }\n",
       "</style>\n",
       "<table border=\"1\" class=\"dataframe\">\n",
       "  <thead>\n",
       "    <tr style=\"text-align: right;\">\n",
       "      <th></th>\n",
       "      <th>tconst</th>\n",
       "      <th>primaryTitle</th>\n",
       "      <th>originalTitle</th>\n",
       "      <th>startYear</th>\n",
       "      <th>runtimeMinutes</th>\n",
       "      <th>genres</th>\n",
       "    </tr>\n",
       "  </thead>\n",
       "  <tbody>\n",
       "    <tr>\n",
       "      <th>0</th>\n",
       "      <td>tt2210499</td>\n",
       "      <td>Birmingham</td>\n",
       "      <td>Birmingham</td>\n",
       "      <td>1896</td>\n",
       "      <td>61</td>\n",
       "      <td>Documentary</td>\n",
       "    </tr>\n",
       "    <tr>\n",
       "      <th>1</th>\n",
       "      <td>tt0229676</td>\n",
       "      <td>Reproduction of the Corbett and Fitzsimmons Fight</td>\n",
       "      <td>Reproduction of the Corbett and Fitzsimmons Fight</td>\n",
       "      <td>1897</td>\n",
       "      <td>\\N</td>\n",
       "      <td>Documentary,News,Sport</td>\n",
       "    </tr>\n",
       "    <tr>\n",
       "      <th>2</th>\n",
       "      <td>tt0236940</td>\n",
       "      <td>69th Regiment Passing in Review</td>\n",
       "      <td>69th Regiment Passing in Review</td>\n",
       "      <td>1898</td>\n",
       "      <td>\\N</td>\n",
       "      <td>Documentary</td>\n",
       "    </tr>\n",
       "    <tr>\n",
       "      <th>3</th>\n",
       "      <td>tt0235357</td>\n",
       "      <td>Dressing Paper Dolls</td>\n",
       "      <td>Dressing Paper Dolls</td>\n",
       "      <td>1898</td>\n",
       "      <td>\\N</td>\n",
       "      <td>Documentary</td>\n",
       "    </tr>\n",
       "    <tr>\n",
       "      <th>4</th>\n",
       "      <td>tt0138349</td>\n",
       "      <td>O Carnaval em Lisboa</td>\n",
       "      <td>O Carnaval em Lisboa</td>\n",
       "      <td>1898</td>\n",
       "      <td>\\N</td>\n",
       "      <td>Documentary</td>\n",
       "    </tr>\n",
       "  </tbody>\n",
       "</table>\n",
       "</div>"
      ],
      "text/plain": [
       "      tconst                                       primaryTitle  \\\n",
       "0  tt2210499                                         Birmingham   \n",
       "1  tt0229676  Reproduction of the Corbett and Fitzsimmons Fight   \n",
       "2  tt0236940                    69th Regiment Passing in Review   \n",
       "3  tt0235357                               Dressing Paper Dolls   \n",
       "4  tt0138349                               O Carnaval em Lisboa   \n",
       "\n",
       "                                       originalTitle startYear runtimeMinutes  \\\n",
       "0                                         Birmingham      1896             61   \n",
       "1  Reproduction of the Corbett and Fitzsimmons Fight      1897             \\N   \n",
       "2                    69th Regiment Passing in Review      1898             \\N   \n",
       "3                               Dressing Paper Dolls      1898             \\N   \n",
       "4                               O Carnaval em Lisboa      1898             \\N   \n",
       "\n",
       "                   genres  \n",
       "0             Documentary  \n",
       "1  Documentary,News,Sport  \n",
       "2             Documentary  \n",
       "3             Documentary  \n",
       "4             Documentary  "
      ]
     },
     "execution_count": 228,
     "metadata": {},
     "output_type": "execute_result"
    }
   ],
   "source": [
    "movies.head()"
   ]
  },
  {
   "cell_type": "code",
   "execution_count": 229,
   "metadata": {},
   "outputs": [],
   "source": [
    "#Explode genre en plusieurs colonnes\n",
    "movies[['firstGenre', 'secondyGenre', 'thirdGenre']] = movies['genres'].str.split(',', n=2, expand=True)\n",
    "\n",
    "#drop colonne genres et thirdGenre\n",
    "movies.drop(columns=['genres', 'thirdGenre'],axis = 1, inplace=True)\n"
   ]
  },
  {
   "cell_type": "code",
   "execution_count": 230,
   "metadata": {},
   "outputs": [
    {
     "data": {
      "text/html": [
       "<div>\n",
       "<style scoped>\n",
       "    .dataframe tbody tr th:only-of-type {\n",
       "        vertical-align: middle;\n",
       "    }\n",
       "\n",
       "    .dataframe tbody tr th {\n",
       "        vertical-align: top;\n",
       "    }\n",
       "\n",
       "    .dataframe thead th {\n",
       "        text-align: right;\n",
       "    }\n",
       "</style>\n",
       "<table border=\"1\" class=\"dataframe\">\n",
       "  <thead>\n",
       "    <tr style=\"text-align: right;\">\n",
       "      <th></th>\n",
       "      <th>tconst</th>\n",
       "      <th>primaryTitle</th>\n",
       "      <th>originalTitle</th>\n",
       "      <th>startYear</th>\n",
       "      <th>runtimeMinutes</th>\n",
       "      <th>firstGenre</th>\n",
       "      <th>secondyGenre</th>\n",
       "    </tr>\n",
       "  </thead>\n",
       "  <tbody>\n",
       "    <tr>\n",
       "      <th>0</th>\n",
       "      <td>tt2210499</td>\n",
       "      <td>Birmingham</td>\n",
       "      <td>Birmingham</td>\n",
       "      <td>1896</td>\n",
       "      <td>61</td>\n",
       "      <td>Documentary</td>\n",
       "      <td>None</td>\n",
       "    </tr>\n",
       "    <tr>\n",
       "      <th>1</th>\n",
       "      <td>tt0229676</td>\n",
       "      <td>Reproduction of the Corbett and Fitzsimmons Fight</td>\n",
       "      <td>Reproduction of the Corbett and Fitzsimmons Fight</td>\n",
       "      <td>1897</td>\n",
       "      <td>\\N</td>\n",
       "      <td>Documentary</td>\n",
       "      <td>News</td>\n",
       "    </tr>\n",
       "    <tr>\n",
       "      <th>2</th>\n",
       "      <td>tt0236940</td>\n",
       "      <td>69th Regiment Passing in Review</td>\n",
       "      <td>69th Regiment Passing in Review</td>\n",
       "      <td>1898</td>\n",
       "      <td>\\N</td>\n",
       "      <td>Documentary</td>\n",
       "      <td>None</td>\n",
       "    </tr>\n",
       "    <tr>\n",
       "      <th>3</th>\n",
       "      <td>tt0235357</td>\n",
       "      <td>Dressing Paper Dolls</td>\n",
       "      <td>Dressing Paper Dolls</td>\n",
       "      <td>1898</td>\n",
       "      <td>\\N</td>\n",
       "      <td>Documentary</td>\n",
       "      <td>None</td>\n",
       "    </tr>\n",
       "    <tr>\n",
       "      <th>4</th>\n",
       "      <td>tt0138349</td>\n",
       "      <td>O Carnaval em Lisboa</td>\n",
       "      <td>O Carnaval em Lisboa</td>\n",
       "      <td>1898</td>\n",
       "      <td>\\N</td>\n",
       "      <td>Documentary</td>\n",
       "      <td>None</td>\n",
       "    </tr>\n",
       "  </tbody>\n",
       "</table>\n",
       "</div>"
      ],
      "text/plain": [
       "      tconst                                       primaryTitle  \\\n",
       "0  tt2210499                                         Birmingham   \n",
       "1  tt0229676  Reproduction of the Corbett and Fitzsimmons Fight   \n",
       "2  tt0236940                    69th Regiment Passing in Review   \n",
       "3  tt0235357                               Dressing Paper Dolls   \n",
       "4  tt0138349                               O Carnaval em Lisboa   \n",
       "\n",
       "                                       originalTitle startYear runtimeMinutes  \\\n",
       "0                                         Birmingham      1896             61   \n",
       "1  Reproduction of the Corbett and Fitzsimmons Fight      1897             \\N   \n",
       "2                    69th Regiment Passing in Review      1898             \\N   \n",
       "3                               Dressing Paper Dolls      1898             \\N   \n",
       "4                               O Carnaval em Lisboa      1898             \\N   \n",
       "\n",
       "    firstGenre secondyGenre  \n",
       "0  Documentary         None  \n",
       "1  Documentary         News  \n",
       "2  Documentary         None  \n",
       "3  Documentary         None  \n",
       "4  Documentary         None  "
      ]
     },
     "execution_count": 230,
     "metadata": {},
     "output_type": "execute_result"
    }
   ],
   "source": [
    "movies.head()"
   ]
  },
  {
   "cell_type": "markdown",
   "metadata": {},
   "source": [
    "## 3- Nettoyage de la base Actors :\n",
    "###        - Retirer la colonne deathYear\n",
    "###        - Remplacer les \\N par des nan\n",
    "###        - Supprimer les acteurs nés avant 1800 pour alléger la base\n",
    "###        - Explode colonne primaryProfession et conserver actor actress (faire une boucle ou alors remettre les données dans une seule colonne ou les deux : d'abord explode puis réunifier les   colonnes)\n",
    "###        - Explode colonne knownForTitles en film 1 film 2 etc...."
   ]
  },
  {
   "cell_type": "code",
   "execution_count": 231,
   "metadata": {},
   "outputs": [],
   "source": [
    "# Retirer la colonne deathYear\n",
    "actors.drop(columns=['deathYear'], inplace=True)"
   ]
  },
  {
   "cell_type": "code",
   "execution_count": 232,
   "metadata": {},
   "outputs": [
    {
     "name": "stdout",
     "output_type": "stream",
     "text": [
      "<class 'pandas.core.frame.DataFrame'>\n",
      "RangeIndex: 11366782 entries, 0 to 11366781\n",
      "Data columns (total 5 columns):\n",
      " #   Column             Dtype \n",
      "---  ------             ----- \n",
      " 0   nconst             object\n",
      " 1   primaryName        object\n",
      " 2   birthYear          object\n",
      " 3   primaryProfession  object\n",
      " 4   knownForTitles     object\n",
      "dtypes: object(5)\n",
      "memory usage: 433.6+ MB\n"
     ]
    }
   ],
   "source": [
    "# contôle colonne drop\n",
    "actors.info()"
   ]
  },
  {
   "cell_type": "code",
   "execution_count": 233,
   "metadata": {},
   "outputs": [],
   "source": [
    "# remplacer les \\N pas des nan dans la colonne birthYear\n",
    "\n",
    "actors['birthYear'].replace('\\\\N', np.nan, inplace=True)"
   ]
  },
  {
   "cell_type": "code",
   "execution_count": 234,
   "metadata": {},
   "outputs": [
    {
     "name": "stdout",
     "output_type": "stream",
     "text": [
      "<class 'pandas.core.frame.DataFrame'>\n",
      "RangeIndex: 11366782 entries, 0 to 11366781\n",
      "Data columns (total 5 columns):\n",
      " #   Column             Dtype \n",
      "---  ------             ----- \n",
      " 0   nconst             object\n",
      " 1   primaryName        object\n",
      " 2   birthYear          object\n",
      " 3   primaryProfession  object\n",
      " 4   knownForTitles     object\n",
      "dtypes: object(5)\n",
      "memory usage: 433.6+ MB\n"
     ]
    }
   ],
   "source": [
    "# check type colonne birthYear\n",
    "actors.info()"
   ]
  },
  {
   "cell_type": "code",
   "execution_count": 235,
   "metadata": {},
   "outputs": [],
   "source": [
    "# ne conserve que les rows actors nés avant 1800\n",
    "actors = actors[actors['birthYear'] >= '1800']\n",
    "\n",
    "#reset index base actors (again !)\n",
    "actors.reset_index(inplace=True)\n",
    "\n",
    "#drop colonne index en double (again !)\n",
    "actors.drop('index',axis = 1, inplace=True)"
   ]
  },
  {
   "cell_type": "code",
   "execution_count": 236,
   "metadata": {},
   "outputs": [
    {
     "data": {
      "text/html": [
       "<div>\n",
       "<style scoped>\n",
       "    .dataframe tbody tr th:only-of-type {\n",
       "        vertical-align: middle;\n",
       "    }\n",
       "\n",
       "    .dataframe tbody tr th {\n",
       "        vertical-align: top;\n",
       "    }\n",
       "\n",
       "    .dataframe thead th {\n",
       "        text-align: right;\n",
       "    }\n",
       "</style>\n",
       "<table border=\"1\" class=\"dataframe\">\n",
       "  <thead>\n",
       "    <tr style=\"text-align: right;\">\n",
       "      <th></th>\n",
       "      <th>nconst</th>\n",
       "      <th>primaryName</th>\n",
       "      <th>birthYear</th>\n",
       "      <th>primaryProfession</th>\n",
       "      <th>knownForTitles</th>\n",
       "    </tr>\n",
       "  </thead>\n",
       "  <tbody>\n",
       "    <tr>\n",
       "      <th>0</th>\n",
       "      <td>nm3885064</td>\n",
       "      <td>Momin Khan Momin</td>\n",
       "      <td>1800</td>\n",
       "      <td>music_department</td>\n",
       "      <td>tt1645182</td>\n",
       "    </tr>\n",
       "    <tr>\n",
       "      <th>1</th>\n",
       "      <td>nm0353596</td>\n",
       "      <td>David Haggart</td>\n",
       "      <td>1801</td>\n",
       "      <td>writer</td>\n",
       "      <td>tt0064988</td>\n",
       "    </tr>\n",
       "    <tr>\n",
       "      <th>2</th>\n",
       "      <td>nm0069057</td>\n",
       "      <td>Vincenzo Bellini</td>\n",
       "      <td>1801</td>\n",
       "      <td>soundtrack,music_department,composer</td>\n",
       "      <td>tt1462900,tt2395427,tt0485947,tt0092563</td>\n",
       "    </tr>\n",
       "    <tr>\n",
       "      <th>3</th>\n",
       "      <td>nm0333187</td>\n",
       "      <td>Christian Dietrich Grabbe</td>\n",
       "      <td>1801</td>\n",
       "      <td>writer</td>\n",
       "      <td>tt0352909,tt0109781,tt0451590,tt0207421</td>\n",
       "    </tr>\n",
       "    <tr>\n",
       "      <th>4</th>\n",
       "      <td>nm0486937</td>\n",
       "      <td>Joseph Lanner</td>\n",
       "      <td>1801</td>\n",
       "      <td>soundtrack,composer,music_department</td>\n",
       "      <td>tt0080455,tt0031270,tt0024749,tt0036235</td>\n",
       "    </tr>\n",
       "  </tbody>\n",
       "</table>\n",
       "</div>"
      ],
      "text/plain": [
       "      nconst                primaryName birthYear  \\\n",
       "0  nm3885064           Momin Khan Momin      1800   \n",
       "1  nm0353596              David Haggart      1801   \n",
       "2  nm0069057           Vincenzo Bellini      1801   \n",
       "3  nm0333187  Christian Dietrich Grabbe      1801   \n",
       "4  nm0486937              Joseph Lanner      1801   \n",
       "\n",
       "                      primaryProfession  \\\n",
       "0                      music_department   \n",
       "1                                writer   \n",
       "2  soundtrack,music_department,composer   \n",
       "3                                writer   \n",
       "4  soundtrack,composer,music_department   \n",
       "\n",
       "                            knownForTitles  \n",
       "0                                tt1645182  \n",
       "1                                tt0064988  \n",
       "2  tt1462900,tt2395427,tt0485947,tt0092563  \n",
       "3  tt0352909,tt0109781,tt0451590,tt0207421  \n",
       "4  tt0080455,tt0031270,tt0024749,tt0036235  "
      ]
     },
     "execution_count": 236,
     "metadata": {},
     "output_type": "execute_result"
    }
   ],
   "source": [
    "actors.head()"
   ]
  },
  {
   "cell_type": "code",
   "execution_count": 237,
   "metadata": {},
   "outputs": [],
   "source": [
    "# remplacer les \\N pas des nan dans tout le df actors\n",
    "actors.replace('\\\\N', np.nan, inplace=True)"
   ]
  },
  {
   "cell_type": "code",
   "execution_count": 238,
   "metadata": {},
   "outputs": [],
   "source": [
    "# change type colonne primaryProfession en str\n",
    "actors['primaryProfession'] = actors['primaryProfession'].astype(str)"
   ]
  },
  {
   "cell_type": "code",
   "execution_count": 239,
   "metadata": {},
   "outputs": [
    {
     "name": "stdout",
     "output_type": "stream",
     "text": [
      "<class 'pandas.core.frame.DataFrame'>\n",
      "RangeIndex: 536825 entries, 0 to 536824\n",
      "Data columns (total 5 columns):\n",
      " #   Column             Non-Null Count   Dtype \n",
      "---  ------             --------------   ----- \n",
      " 0   nconst             536825 non-null  object\n",
      " 1   primaryName        536825 non-null  object\n",
      " 2   birthYear          536825 non-null  object\n",
      " 3   primaryProfession  536825 non-null  object\n",
      " 4   knownForTitles     523837 non-null  object\n",
      "dtypes: object(5)\n",
      "memory usage: 20.5+ MB\n"
     ]
    }
   ],
   "source": [
    "actors.info()"
   ]
  },
  {
   "cell_type": "code",
   "execution_count": 240,
   "metadata": {},
   "outputs": [],
   "source": [
    "# explode colonne primaryProfession\n",
    "actors[['firstProfession', 'secondProfession', 'thirdProfession']] = actors['primaryProfession'].str.split(',', n=2, expand=True)\n",
    "\n",
    "#drop colonne primaryProfession\n",
    "actors.drop(columns=['primaryProfession'],axis = 1, inplace=True)"
   ]
  },
  {
   "cell_type": "code",
   "execution_count": 251,
   "metadata": {},
   "outputs": [
    {
     "data": {
      "text/html": [
       "<div>\n",
       "<style scoped>\n",
       "    .dataframe tbody tr th:only-of-type {\n",
       "        vertical-align: middle;\n",
       "    }\n",
       "\n",
       "    .dataframe tbody tr th {\n",
       "        vertical-align: top;\n",
       "    }\n",
       "\n",
       "    .dataframe thead th {\n",
       "        text-align: right;\n",
       "    }\n",
       "</style>\n",
       "<table border=\"1\" class=\"dataframe\">\n",
       "  <thead>\n",
       "    <tr style=\"text-align: right;\">\n",
       "      <th></th>\n",
       "      <th>nconst</th>\n",
       "      <th>primaryName</th>\n",
       "      <th>birthYear</th>\n",
       "      <th>knownForTitles</th>\n",
       "      <th>firstProfession</th>\n",
       "      <th>secondProfession</th>\n",
       "      <th>thirdProfession</th>\n",
       "    </tr>\n",
       "  </thead>\n",
       "  <tbody>\n",
       "    <tr>\n",
       "      <th>0</th>\n",
       "      <td>nm3885064</td>\n",
       "      <td>Momin Khan Momin</td>\n",
       "      <td>1800</td>\n",
       "      <td>tt1645182</td>\n",
       "      <td>music_department</td>\n",
       "      <td>None</td>\n",
       "      <td>None</td>\n",
       "    </tr>\n",
       "    <tr>\n",
       "      <th>1</th>\n",
       "      <td>nm0353596</td>\n",
       "      <td>David Haggart</td>\n",
       "      <td>1801</td>\n",
       "      <td>tt0064988</td>\n",
       "      <td>writer</td>\n",
       "      <td>None</td>\n",
       "      <td>None</td>\n",
       "    </tr>\n",
       "    <tr>\n",
       "      <th>2</th>\n",
       "      <td>nm0069057</td>\n",
       "      <td>Vincenzo Bellini</td>\n",
       "      <td>1801</td>\n",
       "      <td>tt1462900,tt2395427,tt0485947,tt0092563</td>\n",
       "      <td>soundtrack</td>\n",
       "      <td>music_department</td>\n",
       "      <td>composer</td>\n",
       "    </tr>\n",
       "    <tr>\n",
       "      <th>3</th>\n",
       "      <td>nm0333187</td>\n",
       "      <td>Christian Dietrich Grabbe</td>\n",
       "      <td>1801</td>\n",
       "      <td>tt0352909,tt0109781,tt0451590,tt0207421</td>\n",
       "      <td>writer</td>\n",
       "      <td>None</td>\n",
       "      <td>None</td>\n",
       "    </tr>\n",
       "    <tr>\n",
       "      <th>4</th>\n",
       "      <td>nm0486937</td>\n",
       "      <td>Joseph Lanner</td>\n",
       "      <td>1801</td>\n",
       "      <td>tt0080455,tt0031270,tt0024749,tt0036235</td>\n",
       "      <td>soundtrack</td>\n",
       "      <td>composer</td>\n",
       "      <td>music_department</td>\n",
       "    </tr>\n",
       "  </tbody>\n",
       "</table>\n",
       "</div>"
      ],
      "text/plain": [
       "      nconst                primaryName birthYear  \\\n",
       "0  nm3885064           Momin Khan Momin      1800   \n",
       "1  nm0353596              David Haggart      1801   \n",
       "2  nm0069057           Vincenzo Bellini      1801   \n",
       "3  nm0333187  Christian Dietrich Grabbe      1801   \n",
       "4  nm0486937              Joseph Lanner      1801   \n",
       "\n",
       "                            knownForTitles   firstProfession  \\\n",
       "0                                tt1645182  music_department   \n",
       "1                                tt0064988            writer   \n",
       "2  tt1462900,tt2395427,tt0485947,tt0092563        soundtrack   \n",
       "3  tt0352909,tt0109781,tt0451590,tt0207421            writer   \n",
       "4  tt0080455,tt0031270,tt0024749,tt0036235        soundtrack   \n",
       "\n",
       "   secondProfession   thirdProfession  \n",
       "0              None              None  \n",
       "1              None              None  \n",
       "2  music_department          composer  \n",
       "3              None              None  \n",
       "4          composer  music_department  "
      ]
     },
     "execution_count": 251,
     "metadata": {},
     "output_type": "execute_result"
    }
   ],
   "source": [
    "# check dataframe actors\n",
    "actors.head()"
   ]
  },
  {
   "cell_type": "code",
   "execution_count": 252,
   "metadata": {},
   "outputs": [
    {
     "data": {
      "text/plain": [
       "(536825, 7)"
      ]
     },
     "execution_count": 252,
     "metadata": {},
     "output_type": "execute_result"
    }
   ],
   "source": [
    "# check dataframe before select value actor or actress in three colums : firstProfession, secondProfession, thirdProfession\n",
    "\n",
    "actors.shape"
   ]
  },
  {
   "cell_type": "code",
   "execution_count": 256,
   "metadata": {},
   "outputs": [],
   "source": [
    "# Je ne garde que les acteurs/actrices\n",
    "\n",
    "actors = actors[(actors['firstProfession'].isin(['actress','actor'])) | ( actors['secondProfession'].isin(['actress','actor'])) | ( actors['thirdProfession'].isin(['actress','actor']))]"
   ]
  },
  {
   "cell_type": "code",
   "execution_count": 258,
   "metadata": {},
   "outputs": [
    {
     "data": {
      "text/plain": [
       "(324744, 7)"
      ]
     },
     "execution_count": 258,
     "metadata": {},
     "output_type": "execute_result"
    }
   ],
   "source": [
    "# check dataframe after select value actor or actress in three colums : firstProfession, secondProfession, thirdProfession\n",
    "actors.shape"
   ]
  },
  {
   "cell_type": "code",
   "execution_count": null,
   "metadata": {},
   "outputs": [],
   "source": [
    "#drop colums firstProfession, secondProfession, thirdProfession qui ne me sont plus utiles\n",
    "\n",
    "actors.drop(columns=['primaryProfession'],axis = 1, inplace=True)"
   ]
  },
  {
   "cell_type": "code",
   "execution_count": 259,
   "metadata": {},
   "outputs": [
    {
     "data": {
      "text/html": [
       "<div>\n",
       "<style scoped>\n",
       "    .dataframe tbody tr th:only-of-type {\n",
       "        vertical-align: middle;\n",
       "    }\n",
       "\n",
       "    .dataframe tbody tr th {\n",
       "        vertical-align: top;\n",
       "    }\n",
       "\n",
       "    .dataframe thead th {\n",
       "        text-align: right;\n",
       "    }\n",
       "</style>\n",
       "<table border=\"1\" class=\"dataframe\">\n",
       "  <thead>\n",
       "    <tr style=\"text-align: right;\">\n",
       "      <th></th>\n",
       "      <th>nconst</th>\n",
       "      <th>primaryName</th>\n",
       "      <th>birthYear</th>\n",
       "      <th>knownForTitles</th>\n",
       "      <th>firstProfession</th>\n",
       "      <th>secondProfession</th>\n",
       "      <th>thirdProfession</th>\n",
       "    </tr>\n",
       "  </thead>\n",
       "  <tbody>\n",
       "    <tr>\n",
       "      <th>446</th>\n",
       "      <td>nm6368729</td>\n",
       "      <td>William H. Taylor</td>\n",
       "      <td>1827</td>\n",
       "      <td>tt0021511</td>\n",
       "      <td>actor</td>\n",
       "      <td>None</td>\n",
       "      <td>None</td>\n",
       "    </tr>\n",
       "    <tr>\n",
       "      <th>466</th>\n",
       "      <td>nm0853014</td>\n",
       "      <td>Pop Taylor</td>\n",
       "      <td>1828</td>\n",
       "      <td>tt0015864,tt0009886</td>\n",
       "      <td>actor</td>\n",
       "      <td>None</td>\n",
       "      <td>None</td>\n",
       "    </tr>\n",
       "    <tr>\n",
       "      <th>483</th>\n",
       "      <td>nm0420198</td>\n",
       "      <td>Joseph Jefferson</td>\n",
       "      <td>1829</td>\n",
       "      <td>tt0000464,tt0004537,tt0006030,tt0012627</td>\n",
       "      <td>actor</td>\n",
       "      <td>writer</td>\n",
       "      <td>None</td>\n",
       "    </tr>\n",
       "    <tr>\n",
       "      <th>508</th>\n",
       "      <td>nm0592974</td>\n",
       "      <td>Frédéric Mistral</td>\n",
       "      <td>1830</td>\n",
       "      <td>tt0161816,tt0492286,tt2813560,tt0764830</td>\n",
       "      <td>writer</td>\n",
       "      <td>actor</td>\n",
       "      <td>None</td>\n",
       "    </tr>\n",
       "    <tr>\n",
       "      <th>513</th>\n",
       "      <td>nm0542567</td>\n",
       "      <td>Charles Manley</td>\n",
       "      <td>1830</td>\n",
       "      <td>tt0004313,tt0000414,tt0000340,tt0000341</td>\n",
       "      <td>actor</td>\n",
       "      <td>None</td>\n",
       "      <td>None</td>\n",
       "    </tr>\n",
       "  </tbody>\n",
       "</table>\n",
       "</div>"
      ],
      "text/plain": [
       "        nconst        primaryName birthYear  \\\n",
       "446  nm6368729  William H. Taylor      1827   \n",
       "466  nm0853014         Pop Taylor      1828   \n",
       "483  nm0420198   Joseph Jefferson      1829   \n",
       "508  nm0592974   Frédéric Mistral      1830   \n",
       "513  nm0542567     Charles Manley      1830   \n",
       "\n",
       "                              knownForTitles firstProfession secondProfession  \\\n",
       "446                                tt0021511           actor             None   \n",
       "466                      tt0015864,tt0009886           actor             None   \n",
       "483  tt0000464,tt0004537,tt0006030,tt0012627           actor           writer   \n",
       "508  tt0161816,tt0492286,tt2813560,tt0764830          writer            actor   \n",
       "513  tt0004313,tt0000414,tt0000340,tt0000341           actor             None   \n",
       "\n",
       "    thirdProfession  \n",
       "446            None  \n",
       "466            None  \n",
       "483            None  \n",
       "508            None  \n",
       "513            None  "
      ]
     },
     "execution_count": 259,
     "metadata": {},
     "output_type": "execute_result"
    }
   ],
   "source": [
    "actors.head()"
   ]
  },
  {
   "cell_type": "markdown",
   "metadata": {},
   "source": [
    "## 3- Joindre les tables et retrier :"
   ]
  },
  {
   "cell_type": "code",
   "execution_count": null,
   "metadata": {},
   "outputs": [],
   "source": []
  },
  {
   "cell_type": "code",
   "execution_count": null,
   "metadata": {},
   "outputs": [],
   "source": [
    "# suppression des lignes Nan rapport à la date de naissance\n",
    "\n",
    "#actors.dropna(subset=['birthYear'], inplace=True)"
   ]
  },
  {
   "cell_type": "code",
   "execution_count": null,
   "metadata": {},
   "outputs": [],
   "source": [
    "# actors['birthYear']= actors['birthYear'].astype(int)"
   ]
  },
  {
   "cell_type": "code",
   "execution_count": null,
   "metadata": {},
   "outputs": [],
   "source": [
    "# prendre que la colonne birth\n",
    "#actors_birth = actors['birthYear'] \n",
    "#print(actors_birth)"
   ]
  },
  {
   "cell_type": "code",
   "execution_count": null,
   "metadata": {},
   "outputs": [
    {
     "data": {
      "text/plain": [
       "\"actors_birth2 = actors_birth(['actors_birth'] >= 1850)\\nprint(actors_birth2)\\n\\n#actors['birthYear'] = datetime.strptime(actors['birthYear'], '%Y')\""
      ]
     },
     "execution_count": 17,
     "metadata": {},
     "output_type": "execute_result"
    }
   ],
   "source": [
    "'''actors_birth2 = actors_birth(['actors_birth'] >= 1850)\n",
    "print(actors_birth2)\n",
    "\n",
    "#actors['birthYear'] = datetime.strptime(actors['birthYear'], '%Y')'''"
   ]
  }
 ],
 "metadata": {
  "interpreter": {
   "hash": "2737ab35ba7d25f8071971e636d55a06dcafe00db434104323c773939bb24f14"
  },
  "kernelspec": {
   "display_name": "Python 3.9.0 32-bit",
   "name": "python3"
  },
  "language_info": {
   "codemirror_mode": {
    "name": "ipython",
    "version": 3
   },
   "file_extension": ".py",
   "mimetype": "text/x-python",
   "name": "python",
   "nbconvert_exporter": "python",
   "pygments_lexer": "ipython3",
   "version": "3.8.12"
  },
  "orig_nbformat": 4
 },
 "nbformat": 4,
 "nbformat_minor": 2
}
