{
 "cells": [
  {
   "cell_type": "markdown",
   "metadata": {},
   "source": [
    "## Imports"
   ]
  },
  {
   "cell_type": "code",
   "execution_count": 2,
   "metadata": {},
   "outputs": [],
   "source": [
    "import pandas as pd\n",
    "import re\n",
    "import math\n",
    "from collections import Counter\n",
    "import operator"
   ]
  },
  {
   "cell_type": "code",
   "execution_count": 3,
   "metadata": {},
   "outputs": [],
   "source": [
    "# We first load the dataset into a dataframe\n",
    "movie_for_ml = pd.read_csv('data/movies_merged.csv.zip')"
   ]
  },
  {
   "cell_type": "code",
   "execution_count": 4,
   "metadata": {},
   "outputs": [],
   "source": [
    "# The user choses a film based on its full title\n",
    "movie_title = input(\"Type a movie's full name\")\n",
    "\n",
    "# We select the associated data\n",
    "movie_data = movie_for_ml.loc[movie_for_ml['originalTitle']==movie_title,'data'].values[0]\n"
   ]
  },
  {
   "cell_type": "markdown",
   "metadata": {},
   "source": [
    "# Recommendation Algorithm"
   ]
  },
  {
   "cell_type": "code",
   "execution_count": 5,
   "metadata": {},
   "outputs": [],
   "source": [
    "# This class has only one method, that takes 2 lists of strings as input, vecotrizes them and returns the cosine similarity\n",
    "\n",
    "class CosineSimilarity:\n",
    "    def __init__(self):\n",
    "        print(\"Cosine Similarity initialized\")\n",
    "\n",
    "    @staticmethod\n",
    "    def cosine_similarity_of(text1, text2):\n",
    "        # Get words first\n",
    "        first = re.compile(r\"[\\w']+\").findall(text1)\n",
    "        second = re.compile(r\"[\\w']+\").findall(text2)\n",
    "\n",
    "        # Get dictionary with each word and count\n",
    "        vector1 = Counter(first)\n",
    "        vector2 = Counter(second)\n",
    "\n",
    "        # Convert vectors to set to find common words as intersection\n",
    "        common = set(vector1.keys()).intersection(set(vector2.keys()))\n",
    "\n",
    "        dot_product = 0.0\n",
    "\n",
    "        for i in common:\n",
    "            # Get amount of each common word for both vectors and multiply them then add them together\n",
    "            dot_product += vector1[i] * vector2[i]\n",
    "\n",
    "        squared_sum_vector1 = 0.0\n",
    "        squared_sum_vector2 = 0.0\n",
    "\n",
    "        # Get squared sum values of word counts from each vector\n",
    "        for i in vector1.keys():\n",
    "            squared_sum_vector1 += vector1[i]**2\n",
    "\n",
    "        for i in vector2.keys():\n",
    "            squared_sum_vector2 += vector2[i]**2\n",
    "\n",
    "        #calculate magnitude with squared sums.\n",
    "        magnitude = math.sqrt(squared_sum_vector1) * math.sqrt(squared_sum_vector2)\n",
    "\n",
    "        if not magnitude:\n",
    "           return 0.0\n",
    "        else:\n",
    "           return float(dot_product) / magnitude"
   ]
  },
  {
   "cell_type": "code",
   "execution_count": 6,
   "metadata": {},
   "outputs": [],
   "source": [
    "# This class has only one method, that gets the dataframe, and iterates over the rows to calculate and store the cosine similarity between the keywords input and the rest of the datasets\n",
    "# It returns a dataframe with the 10 top scores\n",
    "\n",
    "class RecommenderEngine:\n",
    "    def __init__(self):\n",
    "        print(\"engine initialized\")\n",
    "\n",
    "    def get_recommendations(keywords):\n",
    "\n",
    "        df = movie_for_ml\n",
    "        df.reset_index(inplace=True, drop=True)        \n",
    "\n",
    "        score_dict = {}\n",
    "        \n",
    "        # Obtaining the score by the cosine similarity method\n",
    "        for index, row in df.iterrows():\n",
    "            score_dict[index] = CosineSimilarity.cosine_similarity_of(row['data'], keywords)\n",
    "\n",
    "        # Sort movies by score and index\n",
    "        sorted_scores = sorted(score_dict.items(), key=operator.itemgetter(1), reverse=True)\n",
    "\n",
    "        counter = 0\n",
    "\n",
    "        # Create an empty results data frame\n",
    "        resultDF = pd.DataFrame(columns=('tconst', 'originalTitle', 'data', 'score'))\n",
    "\n",
    "        # Get highest scored 10 movies.\n",
    "        for i in sorted_scores:\n",
    "\n",
    "            resultDF = resultDF.append({'tconst': df.iloc[i[0]]['tconst'], 'originalTitle': df.iloc[i[0]]['originalTitle'], 'data': df.iloc[i[0]]['data'], 'score': i[1]}, ignore_index=True)\n",
    "            counter += 1\n",
    "\n",
    "            if counter>10:\n",
    "                break\n",
    "\n",
    "        # Remove the first row\n",
    "        return resultDF.iloc[1:]"
   ]
  },
  {
   "cell_type": "code",
   "execution_count": 7,
   "metadata": {},
   "outputs": [],
   "source": [
    "# Function that calls the recommendations algorithm\n",
    "def get_recommendations(keywords):\n",
    "    return RecommenderEngine.get_recommendations(keywords)"
   ]
  },
  {
   "cell_type": "code",
   "execution_count": 9,
   "metadata": {},
   "outputs": [
    {
     "data": {
      "text/html": [
       "<div>\n",
       "<style scoped>\n",
       "    .dataframe tbody tr th:only-of-type {\n",
       "        vertical-align: middle;\n",
       "    }\n",
       "\n",
       "    .dataframe tbody tr th {\n",
       "        vertical-align: top;\n",
       "    }\n",
       "\n",
       "    .dataframe thead th {\n",
       "        text-align: right;\n",
       "    }\n",
       "</style>\n",
       "<table border=\"1\" class=\"dataframe\">\n",
       "  <thead>\n",
       "    <tr style=\"text-align: right;\">\n",
       "      <th></th>\n",
       "      <th>originalTitle</th>\n",
       "      <th>score</th>\n",
       "    </tr>\n",
       "  </thead>\n",
       "  <tbody>\n",
       "    <tr>\n",
       "      <th>1</th>\n",
       "      <td>Batman Returns</td>\n",
       "      <td>0.435194</td>\n",
       "    </tr>\n",
       "    <tr>\n",
       "      <th>2</th>\n",
       "      <td>Beetle Juice</td>\n",
       "      <td>0.272727</td>\n",
       "    </tr>\n",
       "    <tr>\n",
       "      <th>3</th>\n",
       "      <td>Indiana Jones and the Last Crusade</td>\n",
       "      <td>0.261116</td>\n",
       "    </tr>\n",
       "    <tr>\n",
       "      <th>4</th>\n",
       "      <td>Batman Begins</td>\n",
       "      <td>0.250873</td>\n",
       "    </tr>\n",
       "    <tr>\n",
       "      <th>5</th>\n",
       "      <td>Batman: Mask of the Phantasm</td>\n",
       "      <td>0.207514</td>\n",
       "    </tr>\n",
       "    <tr>\n",
       "      <th>6</th>\n",
       "      <td>Poslednji krug u Monci</td>\n",
       "      <td>0.201008</td>\n",
       "    </tr>\n",
       "    <tr>\n",
       "      <th>7</th>\n",
       "      <td>Mrigaya</td>\n",
       "      <td>0.201008</td>\n",
       "    </tr>\n",
       "    <tr>\n",
       "      <th>8</th>\n",
       "      <td>Zack Snyder's Justice League</td>\n",
       "      <td>0.197386</td>\n",
       "    </tr>\n",
       "    <tr>\n",
       "      <th>9</th>\n",
       "      <td>Spider-Man: Homecoming</td>\n",
       "      <td>0.192847</td>\n",
       "    </tr>\n",
       "    <tr>\n",
       "      <th>10</th>\n",
       "      <td>Where Eagles Dare</td>\n",
       "      <td>0.190693</td>\n",
       "    </tr>\n",
       "  </tbody>\n",
       "</table>\n",
       "</div>"
      ],
      "text/plain": [
       "                         originalTitle     score\n",
       "1                       Batman Returns  0.435194\n",
       "2                         Beetle Juice  0.272727\n",
       "3   Indiana Jones and the Last Crusade  0.261116\n",
       "4                        Batman Begins  0.250873\n",
       "5         Batman: Mask of the Phantasm  0.207514\n",
       "6               Poslednji krug u Monci  0.201008\n",
       "7                              Mrigaya  0.201008\n",
       "8         Zack Snyder's Justice League  0.197386\n",
       "9               Spider-Man: Homecoming  0.192847\n",
       "10                   Where Eagles Dare  0.190693"
      ]
     },
     "execution_count": 9,
     "metadata": {},
     "output_type": "execute_result"
    }
   ],
   "source": [
    "# Results\n",
    "recommendations = get_recommendations(movie_data)\n",
    "recommendations[['originalTitle', 'score']]"
   ]
  },
  {
   "cell_type": "code",
   "execution_count": null,
   "metadata": {},
   "outputs": [],
   "source": []
  }
 ],
 "metadata": {
  "interpreter": {
   "hash": "be0acc8b5e9c514370efa701a19078e441337db182ef74130e57d9d0b7902eba"
  },
  "kernelspec": {
   "display_name": "Python 3.8.12 64-bit ('base': conda)",
   "language": "python",
   "name": "python3"
  },
  "language_info": {
   "codemirror_mode": {
    "name": "ipython",
    "version": 3
   },
   "file_extension": ".py",
   "mimetype": "text/x-python",
   "name": "python",
   "nbconvert_exporter": "python",
   "pygments_lexer": "ipython3",
   "version": "3.8.12"
  },
  "orig_nbformat": 4
 },
 "nbformat": 4,
 "nbformat_minor": 2
}
