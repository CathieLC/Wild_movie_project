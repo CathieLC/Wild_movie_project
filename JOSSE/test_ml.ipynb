{
 "cells": [
  {
   "cell_type": "code",
   "execution_count": 1,
   "metadata": {},
   "outputs": [],
   "source": [
    "import pandas as pd\n",
    "import numpy as np\n",
    "from sklearn.neighbors import KNeighborsClassifier\n",
    "from sklearn.neighbors import NearestNeighbors"
   ]
  },
  {
   "cell_type": "code",
   "execution_count": 65,
   "metadata": {},
   "outputs": [],
   "source": [
    "basics_df = pd.read_csv(\"https://datasets.imdbws.com/title.basics.tsv.gz\", sep=\"\\t\", low_memory=False)"
   ]
  },
  {
   "cell_type": "code",
   "execution_count": null,
   "metadata": {},
   "outputs": [],
   "source": [
    "basics_df =  basics_df.drop('endYear',axis=1)"
   ]
  },
  {
   "cell_type": "code",
   "execution_count": 74,
   "metadata": {},
   "outputs": [],
   "source": [
    "movies = basics_df.loc[basics_df['titleType']=='movie']"
   ]
  },
  {
   "cell_type": "code",
   "execution_count": 75,
   "metadata": {},
   "outputs": [],
   "source": [
    "movies = movies.drop('titleType',axis=1)"
   ]
  },
  {
   "cell_type": "code",
   "execution_count": null,
   "metadata": {},
   "outputs": [],
   "source": [
    "movies_ok = movies.loc[movies['isAdult']=='0']\n",
    "movies_ok=movies_ok.drop('isAdult',axis=1)"
   ]
  },
  {
   "cell_type": "code",
   "execution_count": 78,
   "metadata": {},
   "outputs": [],
   "source": [
    "movies_ok_nat = movies_ok.replace('\\\\N', pd.NaT)\n",
    "movies_clean = movies_ok_nat.dropna()"
   ]
  },
  {
   "cell_type": "code",
   "execution_count": 79,
   "metadata": {},
   "outputs": [],
   "source": [
    "movies_clean = movies_clean.astype({'runtimeMinutes': int})\n",
    "movies_clean = movies_clean.astype({'startYear': int})"
   ]
  },
  {
   "cell_type": "code",
   "execution_count": null,
   "metadata": {},
   "outputs": [],
   "source": [
    "movies_clean = movies_clean[(movies_clean['runtimeMinutes'] >= 58) & (movies_clean['runtimeMinutes'] <= 270)]"
   ]
  },
  {
   "cell_type": "code",
   "execution_count": null,
   "metadata": {},
   "outputs": [],
   "source": [
    "movies_clean = movies_clean[(movies_clean['startYear'] >= 1918) & (movies_clean['startYear'] <= 2021)]"
   ]
  },
  {
   "cell_type": "code",
   "execution_count": 82,
   "metadata": {},
   "outputs": [],
   "source": [
    "ratings_df = pd.read_csv(\"https://datasets.imdbws.com/title.ratings.tsv.gz\", sep=\"\\t\")"
   ]
  },
  {
   "cell_type": "code",
   "execution_count": 88,
   "metadata": {},
   "outputs": [],
   "source": [
    "movies = pd.merge(movies_clean,ratings_df,how='inner')"
   ]
  },
  {
   "cell_type": "code",
   "execution_count": 89,
   "metadata": {},
   "outputs": [],
   "source": [
    "movies_7 = movies.loc[movies['averageRating']>=7.0]"
   ]
  },
  {
   "cell_type": "code",
   "execution_count": 90,
   "metadata": {},
   "outputs": [],
   "source": [
    "movies_7_rating = movies_7[movies_7['numVotes'] >= 1000]\n"
   ]
  },
  {
   "cell_type": "code",
   "execution_count": null,
   "metadata": {},
   "outputs": [],
   "source": [
    "crew_df = pd.read_csv(\"https://datasets.imdbws.com/title.crew.tsv.gz\", sep=\"\\t\")"
   ]
  },
  {
   "cell_type": "code",
   "execution_count": 19,
   "metadata": {},
   "outputs": [],
   "source": [
    "principals_df = pd.read_csv(\"https://datasets.imdbws.com/title.principals.tsv.gz\", sep=\"\\t\")"
   ]
  },
  {
   "cell_type": "code",
   "execution_count": 20,
   "metadata": {},
   "outputs": [],
   "source": [
    "name_df = pd.read_csv(\"https://datasets.imdbws.com/name.basics.tsv.gz\", sep=\"\\t\")"
   ]
  },
  {
   "cell_type": "code",
   "execution_count": 109,
   "metadata": {},
   "outputs": [],
   "source": [
    "movie_dir = pd.merge(movies_7_rating,crew_df,how='inner',on='tconst')"
   ]
  },
  {
   "cell_type": "code",
   "execution_count": 110,
   "metadata": {},
   "outputs": [],
   "source": [
    "movie_dir.drop('writers',axis=1,inplace=True)"
   ]
  },
  {
   "cell_type": "code",
   "execution_count": 111,
   "metadata": {},
   "outputs": [],
   "source": [
    "movie_dir.drop('primaryTitle',axis=1,inplace=True)"
   ]
  },
  {
   "cell_type": "code",
   "execution_count": 113,
   "metadata": {},
   "outputs": [],
   "source": [
    "movie_dir[['mainDirector', 'director2']] = movie_dir['directors'].str.split(',', n=1, expand=True)"
   ]
  },
  {
   "cell_type": "code",
   "execution_count": 114,
   "metadata": {},
   "outputs": [],
   "source": [
    "movie_dir.drop('directors',axis=1,inplace=True)\n",
    "movie_dir.drop('director2',axis=1,inplace=True)"
   ]
  },
  {
   "cell_type": "code",
   "execution_count": 116,
   "metadata": {},
   "outputs": [],
   "source": [
    "movie_dir = pd.concat([movie_dir[['tconst', 'originalTitle', 'startYear', 'runtimeMinutes','genres','averageRating','numVotes']] , movie_dir['mainDirector'].str.get_dummies()], \n",
    "          axis = 1)"
   ]
  },
  {
   "cell_type": "code",
   "execution_count": 103,
   "metadata": {},
   "outputs": [],
   "source": [
    "movie_dir[['genre1', 'genre2','genre3']] = movie_dir['genres'].str.split(',', n=2, expand=True)"
   ]
  },
  {
   "cell_type": "code",
   "execution_count": 105,
   "metadata": {},
   "outputs": [],
   "source": [
    "movie_dir = pd.concat([movie_dir , movie_dir['genre1'].str.get_dummies(), movie_dir['genre2'].str.get_dummies(), movie_dir['genre3'].str.get_dummies()], \n",
    "          axis = 1)"
   ]
  },
  {
   "cell_type": "code",
   "execution_count": 107,
   "metadata": {},
   "outputs": [
    {
     "data": {
      "text/html": [
       "<div>\n",
       "<style scoped>\n",
       "    .dataframe tbody tr th:only-of-type {\n",
       "        vertical-align: middle;\n",
       "    }\n",
       "\n",
       "    .dataframe tbody tr th {\n",
       "        vertical-align: top;\n",
       "    }\n",
       "\n",
       "    .dataframe thead th {\n",
       "        text-align: right;\n",
       "    }\n",
       "</style>\n",
       "<table border=\"1\" class=\"dataframe\">\n",
       "  <thead>\n",
       "    <tr style=\"text-align: right;\">\n",
       "      <th></th>\n",
       "      <th>tconst</th>\n",
       "      <th>originalTitle</th>\n",
       "      <th>startYear</th>\n",
       "      <th>runtimeMinutes</th>\n",
       "      <th>genres</th>\n",
       "      <th>averageRating</th>\n",
       "      <th>numVotes</th>\n",
       "      <th>\\N</th>\n",
       "      <th>nm0000005</th>\n",
       "      <th>nm0000008</th>\n",
       "      <th>...</th>\n",
       "      <th>Music</th>\n",
       "      <th>Musical</th>\n",
       "      <th>Mystery</th>\n",
       "      <th>News</th>\n",
       "      <th>Romance</th>\n",
       "      <th>Sci-Fi</th>\n",
       "      <th>Sport</th>\n",
       "      <th>Thriller</th>\n",
       "      <th>War</th>\n",
       "      <th>Western</th>\n",
       "    </tr>\n",
       "  </thead>\n",
       "  <tbody>\n",
       "    <tr>\n",
       "      <th>0</th>\n",
       "      <td>tt0008879</td>\n",
       "      <td>Berg-Ejvind och hans hustru</td>\n",
       "      <td>1918</td>\n",
       "      <td>136</td>\n",
       "      <td>Drama</td>\n",
       "      <td>7.2</td>\n",
       "      <td>1784</td>\n",
       "      <td>0</td>\n",
       "      <td>0</td>\n",
       "      <td>0</td>\n",
       "      <td>...</td>\n",
       "      <td>0</td>\n",
       "      <td>0</td>\n",
       "      <td>0</td>\n",
       "      <td>0</td>\n",
       "      <td>0</td>\n",
       "      <td>0</td>\n",
       "      <td>0</td>\n",
       "      <td>0</td>\n",
       "      <td>0</td>\n",
       "      <td>0</td>\n",
       "    </tr>\n",
       "    <tr>\n",
       "      <th>1</th>\n",
       "      <td>tt0009893</td>\n",
       "      <td>Die Austernprinzessin</td>\n",
       "      <td>1919</td>\n",
       "      <td>60</td>\n",
       "      <td>Comedy</td>\n",
       "      <td>7.2</td>\n",
       "      <td>1817</td>\n",
       "      <td>0</td>\n",
       "      <td>0</td>\n",
       "      <td>0</td>\n",
       "      <td>...</td>\n",
       "      <td>0</td>\n",
       "      <td>0</td>\n",
       "      <td>0</td>\n",
       "      <td>0</td>\n",
       "      <td>0</td>\n",
       "      <td>0</td>\n",
       "      <td>0</td>\n",
       "      <td>0</td>\n",
       "      <td>0</td>\n",
       "      <td>0</td>\n",
       "    </tr>\n",
       "    <tr>\n",
       "      <th>2</th>\n",
       "      <td>tt0009937</td>\n",
       "      <td>Blind Husbands</td>\n",
       "      <td>1919</td>\n",
       "      <td>99</td>\n",
       "      <td>Drama,Romance</td>\n",
       "      <td>7.0</td>\n",
       "      <td>1470</td>\n",
       "      <td>0</td>\n",
       "      <td>0</td>\n",
       "      <td>0</td>\n",
       "      <td>...</td>\n",
       "      <td>0</td>\n",
       "      <td>0</td>\n",
       "      <td>0</td>\n",
       "      <td>0</td>\n",
       "      <td>0</td>\n",
       "      <td>0</td>\n",
       "      <td>0</td>\n",
       "      <td>0</td>\n",
       "      <td>0</td>\n",
       "      <td>0</td>\n",
       "    </tr>\n",
       "    <tr>\n",
       "      <th>3</th>\n",
       "      <td>tt0009968</td>\n",
       "      <td>Broken Blossoms or The Yellow Man and the Girl</td>\n",
       "      <td>1919</td>\n",
       "      <td>90</td>\n",
       "      <td>Drama,Romance</td>\n",
       "      <td>7.3</td>\n",
       "      <td>10030</td>\n",
       "      <td>0</td>\n",
       "      <td>0</td>\n",
       "      <td>0</td>\n",
       "      <td>...</td>\n",
       "      <td>0</td>\n",
       "      <td>0</td>\n",
       "      <td>0</td>\n",
       "      <td>0</td>\n",
       "      <td>0</td>\n",
       "      <td>0</td>\n",
       "      <td>0</td>\n",
       "      <td>0</td>\n",
       "      <td>0</td>\n",
       "      <td>0</td>\n",
       "    </tr>\n",
       "    <tr>\n",
       "      <th>4</th>\n",
       "      <td>tt0010247</td>\n",
       "      <td>Herr Arnes pengar</td>\n",
       "      <td>1919</td>\n",
       "      <td>122</td>\n",
       "      <td>Drama,History</td>\n",
       "      <td>7.2</td>\n",
       "      <td>1356</td>\n",
       "      <td>0</td>\n",
       "      <td>0</td>\n",
       "      <td>0</td>\n",
       "      <td>...</td>\n",
       "      <td>0</td>\n",
       "      <td>0</td>\n",
       "      <td>0</td>\n",
       "      <td>0</td>\n",
       "      <td>0</td>\n",
       "      <td>0</td>\n",
       "      <td>0</td>\n",
       "      <td>0</td>\n",
       "      <td>0</td>\n",
       "      <td>0</td>\n",
       "    </tr>\n",
       "    <tr>\n",
       "      <th>...</th>\n",
       "      <td>...</td>\n",
       "      <td>...</td>\n",
       "      <td>...</td>\n",
       "      <td>...</td>\n",
       "      <td>...</td>\n",
       "      <td>...</td>\n",
       "      <td>...</td>\n",
       "      <td>...</td>\n",
       "      <td>...</td>\n",
       "      <td>...</td>\n",
       "      <td>...</td>\n",
       "      <td>...</td>\n",
       "      <td>...</td>\n",
       "      <td>...</td>\n",
       "      <td>...</td>\n",
       "      <td>...</td>\n",
       "      <td>...</td>\n",
       "      <td>...</td>\n",
       "      <td>...</td>\n",
       "      <td>...</td>\n",
       "      <td>...</td>\n",
       "    </tr>\n",
       "    <tr>\n",
       "      <th>11638</th>\n",
       "      <td>tt9882084</td>\n",
       "      <td>Chasing Happiness</td>\n",
       "      <td>2019</td>\n",
       "      <td>96</td>\n",
       "      <td>Biography,Documentary,Music</td>\n",
       "      <td>7.8</td>\n",
       "      <td>2138</td>\n",
       "      <td>0</td>\n",
       "      <td>0</td>\n",
       "      <td>0</td>\n",
       "      <td>...</td>\n",
       "      <td>1</td>\n",
       "      <td>0</td>\n",
       "      <td>0</td>\n",
       "      <td>0</td>\n",
       "      <td>0</td>\n",
       "      <td>0</td>\n",
       "      <td>0</td>\n",
       "      <td>0</td>\n",
       "      <td>0</td>\n",
       "      <td>0</td>\n",
       "    </tr>\n",
       "    <tr>\n",
       "      <th>11639</th>\n",
       "      <td>tt9886872</td>\n",
       "      <td>Munthiri Monchan</td>\n",
       "      <td>2019</td>\n",
       "      <td>130</td>\n",
       "      <td>Comedy,Romance</td>\n",
       "      <td>7.8</td>\n",
       "      <td>1345</td>\n",
       "      <td>0</td>\n",
       "      <td>0</td>\n",
       "      <td>0</td>\n",
       "      <td>...</td>\n",
       "      <td>0</td>\n",
       "      <td>0</td>\n",
       "      <td>0</td>\n",
       "      <td>0</td>\n",
       "      <td>0</td>\n",
       "      <td>0</td>\n",
       "      <td>0</td>\n",
       "      <td>0</td>\n",
       "      <td>0</td>\n",
       "      <td>0</td>\n",
       "    </tr>\n",
       "    <tr>\n",
       "      <th>11640</th>\n",
       "      <td>tt9900782</td>\n",
       "      <td>Kaithi</td>\n",
       "      <td>2019</td>\n",
       "      <td>145</td>\n",
       "      <td>Action,Crime,Thriller</td>\n",
       "      <td>8.5</td>\n",
       "      <td>18842</td>\n",
       "      <td>0</td>\n",
       "      <td>0</td>\n",
       "      <td>0</td>\n",
       "      <td>...</td>\n",
       "      <td>0</td>\n",
       "      <td>0</td>\n",
       "      <td>0</td>\n",
       "      <td>0</td>\n",
       "      <td>0</td>\n",
       "      <td>0</td>\n",
       "      <td>0</td>\n",
       "      <td>1</td>\n",
       "      <td>0</td>\n",
       "      <td>0</td>\n",
       "    </tr>\n",
       "    <tr>\n",
       "      <th>11641</th>\n",
       "      <td>tt9902160</td>\n",
       "      <td>Herself</td>\n",
       "      <td>2020</td>\n",
       "      <td>97</td>\n",
       "      <td>Drama</td>\n",
       "      <td>7.0</td>\n",
       "      <td>2850</td>\n",
       "      <td>0</td>\n",
       "      <td>0</td>\n",
       "      <td>0</td>\n",
       "      <td>...</td>\n",
       "      <td>0</td>\n",
       "      <td>0</td>\n",
       "      <td>0</td>\n",
       "      <td>0</td>\n",
       "      <td>0</td>\n",
       "      <td>0</td>\n",
       "      <td>0</td>\n",
       "      <td>0</td>\n",
       "      <td>0</td>\n",
       "      <td>0</td>\n",
       "    </tr>\n",
       "    <tr>\n",
       "      <th>11642</th>\n",
       "      <td>tt9911196</td>\n",
       "      <td>De beentjes van Sint-Hildegard</td>\n",
       "      <td>2020</td>\n",
       "      <td>103</td>\n",
       "      <td>Comedy,Drama</td>\n",
       "      <td>7.6</td>\n",
       "      <td>3219</td>\n",
       "      <td>0</td>\n",
       "      <td>0</td>\n",
       "      <td>0</td>\n",
       "      <td>...</td>\n",
       "      <td>0</td>\n",
       "      <td>0</td>\n",
       "      <td>0</td>\n",
       "      <td>0</td>\n",
       "      <td>0</td>\n",
       "      <td>0</td>\n",
       "      <td>0</td>\n",
       "      <td>0</td>\n",
       "      <td>0</td>\n",
       "      <td>0</td>\n",
       "    </tr>\n",
       "  </tbody>\n",
       "</table>\n",
       "<p>11643 rows × 5704 columns</p>\n",
       "</div>"
      ],
      "text/plain": [
       "          tconst                                   originalTitle  startYear  \\\n",
       "0      tt0008879                     Berg-Ejvind och hans hustru       1918   \n",
       "1      tt0009893                           Die Austernprinzessin       1919   \n",
       "2      tt0009937                                  Blind Husbands       1919   \n",
       "3      tt0009968  Broken Blossoms or The Yellow Man and the Girl       1919   \n",
       "4      tt0010247                               Herr Arnes pengar       1919   \n",
       "...          ...                                             ...        ...   \n",
       "11638  tt9882084                               Chasing Happiness       2019   \n",
       "11639  tt9886872                                Munthiri Monchan       2019   \n",
       "11640  tt9900782                                          Kaithi       2019   \n",
       "11641  tt9902160                                         Herself       2020   \n",
       "11642  tt9911196                  De beentjes van Sint-Hildegard       2020   \n",
       "\n",
       "       runtimeMinutes                       genres  averageRating  numVotes  \\\n",
       "0                 136                        Drama            7.2      1784   \n",
       "1                  60                       Comedy            7.2      1817   \n",
       "2                  99                Drama,Romance            7.0      1470   \n",
       "3                  90                Drama,Romance            7.3     10030   \n",
       "4                 122                Drama,History            7.2      1356   \n",
       "...               ...                          ...            ...       ...   \n",
       "11638              96  Biography,Documentary,Music            7.8      2138   \n",
       "11639             130               Comedy,Romance            7.8      1345   \n",
       "11640             145        Action,Crime,Thriller            8.5     18842   \n",
       "11641              97                        Drama            7.0      2850   \n",
       "11642             103                 Comedy,Drama            7.6      3219   \n",
       "\n",
       "       \\N  nm0000005  nm0000008  ...  Music  Musical  Mystery  News  Romance  \\\n",
       "0       0          0          0  ...      0        0        0     0        0   \n",
       "1       0          0          0  ...      0        0        0     0        0   \n",
       "2       0          0          0  ...      0        0        0     0        0   \n",
       "3       0          0          0  ...      0        0        0     0        0   \n",
       "4       0          0          0  ...      0        0        0     0        0   \n",
       "...    ..        ...        ...  ...    ...      ...      ...   ...      ...   \n",
       "11638   0          0          0  ...      1        0        0     0        0   \n",
       "11639   0          0          0  ...      0        0        0     0        0   \n",
       "11640   0          0          0  ...      0        0        0     0        0   \n",
       "11641   0          0          0  ...      0        0        0     0        0   \n",
       "11642   0          0          0  ...      0        0        0     0        0   \n",
       "\n",
       "       Sci-Fi  Sport  Thriller  War  Western  \n",
       "0           0      0         0    0        0  \n",
       "1           0      0         0    0        0  \n",
       "2           0      0         0    0        0  \n",
       "3           0      0         0    0        0  \n",
       "4           0      0         0    0        0  \n",
       "...       ...    ...       ...  ...      ...  \n",
       "11638       0      0         0    0        0  \n",
       "11639       0      0         0    0        0  \n",
       "11640       0      0         1    0        0  \n",
       "11641       0      0         0    0        0  \n",
       "11642       0      0         0    0        0  \n",
       "\n",
       "[11643 rows x 5704 columns]"
      ]
     },
     "execution_count": 107,
     "metadata": {},
     "output_type": "execute_result"
    }
   ],
   "source": [
    "movie_dir"
   ]
  }
 ],
 "metadata": {
  "interpreter": {
   "hash": "be0acc8b5e9c514370efa701a19078e441337db182ef74130e57d9d0b7902eba"
  },
  "kernelspec": {
   "display_name": "Python 3.8.12 64-bit ('base': conda)",
   "language": "python",
   "name": "python3"
  },
  "language_info": {
   "codemirror_mode": {
    "name": "ipython",
    "version": 3
   },
   "file_extension": ".py",
   "mimetype": "text/x-python",
   "name": "python",
   "nbconvert_exporter": "python",
   "pygments_lexer": "ipython3",
   "version": "3.8.12"
  },
  "orig_nbformat": 4
 },
 "nbformat": 4,
 "nbformat_minor": 2
}
