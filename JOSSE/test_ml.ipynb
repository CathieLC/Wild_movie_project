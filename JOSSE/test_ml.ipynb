{
 "cells": [
  {
   "cell_type": "code",
   "execution_count": 29,
   "metadata": {},
   "outputs": [],
   "source": [
    "import pandas as pd\n",
    "import numpy as np\n",
    "from sklearn.preprocessing import StandardScaler\n",
    "from sklearn.neighbors import KNeighborsClassifier\n",
    "from sklearn.neighbors import NearestNeighbors\n",
    "from sklearn.cluster import KMeans\n",
    "from sklearn import metrics\n",
    "from sklearn.metrics  import silhouette_score\n",
    "from scipy.spatial.distance import cdist\n",
    "import plotly.express as px\n",
    "from plotly.subplots import make_subplots\n",
    "import plotly.graph_objects as go"
   ]
  },
  {
   "cell_type": "code",
   "execution_count": 7,
   "metadata": {},
   "outputs": [],
   "source": [
    "basics_df = pd.read_csv(\"https://datasets.imdbws.com/title.basics.tsv.gz\", sep=\"\\t\", low_memory=False)"
   ]
  },
  {
   "cell_type": "code",
   "execution_count": 8,
   "metadata": {},
   "outputs": [],
   "source": [
    "basics_df =  basics_df.drop('endYear',axis=1)"
   ]
  },
  {
   "cell_type": "code",
   "execution_count": 9,
   "metadata": {},
   "outputs": [],
   "source": [
    "movies = basics_df.loc[basics_df['titleType']=='movie']"
   ]
  },
  {
   "cell_type": "code",
   "execution_count": 10,
   "metadata": {},
   "outputs": [],
   "source": [
    "movies = movies.drop('titleType',axis=1)"
   ]
  },
  {
   "cell_type": "code",
   "execution_count": 11,
   "metadata": {},
   "outputs": [],
   "source": [
    "movies_ok = movies.loc[movies['isAdult']=='0']\n",
    "movies_ok=movies_ok.drop('isAdult',axis=1)"
   ]
  },
  {
   "cell_type": "code",
   "execution_count": 12,
   "metadata": {},
   "outputs": [],
   "source": [
    "movies_ok_nat = movies_ok.replace('\\\\N', pd.NaT)\n",
    "movies_clean = movies_ok_nat.dropna()"
   ]
  },
  {
   "cell_type": "code",
   "execution_count": 13,
   "metadata": {},
   "outputs": [],
   "source": [
    "movies_clean = movies_clean.astype({'runtimeMinutes': int})\n",
    "movies_clean = movies_clean.astype({'startYear': int})"
   ]
  },
  {
   "cell_type": "code",
   "execution_count": 14,
   "metadata": {},
   "outputs": [],
   "source": [
    "movies_clean = movies_clean[(movies_clean['runtimeMinutes'] >= 58) & (movies_clean['runtimeMinutes'] <= 270)]"
   ]
  },
  {
   "cell_type": "code",
   "execution_count": 15,
   "metadata": {},
   "outputs": [],
   "source": [
    "movies_clean = movies_clean[(movies_clean['startYear'] >= 1918) & (movies_clean['startYear'] <= 2021)]"
   ]
  },
  {
   "cell_type": "code",
   "execution_count": 16,
   "metadata": {},
   "outputs": [],
   "source": [
    "ratings_df = pd.read_csv(\"https://datasets.imdbws.com/title.ratings.tsv.gz\", sep=\"\\t\")"
   ]
  },
  {
   "cell_type": "code",
   "execution_count": 17,
   "metadata": {},
   "outputs": [],
   "source": [
    "movies = pd.merge(movies_clean,ratings_df,how='inner')"
   ]
  },
  {
   "cell_type": "code",
   "execution_count": 18,
   "metadata": {},
   "outputs": [],
   "source": [
    "movies_7 = movies.loc[movies['averageRating']>=7.0]"
   ]
  },
  {
   "cell_type": "code",
   "execution_count": 19,
   "metadata": {},
   "outputs": [],
   "source": [
    "movies_7_rating = movies_7[movies_7['numVotes'] >= 1000]\n"
   ]
  },
  {
   "cell_type": "code",
   "execution_count": 20,
   "metadata": {},
   "outputs": [],
   "source": [
    "movie_genre = movies_7_rating[['genres']]"
   ]
  },
  {
   "cell_type": "code",
   "execution_count": 21,
   "metadata": {},
   "outputs": [
    {
     "name": "stderr",
     "output_type": "stream",
     "text": [
      "C:\\Users\\josse\\anaconda3\\lib\\site-packages\\pandas\\core\\frame.py:3641: SettingWithCopyWarning: \n",
      "A value is trying to be set on a copy of a slice from a DataFrame.\n",
      "Try using .loc[row_indexer,col_indexer] = value instead\n",
      "\n",
      "See the caveats in the documentation: https://pandas.pydata.org/pandas-docs/stable/user_guide/indexing.html#returning-a-view-versus-a-copy\n",
      "  self[k1] = value[k2]\n"
     ]
    }
   ],
   "source": [
    "movie_genre[['genre1', 'genre2','genre3']] = movie_genre['genres'].str.split(',', n=2, expand=True)"
   ]
  },
  {
   "cell_type": "code",
   "execution_count": 22,
   "metadata": {},
   "outputs": [
    {
     "name": "stderr",
     "output_type": "stream",
     "text": [
      "C:\\Users\\josse\\anaconda3\\lib\\site-packages\\pandas\\core\\frame.py:4906: SettingWithCopyWarning: \n",
      "A value is trying to be set on a copy of a slice from a DataFrame\n",
      "\n",
      "See the caveats in the documentation: https://pandas.pydata.org/pandas-docs/stable/user_guide/indexing.html#returning-a-view-versus-a-copy\n",
      "  return super().drop(\n"
     ]
    }
   ],
   "source": [
    "movie_genre.drop(columns='genres',axis=1,inplace=True)"
   ]
  },
  {
   "cell_type": "code",
   "execution_count": 23,
   "metadata": {},
   "outputs": [],
   "source": [
    "movie_genre = pd.concat([movie_genre , movie_genre['genre1'].str.get_dummies(), movie_genre['genre2'].str.get_dummies(), movie_genre['genre3'].str.get_dummies()], \n",
    "          axis = 1)"
   ]
  },
  {
   "cell_type": "code",
   "execution_count": 24,
   "metadata": {},
   "outputs": [],
   "source": [
    "movie_genre.drop(['genre1','genre2','genre3'],axis=1,inplace=True)"
   ]
  },
  {
   "cell_type": "code",
   "execution_count": 48,
   "metadata": {},
   "outputs": [],
   "source": [
    "movie_for_ml = pd.concat([movies_7_rating, movie_genre.groupby(lambda x:x, axis=1).sum()], axis = 1)"
   ]
  },
  {
   "cell_type": "code",
   "execution_count": 49,
   "metadata": {},
   "outputs": [],
   "source": [
    "movie_for_ml.drop(columns=['runtimeMinutes','genres','averageRating','numVotes'],axis =1,inplace=True)"
   ]
  },
  {
   "cell_type": "code",
   "execution_count": 27,
   "metadata": {},
   "outputs": [],
   "source": [
    "#movie_for_ml.to_csv('../data/movies_for_ml.csv.zip', index=False, compression='zip')"
   ]
  },
  {
   "cell_type": "code",
   "execution_count": 50,
   "metadata": {},
   "outputs": [],
   "source": [
    "movie_for_ml.drop(columns='primaryTitle',axis=1,inplace=True)"
   ]
  },
  {
   "cell_type": "code",
   "execution_count": 56,
   "metadata": {},
   "outputs": [],
   "source": [
    "movie_for_ml = movie_for_ml.reset_index(drop=True)"
   ]
  },
  {
   "cell_type": "markdown",
   "metadata": {},
   "source": [
    "**ML**"
   ]
  },
  {
   "cell_type": "code",
   "execution_count": 57,
   "metadata": {},
   "outputs": [],
   "source": [
    "cols = movie_for_ml.columns[2:]\n",
    "X = movie_for_ml[cols]\n",
    "\n",
    "scaler = StandardScaler().fit(X)\n",
    "X_scaled = scaler.transform(X)"
   ]
  },
  {
   "cell_type": "code",
   "execution_count": 58,
   "metadata": {},
   "outputs": [],
   "source": [
    "movie_scaled = pd.DataFrame()"
   ]
  },
  {
   "cell_type": "code",
   "execution_count": 59,
   "metadata": {},
   "outputs": [
    {
     "data": {
      "text/html": [
       "<div>\n",
       "<style scoped>\n",
       "    .dataframe tbody tr th:only-of-type {\n",
       "        vertical-align: middle;\n",
       "    }\n",
       "\n",
       "    .dataframe tbody tr th {\n",
       "        vertical-align: top;\n",
       "    }\n",
       "\n",
       "    .dataframe thead th {\n",
       "        text-align: right;\n",
       "    }\n",
       "</style>\n",
       "<table border=\"1\" class=\"dataframe\">\n",
       "  <thead>\n",
       "    <tr style=\"text-align: right;\">\n",
       "      <th></th>\n",
       "      <th>tconst</th>\n",
       "      <th>originalTitle</th>\n",
       "    </tr>\n",
       "  </thead>\n",
       "  <tbody>\n",
       "    <tr>\n",
       "      <th>0</th>\n",
       "      <td>tt0008879</td>\n",
       "      <td>Berg-Ejvind och hans hustru</td>\n",
       "    </tr>\n",
       "    <tr>\n",
       "      <th>1</th>\n",
       "      <td>tt0009893</td>\n",
       "      <td>Die Austernprinzessin</td>\n",
       "    </tr>\n",
       "    <tr>\n",
       "      <th>2</th>\n",
       "      <td>tt0009937</td>\n",
       "      <td>Blind Husbands</td>\n",
       "    </tr>\n",
       "    <tr>\n",
       "      <th>3</th>\n",
       "      <td>tt0009968</td>\n",
       "      <td>Broken Blossoms or The Yellow Man and the Girl</td>\n",
       "    </tr>\n",
       "    <tr>\n",
       "      <th>4</th>\n",
       "      <td>tt0010247</td>\n",
       "      <td>Herr Arnes pengar</td>\n",
       "    </tr>\n",
       "    <tr>\n",
       "      <th>...</th>\n",
       "      <td>...</td>\n",
       "      <td>...</td>\n",
       "    </tr>\n",
       "    <tr>\n",
       "      <th>11642</th>\n",
       "      <td>tt9882084</td>\n",
       "      <td>Chasing Happiness</td>\n",
       "    </tr>\n",
       "    <tr>\n",
       "      <th>11643</th>\n",
       "      <td>tt9886872</td>\n",
       "      <td>Munthiri Monchan</td>\n",
       "    </tr>\n",
       "    <tr>\n",
       "      <th>11644</th>\n",
       "      <td>tt9900782</td>\n",
       "      <td>Kaithi</td>\n",
       "    </tr>\n",
       "    <tr>\n",
       "      <th>11645</th>\n",
       "      <td>tt9902160</td>\n",
       "      <td>Herself</td>\n",
       "    </tr>\n",
       "    <tr>\n",
       "      <th>11646</th>\n",
       "      <td>tt9911196</td>\n",
       "      <td>De beentjes van Sint-Hildegard</td>\n",
       "    </tr>\n",
       "  </tbody>\n",
       "</table>\n",
       "<p>11647 rows × 2 columns</p>\n",
       "</div>"
      ],
      "text/plain": [
       "          tconst                                   originalTitle\n",
       "0      tt0008879                     Berg-Ejvind och hans hustru\n",
       "1      tt0009893                           Die Austernprinzessin\n",
       "2      tt0009937                                  Blind Husbands\n",
       "3      tt0009968  Broken Blossoms or The Yellow Man and the Girl\n",
       "4      tt0010247                               Herr Arnes pengar\n",
       "...          ...                                             ...\n",
       "11642  tt9882084                               Chasing Happiness\n",
       "11643  tt9886872                                Munthiri Monchan\n",
       "11644  tt9900782                                          Kaithi\n",
       "11645  tt9902160                                         Herself\n",
       "11646  tt9911196                  De beentjes van Sint-Hildegard\n",
       "\n",
       "[11647 rows x 2 columns]"
      ]
     },
     "execution_count": 59,
     "metadata": {},
     "output_type": "execute_result"
    }
   ],
   "source": [
    "movie_scaled['tconst']=movie_for_ml['tconst']\n",
    "movie_scaled['originalTitle']=movie_for_ml['originalTitle']\n",
    "movie_scaled"
   ]
  },
  {
   "cell_type": "code",
   "execution_count": 60,
   "metadata": {},
   "outputs": [
    {
     "data": {
      "text/html": [
       "<div>\n",
       "<style scoped>\n",
       "    .dataframe tbody tr th:only-of-type {\n",
       "        vertical-align: middle;\n",
       "    }\n",
       "\n",
       "    .dataframe tbody tr th {\n",
       "        vertical-align: top;\n",
       "    }\n",
       "\n",
       "    .dataframe thead th {\n",
       "        text-align: right;\n",
       "    }\n",
       "</style>\n",
       "<table border=\"1\" class=\"dataframe\">\n",
       "  <thead>\n",
       "    <tr style=\"text-align: right;\">\n",
       "      <th></th>\n",
       "      <th>startYear</th>\n",
       "      <th>Action</th>\n",
       "      <th>Adventure</th>\n",
       "      <th>Animation</th>\n",
       "      <th>Biography</th>\n",
       "      <th>Comedy</th>\n",
       "      <th>Crime</th>\n",
       "      <th>Documentary</th>\n",
       "      <th>Drama</th>\n",
       "      <th>Family</th>\n",
       "      <th>...</th>\n",
       "      <th>Music</th>\n",
       "      <th>Musical</th>\n",
       "      <th>Mystery</th>\n",
       "      <th>News</th>\n",
       "      <th>Romance</th>\n",
       "      <th>Sci-Fi</th>\n",
       "      <th>Sport</th>\n",
       "      <th>Thriller</th>\n",
       "      <th>War</th>\n",
       "      <th>Western</th>\n",
       "    </tr>\n",
       "  </thead>\n",
       "  <tbody>\n",
       "    <tr>\n",
       "      <th>0</th>\n",
       "      <td>-2.973615</td>\n",
       "      <td>-0.391659</td>\n",
       "      <td>-0.325535</td>\n",
       "      <td>-0.215743</td>\n",
       "      <td>-0.314612</td>\n",
       "      <td>-0.629701</td>\n",
       "      <td>-0.437060</td>\n",
       "      <td>-0.357061</td>\n",
       "      <td>0.706242</td>\n",
       "      <td>-0.197441</td>\n",
       "      <td>...</td>\n",
       "      <td>-0.219207</td>\n",
       "      <td>-0.149313</td>\n",
       "      <td>-0.244108</td>\n",
       "      <td>-0.044482</td>\n",
       "      <td>-0.463272</td>\n",
       "      <td>-0.150212</td>\n",
       "      <td>-0.160923</td>\n",
       "      <td>-0.318552</td>\n",
       "      <td>-0.21487</td>\n",
       "      <td>-0.116515</td>\n",
       "    </tr>\n",
       "    <tr>\n",
       "      <th>1</th>\n",
       "      <td>-2.933570</td>\n",
       "      <td>-0.391659</td>\n",
       "      <td>-0.325535</td>\n",
       "      <td>-0.215743</td>\n",
       "      <td>-0.314612</td>\n",
       "      <td>1.588056</td>\n",
       "      <td>-0.437060</td>\n",
       "      <td>-0.357061</td>\n",
       "      <td>-1.415946</td>\n",
       "      <td>-0.197441</td>\n",
       "      <td>...</td>\n",
       "      <td>-0.219207</td>\n",
       "      <td>-0.149313</td>\n",
       "      <td>-0.244108</td>\n",
       "      <td>-0.044482</td>\n",
       "      <td>-0.463272</td>\n",
       "      <td>-0.150212</td>\n",
       "      <td>-0.160923</td>\n",
       "      <td>-0.318552</td>\n",
       "      <td>-0.21487</td>\n",
       "      <td>-0.116515</td>\n",
       "    </tr>\n",
       "    <tr>\n",
       "      <th>2</th>\n",
       "      <td>-2.933570</td>\n",
       "      <td>-0.391659</td>\n",
       "      <td>-0.325535</td>\n",
       "      <td>-0.215743</td>\n",
       "      <td>-0.314612</td>\n",
       "      <td>-0.629701</td>\n",
       "      <td>-0.437060</td>\n",
       "      <td>-0.357061</td>\n",
       "      <td>0.706242</td>\n",
       "      <td>-0.197441</td>\n",
       "      <td>...</td>\n",
       "      <td>-0.219207</td>\n",
       "      <td>-0.149313</td>\n",
       "      <td>-0.244108</td>\n",
       "      <td>-0.044482</td>\n",
       "      <td>2.158559</td>\n",
       "      <td>-0.150212</td>\n",
       "      <td>-0.160923</td>\n",
       "      <td>-0.318552</td>\n",
       "      <td>-0.21487</td>\n",
       "      <td>-0.116515</td>\n",
       "    </tr>\n",
       "    <tr>\n",
       "      <th>3</th>\n",
       "      <td>-2.933570</td>\n",
       "      <td>-0.391659</td>\n",
       "      <td>-0.325535</td>\n",
       "      <td>-0.215743</td>\n",
       "      <td>-0.314612</td>\n",
       "      <td>-0.629701</td>\n",
       "      <td>-0.437060</td>\n",
       "      <td>-0.357061</td>\n",
       "      <td>0.706242</td>\n",
       "      <td>-0.197441</td>\n",
       "      <td>...</td>\n",
       "      <td>-0.219207</td>\n",
       "      <td>-0.149313</td>\n",
       "      <td>-0.244108</td>\n",
       "      <td>-0.044482</td>\n",
       "      <td>2.158559</td>\n",
       "      <td>-0.150212</td>\n",
       "      <td>-0.160923</td>\n",
       "      <td>-0.318552</td>\n",
       "      <td>-0.21487</td>\n",
       "      <td>-0.116515</td>\n",
       "    </tr>\n",
       "    <tr>\n",
       "      <th>4</th>\n",
       "      <td>-2.933570</td>\n",
       "      <td>-0.391659</td>\n",
       "      <td>-0.325535</td>\n",
       "      <td>-0.215743</td>\n",
       "      <td>-0.314612</td>\n",
       "      <td>-0.629701</td>\n",
       "      <td>-0.437060</td>\n",
       "      <td>-0.357061</td>\n",
       "      <td>0.706242</td>\n",
       "      <td>-0.197441</td>\n",
       "      <td>...</td>\n",
       "      <td>-0.219207</td>\n",
       "      <td>-0.149313</td>\n",
       "      <td>-0.244108</td>\n",
       "      <td>-0.044482</td>\n",
       "      <td>-0.463272</td>\n",
       "      <td>-0.150212</td>\n",
       "      <td>-0.160923</td>\n",
       "      <td>-0.318552</td>\n",
       "      <td>-0.21487</td>\n",
       "      <td>-0.116515</td>\n",
       "    </tr>\n",
       "    <tr>\n",
       "      <th>...</th>\n",
       "      <td>...</td>\n",
       "      <td>...</td>\n",
       "      <td>...</td>\n",
       "      <td>...</td>\n",
       "      <td>...</td>\n",
       "      <td>...</td>\n",
       "      <td>...</td>\n",
       "      <td>...</td>\n",
       "      <td>...</td>\n",
       "      <td>...</td>\n",
       "      <td>...</td>\n",
       "      <td>...</td>\n",
       "      <td>...</td>\n",
       "      <td>...</td>\n",
       "      <td>...</td>\n",
       "      <td>...</td>\n",
       "      <td>...</td>\n",
       "      <td>...</td>\n",
       "      <td>...</td>\n",
       "      <td>...</td>\n",
       "      <td>...</td>\n",
       "    </tr>\n",
       "    <tr>\n",
       "      <th>11642</th>\n",
       "      <td>1.071007</td>\n",
       "      <td>-0.391659</td>\n",
       "      <td>-0.325535</td>\n",
       "      <td>-0.215743</td>\n",
       "      <td>3.178515</td>\n",
       "      <td>-0.629701</td>\n",
       "      <td>-0.437060</td>\n",
       "      <td>2.800640</td>\n",
       "      <td>-1.415946</td>\n",
       "      <td>-0.197441</td>\n",
       "      <td>...</td>\n",
       "      <td>4.561892</td>\n",
       "      <td>-0.149313</td>\n",
       "      <td>-0.244108</td>\n",
       "      <td>-0.044482</td>\n",
       "      <td>-0.463272</td>\n",
       "      <td>-0.150212</td>\n",
       "      <td>-0.160923</td>\n",
       "      <td>-0.318552</td>\n",
       "      <td>-0.21487</td>\n",
       "      <td>-0.116515</td>\n",
       "    </tr>\n",
       "    <tr>\n",
       "      <th>11643</th>\n",
       "      <td>1.071007</td>\n",
       "      <td>-0.391659</td>\n",
       "      <td>-0.325535</td>\n",
       "      <td>-0.215743</td>\n",
       "      <td>-0.314612</td>\n",
       "      <td>1.588056</td>\n",
       "      <td>-0.437060</td>\n",
       "      <td>-0.357061</td>\n",
       "      <td>-1.415946</td>\n",
       "      <td>-0.197441</td>\n",
       "      <td>...</td>\n",
       "      <td>-0.219207</td>\n",
       "      <td>-0.149313</td>\n",
       "      <td>-0.244108</td>\n",
       "      <td>-0.044482</td>\n",
       "      <td>2.158559</td>\n",
       "      <td>-0.150212</td>\n",
       "      <td>-0.160923</td>\n",
       "      <td>-0.318552</td>\n",
       "      <td>-0.21487</td>\n",
       "      <td>-0.116515</td>\n",
       "    </tr>\n",
       "    <tr>\n",
       "      <th>11644</th>\n",
       "      <td>1.071007</td>\n",
       "      <td>2.553242</td>\n",
       "      <td>-0.325535</td>\n",
       "      <td>-0.215743</td>\n",
       "      <td>-0.314612</td>\n",
       "      <td>-0.629701</td>\n",
       "      <td>2.288015</td>\n",
       "      <td>-0.357061</td>\n",
       "      <td>-1.415946</td>\n",
       "      <td>-0.197441</td>\n",
       "      <td>...</td>\n",
       "      <td>-0.219207</td>\n",
       "      <td>-0.149313</td>\n",
       "      <td>-0.244108</td>\n",
       "      <td>-0.044482</td>\n",
       "      <td>-0.463272</td>\n",
       "      <td>-0.150212</td>\n",
       "      <td>-0.160923</td>\n",
       "      <td>3.139206</td>\n",
       "      <td>-0.21487</td>\n",
       "      <td>-0.116515</td>\n",
       "    </tr>\n",
       "    <tr>\n",
       "      <th>11645</th>\n",
       "      <td>1.111052</td>\n",
       "      <td>-0.391659</td>\n",
       "      <td>-0.325535</td>\n",
       "      <td>-0.215743</td>\n",
       "      <td>-0.314612</td>\n",
       "      <td>-0.629701</td>\n",
       "      <td>-0.437060</td>\n",
       "      <td>-0.357061</td>\n",
       "      <td>0.706242</td>\n",
       "      <td>-0.197441</td>\n",
       "      <td>...</td>\n",
       "      <td>-0.219207</td>\n",
       "      <td>-0.149313</td>\n",
       "      <td>-0.244108</td>\n",
       "      <td>-0.044482</td>\n",
       "      <td>-0.463272</td>\n",
       "      <td>-0.150212</td>\n",
       "      <td>-0.160923</td>\n",
       "      <td>-0.318552</td>\n",
       "      <td>-0.21487</td>\n",
       "      <td>-0.116515</td>\n",
       "    </tr>\n",
       "    <tr>\n",
       "      <th>11646</th>\n",
       "      <td>1.111052</td>\n",
       "      <td>-0.391659</td>\n",
       "      <td>-0.325535</td>\n",
       "      <td>-0.215743</td>\n",
       "      <td>-0.314612</td>\n",
       "      <td>1.588056</td>\n",
       "      <td>-0.437060</td>\n",
       "      <td>-0.357061</td>\n",
       "      <td>0.706242</td>\n",
       "      <td>-0.197441</td>\n",
       "      <td>...</td>\n",
       "      <td>-0.219207</td>\n",
       "      <td>-0.149313</td>\n",
       "      <td>-0.244108</td>\n",
       "      <td>-0.044482</td>\n",
       "      <td>-0.463272</td>\n",
       "      <td>-0.150212</td>\n",
       "      <td>-0.160923</td>\n",
       "      <td>-0.318552</td>\n",
       "      <td>-0.21487</td>\n",
       "      <td>-0.116515</td>\n",
       "    </tr>\n",
       "  </tbody>\n",
       "</table>\n",
       "<p>11647 rows × 24 columns</p>\n",
       "</div>"
      ],
      "text/plain": [
       "       startYear    Action  Adventure  Animation  Biography    Comedy  \\\n",
       "0      -2.973615 -0.391659  -0.325535  -0.215743  -0.314612 -0.629701   \n",
       "1      -2.933570 -0.391659  -0.325535  -0.215743  -0.314612  1.588056   \n",
       "2      -2.933570 -0.391659  -0.325535  -0.215743  -0.314612 -0.629701   \n",
       "3      -2.933570 -0.391659  -0.325535  -0.215743  -0.314612 -0.629701   \n",
       "4      -2.933570 -0.391659  -0.325535  -0.215743  -0.314612 -0.629701   \n",
       "...          ...       ...        ...        ...        ...       ...   \n",
       "11642   1.071007 -0.391659  -0.325535  -0.215743   3.178515 -0.629701   \n",
       "11643   1.071007 -0.391659  -0.325535  -0.215743  -0.314612  1.588056   \n",
       "11644   1.071007  2.553242  -0.325535  -0.215743  -0.314612 -0.629701   \n",
       "11645   1.111052 -0.391659  -0.325535  -0.215743  -0.314612 -0.629701   \n",
       "11646   1.111052 -0.391659  -0.325535  -0.215743  -0.314612  1.588056   \n",
       "\n",
       "          Crime  Documentary     Drama    Family  ...     Music   Musical  \\\n",
       "0     -0.437060    -0.357061  0.706242 -0.197441  ... -0.219207 -0.149313   \n",
       "1     -0.437060    -0.357061 -1.415946 -0.197441  ... -0.219207 -0.149313   \n",
       "2     -0.437060    -0.357061  0.706242 -0.197441  ... -0.219207 -0.149313   \n",
       "3     -0.437060    -0.357061  0.706242 -0.197441  ... -0.219207 -0.149313   \n",
       "4     -0.437060    -0.357061  0.706242 -0.197441  ... -0.219207 -0.149313   \n",
       "...         ...          ...       ...       ...  ...       ...       ...   \n",
       "11642 -0.437060     2.800640 -1.415946 -0.197441  ...  4.561892 -0.149313   \n",
       "11643 -0.437060    -0.357061 -1.415946 -0.197441  ... -0.219207 -0.149313   \n",
       "11644  2.288015    -0.357061 -1.415946 -0.197441  ... -0.219207 -0.149313   \n",
       "11645 -0.437060    -0.357061  0.706242 -0.197441  ... -0.219207 -0.149313   \n",
       "11646 -0.437060    -0.357061  0.706242 -0.197441  ... -0.219207 -0.149313   \n",
       "\n",
       "        Mystery      News   Romance    Sci-Fi     Sport  Thriller      War  \\\n",
       "0     -0.244108 -0.044482 -0.463272 -0.150212 -0.160923 -0.318552 -0.21487   \n",
       "1     -0.244108 -0.044482 -0.463272 -0.150212 -0.160923 -0.318552 -0.21487   \n",
       "2     -0.244108 -0.044482  2.158559 -0.150212 -0.160923 -0.318552 -0.21487   \n",
       "3     -0.244108 -0.044482  2.158559 -0.150212 -0.160923 -0.318552 -0.21487   \n",
       "4     -0.244108 -0.044482 -0.463272 -0.150212 -0.160923 -0.318552 -0.21487   \n",
       "...         ...       ...       ...       ...       ...       ...      ...   \n",
       "11642 -0.244108 -0.044482 -0.463272 -0.150212 -0.160923 -0.318552 -0.21487   \n",
       "11643 -0.244108 -0.044482  2.158559 -0.150212 -0.160923 -0.318552 -0.21487   \n",
       "11644 -0.244108 -0.044482 -0.463272 -0.150212 -0.160923  3.139206 -0.21487   \n",
       "11645 -0.244108 -0.044482 -0.463272 -0.150212 -0.160923 -0.318552 -0.21487   \n",
       "11646 -0.244108 -0.044482 -0.463272 -0.150212 -0.160923 -0.318552 -0.21487   \n",
       "\n",
       "        Western  \n",
       "0     -0.116515  \n",
       "1     -0.116515  \n",
       "2     -0.116515  \n",
       "3     -0.116515  \n",
       "4     -0.116515  \n",
       "...         ...  \n",
       "11642 -0.116515  \n",
       "11643 -0.116515  \n",
       "11644 -0.116515  \n",
       "11645 -0.116515  \n",
       "11646 -0.116515  \n",
       "\n",
       "[11647 rows x 24 columns]"
      ]
     },
     "execution_count": 60,
     "metadata": {},
     "output_type": "execute_result"
    }
   ],
   "source": [
    "scaled_df = pd.DataFrame(X_scaled,columns=cols)\n",
    "scaled_df"
   ]
  },
  {
   "cell_type": "code",
   "execution_count": 62,
   "metadata": {},
   "outputs": [],
   "source": [
    "movie_scaled_concat = pd.concat([movie_scaled,scaled_df],axis=1)"
   ]
  },
  {
   "cell_type": "code",
   "execution_count": 63,
   "metadata": {},
   "outputs": [],
   "source": [
    "cols = movie_scaled_concat.columns[2:]\n",
    "X = movie_scaled_concat[cols]\n",
    "\n",
    "modelKM = KMeans(n_clusters=10).fit(X)\n",
    "\n",
    "movie_scaled_concat['cluster']=modelKM.labels_"
   ]
  },
  {
   "cell_type": "code",
   "execution_count": 77,
   "metadata": {},
   "outputs": [],
   "source": [
    "cols = movie_scaled_concat.columns[2:]\n",
    "X = movie_scaled_concat[cols]\n",
    "\n",
    "modelKM = KMeans(n_clusters=35).fit(X)\n",
    "\n",
    "movie_scaled_concat['cluster']=modelKM.labels_"
   ]
  },
  {
   "cell_type": "code",
   "execution_count": 78,
   "metadata": {},
   "outputs": [
    {
     "data": {
      "text/html": [
       "<div>\n",
       "<style scoped>\n",
       "    .dataframe tbody tr th:only-of-type {\n",
       "        vertical-align: middle;\n",
       "    }\n",
       "\n",
       "    .dataframe tbody tr th {\n",
       "        vertical-align: top;\n",
       "    }\n",
       "\n",
       "    .dataframe thead th {\n",
       "        text-align: right;\n",
       "    }\n",
       "</style>\n",
       "<table border=\"1\" class=\"dataframe\">\n",
       "  <thead>\n",
       "    <tr style=\"text-align: right;\">\n",
       "      <th></th>\n",
       "      <th>tconst</th>\n",
       "      <th>originalTitle</th>\n",
       "      <th>startYear</th>\n",
       "      <th>Action</th>\n",
       "      <th>Adventure</th>\n",
       "      <th>Animation</th>\n",
       "      <th>Biography</th>\n",
       "      <th>Comedy</th>\n",
       "      <th>Crime</th>\n",
       "      <th>Documentary</th>\n",
       "      <th>...</th>\n",
       "      <th>Musical</th>\n",
       "      <th>Mystery</th>\n",
       "      <th>News</th>\n",
       "      <th>Romance</th>\n",
       "      <th>Sci-Fi</th>\n",
       "      <th>Sport</th>\n",
       "      <th>Thriller</th>\n",
       "      <th>War</th>\n",
       "      <th>Western</th>\n",
       "      <th>cluster</th>\n",
       "    </tr>\n",
       "  </thead>\n",
       "  <tbody>\n",
       "    <tr>\n",
       "      <th>4806</th>\n",
       "      <td>tt0120737</td>\n",
       "      <td>The Lord of the Rings: The Fellowship of the Ring</td>\n",
       "      <td>0.350183</td>\n",
       "      <td>2.553242</td>\n",
       "      <td>3.071869</td>\n",
       "      <td>-0.215743</td>\n",
       "      <td>-0.314612</td>\n",
       "      <td>-0.629701</td>\n",
       "      <td>-0.437060</td>\n",
       "      <td>-0.357061</td>\n",
       "      <td>...</td>\n",
       "      <td>-0.149313</td>\n",
       "      <td>-0.244108</td>\n",
       "      <td>-0.044482</td>\n",
       "      <td>-0.463272</td>\n",
       "      <td>-0.150212</td>\n",
       "      <td>-0.160923</td>\n",
       "      <td>-0.318552</td>\n",
       "      <td>-0.21487</td>\n",
       "      <td>-0.116515</td>\n",
       "      <td>26</td>\n",
       "    </tr>\n",
       "    <tr>\n",
       "      <th>5095</th>\n",
       "      <td>tt0167260</td>\n",
       "      <td>The Lord of the Rings: The Return of the King</td>\n",
       "      <td>0.430274</td>\n",
       "      <td>2.553242</td>\n",
       "      <td>3.071869</td>\n",
       "      <td>-0.215743</td>\n",
       "      <td>-0.314612</td>\n",
       "      <td>-0.629701</td>\n",
       "      <td>-0.437060</td>\n",
       "      <td>-0.357061</td>\n",
       "      <td>...</td>\n",
       "      <td>-0.149313</td>\n",
       "      <td>-0.244108</td>\n",
       "      <td>-0.044482</td>\n",
       "      <td>-0.463272</td>\n",
       "      <td>-0.150212</td>\n",
       "      <td>-0.160923</td>\n",
       "      <td>-0.318552</td>\n",
       "      <td>-0.21487</td>\n",
       "      <td>-0.116515</td>\n",
       "      <td>26</td>\n",
       "    </tr>\n",
       "    <tr>\n",
       "      <th>5096</th>\n",
       "      <td>tt0167261</td>\n",
       "      <td>The Lord of the Rings: The Two Towers</td>\n",
       "      <td>0.390229</td>\n",
       "      <td>2.553242</td>\n",
       "      <td>3.071869</td>\n",
       "      <td>-0.215743</td>\n",
       "      <td>-0.314612</td>\n",
       "      <td>-0.629701</td>\n",
       "      <td>-0.437060</td>\n",
       "      <td>-0.357061</td>\n",
       "      <td>...</td>\n",
       "      <td>-0.149313</td>\n",
       "      <td>-0.244108</td>\n",
       "      <td>-0.044482</td>\n",
       "      <td>-0.463272</td>\n",
       "      <td>-0.150212</td>\n",
       "      <td>-0.160923</td>\n",
       "      <td>-0.318552</td>\n",
       "      <td>-0.21487</td>\n",
       "      <td>-0.116515</td>\n",
       "      <td>26</td>\n",
       "    </tr>\n",
       "    <tr>\n",
       "      <th>6423</th>\n",
       "      <td>tt0399295</td>\n",
       "      <td>Lord of War</td>\n",
       "      <td>0.510366</td>\n",
       "      <td>2.553242</td>\n",
       "      <td>-0.325535</td>\n",
       "      <td>-0.215743</td>\n",
       "      <td>-0.314612</td>\n",
       "      <td>-0.629701</td>\n",
       "      <td>2.288015</td>\n",
       "      <td>-0.357061</td>\n",
       "      <td>...</td>\n",
       "      <td>-0.149313</td>\n",
       "      <td>-0.244108</td>\n",
       "      <td>-0.044482</td>\n",
       "      <td>-0.463272</td>\n",
       "      <td>-0.150212</td>\n",
       "      <td>-0.160923</td>\n",
       "      <td>-0.318552</td>\n",
       "      <td>-0.21487</td>\n",
       "      <td>-0.116515</td>\n",
       "      <td>21</td>\n",
       "    </tr>\n",
       "  </tbody>\n",
       "</table>\n",
       "<p>4 rows × 27 columns</p>\n",
       "</div>"
      ],
      "text/plain": [
       "         tconst                                      originalTitle  startYear  \\\n",
       "4806  tt0120737  The Lord of the Rings: The Fellowship of the Ring   0.350183   \n",
       "5095  tt0167260      The Lord of the Rings: The Return of the King   0.430274   \n",
       "5096  tt0167261              The Lord of the Rings: The Two Towers   0.390229   \n",
       "6423  tt0399295                                        Lord of War   0.510366   \n",
       "\n",
       "        Action  Adventure  Animation  Biography    Comedy     Crime  \\\n",
       "4806  2.553242   3.071869  -0.215743  -0.314612 -0.629701 -0.437060   \n",
       "5095  2.553242   3.071869  -0.215743  -0.314612 -0.629701 -0.437060   \n",
       "5096  2.553242   3.071869  -0.215743  -0.314612 -0.629701 -0.437060   \n",
       "6423  2.553242  -0.325535  -0.215743  -0.314612 -0.629701  2.288015   \n",
       "\n",
       "      Documentary  ...   Musical   Mystery      News   Romance    Sci-Fi  \\\n",
       "4806    -0.357061  ... -0.149313 -0.244108 -0.044482 -0.463272 -0.150212   \n",
       "5095    -0.357061  ... -0.149313 -0.244108 -0.044482 -0.463272 -0.150212   \n",
       "5096    -0.357061  ... -0.149313 -0.244108 -0.044482 -0.463272 -0.150212   \n",
       "6423    -0.357061  ... -0.149313 -0.244108 -0.044482 -0.463272 -0.150212   \n",
       "\n",
       "         Sport  Thriller      War   Western  cluster  \n",
       "4806 -0.160923 -0.318552 -0.21487 -0.116515       26  \n",
       "5095 -0.160923 -0.318552 -0.21487 -0.116515       26  \n",
       "5096 -0.160923 -0.318552 -0.21487 -0.116515       26  \n",
       "6423 -0.160923 -0.318552 -0.21487 -0.116515       21  \n",
       "\n",
       "[4 rows x 27 columns]"
      ]
     },
     "execution_count": 78,
     "metadata": {},
     "output_type": "execute_result"
    }
   ],
   "source": [
    "movie_scaled_concat[movie_scaled_concat['originalTitle'].str.contains('Lord of')]"
   ]
  },
  {
   "cell_type": "code",
   "execution_count": 91,
   "metadata": {},
   "outputs": [
    {
     "data": {
      "text/html": [
       "<div>\n",
       "<style scoped>\n",
       "    .dataframe tbody tr th:only-of-type {\n",
       "        vertical-align: middle;\n",
       "    }\n",
       "\n",
       "    .dataframe tbody tr th {\n",
       "        vertical-align: top;\n",
       "    }\n",
       "\n",
       "    .dataframe thead th {\n",
       "        text-align: right;\n",
       "    }\n",
       "</style>\n",
       "<table border=\"1\" class=\"dataframe\">\n",
       "  <thead>\n",
       "    <tr style=\"text-align: right;\">\n",
       "      <th></th>\n",
       "      <th>tconst</th>\n",
       "      <th>originalTitle</th>\n",
       "      <th>startYear</th>\n",
       "      <th>Action</th>\n",
       "      <th>Adventure</th>\n",
       "      <th>Animation</th>\n",
       "      <th>Biography</th>\n",
       "      <th>Comedy</th>\n",
       "      <th>Crime</th>\n",
       "      <th>Documentary</th>\n",
       "      <th>...</th>\n",
       "      <th>Musical</th>\n",
       "      <th>Mystery</th>\n",
       "      <th>News</th>\n",
       "      <th>Romance</th>\n",
       "      <th>Sci-Fi</th>\n",
       "      <th>Sport</th>\n",
       "      <th>Thriller</th>\n",
       "      <th>War</th>\n",
       "      <th>Western</th>\n",
       "      <th>cluster</th>\n",
       "    </tr>\n",
       "  </thead>\n",
       "  <tbody>\n",
       "    <tr>\n",
       "      <th>6377</th>\n",
       "      <td>tt0388789</td>\n",
       "      <td>Born Into Brothels: Calcutta's Red Light Kids</td>\n",
       "      <td>0.470320</td>\n",
       "      <td>-0.391659</td>\n",
       "      <td>-0.325535</td>\n",
       "      <td>-0.215743</td>\n",
       "      <td>3.178515</td>\n",
       "      <td>-0.629701</td>\n",
       "      <td>-0.43706</td>\n",
       "      <td>2.80064</td>\n",
       "      <td>...</td>\n",
       "      <td>-0.149313</td>\n",
       "      <td>-0.244108</td>\n",
       "      <td>22.48091</td>\n",
       "      <td>-0.463272</td>\n",
       "      <td>-0.150212</td>\n",
       "      <td>-0.160923</td>\n",
       "      <td>-0.318552</td>\n",
       "      <td>-0.21487</td>\n",
       "      <td>-0.116515</td>\n",
       "      <td>7</td>\n",
       "    </tr>\n",
       "    <tr>\n",
       "      <th>6985</th>\n",
       "      <td>tt0497116</td>\n",
       "      <td>An Inconvenient Truth</td>\n",
       "      <td>0.550412</td>\n",
       "      <td>-0.391659</td>\n",
       "      <td>-0.325535</td>\n",
       "      <td>-0.215743</td>\n",
       "      <td>-0.314612</td>\n",
       "      <td>-0.629701</td>\n",
       "      <td>-0.43706</td>\n",
       "      <td>2.80064</td>\n",
       "      <td>...</td>\n",
       "      <td>-0.149313</td>\n",
       "      <td>-0.244108</td>\n",
       "      <td>22.48091</td>\n",
       "      <td>-0.463272</td>\n",
       "      <td>-0.150212</td>\n",
       "      <td>-0.160923</td>\n",
       "      <td>-0.318552</td>\n",
       "      <td>-0.21487</td>\n",
       "      <td>-0.116515</td>\n",
       "      <td>7</td>\n",
       "    </tr>\n",
       "    <tr>\n",
       "      <th>8081</th>\n",
       "      <td>tt1286537</td>\n",
       "      <td>Food, Inc.</td>\n",
       "      <td>0.630503</td>\n",
       "      <td>-0.391659</td>\n",
       "      <td>-0.325535</td>\n",
       "      <td>-0.215743</td>\n",
       "      <td>-0.314612</td>\n",
       "      <td>-0.629701</td>\n",
       "      <td>-0.43706</td>\n",
       "      <td>2.80064</td>\n",
       "      <td>...</td>\n",
       "      <td>-0.149313</td>\n",
       "      <td>-0.244108</td>\n",
       "      <td>22.48091</td>\n",
       "      <td>-0.463272</td>\n",
       "      <td>-0.150212</td>\n",
       "      <td>-0.160923</td>\n",
       "      <td>-0.318552</td>\n",
       "      <td>-0.21487</td>\n",
       "      <td>-0.116515</td>\n",
       "      <td>7</td>\n",
       "    </tr>\n",
       "    <tr>\n",
       "      <th>8106</th>\n",
       "      <td>tt1300563</td>\n",
       "      <td>The Age of Stupid</td>\n",
       "      <td>0.670549</td>\n",
       "      <td>-0.391659</td>\n",
       "      <td>-0.325535</td>\n",
       "      <td>-0.215743</td>\n",
       "      <td>-0.314612</td>\n",
       "      <td>-0.629701</td>\n",
       "      <td>-0.43706</td>\n",
       "      <td>2.80064</td>\n",
       "      <td>...</td>\n",
       "      <td>-0.149313</td>\n",
       "      <td>-0.244108</td>\n",
       "      <td>22.48091</td>\n",
       "      <td>-0.463272</td>\n",
       "      <td>-0.150212</td>\n",
       "      <td>-0.160923</td>\n",
       "      <td>-0.318552</td>\n",
       "      <td>-0.21487</td>\n",
       "      <td>-0.116515</td>\n",
       "      <td>7</td>\n",
       "    </tr>\n",
       "    <tr>\n",
       "      <th>8170</th>\n",
       "      <td>tt1333634</td>\n",
       "      <td>Burma VJ: Reporter i et lukket land</td>\n",
       "      <td>0.630503</td>\n",
       "      <td>-0.391659</td>\n",
       "      <td>-0.325535</td>\n",
       "      <td>-0.215743</td>\n",
       "      <td>-0.314612</td>\n",
       "      <td>-0.629701</td>\n",
       "      <td>-0.43706</td>\n",
       "      <td>2.80064</td>\n",
       "      <td>...</td>\n",
       "      <td>-0.149313</td>\n",
       "      <td>-0.244108</td>\n",
       "      <td>22.48091</td>\n",
       "      <td>-0.463272</td>\n",
       "      <td>-0.150212</td>\n",
       "      <td>-0.160923</td>\n",
       "      <td>-0.318552</td>\n",
       "      <td>-0.21487</td>\n",
       "      <td>-0.116515</td>\n",
       "      <td>7</td>\n",
       "    </tr>\n",
       "    <tr>\n",
       "      <th>8608</th>\n",
       "      <td>tt1618448</td>\n",
       "      <td>Racing Extinction</td>\n",
       "      <td>0.910824</td>\n",
       "      <td>-0.391659</td>\n",
       "      <td>3.071869</td>\n",
       "      <td>-0.215743</td>\n",
       "      <td>-0.314612</td>\n",
       "      <td>-0.629701</td>\n",
       "      <td>-0.43706</td>\n",
       "      <td>2.80064</td>\n",
       "      <td>...</td>\n",
       "      <td>-0.149313</td>\n",
       "      <td>-0.244108</td>\n",
       "      <td>22.48091</td>\n",
       "      <td>-0.463272</td>\n",
       "      <td>-0.150212</td>\n",
       "      <td>-0.160923</td>\n",
       "      <td>-0.318552</td>\n",
       "      <td>-0.21487</td>\n",
       "      <td>-0.116515</td>\n",
       "      <td>7</td>\n",
       "    </tr>\n",
       "    <tr>\n",
       "      <th>8684</th>\n",
       "      <td>tt1671513</td>\n",
       "      <td>Four Horsemen</td>\n",
       "      <td>0.790686</td>\n",
       "      <td>-0.391659</td>\n",
       "      <td>-0.325535</td>\n",
       "      <td>-0.215743</td>\n",
       "      <td>-0.314612</td>\n",
       "      <td>-0.629701</td>\n",
       "      <td>-0.43706</td>\n",
       "      <td>2.80064</td>\n",
       "      <td>...</td>\n",
       "      <td>-0.149313</td>\n",
       "      <td>-0.244108</td>\n",
       "      <td>22.48091</td>\n",
       "      <td>-0.463272</td>\n",
       "      <td>-0.150212</td>\n",
       "      <td>-0.160923</td>\n",
       "      <td>-0.318552</td>\n",
       "      <td>-0.21487</td>\n",
       "      <td>-0.116515</td>\n",
       "      <td>7</td>\n",
       "    </tr>\n",
       "    <tr>\n",
       "      <th>8818</th>\n",
       "      <td>tt1778338</td>\n",
       "      <td>The Culture High</td>\n",
       "      <td>0.870778</td>\n",
       "      <td>-0.391659</td>\n",
       "      <td>-0.325535</td>\n",
       "      <td>-0.215743</td>\n",
       "      <td>-0.314612</td>\n",
       "      <td>-0.629701</td>\n",
       "      <td>-0.43706</td>\n",
       "      <td>2.80064</td>\n",
       "      <td>...</td>\n",
       "      <td>-0.149313</td>\n",
       "      <td>-0.244108</td>\n",
       "      <td>22.48091</td>\n",
       "      <td>-0.463272</td>\n",
       "      <td>-0.150212</td>\n",
       "      <td>-0.160923</td>\n",
       "      <td>-0.318552</td>\n",
       "      <td>-0.21487</td>\n",
       "      <td>-0.116515</td>\n",
       "      <td>7</td>\n",
       "    </tr>\n",
       "    <tr>\n",
       "      <th>8836</th>\n",
       "      <td>tt1789083</td>\n",
       "      <td>The Weight of Chains</td>\n",
       "      <td>0.710595</td>\n",
       "      <td>-0.391659</td>\n",
       "      <td>-0.325535</td>\n",
       "      <td>-0.215743</td>\n",
       "      <td>-0.314612</td>\n",
       "      <td>-0.629701</td>\n",
       "      <td>-0.43706</td>\n",
       "      <td>2.80064</td>\n",
       "      <td>...</td>\n",
       "      <td>-0.149313</td>\n",
       "      <td>-0.244108</td>\n",
       "      <td>22.48091</td>\n",
       "      <td>-0.463272</td>\n",
       "      <td>-0.150212</td>\n",
       "      <td>-0.160923</td>\n",
       "      <td>-0.318552</td>\n",
       "      <td>-0.21487</td>\n",
       "      <td>-0.116515</td>\n",
       "      <td>7</td>\n",
       "    </tr>\n",
       "    <tr>\n",
       "      <th>9118</th>\n",
       "      <td>tt2084953</td>\n",
       "      <td>Terms and Conditions May Apply</td>\n",
       "      <td>0.830732</td>\n",
       "      <td>-0.391659</td>\n",
       "      <td>-0.325535</td>\n",
       "      <td>-0.215743</td>\n",
       "      <td>-0.314612</td>\n",
       "      <td>-0.629701</td>\n",
       "      <td>-0.43706</td>\n",
       "      <td>2.80064</td>\n",
       "      <td>...</td>\n",
       "      <td>-0.149313</td>\n",
       "      <td>-0.244108</td>\n",
       "      <td>22.48091</td>\n",
       "      <td>-0.463272</td>\n",
       "      <td>-0.150212</td>\n",
       "      <td>-0.160923</td>\n",
       "      <td>-0.318552</td>\n",
       "      <td>-0.21487</td>\n",
       "      <td>-0.116515</td>\n",
       "      <td>7</td>\n",
       "    </tr>\n",
       "    <tr>\n",
       "      <th>9138</th>\n",
       "      <td>tt2107850</td>\n",
       "      <td>The Case Against 8</td>\n",
       "      <td>0.870778</td>\n",
       "      <td>-0.391659</td>\n",
       "      <td>-0.325535</td>\n",
       "      <td>-0.215743</td>\n",
       "      <td>3.178515</td>\n",
       "      <td>-0.629701</td>\n",
       "      <td>-0.43706</td>\n",
       "      <td>2.80064</td>\n",
       "      <td>...</td>\n",
       "      <td>-0.149313</td>\n",
       "      <td>-0.244108</td>\n",
       "      <td>22.48091</td>\n",
       "      <td>-0.463272</td>\n",
       "      <td>-0.150212</td>\n",
       "      <td>-0.160923</td>\n",
       "      <td>-0.318552</td>\n",
       "      <td>-0.21487</td>\n",
       "      <td>-0.116515</td>\n",
       "      <td>7</td>\n",
       "    </tr>\n",
       "    <tr>\n",
       "      <th>9156</th>\n",
       "      <td>tt2124803</td>\n",
       "      <td>How to Survive a Plague</td>\n",
       "      <td>0.790686</td>\n",
       "      <td>-0.391659</td>\n",
       "      <td>-0.325535</td>\n",
       "      <td>-0.215743</td>\n",
       "      <td>-0.314612</td>\n",
       "      <td>-0.629701</td>\n",
       "      <td>-0.43706</td>\n",
       "      <td>2.80064</td>\n",
       "      <td>...</td>\n",
       "      <td>-0.149313</td>\n",
       "      <td>-0.244108</td>\n",
       "      <td>22.48091</td>\n",
       "      <td>-0.463272</td>\n",
       "      <td>-0.150212</td>\n",
       "      <td>-0.160923</td>\n",
       "      <td>-0.318552</td>\n",
       "      <td>-0.21487</td>\n",
       "      <td>-0.116515</td>\n",
       "      <td>7</td>\n",
       "    </tr>\n",
       "    <tr>\n",
       "      <th>9227</th>\n",
       "      <td>tt2195566</td>\n",
       "      <td>Neurons to Nirvana</td>\n",
       "      <td>0.830732</td>\n",
       "      <td>-0.391659</td>\n",
       "      <td>-0.325535</td>\n",
       "      <td>-0.215743</td>\n",
       "      <td>-0.314612</td>\n",
       "      <td>-0.629701</td>\n",
       "      <td>-0.43706</td>\n",
       "      <td>2.80064</td>\n",
       "      <td>...</td>\n",
       "      <td>-0.149313</td>\n",
       "      <td>-0.244108</td>\n",
       "      <td>22.48091</td>\n",
       "      <td>-0.463272</td>\n",
       "      <td>-0.150212</td>\n",
       "      <td>-0.160923</td>\n",
       "      <td>-0.318552</td>\n",
       "      <td>-0.21487</td>\n",
       "      <td>-0.116515</td>\n",
       "      <td>7</td>\n",
       "    </tr>\n",
       "    <tr>\n",
       "      <th>9536</th>\n",
       "      <td>tt2593392</td>\n",
       "      <td>Alive Inside</td>\n",
       "      <td>0.870778</td>\n",
       "      <td>-0.391659</td>\n",
       "      <td>-0.325535</td>\n",
       "      <td>-0.215743</td>\n",
       "      <td>-0.314612</td>\n",
       "      <td>-0.629701</td>\n",
       "      <td>-0.43706</td>\n",
       "      <td>2.80064</td>\n",
       "      <td>...</td>\n",
       "      <td>-0.149313</td>\n",
       "      <td>-0.244108</td>\n",
       "      <td>22.48091</td>\n",
       "      <td>-0.463272</td>\n",
       "      <td>-0.150212</td>\n",
       "      <td>-0.160923</td>\n",
       "      <td>-0.318552</td>\n",
       "      <td>-0.21487</td>\n",
       "      <td>-0.116515</td>\n",
       "      <td>7</td>\n",
       "    </tr>\n",
       "    <tr>\n",
       "      <th>9550</th>\n",
       "      <td>tt2630898</td>\n",
       "      <td>(Dis)Honesty: The Truth About Lies</td>\n",
       "      <td>0.910824</td>\n",
       "      <td>-0.391659</td>\n",
       "      <td>-0.325535</td>\n",
       "      <td>-0.215743</td>\n",
       "      <td>-0.314612</td>\n",
       "      <td>-0.629701</td>\n",
       "      <td>-0.43706</td>\n",
       "      <td>2.80064</td>\n",
       "      <td>...</td>\n",
       "      <td>-0.149313</td>\n",
       "      <td>-0.244108</td>\n",
       "      <td>22.48091</td>\n",
       "      <td>-0.463272</td>\n",
       "      <td>-0.150212</td>\n",
       "      <td>-0.160923</td>\n",
       "      <td>-0.318552</td>\n",
       "      <td>-0.21487</td>\n",
       "      <td>-0.116515</td>\n",
       "      <td>7</td>\n",
       "    </tr>\n",
       "    <tr>\n",
       "      <th>9596</th>\n",
       "      <td>tt2752724</td>\n",
       "      <td>Money for Nothing: Inside the Federal Reserve</td>\n",
       "      <td>0.830732</td>\n",
       "      <td>-0.391659</td>\n",
       "      <td>-0.325535</td>\n",
       "      <td>-0.215743</td>\n",
       "      <td>-0.314612</td>\n",
       "      <td>-0.629701</td>\n",
       "      <td>-0.43706</td>\n",
       "      <td>2.80064</td>\n",
       "      <td>...</td>\n",
       "      <td>-0.149313</td>\n",
       "      <td>-0.244108</td>\n",
       "      <td>22.48091</td>\n",
       "      <td>-0.463272</td>\n",
       "      <td>-0.150212</td>\n",
       "      <td>-0.160923</td>\n",
       "      <td>-0.318552</td>\n",
       "      <td>-0.21487</td>\n",
       "      <td>-0.116515</td>\n",
       "      <td>7</td>\n",
       "    </tr>\n",
       "    <tr>\n",
       "      <th>9619</th>\n",
       "      <td>tt2821314</td>\n",
       "      <td>The Rise and Rise of Bitcoin</td>\n",
       "      <td>0.870778</td>\n",
       "      <td>-0.391659</td>\n",
       "      <td>-0.325535</td>\n",
       "      <td>-0.215743</td>\n",
       "      <td>-0.314612</td>\n",
       "      <td>-0.629701</td>\n",
       "      <td>-0.43706</td>\n",
       "      <td>2.80064</td>\n",
       "      <td>...</td>\n",
       "      <td>-0.149313</td>\n",
       "      <td>-0.244108</td>\n",
       "      <td>22.48091</td>\n",
       "      <td>-0.463272</td>\n",
       "      <td>-0.150212</td>\n",
       "      <td>-0.160923</td>\n",
       "      <td>-0.318552</td>\n",
       "      <td>-0.21487</td>\n",
       "      <td>-0.116515</td>\n",
       "      <td>7</td>\n",
       "    </tr>\n",
       "    <tr>\n",
       "      <th>9635</th>\n",
       "      <td>tt2865822</td>\n",
       "      <td>All the World in a Design School</td>\n",
       "      <td>0.910824</td>\n",
       "      <td>-0.391659</td>\n",
       "      <td>-0.325535</td>\n",
       "      <td>-0.215743</td>\n",
       "      <td>-0.314612</td>\n",
       "      <td>-0.629701</td>\n",
       "      <td>-0.43706</td>\n",
       "      <td>2.80064</td>\n",
       "      <td>...</td>\n",
       "      <td>-0.149313</td>\n",
       "      <td>-0.244108</td>\n",
       "      <td>22.48091</td>\n",
       "      <td>-0.463272</td>\n",
       "      <td>-0.150212</td>\n",
       "      <td>-0.160923</td>\n",
       "      <td>-0.318552</td>\n",
       "      <td>-0.21487</td>\n",
       "      <td>-0.116515</td>\n",
       "      <td>7</td>\n",
       "    </tr>\n",
       "    <tr>\n",
       "      <th>9769</th>\n",
       "      <td>tt3162938</td>\n",
       "      <td>The True Cost</td>\n",
       "      <td>0.910824</td>\n",
       "      <td>-0.391659</td>\n",
       "      <td>-0.325535</td>\n",
       "      <td>-0.215743</td>\n",
       "      <td>-0.314612</td>\n",
       "      <td>-0.629701</td>\n",
       "      <td>-0.43706</td>\n",
       "      <td>2.80064</td>\n",
       "      <td>...</td>\n",
       "      <td>-0.149313</td>\n",
       "      <td>-0.244108</td>\n",
       "      <td>22.48091</td>\n",
       "      <td>-0.463272</td>\n",
       "      <td>-0.150212</td>\n",
       "      <td>-0.160923</td>\n",
       "      <td>-0.318552</td>\n",
       "      <td>-0.21487</td>\n",
       "      <td>-0.116515</td>\n",
       "      <td>7</td>\n",
       "    </tr>\n",
       "    <tr>\n",
       "      <th>9824</th>\n",
       "      <td>tt3270538</td>\n",
       "      <td>Requiem for the American Dream</td>\n",
       "      <td>0.910824</td>\n",
       "      <td>-0.391659</td>\n",
       "      <td>-0.325535</td>\n",
       "      <td>-0.215743</td>\n",
       "      <td>3.178515</td>\n",
       "      <td>-0.629701</td>\n",
       "      <td>-0.43706</td>\n",
       "      <td>2.80064</td>\n",
       "      <td>...</td>\n",
       "      <td>-0.149313</td>\n",
       "      <td>-0.244108</td>\n",
       "      <td>22.48091</td>\n",
       "      <td>-0.463272</td>\n",
       "      <td>-0.150212</td>\n",
       "      <td>-0.160923</td>\n",
       "      <td>-0.318552</td>\n",
       "      <td>-0.21487</td>\n",
       "      <td>-0.116515</td>\n",
       "      <td>7</td>\n",
       "    </tr>\n",
       "    <tr>\n",
       "      <th>9987</th>\n",
       "      <td>tt3665486</td>\n",
       "      <td>Los Scandalous - Skid Row</td>\n",
       "      <td>0.870778</td>\n",
       "      <td>-0.391659</td>\n",
       "      <td>-0.325535</td>\n",
       "      <td>-0.215743</td>\n",
       "      <td>-0.314612</td>\n",
       "      <td>-0.629701</td>\n",
       "      <td>-0.43706</td>\n",
       "      <td>2.80064</td>\n",
       "      <td>...</td>\n",
       "      <td>-0.149313</td>\n",
       "      <td>-0.244108</td>\n",
       "      <td>22.48091</td>\n",
       "      <td>-0.463272</td>\n",
       "      <td>-0.150212</td>\n",
       "      <td>-0.160923</td>\n",
       "      <td>-0.318552</td>\n",
       "      <td>-0.21487</td>\n",
       "      <td>-0.116515</td>\n",
       "      <td>7</td>\n",
       "    </tr>\n",
       "    <tr>\n",
       "      <th>10116</th>\n",
       "      <td>tt3983674</td>\n",
       "      <td>The Mask You Live In</td>\n",
       "      <td>0.910824</td>\n",
       "      <td>-0.391659</td>\n",
       "      <td>-0.325535</td>\n",
       "      <td>-0.215743</td>\n",
       "      <td>-0.314612</td>\n",
       "      <td>-0.629701</td>\n",
       "      <td>-0.43706</td>\n",
       "      <td>2.80064</td>\n",
       "      <td>...</td>\n",
       "      <td>-0.149313</td>\n",
       "      <td>-0.244108</td>\n",
       "      <td>22.48091</td>\n",
       "      <td>-0.463272</td>\n",
       "      <td>-0.150212</td>\n",
       "      <td>-0.160923</td>\n",
       "      <td>-0.318552</td>\n",
       "      <td>-0.21487</td>\n",
       "      <td>-0.116515</td>\n",
       "      <td>7</td>\n",
       "    </tr>\n",
       "    <tr>\n",
       "      <th>10766</th>\n",
       "      <td>tt5929776</td>\n",
       "      <td>Before the Flood</td>\n",
       "      <td>0.950869</td>\n",
       "      <td>-0.391659</td>\n",
       "      <td>-0.325535</td>\n",
       "      <td>-0.215743</td>\n",
       "      <td>-0.314612</td>\n",
       "      <td>-0.629701</td>\n",
       "      <td>-0.43706</td>\n",
       "      <td>2.80064</td>\n",
       "      <td>...</td>\n",
       "      <td>-0.149313</td>\n",
       "      <td>-0.244108</td>\n",
       "      <td>22.48091</td>\n",
       "      <td>-0.463272</td>\n",
       "      <td>-0.150212</td>\n",
       "      <td>-0.160923</td>\n",
       "      <td>-0.318552</td>\n",
       "      <td>-0.21487</td>\n",
       "      <td>-0.116515</td>\n",
       "      <td>7</td>\n",
       "    </tr>\n",
       "  </tbody>\n",
       "</table>\n",
       "<p>23 rows × 27 columns</p>\n",
       "</div>"
      ],
      "text/plain": [
       "          tconst                                  originalTitle  startYear  \\\n",
       "6377   tt0388789  Born Into Brothels: Calcutta's Red Light Kids   0.470320   \n",
       "6985   tt0497116                          An Inconvenient Truth   0.550412   \n",
       "8081   tt1286537                                     Food, Inc.   0.630503   \n",
       "8106   tt1300563                              The Age of Stupid   0.670549   \n",
       "8170   tt1333634            Burma VJ: Reporter i et lukket land   0.630503   \n",
       "8608   tt1618448                              Racing Extinction   0.910824   \n",
       "8684   tt1671513                                  Four Horsemen   0.790686   \n",
       "8818   tt1778338                               The Culture High   0.870778   \n",
       "8836   tt1789083                           The Weight of Chains   0.710595   \n",
       "9118   tt2084953                 Terms and Conditions May Apply   0.830732   \n",
       "9138   tt2107850                             The Case Against 8   0.870778   \n",
       "9156   tt2124803                        How to Survive a Plague   0.790686   \n",
       "9227   tt2195566                             Neurons to Nirvana   0.830732   \n",
       "9536   tt2593392                                   Alive Inside   0.870778   \n",
       "9550   tt2630898             (Dis)Honesty: The Truth About Lies   0.910824   \n",
       "9596   tt2752724  Money for Nothing: Inside the Federal Reserve   0.830732   \n",
       "9619   tt2821314                   The Rise and Rise of Bitcoin   0.870778   \n",
       "9635   tt2865822               All the World in a Design School   0.910824   \n",
       "9769   tt3162938                                  The True Cost   0.910824   \n",
       "9824   tt3270538                 Requiem for the American Dream   0.910824   \n",
       "9987   tt3665486                      Los Scandalous - Skid Row   0.870778   \n",
       "10116  tt3983674                           The Mask You Live In   0.910824   \n",
       "10766  tt5929776                               Before the Flood   0.950869   \n",
       "\n",
       "         Action  Adventure  Animation  Biography    Comedy    Crime  \\\n",
       "6377  -0.391659  -0.325535  -0.215743   3.178515 -0.629701 -0.43706   \n",
       "6985  -0.391659  -0.325535  -0.215743  -0.314612 -0.629701 -0.43706   \n",
       "8081  -0.391659  -0.325535  -0.215743  -0.314612 -0.629701 -0.43706   \n",
       "8106  -0.391659  -0.325535  -0.215743  -0.314612 -0.629701 -0.43706   \n",
       "8170  -0.391659  -0.325535  -0.215743  -0.314612 -0.629701 -0.43706   \n",
       "8608  -0.391659   3.071869  -0.215743  -0.314612 -0.629701 -0.43706   \n",
       "8684  -0.391659  -0.325535  -0.215743  -0.314612 -0.629701 -0.43706   \n",
       "8818  -0.391659  -0.325535  -0.215743  -0.314612 -0.629701 -0.43706   \n",
       "8836  -0.391659  -0.325535  -0.215743  -0.314612 -0.629701 -0.43706   \n",
       "9118  -0.391659  -0.325535  -0.215743  -0.314612 -0.629701 -0.43706   \n",
       "9138  -0.391659  -0.325535  -0.215743   3.178515 -0.629701 -0.43706   \n",
       "9156  -0.391659  -0.325535  -0.215743  -0.314612 -0.629701 -0.43706   \n",
       "9227  -0.391659  -0.325535  -0.215743  -0.314612 -0.629701 -0.43706   \n",
       "9536  -0.391659  -0.325535  -0.215743  -0.314612 -0.629701 -0.43706   \n",
       "9550  -0.391659  -0.325535  -0.215743  -0.314612 -0.629701 -0.43706   \n",
       "9596  -0.391659  -0.325535  -0.215743  -0.314612 -0.629701 -0.43706   \n",
       "9619  -0.391659  -0.325535  -0.215743  -0.314612 -0.629701 -0.43706   \n",
       "9635  -0.391659  -0.325535  -0.215743  -0.314612 -0.629701 -0.43706   \n",
       "9769  -0.391659  -0.325535  -0.215743  -0.314612 -0.629701 -0.43706   \n",
       "9824  -0.391659  -0.325535  -0.215743   3.178515 -0.629701 -0.43706   \n",
       "9987  -0.391659  -0.325535  -0.215743  -0.314612 -0.629701 -0.43706   \n",
       "10116 -0.391659  -0.325535  -0.215743  -0.314612 -0.629701 -0.43706   \n",
       "10766 -0.391659  -0.325535  -0.215743  -0.314612 -0.629701 -0.43706   \n",
       "\n",
       "       Documentary  ...   Musical   Mystery      News   Romance    Sci-Fi  \\\n",
       "6377       2.80064  ... -0.149313 -0.244108  22.48091 -0.463272 -0.150212   \n",
       "6985       2.80064  ... -0.149313 -0.244108  22.48091 -0.463272 -0.150212   \n",
       "8081       2.80064  ... -0.149313 -0.244108  22.48091 -0.463272 -0.150212   \n",
       "8106       2.80064  ... -0.149313 -0.244108  22.48091 -0.463272 -0.150212   \n",
       "8170       2.80064  ... -0.149313 -0.244108  22.48091 -0.463272 -0.150212   \n",
       "8608       2.80064  ... -0.149313 -0.244108  22.48091 -0.463272 -0.150212   \n",
       "8684       2.80064  ... -0.149313 -0.244108  22.48091 -0.463272 -0.150212   \n",
       "8818       2.80064  ... -0.149313 -0.244108  22.48091 -0.463272 -0.150212   \n",
       "8836       2.80064  ... -0.149313 -0.244108  22.48091 -0.463272 -0.150212   \n",
       "9118       2.80064  ... -0.149313 -0.244108  22.48091 -0.463272 -0.150212   \n",
       "9138       2.80064  ... -0.149313 -0.244108  22.48091 -0.463272 -0.150212   \n",
       "9156       2.80064  ... -0.149313 -0.244108  22.48091 -0.463272 -0.150212   \n",
       "9227       2.80064  ... -0.149313 -0.244108  22.48091 -0.463272 -0.150212   \n",
       "9536       2.80064  ... -0.149313 -0.244108  22.48091 -0.463272 -0.150212   \n",
       "9550       2.80064  ... -0.149313 -0.244108  22.48091 -0.463272 -0.150212   \n",
       "9596       2.80064  ... -0.149313 -0.244108  22.48091 -0.463272 -0.150212   \n",
       "9619       2.80064  ... -0.149313 -0.244108  22.48091 -0.463272 -0.150212   \n",
       "9635       2.80064  ... -0.149313 -0.244108  22.48091 -0.463272 -0.150212   \n",
       "9769       2.80064  ... -0.149313 -0.244108  22.48091 -0.463272 -0.150212   \n",
       "9824       2.80064  ... -0.149313 -0.244108  22.48091 -0.463272 -0.150212   \n",
       "9987       2.80064  ... -0.149313 -0.244108  22.48091 -0.463272 -0.150212   \n",
       "10116      2.80064  ... -0.149313 -0.244108  22.48091 -0.463272 -0.150212   \n",
       "10766      2.80064  ... -0.149313 -0.244108  22.48091 -0.463272 -0.150212   \n",
       "\n",
       "          Sport  Thriller      War   Western  cluster  \n",
       "6377  -0.160923 -0.318552 -0.21487 -0.116515        7  \n",
       "6985  -0.160923 -0.318552 -0.21487 -0.116515        7  \n",
       "8081  -0.160923 -0.318552 -0.21487 -0.116515        7  \n",
       "8106  -0.160923 -0.318552 -0.21487 -0.116515        7  \n",
       "8170  -0.160923 -0.318552 -0.21487 -0.116515        7  \n",
       "8608  -0.160923 -0.318552 -0.21487 -0.116515        7  \n",
       "8684  -0.160923 -0.318552 -0.21487 -0.116515        7  \n",
       "8818  -0.160923 -0.318552 -0.21487 -0.116515        7  \n",
       "8836  -0.160923 -0.318552 -0.21487 -0.116515        7  \n",
       "9118  -0.160923 -0.318552 -0.21487 -0.116515        7  \n",
       "9138  -0.160923 -0.318552 -0.21487 -0.116515        7  \n",
       "9156  -0.160923 -0.318552 -0.21487 -0.116515        7  \n",
       "9227  -0.160923 -0.318552 -0.21487 -0.116515        7  \n",
       "9536  -0.160923 -0.318552 -0.21487 -0.116515        7  \n",
       "9550  -0.160923 -0.318552 -0.21487 -0.116515        7  \n",
       "9596  -0.160923 -0.318552 -0.21487 -0.116515        7  \n",
       "9619  -0.160923 -0.318552 -0.21487 -0.116515        7  \n",
       "9635  -0.160923 -0.318552 -0.21487 -0.116515        7  \n",
       "9769  -0.160923 -0.318552 -0.21487 -0.116515        7  \n",
       "9824  -0.160923 -0.318552 -0.21487 -0.116515        7  \n",
       "9987  -0.160923 -0.318552 -0.21487 -0.116515        7  \n",
       "10116 -0.160923 -0.318552 -0.21487 -0.116515        7  \n",
       "10766 -0.160923 -0.318552 -0.21487 -0.116515        7  \n",
       "\n",
       "[23 rows x 27 columns]"
      ]
     },
     "execution_count": 91,
     "metadata": {},
     "output_type": "execute_result"
    }
   ],
   "source": [
    "movie_scaled_concat[movie_scaled_concat['cluster']==7]"
   ]
  },
  {
   "cell_type": "code",
   "execution_count": 79,
   "metadata": {},
   "outputs": [
    {
     "data": {
      "text/plain": [
       "5     1564\n",
       "2     1416\n",
       "4      935\n",
       "16     710\n",
       "25     455\n",
       "21     427\n",
       "29     419\n",
       "20     402\n",
       "6      344\n",
       "0      338\n",
       "17     334\n",
       "1      307\n",
       "19     291\n",
       "23     268\n",
       "22     247\n",
       "26     239\n",
       "18     231\n",
       "30     219\n",
       "24     217\n",
       "15     213\n",
       "13     193\n",
       "11     190\n",
       "10     179\n",
       "32     174\n",
       "12     174\n",
       "33     161\n",
       "14     156\n",
       "9      145\n",
       "34     144\n",
       "31     137\n",
       "8      114\n",
       "3      107\n",
       "28      92\n",
       "27      82\n",
       "7       23\n",
       "Name: cluster, dtype: int64"
      ]
     },
     "execution_count": 79,
     "metadata": {},
     "output_type": "execute_result"
    }
   ],
   "source": [
    "movie_scaled_concat['cluster'].value_counts()"
   ]
  },
  {
   "cell_type": "code",
   "execution_count": 88,
   "metadata": {},
   "outputs": [
    {
     "name": "stdout",
     "output_type": "stream",
     "text": [
      "[26]\n"
     ]
    }
   ],
   "source": [
    "film = movie_scaled_concat[movie_scaled_concat['originalTitle']=='The Lord of the Rings: The Fellowship of the Ring']\n",
    "n_cluster = movie_scaled_concat['cluster'][movie_scaled_concat['originalTitle']=='The Lord of the Rings: The Fellowship of the Ring'].values\n",
    "df_for_KNN=movie_scaled_concat[movie_scaled_concat['cluster']==n_cluster[0]]"
   ]
  },
  {
   "cell_type": "code",
   "execution_count": 84,
   "metadata": {},
   "outputs": [],
   "source": [
    "cols = movie_scaled_concat.columns[2:-1]\n",
    "X = df_for_KNN[cols]\n",
    "\n",
    "distanceKNN = NearestNeighbors(n_neighbors=100).fit(X)"
   ]
  },
  {
   "cell_type": "code",
   "execution_count": 85,
   "metadata": {},
   "outputs": [],
   "source": [
    "list_film = distanceKNN.kneighbors(film[cols].values)\n",
    "items = list_film[1].reshape(1,100)[0]"
   ]
  },
  {
   "cell_type": "code",
   "execution_count": 90,
   "metadata": {},
   "outputs": [
    {
     "data": {
      "text/html": [
       "<div>\n",
       "<style scoped>\n",
       "    .dataframe tbody tr th:only-of-type {\n",
       "        vertical-align: middle;\n",
       "    }\n",
       "\n",
       "    .dataframe tbody tr th {\n",
       "        vertical-align: top;\n",
       "    }\n",
       "\n",
       "    .dataframe thead th {\n",
       "        text-align: right;\n",
       "    }\n",
       "</style>\n",
       "<table border=\"1\" class=\"dataframe\">\n",
       "  <thead>\n",
       "    <tr style=\"text-align: right;\">\n",
       "      <th></th>\n",
       "      <th>tconst</th>\n",
       "      <th>originalTitle</th>\n",
       "      <th>startYear</th>\n",
       "      <th>Action</th>\n",
       "      <th>Adventure</th>\n",
       "      <th>Animation</th>\n",
       "      <th>Biography</th>\n",
       "      <th>Comedy</th>\n",
       "      <th>Crime</th>\n",
       "      <th>Documentary</th>\n",
       "      <th>...</th>\n",
       "      <th>Music</th>\n",
       "      <th>Musical</th>\n",
       "      <th>Mystery</th>\n",
       "      <th>News</th>\n",
       "      <th>Romance</th>\n",
       "      <th>Sci-Fi</th>\n",
       "      <th>Sport</th>\n",
       "      <th>Thriller</th>\n",
       "      <th>War</th>\n",
       "      <th>Western</th>\n",
       "    </tr>\n",
       "  </thead>\n",
       "  <tbody>\n",
       "    <tr>\n",
       "      <th>193</th>\n",
       "      <td>tt0022735</td>\n",
       "      <td>The Cabin in the Cotton</td>\n",
       "      <td>1932</td>\n",
       "      <td>0</td>\n",
       "      <td>0</td>\n",
       "      <td>0</td>\n",
       "      <td>0</td>\n",
       "      <td>0</td>\n",
       "      <td>0</td>\n",
       "      <td>0</td>\n",
       "      <td>...</td>\n",
       "      <td>0</td>\n",
       "      <td>0</td>\n",
       "      <td>0</td>\n",
       "      <td>0</td>\n",
       "      <td>0</td>\n",
       "      <td>0</td>\n",
       "      <td>0</td>\n",
       "      <td>0</td>\n",
       "      <td>0</td>\n",
       "      <td>0</td>\n",
       "    </tr>\n",
       "    <tr>\n",
       "      <th>203</th>\n",
       "      <td>tt0023049</td>\n",
       "      <td>If I Had a Million</td>\n",
       "      <td>1932</td>\n",
       "      <td>0</td>\n",
       "      <td>0</td>\n",
       "      <td>0</td>\n",
       "      <td>0</td>\n",
       "      <td>1</td>\n",
       "      <td>0</td>\n",
       "      <td>0</td>\n",
       "      <td>...</td>\n",
       "      <td>0</td>\n",
       "      <td>0</td>\n",
       "      <td>0</td>\n",
       "      <td>0</td>\n",
       "      <td>0</td>\n",
       "      <td>0</td>\n",
       "      <td>0</td>\n",
       "      <td>0</td>\n",
       "      <td>0</td>\n",
       "      <td>0</td>\n",
       "    </tr>\n",
       "    <tr>\n",
       "      <th>105</th>\n",
       "      <td>tt0018742</td>\n",
       "      <td>The Cameraman</td>\n",
       "      <td>1928</td>\n",
       "      <td>0</td>\n",
       "      <td>0</td>\n",
       "      <td>0</td>\n",
       "      <td>0</td>\n",
       "      <td>1</td>\n",
       "      <td>0</td>\n",
       "      <td>0</td>\n",
       "      <td>...</td>\n",
       "      <td>0</td>\n",
       "      <td>0</td>\n",
       "      <td>0</td>\n",
       "      <td>0</td>\n",
       "      <td>0</td>\n",
       "      <td>0</td>\n",
       "      <td>0</td>\n",
       "      <td>0</td>\n",
       "      <td>0</td>\n",
       "      <td>0</td>\n",
       "    </tr>\n",
       "    <tr>\n",
       "      <th>106</th>\n",
       "      <td>tt0018770</td>\n",
       "      <td>La chute de la maison Usher</td>\n",
       "      <td>1928</td>\n",
       "      <td>0</td>\n",
       "      <td>0</td>\n",
       "      <td>0</td>\n",
       "      <td>0</td>\n",
       "      <td>0</td>\n",
       "      <td>0</td>\n",
       "      <td>0</td>\n",
       "      <td>...</td>\n",
       "      <td>0</td>\n",
       "      <td>0</td>\n",
       "      <td>0</td>\n",
       "      <td>0</td>\n",
       "      <td>0</td>\n",
       "      <td>0</td>\n",
       "      <td>0</td>\n",
       "      <td>0</td>\n",
       "      <td>0</td>\n",
       "      <td>0</td>\n",
       "    </tr>\n",
       "    <tr>\n",
       "      <th>94</th>\n",
       "      <td>tt0018217</td>\n",
       "      <td>Oktyabr</td>\n",
       "      <td>1927</td>\n",
       "      <td>0</td>\n",
       "      <td>0</td>\n",
       "      <td>0</td>\n",
       "      <td>0</td>\n",
       "      <td>0</td>\n",
       "      <td>0</td>\n",
       "      <td>0</td>\n",
       "      <td>...</td>\n",
       "      <td>0</td>\n",
       "      <td>0</td>\n",
       "      <td>0</td>\n",
       "      <td>0</td>\n",
       "      <td>0</td>\n",
       "      <td>0</td>\n",
       "      <td>0</td>\n",
       "      <td>0</td>\n",
       "      <td>0</td>\n",
       "      <td>0</td>\n",
       "    </tr>\n",
       "  </tbody>\n",
       "</table>\n",
       "<p>5 rows × 26 columns</p>\n",
       "</div>"
      ],
      "text/plain": [
       "        tconst                originalTitle  startYear  Action  Adventure  \\\n",
       "193  tt0022735      The Cabin in the Cotton       1932       0          0   \n",
       "203  tt0023049           If I Had a Million       1932       0          0   \n",
       "105  tt0018742                The Cameraman       1928       0          0   \n",
       "106  tt0018770  La chute de la maison Usher       1928       0          0   \n",
       "94   tt0018217                      Oktyabr       1927       0          0   \n",
       "\n",
       "     Animation  Biography  Comedy  Crime  Documentary  ...  Music  Musical  \\\n",
       "193          0          0       0      0            0  ...      0        0   \n",
       "203          0          0       1      0            0  ...      0        0   \n",
       "105          0          0       1      0            0  ...      0        0   \n",
       "106          0          0       0      0            0  ...      0        0   \n",
       "94           0          0       0      0            0  ...      0        0   \n",
       "\n",
       "     Mystery  News  Romance  Sci-Fi  Sport  Thriller  War  Western  \n",
       "193        0     0        0       0      0         0    0        0  \n",
       "203        0     0        0       0      0         0    0        0  \n",
       "105        0     0        0       0      0         0    0        0  \n",
       "106        0     0        0       0      0         0    0        0  \n",
       "94         0     0        0       0      0         0    0        0  \n",
       "\n",
       "[5 rows x 26 columns]"
      ]
     },
     "execution_count": 90,
     "metadata": {},
     "output_type": "execute_result"
    }
   ],
   "source": [
    "suggestion = movie_for_ml.iloc[items]\n",
    "suggestion.tail()"
   ]
  },
  {
   "cell_type": "code",
   "execution_count": 75,
   "metadata": {},
   "outputs": [],
   "source": [
    "score = []\n",
    "K = range(20, 40)\n",
    "for k in K:\n",
    "    modelKM = KMeans(n_clusters=k)\n",
    "    modelKM.fit(X)\n",
    "    score.append(silhouette_score(X, modelKM.labels_))"
   ]
  },
  {
   "cell_type": "code",
   "execution_count": 76,
   "metadata": {},
   "outputs": [
    {
     "data": {
      "application/vnd.plotly.v1+json": {
       "config": {
        "plotlyServerURL": "https://plot.ly"
       },
       "data": [
        {
         "hovertemplate": "# of clusters=%{x}<br>score=%{y}<extra></extra>",
         "legendgroup": "",
         "line": {
          "color": "#636efa",
          "dash": "solid"
         },
         "mode": "lines",
         "name": "",
         "orientation": "v",
         "showlegend": false,
         "type": "scatter",
         "x": [
          20,
          21,
          22,
          23,
          24,
          25,
          26,
          27,
          28,
          29,
          30,
          31,
          32,
          33,
          34,
          35,
          36,
          37,
          38,
          39
         ],
         "xaxis": "x",
         "y": [
          0.3157542385247031,
          0.3339259398386064,
          0.3406640936901118,
          0.3433648313132343,
          0.35330108914134056,
          0.3669906313298097,
          0.3584534663827653,
          0.3659504279446386,
          0.3669712084173165,
          0.37782667904832357,
          0.3755128842743511,
          0.4061557473301556,
          0.3906089604433101,
          0.39117350558562874,
          0.3872869386245388,
          0.41303820719856355,
          0.4123179847840505,
          0.3997770703901864,
          0.40493916038325073,
          0.39887920398205035
         ],
         "yaxis": "y"
        }
       ],
       "layout": {
        "height": 500,
        "legend": {
         "tracegroupgap": 0
        },
        "template": {
         "data": {
          "bar": [
           {
            "error_x": {
             "color": "#2a3f5f"
            },
            "error_y": {
             "color": "#2a3f5f"
            },
            "marker": {
             "line": {
              "color": "#E5ECF6",
              "width": 0.5
             },
             "pattern": {
              "fillmode": "overlay",
              "size": 10,
              "solidity": 0.2
             }
            },
            "type": "bar"
           }
          ],
          "barpolar": [
           {
            "marker": {
             "line": {
              "color": "#E5ECF6",
              "width": 0.5
             },
             "pattern": {
              "fillmode": "overlay",
              "size": 10,
              "solidity": 0.2
             }
            },
            "type": "barpolar"
           }
          ],
          "carpet": [
           {
            "aaxis": {
             "endlinecolor": "#2a3f5f",
             "gridcolor": "white",
             "linecolor": "white",
             "minorgridcolor": "white",
             "startlinecolor": "#2a3f5f"
            },
            "baxis": {
             "endlinecolor": "#2a3f5f",
             "gridcolor": "white",
             "linecolor": "white",
             "minorgridcolor": "white",
             "startlinecolor": "#2a3f5f"
            },
            "type": "carpet"
           }
          ],
          "choropleth": [
           {
            "colorbar": {
             "outlinewidth": 0,
             "ticks": ""
            },
            "type": "choropleth"
           }
          ],
          "contour": [
           {
            "colorbar": {
             "outlinewidth": 0,
             "ticks": ""
            },
            "colorscale": [
             [
              0,
              "#0d0887"
             ],
             [
              0.1111111111111111,
              "#46039f"
             ],
             [
              0.2222222222222222,
              "#7201a8"
             ],
             [
              0.3333333333333333,
              "#9c179e"
             ],
             [
              0.4444444444444444,
              "#bd3786"
             ],
             [
              0.5555555555555556,
              "#d8576b"
             ],
             [
              0.6666666666666666,
              "#ed7953"
             ],
             [
              0.7777777777777778,
              "#fb9f3a"
             ],
             [
              0.8888888888888888,
              "#fdca26"
             ],
             [
              1,
              "#f0f921"
             ]
            ],
            "type": "contour"
           }
          ],
          "contourcarpet": [
           {
            "colorbar": {
             "outlinewidth": 0,
             "ticks": ""
            },
            "type": "contourcarpet"
           }
          ],
          "heatmap": [
           {
            "colorbar": {
             "outlinewidth": 0,
             "ticks": ""
            },
            "colorscale": [
             [
              0,
              "#0d0887"
             ],
             [
              0.1111111111111111,
              "#46039f"
             ],
             [
              0.2222222222222222,
              "#7201a8"
             ],
             [
              0.3333333333333333,
              "#9c179e"
             ],
             [
              0.4444444444444444,
              "#bd3786"
             ],
             [
              0.5555555555555556,
              "#d8576b"
             ],
             [
              0.6666666666666666,
              "#ed7953"
             ],
             [
              0.7777777777777778,
              "#fb9f3a"
             ],
             [
              0.8888888888888888,
              "#fdca26"
             ],
             [
              1,
              "#f0f921"
             ]
            ],
            "type": "heatmap"
           }
          ],
          "heatmapgl": [
           {
            "colorbar": {
             "outlinewidth": 0,
             "ticks": ""
            },
            "colorscale": [
             [
              0,
              "#0d0887"
             ],
             [
              0.1111111111111111,
              "#46039f"
             ],
             [
              0.2222222222222222,
              "#7201a8"
             ],
             [
              0.3333333333333333,
              "#9c179e"
             ],
             [
              0.4444444444444444,
              "#bd3786"
             ],
             [
              0.5555555555555556,
              "#d8576b"
             ],
             [
              0.6666666666666666,
              "#ed7953"
             ],
             [
              0.7777777777777778,
              "#fb9f3a"
             ],
             [
              0.8888888888888888,
              "#fdca26"
             ],
             [
              1,
              "#f0f921"
             ]
            ],
            "type": "heatmapgl"
           }
          ],
          "histogram": [
           {
            "marker": {
             "pattern": {
              "fillmode": "overlay",
              "size": 10,
              "solidity": 0.2
             }
            },
            "type": "histogram"
           }
          ],
          "histogram2d": [
           {
            "colorbar": {
             "outlinewidth": 0,
             "ticks": ""
            },
            "colorscale": [
             [
              0,
              "#0d0887"
             ],
             [
              0.1111111111111111,
              "#46039f"
             ],
             [
              0.2222222222222222,
              "#7201a8"
             ],
             [
              0.3333333333333333,
              "#9c179e"
             ],
             [
              0.4444444444444444,
              "#bd3786"
             ],
             [
              0.5555555555555556,
              "#d8576b"
             ],
             [
              0.6666666666666666,
              "#ed7953"
             ],
             [
              0.7777777777777778,
              "#fb9f3a"
             ],
             [
              0.8888888888888888,
              "#fdca26"
             ],
             [
              1,
              "#f0f921"
             ]
            ],
            "type": "histogram2d"
           }
          ],
          "histogram2dcontour": [
           {
            "colorbar": {
             "outlinewidth": 0,
             "ticks": ""
            },
            "colorscale": [
             [
              0,
              "#0d0887"
             ],
             [
              0.1111111111111111,
              "#46039f"
             ],
             [
              0.2222222222222222,
              "#7201a8"
             ],
             [
              0.3333333333333333,
              "#9c179e"
             ],
             [
              0.4444444444444444,
              "#bd3786"
             ],
             [
              0.5555555555555556,
              "#d8576b"
             ],
             [
              0.6666666666666666,
              "#ed7953"
             ],
             [
              0.7777777777777778,
              "#fb9f3a"
             ],
             [
              0.8888888888888888,
              "#fdca26"
             ],
             [
              1,
              "#f0f921"
             ]
            ],
            "type": "histogram2dcontour"
           }
          ],
          "mesh3d": [
           {
            "colorbar": {
             "outlinewidth": 0,
             "ticks": ""
            },
            "type": "mesh3d"
           }
          ],
          "parcoords": [
           {
            "line": {
             "colorbar": {
              "outlinewidth": 0,
              "ticks": ""
             }
            },
            "type": "parcoords"
           }
          ],
          "pie": [
           {
            "automargin": true,
            "type": "pie"
           }
          ],
          "scatter": [
           {
            "marker": {
             "colorbar": {
              "outlinewidth": 0,
              "ticks": ""
             }
            },
            "type": "scatter"
           }
          ],
          "scatter3d": [
           {
            "line": {
             "colorbar": {
              "outlinewidth": 0,
              "ticks": ""
             }
            },
            "marker": {
             "colorbar": {
              "outlinewidth": 0,
              "ticks": ""
             }
            },
            "type": "scatter3d"
           }
          ],
          "scattercarpet": [
           {
            "marker": {
             "colorbar": {
              "outlinewidth": 0,
              "ticks": ""
             }
            },
            "type": "scattercarpet"
           }
          ],
          "scattergeo": [
           {
            "marker": {
             "colorbar": {
              "outlinewidth": 0,
              "ticks": ""
             }
            },
            "type": "scattergeo"
           }
          ],
          "scattergl": [
           {
            "marker": {
             "colorbar": {
              "outlinewidth": 0,
              "ticks": ""
             }
            },
            "type": "scattergl"
           }
          ],
          "scattermapbox": [
           {
            "marker": {
             "colorbar": {
              "outlinewidth": 0,
              "ticks": ""
             }
            },
            "type": "scattermapbox"
           }
          ],
          "scatterpolar": [
           {
            "marker": {
             "colorbar": {
              "outlinewidth": 0,
              "ticks": ""
             }
            },
            "type": "scatterpolar"
           }
          ],
          "scatterpolargl": [
           {
            "marker": {
             "colorbar": {
              "outlinewidth": 0,
              "ticks": ""
             }
            },
            "type": "scatterpolargl"
           }
          ],
          "scatterternary": [
           {
            "marker": {
             "colorbar": {
              "outlinewidth": 0,
              "ticks": ""
             }
            },
            "type": "scatterternary"
           }
          ],
          "surface": [
           {
            "colorbar": {
             "outlinewidth": 0,
             "ticks": ""
            },
            "colorscale": [
             [
              0,
              "#0d0887"
             ],
             [
              0.1111111111111111,
              "#46039f"
             ],
             [
              0.2222222222222222,
              "#7201a8"
             ],
             [
              0.3333333333333333,
              "#9c179e"
             ],
             [
              0.4444444444444444,
              "#bd3786"
             ],
             [
              0.5555555555555556,
              "#d8576b"
             ],
             [
              0.6666666666666666,
              "#ed7953"
             ],
             [
              0.7777777777777778,
              "#fb9f3a"
             ],
             [
              0.8888888888888888,
              "#fdca26"
             ],
             [
              1,
              "#f0f921"
             ]
            ],
            "type": "surface"
           }
          ],
          "table": [
           {
            "cells": {
             "fill": {
              "color": "#EBF0F8"
             },
             "line": {
              "color": "white"
             }
            },
            "header": {
             "fill": {
              "color": "#C8D4E3"
             },
             "line": {
              "color": "white"
             }
            },
            "type": "table"
           }
          ]
         },
         "layout": {
          "annotationdefaults": {
           "arrowcolor": "#2a3f5f",
           "arrowhead": 0,
           "arrowwidth": 1
          },
          "autotypenumbers": "strict",
          "coloraxis": {
           "colorbar": {
            "outlinewidth": 0,
            "ticks": ""
           }
          },
          "colorscale": {
           "diverging": [
            [
             0,
             "#8e0152"
            ],
            [
             0.1,
             "#c51b7d"
            ],
            [
             0.2,
             "#de77ae"
            ],
            [
             0.3,
             "#f1b6da"
            ],
            [
             0.4,
             "#fde0ef"
            ],
            [
             0.5,
             "#f7f7f7"
            ],
            [
             0.6,
             "#e6f5d0"
            ],
            [
             0.7,
             "#b8e186"
            ],
            [
             0.8,
             "#7fbc41"
            ],
            [
             0.9,
             "#4d9221"
            ],
            [
             1,
             "#276419"
            ]
           ],
           "sequential": [
            [
             0,
             "#0d0887"
            ],
            [
             0.1111111111111111,
             "#46039f"
            ],
            [
             0.2222222222222222,
             "#7201a8"
            ],
            [
             0.3333333333333333,
             "#9c179e"
            ],
            [
             0.4444444444444444,
             "#bd3786"
            ],
            [
             0.5555555555555556,
             "#d8576b"
            ],
            [
             0.6666666666666666,
             "#ed7953"
            ],
            [
             0.7777777777777778,
             "#fb9f3a"
            ],
            [
             0.8888888888888888,
             "#fdca26"
            ],
            [
             1,
             "#f0f921"
            ]
           ],
           "sequentialminus": [
            [
             0,
             "#0d0887"
            ],
            [
             0.1111111111111111,
             "#46039f"
            ],
            [
             0.2222222222222222,
             "#7201a8"
            ],
            [
             0.3333333333333333,
             "#9c179e"
            ],
            [
             0.4444444444444444,
             "#bd3786"
            ],
            [
             0.5555555555555556,
             "#d8576b"
            ],
            [
             0.6666666666666666,
             "#ed7953"
            ],
            [
             0.7777777777777778,
             "#fb9f3a"
            ],
            [
             0.8888888888888888,
             "#fdca26"
            ],
            [
             1,
             "#f0f921"
            ]
           ]
          },
          "colorway": [
           "#636efa",
           "#EF553B",
           "#00cc96",
           "#ab63fa",
           "#FFA15A",
           "#19d3f3",
           "#FF6692",
           "#B6E880",
           "#FF97FF",
           "#FECB52"
          ],
          "font": {
           "color": "#2a3f5f"
          },
          "geo": {
           "bgcolor": "white",
           "lakecolor": "white",
           "landcolor": "#E5ECF6",
           "showlakes": true,
           "showland": true,
           "subunitcolor": "white"
          },
          "hoverlabel": {
           "align": "left"
          },
          "hovermode": "closest",
          "mapbox": {
           "style": "light"
          },
          "paper_bgcolor": "white",
          "plot_bgcolor": "#E5ECF6",
          "polar": {
           "angularaxis": {
            "gridcolor": "white",
            "linecolor": "white",
            "ticks": ""
           },
           "bgcolor": "#E5ECF6",
           "radialaxis": {
            "gridcolor": "white",
            "linecolor": "white",
            "ticks": ""
           }
          },
          "scene": {
           "xaxis": {
            "backgroundcolor": "#E5ECF6",
            "gridcolor": "white",
            "gridwidth": 2,
            "linecolor": "white",
            "showbackground": true,
            "ticks": "",
            "zerolinecolor": "white"
           },
           "yaxis": {
            "backgroundcolor": "#E5ECF6",
            "gridcolor": "white",
            "gridwidth": 2,
            "linecolor": "white",
            "showbackground": true,
            "ticks": "",
            "zerolinecolor": "white"
           },
           "zaxis": {
            "backgroundcolor": "#E5ECF6",
            "gridcolor": "white",
            "gridwidth": 2,
            "linecolor": "white",
            "showbackground": true,
            "ticks": "",
            "zerolinecolor": "white"
           }
          },
          "shapedefaults": {
           "line": {
            "color": "#2a3f5f"
           }
          },
          "ternary": {
           "aaxis": {
            "gridcolor": "white",
            "linecolor": "white",
            "ticks": ""
           },
           "baxis": {
            "gridcolor": "white",
            "linecolor": "white",
            "ticks": ""
           },
           "bgcolor": "#E5ECF6",
           "caxis": {
            "gridcolor": "white",
            "linecolor": "white",
            "ticks": ""
           }
          },
          "title": {
           "x": 0.05
          },
          "xaxis": {
           "automargin": true,
           "gridcolor": "white",
           "linecolor": "white",
           "ticks": "",
           "title": {
            "standoff": 15
           },
           "zerolinecolor": "white",
           "zerolinewidth": 2
          },
          "yaxis": {
           "automargin": true,
           "gridcolor": "white",
           "linecolor": "white",
           "ticks": "",
           "title": {
            "standoff": 15
           },
           "zerolinecolor": "white",
           "zerolinewidth": 2
          }
         }
        },
        "title": {
         "text": "silhouette"
        },
        "width": 1000,
        "xaxis": {
         "anchor": "y",
         "domain": [
          0,
          1
         ],
         "title": {
          "text": "# of clusters"
         }
        },
        "yaxis": {
         "anchor": "x",
         "domain": [
          0,
          1
         ],
         "title": {
          "text": "score"
         }
        }
       }
      }
     },
     "metadata": {},
     "output_type": "display_data"
    }
   ],
   "source": [
    "fig = px.line(x=K,y=score,\n",
    "              labels={'x':'# of clusters','y':'score'},\n",
    "              title = 'silhouette')\n",
    "\n",
    "fig.update_layout(width = 1000,height = 500)\n",
    "fig.show()"
   ]
  }
 ],
 "metadata": {
  "interpreter": {
   "hash": "be0acc8b5e9c514370efa701a19078e441337db182ef74130e57d9d0b7902eba"
  },
  "kernelspec": {
   "display_name": "Python 3.8.12 64-bit ('base': conda)",
   "language": "python",
   "name": "python3"
  },
  "language_info": {
   "codemirror_mode": {
    "name": "ipython",
    "version": 3
   },
   "file_extension": ".py",
   "mimetype": "text/x-python",
   "name": "python",
   "nbconvert_exporter": "python",
   "pygments_lexer": "ipython3",
   "version": "3.8.12"
  },
  "orig_nbformat": 4
 },
 "nbformat": 4,
 "nbformat_minor": 2
}
