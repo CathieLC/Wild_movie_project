{
 "cells": [
  {
   "cell_type": "code",
   "execution_count": 30,
   "metadata": {},
   "outputs": [],
   "source": [
    "import pandas as pd\n",
    "import numpy as np\n",
    "import plotly.express as px \n",
    "from plotly.subplots import make_subplots\n",
    "import plotly.graph_objects as go"
   ]
  },
  {
   "cell_type": "code",
   "execution_count": 31,
   "metadata": {},
   "outputs": [],
   "source": [
    "name_df = pd.read_csv(\"https://datasets.imdbws.com/name.basics.tsv.gz\", sep=\"\\t\")"
   ]
  },
  {
   "cell_type": "code",
   "execution_count": 32,
   "metadata": {},
   "outputs": [],
   "source": [
    "principals_df = pd.read_csv(\"https://datasets.imdbws.com/title.principals.tsv.gz\", sep=\"\\t\")"
   ]
  },
  {
   "cell_type": "code",
   "execution_count": 33,
   "metadata": {},
   "outputs": [],
   "source": [
    "#on isole les acteurs\n",
    "\n",
    "actors = principals_df[(principals_df['category'] == 'actor') | (principals_df['category'] == 'actress')]\n"
   ]
  },
  {
   "cell_type": "code",
   "execution_count": 34,
   "metadata": {},
   "outputs": [],
   "source": [
    "#jointure pour récupérer le nom des acteurs\n",
    "list_actors = pd.merge(actors,name_df,how='inner')"
   ]
  },
  {
   "cell_type": "code",
   "execution_count": 35,
   "metadata": {},
   "outputs": [
    {
     "data": {
      "text/html": [
       "<div>\n",
       "<style scoped>\n",
       "    .dataframe tbody tr th:only-of-type {\n",
       "        vertical-align: middle;\n",
       "    }\n",
       "\n",
       "    .dataframe tbody tr th {\n",
       "        vertical-align: top;\n",
       "    }\n",
       "\n",
       "    .dataframe thead th {\n",
       "        text-align: right;\n",
       "    }\n",
       "</style>\n",
       "<table border=\"1\" class=\"dataframe\">\n",
       "  <thead>\n",
       "    <tr style=\"text-align: right;\">\n",
       "      <th></th>\n",
       "      <th>tconst</th>\n",
       "      <th>ordering</th>\n",
       "      <th>nconst</th>\n",
       "      <th>category</th>\n",
       "      <th>job</th>\n",
       "      <th>characters</th>\n",
       "      <th>primaryName</th>\n",
       "      <th>birthYear</th>\n",
       "      <th>deathYear</th>\n",
       "      <th>primaryProfession</th>\n",
       "      <th>knownForTitles</th>\n",
       "    </tr>\n",
       "  </thead>\n",
       "  <tbody>\n",
       "    <tr>\n",
       "      <th>0</th>\n",
       "      <td>tt0000005</td>\n",
       "      <td>1</td>\n",
       "      <td>nm0443482</td>\n",
       "      <td>actor</td>\n",
       "      <td>\\N</td>\n",
       "      <td>[\"Blacksmith\"]</td>\n",
       "      <td>Charles Kayser</td>\n",
       "      <td>1878</td>\n",
       "      <td>1966</td>\n",
       "      <td>actor</td>\n",
       "      <td>tt0000005</td>\n",
       "    </tr>\n",
       "    <tr>\n",
       "      <th>1</th>\n",
       "      <td>tt0000005</td>\n",
       "      <td>2</td>\n",
       "      <td>nm0653042</td>\n",
       "      <td>actor</td>\n",
       "      <td>\\N</td>\n",
       "      <td>[\"Assistant\"]</td>\n",
       "      <td>John Ott</td>\n",
       "      <td>1850</td>\n",
       "      <td>1931</td>\n",
       "      <td>actor</td>\n",
       "      <td>tt0000005</td>\n",
       "    </tr>\n",
       "    <tr>\n",
       "      <th>2</th>\n",
       "      <td>tt0000007</td>\n",
       "      <td>1</td>\n",
       "      <td>nm0179163</td>\n",
       "      <td>actor</td>\n",
       "      <td>\\N</td>\n",
       "      <td>\\N</td>\n",
       "      <td>James J. Corbett</td>\n",
       "      <td>1866</td>\n",
       "      <td>1933</td>\n",
       "      <td>actor,writer</td>\n",
       "      <td>tt0034778,tt0163131,tt0003730,tt0003116</td>\n",
       "    </tr>\n",
       "    <tr>\n",
       "      <th>3</th>\n",
       "      <td>tt0003116</td>\n",
       "      <td>1</td>\n",
       "      <td>nm0179163</td>\n",
       "      <td>actor</td>\n",
       "      <td>\\N</td>\n",
       "      <td>[\"Gentleman Jim\"]</td>\n",
       "      <td>James J. Corbett</td>\n",
       "      <td>1866</td>\n",
       "      <td>1933</td>\n",
       "      <td>actor,writer</td>\n",
       "      <td>tt0034778,tt0163131,tt0003730,tt0003116</td>\n",
       "    </tr>\n",
       "    <tr>\n",
       "      <th>4</th>\n",
       "      <td>tt0003730</td>\n",
       "      <td>1</td>\n",
       "      <td>nm0179163</td>\n",
       "      <td>actor</td>\n",
       "      <td>\\N</td>\n",
       "      <td>[\"Danvers\",\"Raffles\"]</td>\n",
       "      <td>James J. Corbett</td>\n",
       "      <td>1866</td>\n",
       "      <td>1933</td>\n",
       "      <td>actor,writer</td>\n",
       "      <td>tt0034778,tt0163131,tt0003730,tt0003116</td>\n",
       "    </tr>\n",
       "    <tr>\n",
       "      <th>...</th>\n",
       "      <td>...</td>\n",
       "      <td>...</td>\n",
       "      <td>...</td>\n",
       "      <td>...</td>\n",
       "      <td>...</td>\n",
       "      <td>...</td>\n",
       "      <td>...</td>\n",
       "      <td>...</td>\n",
       "      <td>...</td>\n",
       "      <td>...</td>\n",
       "      <td>...</td>\n",
       "    </tr>\n",
       "    <tr>\n",
       "      <th>18859145</th>\n",
       "      <td>tt9916756</td>\n",
       "      <td>9</td>\n",
       "      <td>nm10781824</td>\n",
       "      <td>actress</td>\n",
       "      <td>\\N</td>\n",
       "      <td>[\"Lakeisha\"]</td>\n",
       "      <td>Lakeisha Barnes</td>\n",
       "      <td>\\N</td>\n",
       "      <td>\\N</td>\n",
       "      <td>actress</td>\n",
       "      <td>\\N</td>\n",
       "    </tr>\n",
       "    <tr>\n",
       "      <th>18859146</th>\n",
       "      <td>tt9916764</td>\n",
       "      <td>1</td>\n",
       "      <td>nm10538641</td>\n",
       "      <td>actor</td>\n",
       "      <td>\\N</td>\n",
       "      <td>[\"Waitress\"]</td>\n",
       "      <td>Yvonne Akins</td>\n",
       "      <td>\\N</td>\n",
       "      <td>\\N</td>\n",
       "      <td>actor</td>\n",
       "      <td>\\N</td>\n",
       "    </tr>\n",
       "    <tr>\n",
       "      <th>18859147</th>\n",
       "      <td>tt9916856</td>\n",
       "      <td>2</td>\n",
       "      <td>nm10538650</td>\n",
       "      <td>actress</td>\n",
       "      <td>\\N</td>\n",
       "      <td>[\"Sandra\"]</td>\n",
       "      <td>Anna Fitoussi</td>\n",
       "      <td>\\N</td>\n",
       "      <td>\\N</td>\n",
       "      <td>NaN</td>\n",
       "      <td>\\N</td>\n",
       "    </tr>\n",
       "    <tr>\n",
       "      <th>18859148</th>\n",
       "      <td>tt9916856</td>\n",
       "      <td>3</td>\n",
       "      <td>nm10538646</td>\n",
       "      <td>actor</td>\n",
       "      <td>\\N</td>\n",
       "      <td>[\"Stephan\"]</td>\n",
       "      <td>Andreas Demmel</td>\n",
       "      <td>\\N</td>\n",
       "      <td>\\N</td>\n",
       "      <td>NaN</td>\n",
       "      <td>\\N</td>\n",
       "    </tr>\n",
       "    <tr>\n",
       "      <th>18859149</th>\n",
       "      <td>tt9916856</td>\n",
       "      <td>4</td>\n",
       "      <td>nm10538647</td>\n",
       "      <td>actress</td>\n",
       "      <td>\\N</td>\n",
       "      <td>[\"Kathi\"]</td>\n",
       "      <td>Kathrin Knöpfle</td>\n",
       "      <td>\\N</td>\n",
       "      <td>\\N</td>\n",
       "      <td>NaN</td>\n",
       "      <td>tt5641586,tt9916856</td>\n",
       "    </tr>\n",
       "  </tbody>\n",
       "</table>\n",
       "<p>18859150 rows × 11 columns</p>\n",
       "</div>"
      ],
      "text/plain": [
       "             tconst  ordering      nconst category job             characters  \\\n",
       "0         tt0000005         1   nm0443482    actor  \\N         [\"Blacksmith\"]   \n",
       "1         tt0000005         2   nm0653042    actor  \\N          [\"Assistant\"]   \n",
       "2         tt0000007         1   nm0179163    actor  \\N                     \\N   \n",
       "3         tt0003116         1   nm0179163    actor  \\N      [\"Gentleman Jim\"]   \n",
       "4         tt0003730         1   nm0179163    actor  \\N  [\"Danvers\",\"Raffles\"]   \n",
       "...             ...       ...         ...      ...  ..                    ...   \n",
       "18859145  tt9916756         9  nm10781824  actress  \\N           [\"Lakeisha\"]   \n",
       "18859146  tt9916764         1  nm10538641    actor  \\N           [\"Waitress\"]   \n",
       "18859147  tt9916856         2  nm10538650  actress  \\N             [\"Sandra\"]   \n",
       "18859148  tt9916856         3  nm10538646    actor  \\N            [\"Stephan\"]   \n",
       "18859149  tt9916856         4  nm10538647  actress  \\N              [\"Kathi\"]   \n",
       "\n",
       "               primaryName birthYear deathYear primaryProfession  \\\n",
       "0           Charles Kayser      1878      1966             actor   \n",
       "1                 John Ott      1850      1931             actor   \n",
       "2         James J. Corbett      1866      1933      actor,writer   \n",
       "3         James J. Corbett      1866      1933      actor,writer   \n",
       "4         James J. Corbett      1866      1933      actor,writer   \n",
       "...                    ...       ...       ...               ...   \n",
       "18859145   Lakeisha Barnes        \\N        \\N           actress   \n",
       "18859146      Yvonne Akins        \\N        \\N             actor   \n",
       "18859147     Anna Fitoussi        \\N        \\N               NaN   \n",
       "18859148    Andreas Demmel        \\N        \\N               NaN   \n",
       "18859149   Kathrin Knöpfle        \\N        \\N               NaN   \n",
       "\n",
       "                                   knownForTitles  \n",
       "0                                       tt0000005  \n",
       "1                                       tt0000005  \n",
       "2         tt0034778,tt0163131,tt0003730,tt0003116  \n",
       "3         tt0034778,tt0163131,tt0003730,tt0003116  \n",
       "4         tt0034778,tt0163131,tt0003730,tt0003116  \n",
       "...                                           ...  \n",
       "18859145                                       \\N  \n",
       "18859146                                       \\N  \n",
       "18859147                                       \\N  \n",
       "18859148                                       \\N  \n",
       "18859149                      tt5641586,tt9916856  \n",
       "\n",
       "[18859150 rows x 11 columns]"
      ]
     },
     "execution_count": 35,
     "metadata": {},
     "output_type": "execute_result"
    }
   ],
   "source": [
    "list_actors"
   ]
  },
  {
   "cell_type": "code",
   "execution_count": 36,
   "metadata": {},
   "outputs": [
    {
     "data": {
      "text/plain": [
       "Sameera Sherief        10126\n",
       "Delhi Kumar             7834\n",
       "Subhalekha Sudhakar     7146\n",
       "Neha Gowda              6213\n",
       "Sudha Chandran          5878\n",
       "                       ...  \n",
       "Rich Parkerson             1\n",
       "Mark Cainen                1\n",
       "Raisa Kröger               1\n",
       "Jens Glade                 1\n",
       "Andreas Demmel             1\n",
       "Name: primaryName, Length: 1952519, dtype: int64"
      ]
     },
     "execution_count": 36,
     "metadata": {},
     "output_type": "execute_result"
    }
   ],
   "source": [
    "#premier apperçu des acteurs les plus présents toutes catégories confondues\n",
    "list_actors['primaryName'].value_counts()"
   ]
  },
  {
   "cell_type": "code",
   "execution_count": 37,
   "metadata": {},
   "outputs": [],
   "source": [
    "movie_genre_df = pd.read_csv(\"https://datasets.imdbws.com/title.basics.tsv.gz\", sep=\"\\t\",low_memory=False,usecols=['tconst', 'startYear','titleType', 'isAdult', 'runtimeMinutes','genres'])[['tconst','startYear', 'titleType', 'isAdult', 'runtimeMinutes','genres']]"
   ]
  },
  {
   "cell_type": "code",
   "execution_count": 38,
   "metadata": {},
   "outputs": [],
   "source": [
    "#jointure pour récupérer le type d'oeuvre\n",
    "actors_titleType = pd.merge(list_actors,movie_genre_df,how='inner')"
   ]
  },
  {
   "cell_type": "code",
   "execution_count": 39,
   "metadata": {},
   "outputs": [],
   "source": [
    "actors_titleType_no_adult = actors_titleType[actors_titleType['isAdult']=='0']"
   ]
  },
  {
   "cell_type": "code",
   "execution_count": 40,
   "metadata": {},
   "outputs": [
    {
     "data": {
      "text/html": [
       "<div>\n",
       "<style scoped>\n",
       "    .dataframe tbody tr th:only-of-type {\n",
       "        vertical-align: middle;\n",
       "    }\n",
       "\n",
       "    .dataframe tbody tr th {\n",
       "        vertical-align: top;\n",
       "    }\n",
       "\n",
       "    .dataframe thead th {\n",
       "        text-align: right;\n",
       "    }\n",
       "</style>\n",
       "<table border=\"1\" class=\"dataframe\">\n",
       "  <thead>\n",
       "    <tr style=\"text-align: right;\">\n",
       "      <th></th>\n",
       "      <th>tconst</th>\n",
       "      <th>ordering</th>\n",
       "      <th>nconst</th>\n",
       "      <th>category</th>\n",
       "      <th>job</th>\n",
       "      <th>characters</th>\n",
       "      <th>primaryName</th>\n",
       "      <th>birthYear</th>\n",
       "      <th>deathYear</th>\n",
       "      <th>primaryProfession</th>\n",
       "      <th>knownForTitles</th>\n",
       "      <th>startYear</th>\n",
       "      <th>titleType</th>\n",
       "      <th>isAdult</th>\n",
       "      <th>runtimeMinutes</th>\n",
       "      <th>genres</th>\n",
       "    </tr>\n",
       "  </thead>\n",
       "  <tbody>\n",
       "    <tr>\n",
       "      <th>0</th>\n",
       "      <td>tt0000005</td>\n",
       "      <td>1</td>\n",
       "      <td>nm0443482</td>\n",
       "      <td>actor</td>\n",
       "      <td>\\N</td>\n",
       "      <td>[\"Blacksmith\"]</td>\n",
       "      <td>Charles Kayser</td>\n",
       "      <td>1878</td>\n",
       "      <td>1966</td>\n",
       "      <td>actor</td>\n",
       "      <td>tt0000005</td>\n",
       "      <td>1893</td>\n",
       "      <td>short</td>\n",
       "      <td>0</td>\n",
       "      <td>1</td>\n",
       "      <td>Comedy,Short</td>\n",
       "    </tr>\n",
       "    <tr>\n",
       "      <th>1</th>\n",
       "      <td>tt0000005</td>\n",
       "      <td>2</td>\n",
       "      <td>nm0653042</td>\n",
       "      <td>actor</td>\n",
       "      <td>\\N</td>\n",
       "      <td>[\"Assistant\"]</td>\n",
       "      <td>John Ott</td>\n",
       "      <td>1850</td>\n",
       "      <td>1931</td>\n",
       "      <td>actor</td>\n",
       "      <td>tt0000005</td>\n",
       "      <td>1893</td>\n",
       "      <td>short</td>\n",
       "      <td>0</td>\n",
       "      <td>1</td>\n",
       "      <td>Comedy,Short</td>\n",
       "    </tr>\n",
       "    <tr>\n",
       "      <th>2</th>\n",
       "      <td>tt0000007</td>\n",
       "      <td>1</td>\n",
       "      <td>nm0179163</td>\n",
       "      <td>actor</td>\n",
       "      <td>\\N</td>\n",
       "      <td>\\N</td>\n",
       "      <td>James J. Corbett</td>\n",
       "      <td>1866</td>\n",
       "      <td>1933</td>\n",
       "      <td>actor,writer</td>\n",
       "      <td>tt0034778,tt0163131,tt0003730,tt0003116</td>\n",
       "      <td>1894</td>\n",
       "      <td>short</td>\n",
       "      <td>0</td>\n",
       "      <td>1</td>\n",
       "      <td>Short,Sport</td>\n",
       "    </tr>\n",
       "    <tr>\n",
       "      <th>3</th>\n",
       "      <td>tt0000007</td>\n",
       "      <td>2</td>\n",
       "      <td>nm0183947</td>\n",
       "      <td>actor</td>\n",
       "      <td>\\N</td>\n",
       "      <td>\\N</td>\n",
       "      <td>Peter Courtney</td>\n",
       "      <td>1867</td>\n",
       "      <td>1896</td>\n",
       "      <td>actor</td>\n",
       "      <td>tt0000007</td>\n",
       "      <td>1894</td>\n",
       "      <td>short</td>\n",
       "      <td>0</td>\n",
       "      <td>1</td>\n",
       "      <td>Short,Sport</td>\n",
       "    </tr>\n",
       "    <tr>\n",
       "      <th>4</th>\n",
       "      <td>tt0003116</td>\n",
       "      <td>1</td>\n",
       "      <td>nm0179163</td>\n",
       "      <td>actor</td>\n",
       "      <td>\\N</td>\n",
       "      <td>[\"Gentleman Jim\"]</td>\n",
       "      <td>James J. Corbett</td>\n",
       "      <td>1866</td>\n",
       "      <td>1933</td>\n",
       "      <td>actor,writer</td>\n",
       "      <td>tt0034778,tt0163131,tt0003730,tt0003116</td>\n",
       "      <td>1913</td>\n",
       "      <td>movie</td>\n",
       "      <td>0</td>\n",
       "      <td>\\N</td>\n",
       "      <td>Western</td>\n",
       "    </tr>\n",
       "    <tr>\n",
       "      <th>...</th>\n",
       "      <td>...</td>\n",
       "      <td>...</td>\n",
       "      <td>...</td>\n",
       "      <td>...</td>\n",
       "      <td>...</td>\n",
       "      <td>...</td>\n",
       "      <td>...</td>\n",
       "      <td>...</td>\n",
       "      <td>...</td>\n",
       "      <td>...</td>\n",
       "      <td>...</td>\n",
       "      <td>...</td>\n",
       "      <td>...</td>\n",
       "      <td>...</td>\n",
       "      <td>...</td>\n",
       "      <td>...</td>\n",
       "    </tr>\n",
       "    <tr>\n",
       "      <th>18858819</th>\n",
       "      <td>tt9916186</td>\n",
       "      <td>1</td>\n",
       "      <td>nm10538350</td>\n",
       "      <td>actor</td>\n",
       "      <td>\\N</td>\n",
       "      <td>[\"Sprecher\"]</td>\n",
       "      <td>David Nathan</td>\n",
       "      <td>\\N</td>\n",
       "      <td>\\N</td>\n",
       "      <td>NaN</td>\n",
       "      <td>\\N</td>\n",
       "      <td>2017</td>\n",
       "      <td>movie</td>\n",
       "      <td>0</td>\n",
       "      <td>84</td>\n",
       "      <td>Documentary</td>\n",
       "    </tr>\n",
       "    <tr>\n",
       "      <th>18858820</th>\n",
       "      <td>tt9916186</td>\n",
       "      <td>2</td>\n",
       "      <td>nm4447226</td>\n",
       "      <td>actor</td>\n",
       "      <td>\\N</td>\n",
       "      <td>\\N</td>\n",
       "      <td>Helmut Schiffner</td>\n",
       "      <td>\\N</td>\n",
       "      <td>\\N</td>\n",
       "      <td>NaN</td>\n",
       "      <td>tt1922855</td>\n",
       "      <td>2017</td>\n",
       "      <td>movie</td>\n",
       "      <td>0</td>\n",
       "      <td>84</td>\n",
       "      <td>Documentary</td>\n",
       "    </tr>\n",
       "    <tr>\n",
       "      <th>18858821</th>\n",
       "      <td>tt9916186</td>\n",
       "      <td>3</td>\n",
       "      <td>nm10538349</td>\n",
       "      <td>actor</td>\n",
       "      <td>\\N</td>\n",
       "      <td>\\N</td>\n",
       "      <td>Andree Steinke</td>\n",
       "      <td>\\N</td>\n",
       "      <td>\\N</td>\n",
       "      <td>NaN</td>\n",
       "      <td>tt9916186</td>\n",
       "      <td>2017</td>\n",
       "      <td>movie</td>\n",
       "      <td>0</td>\n",
       "      <td>84</td>\n",
       "      <td>Documentary</td>\n",
       "    </tr>\n",
       "    <tr>\n",
       "      <th>18858822</th>\n",
       "      <td>tt9916666</td>\n",
       "      <td>1</td>\n",
       "      <td>nm10546178</td>\n",
       "      <td>actor</td>\n",
       "      <td>\\N</td>\n",
       "      <td>[\"Deepak Singh\"]</td>\n",
       "      <td>J.K. Singh Chauhan</td>\n",
       "      <td>\\N</td>\n",
       "      <td>\\N</td>\n",
       "      <td>NaN</td>\n",
       "      <td>\\N</td>\n",
       "      <td>2019</td>\n",
       "      <td>short</td>\n",
       "      <td>0</td>\n",
       "      <td>\\N</td>\n",
       "      <td>Short</td>\n",
       "    </tr>\n",
       "    <tr>\n",
       "      <th>18858823</th>\n",
       "      <td>tt9916666</td>\n",
       "      <td>2</td>\n",
       "      <td>nm10534535</td>\n",
       "      <td>actor</td>\n",
       "      <td>\\N</td>\n",
       "      <td>\\N</td>\n",
       "      <td>Nandan Mishra</td>\n",
       "      <td>\\N</td>\n",
       "      <td>\\N</td>\n",
       "      <td>actor</td>\n",
       "      <td>\\N</td>\n",
       "      <td>2019</td>\n",
       "      <td>short</td>\n",
       "      <td>0</td>\n",
       "      <td>\\N</td>\n",
       "      <td>Short</td>\n",
       "    </tr>\n",
       "  </tbody>\n",
       "</table>\n",
       "<p>17997223 rows × 16 columns</p>\n",
       "</div>"
      ],
      "text/plain": [
       "             tconst  ordering      nconst category job         characters  \\\n",
       "0         tt0000005         1   nm0443482    actor  \\N     [\"Blacksmith\"]   \n",
       "1         tt0000005         2   nm0653042    actor  \\N      [\"Assistant\"]   \n",
       "2         tt0000007         1   nm0179163    actor  \\N                 \\N   \n",
       "3         tt0000007         2   nm0183947    actor  \\N                 \\N   \n",
       "4         tt0003116         1   nm0179163    actor  \\N  [\"Gentleman Jim\"]   \n",
       "...             ...       ...         ...      ...  ..                ...   \n",
       "18858819  tt9916186         1  nm10538350    actor  \\N       [\"Sprecher\"]   \n",
       "18858820  tt9916186         2   nm4447226    actor  \\N                 \\N   \n",
       "18858821  tt9916186         3  nm10538349    actor  \\N                 \\N   \n",
       "18858822  tt9916666         1  nm10546178    actor  \\N   [\"Deepak Singh\"]   \n",
       "18858823  tt9916666         2  nm10534535    actor  \\N                 \\N   \n",
       "\n",
       "                 primaryName birthYear deathYear primaryProfession  \\\n",
       "0             Charles Kayser      1878      1966             actor   \n",
       "1                   John Ott      1850      1931             actor   \n",
       "2           James J. Corbett      1866      1933      actor,writer   \n",
       "3             Peter Courtney      1867      1896             actor   \n",
       "4           James J. Corbett      1866      1933      actor,writer   \n",
       "...                      ...       ...       ...               ...   \n",
       "18858819        David Nathan        \\N        \\N               NaN   \n",
       "18858820    Helmut Schiffner        \\N        \\N               NaN   \n",
       "18858821      Andree Steinke        \\N        \\N               NaN   \n",
       "18858822  J.K. Singh Chauhan        \\N        \\N               NaN   \n",
       "18858823       Nandan Mishra        \\N        \\N             actor   \n",
       "\n",
       "                                   knownForTitles startYear titleType isAdult  \\\n",
       "0                                       tt0000005      1893     short       0   \n",
       "1                                       tt0000005      1893     short       0   \n",
       "2         tt0034778,tt0163131,tt0003730,tt0003116      1894     short       0   \n",
       "3                                       tt0000007      1894     short       0   \n",
       "4         tt0034778,tt0163131,tt0003730,tt0003116      1913     movie       0   \n",
       "...                                           ...       ...       ...     ...   \n",
       "18858819                                       \\N      2017     movie       0   \n",
       "18858820                                tt1922855      2017     movie       0   \n",
       "18858821                                tt9916186      2017     movie       0   \n",
       "18858822                                       \\N      2019     short       0   \n",
       "18858823                                       \\N      2019     short       0   \n",
       "\n",
       "         runtimeMinutes        genres  \n",
       "0                     1  Comedy,Short  \n",
       "1                     1  Comedy,Short  \n",
       "2                     1   Short,Sport  \n",
       "3                     1   Short,Sport  \n",
       "4                    \\N       Western  \n",
       "...                 ...           ...  \n",
       "18858819             84   Documentary  \n",
       "18858820             84   Documentary  \n",
       "18858821             84   Documentary  \n",
       "18858822             \\N         Short  \n",
       "18858823             \\N         Short  \n",
       "\n",
       "[17997223 rows x 16 columns]"
      ]
     },
     "execution_count": 40,
     "metadata": {},
     "output_type": "execute_result"
    }
   ],
   "source": [
    "actors_titleType_no_adult"
   ]
  },
  {
   "cell_type": "code",
   "execution_count": 41,
   "metadata": {},
   "outputs": [],
   "source": [
    "#filtre pour ne garder que les films\n",
    "actors_movies = actors_titleType_no_adult[(actors_titleType_no_adult['titleType']=='movie')]"
   ]
  },
  {
   "cell_type": "code",
   "execution_count": 42,
   "metadata": {},
   "outputs": [],
   "source": [
    "actors_movies_nan = actors_movies.replace('\\\\N', pd.NaT)\n",
    "actors_movies_filtre = actors_movies_nan[['primaryName','runtimeMinutes','startYear']]"
   ]
  },
  {
   "cell_type": "code",
   "execution_count": 43,
   "metadata": {},
   "outputs": [],
   "source": [
    "#nettoyage du data frame\n",
    "\n",
    "actors_movies_clean = actors_movies_filtre.dropna()\n",
    "actors_movies_clean = actors_movies_clean.astype({'startYear': int})\n",
    "actors_movies_clean = actors_movies_clean.astype({'runtimeMinutes': int})\n",
    "actors_movies_clean = actors_movies_clean[(actors_movies_clean['runtimeMinutes']>=58)&(actors_movies_clean['runtimeMinutes']<=270)]"
   ]
  },
  {
   "cell_type": "code",
   "execution_count": 44,
   "metadata": {},
   "outputs": [],
   "source": [
    "#filtre pour ne garder que les films d'après 1920\n",
    "actors_movies_year = actors_movies_clean.loc[actors_movies_clean['startYear']>=1920]"
   ]
  },
  {
   "cell_type": "code",
   "execution_count": 45,
   "metadata": {},
   "outputs": [],
   "source": [
    "actors_movies_year_final =  actors_movies_year[['primaryName', 'startYear']]"
   ]
  },
  {
   "cell_type": "code",
   "execution_count": 46,
   "metadata": {},
   "outputs": [
    {
     "data": {
      "text/plain": [
       "(1155064, 2)"
      ]
     },
     "execution_count": 46,
     "metadata": {},
     "output_type": "execute_result"
    }
   ],
   "source": [
    "actors_movies_year_final.shape"
   ]
  },
  {
   "cell_type": "code",
   "execution_count": 47,
   "metadata": {},
   "outputs": [],
   "source": [
    "# actors_movies_year_final.to_csv('../data/actors_movies_year.csv')"
   ]
  },
  {
   "cell_type": "code",
   "execution_count": 48,
   "metadata": {},
   "outputs": [],
   "source": [
    "#récupération pour chaque décénie des 5 acteurs de film les plus présent + les 5 acteurs de film les plus présent globalement\n",
    "depart = 1920\n",
    "fin = 1929\n",
    "subplot = []\n",
    "for i in range(11):\n",
    "    actors_movies_decade = actors_movies_year[(actors_movies_year['startYear']>=depart)&(actors_movies_year['startYear']<=fin)]\n",
    "    temp = actors_movies_decade['primaryName'].value_counts()[:5].rename_axis('name').reset_index(name='count')\n",
    "    subplot.append(temp)\n",
    "    depart+=10\n",
    "    fin+=10\n",
    "globa = actors_movies_year['primaryName'].value_counts()[:5].rename_axis('name').reset_index(name='count')"
   ]
  },
  {
   "cell_type": "code",
   "execution_count": 49,
   "metadata": {},
   "outputs": [
    {
     "data": {
      "application/vnd.plotly.v1+json": {
       "config": {
        "plotlyServerURL": "https://plot.ly"
       },
       "data": [
        {
         "marker": {
          "color": [
           "#636EFA",
           "#EF553B",
           "#00CC96",
           "#AB63FA",
           "#FFA15A",
           "#19D3F3",
           "#FF6692",
           "#B6E880",
           "#FF97FF",
           "#FECB52"
          ]
         },
         "type": "bar",
         "x": [
          "Noah Beery",
          "Patsy Ruth Miller",
          "Conrad Nagel",
          "Lewis Stone",
          "Louise Fazenda"
         ],
         "xaxis": "x",
         "y": [
          55,
          52,
          52,
          50,
          48
         ],
         "yaxis": "y"
        },
        {
         "marker": {
          "color": [
           "#636EFA",
           "#EF553B",
           "#00CC96",
           "#AB63FA",
           "#FFA15A",
           "#19D3F3",
           "#FF6692",
           "#B6E880",
           "#FF97FF",
           "#FECB52"
          ]
         },
         "type": "bar",
         "x": [
          "Paul Hörbiger",
          "Loretta Young",
          "Zasu Pitts",
          "Lewis Stone",
          "Edward Everett Horton"
         ],
         "xaxis": "x2",
         "y": [
          58,
          54,
          54,
          54,
          53
         ],
         "yaxis": "y2"
        },
        {
         "marker": {
          "color": [
           "#636EFA",
           "#EF553B",
           "#00CC96",
           "#AB63FA",
           "#FFA15A",
           "#19D3F3",
           "#FF6692",
           "#B6E880",
           "#FF97FF",
           "#FECB52"
          ]
         },
         "type": "bar",
         "x": [
          "Roy Rogers",
          "Huntz Hall",
          "Setsuko Hara",
          "Al St. John",
          "Leo Gorcey"
         ],
         "xaxis": "x3",
         "y": [
          54,
          42,
          41,
          41,
          41
         ],
         "yaxis": "y3"
        },
        {
         "marker": {
          "color": [
           "#636EFA",
           "#EF553B",
           "#00CC96",
           "#AB63FA",
           "#FFA15A",
           "#19D3F3",
           "#FF6692",
           "#B6E880",
           "#FF97FF",
           "#FECB52"
          ]
         },
         "type": "bar",
         "x": [
          "Jun Tazaki",
          "Hisaya Morishige",
          "Kanjûrô Arashi",
          "Raizô Ichikawa",
          "Luis Aguilar"
         ],
         "xaxis": "x4",
         "y": [
          59,
          59,
          53,
          53,
          51
         ],
         "yaxis": "y4"
        },
        {
         "marker": {
          "color": [
           "#636EFA",
           "#EF553B",
           "#00CC96",
           "#AB63FA",
           "#FFA15A",
           "#19D3F3",
           "#FF6692",
           "#B6E880",
           "#FF97FF",
           "#FECB52"
          ]
         },
         "type": "bar",
         "x": [
          "Sung-il Shin",
          "Nagesh",
          "Lavrentis Dianellos",
          "Raizô Ichikawa",
          "Shintarô Katsu"
         ],
         "xaxis": "x5",
         "y": [
          103,
          91,
          88,
          82,
          80
         ],
         "yaxis": "y5"
        },
        {
         "marker": {
          "color": [
           "#636EFA",
           "#EF553B",
           "#00CC96",
           "#AB63FA",
           "#FFA15A",
           "#19D3F3",
           "#FF6692",
           "#B6E880",
           "#FF97FF",
           "#FECB52"
          ]
         },
         "type": "bar",
         "x": [
          "Masayoshi Nogami",
          "Yuriko Azuma",
          "Yuri Izumi",
          "Sung-il Shin",
          "Shinji Kubo"
         ],
         "xaxis": "x6",
         "y": [
          187,
          157,
          152,
          117,
          115
         ],
         "yaxis": "y6"
        },
        {
         "marker": {
          "color": [
           "#636EFA",
           "#EF553B",
           "#00CC96",
           "#AB63FA",
           "#FFA15A",
           "#19D3F3",
           "#FF6692",
           "#B6E880",
           "#FF97FF",
           "#FECB52"
          ]
         },
         "type": "bar",
         "x": [
          "Kayoko Sugi",
          "Mohanlal",
          "Shirô Shimomoto",
          "Mammootty",
          "Mayumi Sanjô"
         ],
         "xaxis": "x7",
         "y": [
          113,
          106,
          103,
          98,
          87
         ],
         "yaxis": "y7"
        },
        {
         "marker": {
          "color": [
           "#636EFA",
           "#EF553B",
           "#00CC96",
           "#AB63FA",
           "#FFA15A",
           "#19D3F3",
           "#FF6692",
           "#B6E880",
           "#FF97FF",
           "#FECB52"
          ]
         },
         "type": "bar",
         "x": [
          "Makoto Sugimoto",
          "Brahmanandam",
          "Kinichi Kusumi",
          "Yumika Hayashi",
          "Yumi Yoshiyuki"
         ],
         "xaxis": "x8",
         "y": [
          162,
          111,
          94,
          87,
          77
         ],
         "yaxis": "y8"
        },
        {
         "marker": {
          "color": [
           "#636EFA",
           "#EF553B",
           "#00CC96",
           "#AB63FA",
           "#FFA15A",
           "#19D3F3",
           "#FF6692",
           "#B6E880",
           "#FF97FF",
           "#FECB52"
          ]
         },
         "type": "bar",
         "x": [
          "Seiji Nakamitsu",
          "Brahmanandam",
          "Kyôko Kazama",
          "Prakash Raj",
          "Mohammad Ali"
         ],
         "xaxis": "x9",
         "y": [
          135,
          98,
          81,
          72,
          66
         ],
         "yaxis": "y9"
        },
        {
         "marker": {
          "color": [
           "#636EFA",
           "#EF553B",
           "#00CC96",
           "#AB63FA",
           "#FFA15A",
           "#19D3F3",
           "#FF6692",
           "#B6E880",
           "#FF97FF",
           "#FECB52"
          ]
         },
         "type": "bar",
         "x": [
          "Eric Roberts",
          "Prakash Raj",
          "Brahmanandam",
          "Tom Sizemore",
          "Sadhu Kokila"
         ],
         "xaxis": "x10",
         "y": [
          126,
          77,
          71,
          67,
          66
         ],
         "yaxis": "y10"
        },
        {
         "marker": {
          "color": [
           "#636EFA",
           "#EF553B",
           "#00CC96",
           "#AB63FA",
           "#FFA15A",
           "#19D3F3",
           "#FF6692",
           "#B6E880",
           "#FF97FF",
           "#FECB52"
          ]
         },
         "type": "bar",
         "x": [
          "Simon Hill",
          "Kelsey Painter",
          "Eric Roberts",
          "Yogi Babu",
          "Shawn C. Phillips"
         ],
         "xaxis": "x11",
         "y": [
          34,
          30,
          29,
          17,
          15
         ],
         "yaxis": "y11"
        },
        {
         "marker": {
          "color": [
           "#636EFA",
           "#EF553B",
           "#00CC96",
           "#AB63FA",
           "#FFA15A",
           "#19D3F3",
           "#FF6692",
           "#B6E880",
           "#FF97FF",
           "#FECB52"
          ]
         },
         "type": "bar",
         "x": [
          "Masayoshi Nogami",
          "Brahmanandam",
          "Sung-il Shin",
          "Mohanlal",
          "Mammootty"
         ],
         "xaxis": "x12",
         "y": [
          365,
          302,
          257,
          241,
          228
         ],
         "yaxis": "y12"
        }
       ],
       "layout": {
        "annotations": [
         {
          "font": {
           "size": 16
          },
          "showarrow": false,
          "text": "1920-1929",
          "x": 0.14444444444444446,
          "xanchor": "center",
          "xref": "paper",
          "y": 1,
          "yanchor": "bottom",
          "yref": "paper"
         },
         {
          "font": {
           "size": 16
          },
          "showarrow": false,
          "text": "1930-1939",
          "x": 0.5,
          "xanchor": "center",
          "xref": "paper",
          "y": 1,
          "yanchor": "bottom",
          "yref": "paper"
         },
         {
          "font": {
           "size": 16
          },
          "showarrow": false,
          "text": "1940-1949",
          "x": 0.8555555555555556,
          "xanchor": "center",
          "xref": "paper",
          "y": 1,
          "yanchor": "bottom",
          "yref": "paper"
         },
         {
          "font": {
           "size": 16
          },
          "showarrow": false,
          "text": "1950-1959",
          "x": 0.14444444444444446,
          "xanchor": "center",
          "xref": "paper",
          "y": 0.71875,
          "yanchor": "bottom",
          "yref": "paper"
         },
         {
          "font": {
           "size": 16
          },
          "showarrow": false,
          "text": "1960-1969",
          "x": 0.5,
          "xanchor": "center",
          "xref": "paper",
          "y": 0.71875,
          "yanchor": "bottom",
          "yref": "paper"
         },
         {
          "font": {
           "size": 16
          },
          "showarrow": false,
          "text": "1970-1979",
          "x": 0.8555555555555556,
          "xanchor": "center",
          "xref": "paper",
          "y": 0.71875,
          "yanchor": "bottom",
          "yref": "paper"
         },
         {
          "font": {
           "size": 16
          },
          "showarrow": false,
          "text": "1980-1989",
          "x": 0.14444444444444446,
          "xanchor": "center",
          "xref": "paper",
          "y": 0.4375,
          "yanchor": "bottom",
          "yref": "paper"
         },
         {
          "font": {
           "size": 16
          },
          "showarrow": false,
          "text": "1990-1999",
          "x": 0.5,
          "xanchor": "center",
          "xref": "paper",
          "y": 0.4375,
          "yanchor": "bottom",
          "yref": "paper"
         },
         {
          "font": {
           "size": 16
          },
          "showarrow": false,
          "text": "2000-2009",
          "x": 0.8555555555555556,
          "xanchor": "center",
          "xref": "paper",
          "y": 0.4375,
          "yanchor": "bottom",
          "yref": "paper"
         },
         {
          "font": {
           "size": 16
          },
          "showarrow": false,
          "text": "2010-2019",
          "x": 0.14444444444444446,
          "xanchor": "center",
          "xref": "paper",
          "y": 0.15625,
          "yanchor": "bottom",
          "yref": "paper"
         },
         {
          "font": {
           "size": 16
          },
          "showarrow": false,
          "text": "2020-2029",
          "x": 0.5,
          "xanchor": "center",
          "xref": "paper",
          "y": 0.15625,
          "yanchor": "bottom",
          "yref": "paper"
         },
         {
          "font": {
           "size": 16
          },
          "showarrow": false,
          "text": "toutes périodes confondues",
          "x": 0.8555555555555556,
          "xanchor": "center",
          "xref": "paper",
          "y": 0.15625,
          "yanchor": "bottom",
          "yref": "paper"
         }
        ],
        "height": 1250,
        "showlegend": false,
        "template": {
         "data": {
          "bar": [
           {
            "error_x": {
             "color": "#f2f5fa"
            },
            "error_y": {
             "color": "#f2f5fa"
            },
            "marker": {
             "line": {
              "color": "rgb(17,17,17)",
              "width": 0.5
             },
             "pattern": {
              "fillmode": "overlay",
              "size": 10,
              "solidity": 0.2
             }
            },
            "type": "bar"
           }
          ],
          "barpolar": [
           {
            "marker": {
             "line": {
              "color": "rgb(17,17,17)",
              "width": 0.5
             },
             "pattern": {
              "fillmode": "overlay",
              "size": 10,
              "solidity": 0.2
             }
            },
            "type": "barpolar"
           }
          ],
          "carpet": [
           {
            "aaxis": {
             "endlinecolor": "#A2B1C6",
             "gridcolor": "#506784",
             "linecolor": "#506784",
             "minorgridcolor": "#506784",
             "startlinecolor": "#A2B1C6"
            },
            "baxis": {
             "endlinecolor": "#A2B1C6",
             "gridcolor": "#506784",
             "linecolor": "#506784",
             "minorgridcolor": "#506784",
             "startlinecolor": "#A2B1C6"
            },
            "type": "carpet"
           }
          ],
          "choropleth": [
           {
            "colorbar": {
             "outlinewidth": 0,
             "ticks": ""
            },
            "type": "choropleth"
           }
          ],
          "contour": [
           {
            "colorbar": {
             "outlinewidth": 0,
             "ticks": ""
            },
            "colorscale": [
             [
              0,
              "#0d0887"
             ],
             [
              0.1111111111111111,
              "#46039f"
             ],
             [
              0.2222222222222222,
              "#7201a8"
             ],
             [
              0.3333333333333333,
              "#9c179e"
             ],
             [
              0.4444444444444444,
              "#bd3786"
             ],
             [
              0.5555555555555556,
              "#d8576b"
             ],
             [
              0.6666666666666666,
              "#ed7953"
             ],
             [
              0.7777777777777778,
              "#fb9f3a"
             ],
             [
              0.8888888888888888,
              "#fdca26"
             ],
             [
              1,
              "#f0f921"
             ]
            ],
            "type": "contour"
           }
          ],
          "contourcarpet": [
           {
            "colorbar": {
             "outlinewidth": 0,
             "ticks": ""
            },
            "type": "contourcarpet"
           }
          ],
          "heatmap": [
           {
            "colorbar": {
             "outlinewidth": 0,
             "ticks": ""
            },
            "colorscale": [
             [
              0,
              "#0d0887"
             ],
             [
              0.1111111111111111,
              "#46039f"
             ],
             [
              0.2222222222222222,
              "#7201a8"
             ],
             [
              0.3333333333333333,
              "#9c179e"
             ],
             [
              0.4444444444444444,
              "#bd3786"
             ],
             [
              0.5555555555555556,
              "#d8576b"
             ],
             [
              0.6666666666666666,
              "#ed7953"
             ],
             [
              0.7777777777777778,
              "#fb9f3a"
             ],
             [
              0.8888888888888888,
              "#fdca26"
             ],
             [
              1,
              "#f0f921"
             ]
            ],
            "type": "heatmap"
           }
          ],
          "heatmapgl": [
           {
            "colorbar": {
             "outlinewidth": 0,
             "ticks": ""
            },
            "colorscale": [
             [
              0,
              "#0d0887"
             ],
             [
              0.1111111111111111,
              "#46039f"
             ],
             [
              0.2222222222222222,
              "#7201a8"
             ],
             [
              0.3333333333333333,
              "#9c179e"
             ],
             [
              0.4444444444444444,
              "#bd3786"
             ],
             [
              0.5555555555555556,
              "#d8576b"
             ],
             [
              0.6666666666666666,
              "#ed7953"
             ],
             [
              0.7777777777777778,
              "#fb9f3a"
             ],
             [
              0.8888888888888888,
              "#fdca26"
             ],
             [
              1,
              "#f0f921"
             ]
            ],
            "type": "heatmapgl"
           }
          ],
          "histogram": [
           {
            "marker": {
             "pattern": {
              "fillmode": "overlay",
              "size": 10,
              "solidity": 0.2
             }
            },
            "type": "histogram"
           }
          ],
          "histogram2d": [
           {
            "colorbar": {
             "outlinewidth": 0,
             "ticks": ""
            },
            "colorscale": [
             [
              0,
              "#0d0887"
             ],
             [
              0.1111111111111111,
              "#46039f"
             ],
             [
              0.2222222222222222,
              "#7201a8"
             ],
             [
              0.3333333333333333,
              "#9c179e"
             ],
             [
              0.4444444444444444,
              "#bd3786"
             ],
             [
              0.5555555555555556,
              "#d8576b"
             ],
             [
              0.6666666666666666,
              "#ed7953"
             ],
             [
              0.7777777777777778,
              "#fb9f3a"
             ],
             [
              0.8888888888888888,
              "#fdca26"
             ],
             [
              1,
              "#f0f921"
             ]
            ],
            "type": "histogram2d"
           }
          ],
          "histogram2dcontour": [
           {
            "colorbar": {
             "outlinewidth": 0,
             "ticks": ""
            },
            "colorscale": [
             [
              0,
              "#0d0887"
             ],
             [
              0.1111111111111111,
              "#46039f"
             ],
             [
              0.2222222222222222,
              "#7201a8"
             ],
             [
              0.3333333333333333,
              "#9c179e"
             ],
             [
              0.4444444444444444,
              "#bd3786"
             ],
             [
              0.5555555555555556,
              "#d8576b"
             ],
             [
              0.6666666666666666,
              "#ed7953"
             ],
             [
              0.7777777777777778,
              "#fb9f3a"
             ],
             [
              0.8888888888888888,
              "#fdca26"
             ],
             [
              1,
              "#f0f921"
             ]
            ],
            "type": "histogram2dcontour"
           }
          ],
          "mesh3d": [
           {
            "colorbar": {
             "outlinewidth": 0,
             "ticks": ""
            },
            "type": "mesh3d"
           }
          ],
          "parcoords": [
           {
            "line": {
             "colorbar": {
              "outlinewidth": 0,
              "ticks": ""
             }
            },
            "type": "parcoords"
           }
          ],
          "pie": [
           {
            "automargin": true,
            "type": "pie"
           }
          ],
          "scatter": [
           {
            "marker": {
             "line": {
              "color": "#283442"
             }
            },
            "type": "scatter"
           }
          ],
          "scatter3d": [
           {
            "line": {
             "colorbar": {
              "outlinewidth": 0,
              "ticks": ""
             }
            },
            "marker": {
             "colorbar": {
              "outlinewidth": 0,
              "ticks": ""
             }
            },
            "type": "scatter3d"
           }
          ],
          "scattercarpet": [
           {
            "marker": {
             "colorbar": {
              "outlinewidth": 0,
              "ticks": ""
             }
            },
            "type": "scattercarpet"
           }
          ],
          "scattergeo": [
           {
            "marker": {
             "colorbar": {
              "outlinewidth": 0,
              "ticks": ""
             }
            },
            "type": "scattergeo"
           }
          ],
          "scattergl": [
           {
            "marker": {
             "line": {
              "color": "#283442"
             }
            },
            "type": "scattergl"
           }
          ],
          "scattermapbox": [
           {
            "marker": {
             "colorbar": {
              "outlinewidth": 0,
              "ticks": ""
             }
            },
            "type": "scattermapbox"
           }
          ],
          "scatterpolar": [
           {
            "marker": {
             "colorbar": {
              "outlinewidth": 0,
              "ticks": ""
             }
            },
            "type": "scatterpolar"
           }
          ],
          "scatterpolargl": [
           {
            "marker": {
             "colorbar": {
              "outlinewidth": 0,
              "ticks": ""
             }
            },
            "type": "scatterpolargl"
           }
          ],
          "scatterternary": [
           {
            "marker": {
             "colorbar": {
              "outlinewidth": 0,
              "ticks": ""
             }
            },
            "type": "scatterternary"
           }
          ],
          "surface": [
           {
            "colorbar": {
             "outlinewidth": 0,
             "ticks": ""
            },
            "colorscale": [
             [
              0,
              "#0d0887"
             ],
             [
              0.1111111111111111,
              "#46039f"
             ],
             [
              0.2222222222222222,
              "#7201a8"
             ],
             [
              0.3333333333333333,
              "#9c179e"
             ],
             [
              0.4444444444444444,
              "#bd3786"
             ],
             [
              0.5555555555555556,
              "#d8576b"
             ],
             [
              0.6666666666666666,
              "#ed7953"
             ],
             [
              0.7777777777777778,
              "#fb9f3a"
             ],
             [
              0.8888888888888888,
              "#fdca26"
             ],
             [
              1,
              "#f0f921"
             ]
            ],
            "type": "surface"
           }
          ],
          "table": [
           {
            "cells": {
             "fill": {
              "color": "#506784"
             },
             "line": {
              "color": "rgb(17,17,17)"
             }
            },
            "header": {
             "fill": {
              "color": "#2a3f5f"
             },
             "line": {
              "color": "rgb(17,17,17)"
             }
            },
            "type": "table"
           }
          ]
         },
         "layout": {
          "annotationdefaults": {
           "arrowcolor": "#f2f5fa",
           "arrowhead": 0,
           "arrowwidth": 1
          },
          "autotypenumbers": "strict",
          "coloraxis": {
           "colorbar": {
            "outlinewidth": 0,
            "ticks": ""
           }
          },
          "colorscale": {
           "diverging": [
            [
             0,
             "#8e0152"
            ],
            [
             0.1,
             "#c51b7d"
            ],
            [
             0.2,
             "#de77ae"
            ],
            [
             0.3,
             "#f1b6da"
            ],
            [
             0.4,
             "#fde0ef"
            ],
            [
             0.5,
             "#f7f7f7"
            ],
            [
             0.6,
             "#e6f5d0"
            ],
            [
             0.7,
             "#b8e186"
            ],
            [
             0.8,
             "#7fbc41"
            ],
            [
             0.9,
             "#4d9221"
            ],
            [
             1,
             "#276419"
            ]
           ],
           "sequential": [
            [
             0,
             "#0d0887"
            ],
            [
             0.1111111111111111,
             "#46039f"
            ],
            [
             0.2222222222222222,
             "#7201a8"
            ],
            [
             0.3333333333333333,
             "#9c179e"
            ],
            [
             0.4444444444444444,
             "#bd3786"
            ],
            [
             0.5555555555555556,
             "#d8576b"
            ],
            [
             0.6666666666666666,
             "#ed7953"
            ],
            [
             0.7777777777777778,
             "#fb9f3a"
            ],
            [
             0.8888888888888888,
             "#fdca26"
            ],
            [
             1,
             "#f0f921"
            ]
           ],
           "sequentialminus": [
            [
             0,
             "#0d0887"
            ],
            [
             0.1111111111111111,
             "#46039f"
            ],
            [
             0.2222222222222222,
             "#7201a8"
            ],
            [
             0.3333333333333333,
             "#9c179e"
            ],
            [
             0.4444444444444444,
             "#bd3786"
            ],
            [
             0.5555555555555556,
             "#d8576b"
            ],
            [
             0.6666666666666666,
             "#ed7953"
            ],
            [
             0.7777777777777778,
             "#fb9f3a"
            ],
            [
             0.8888888888888888,
             "#fdca26"
            ],
            [
             1,
             "#f0f921"
            ]
           ]
          },
          "colorway": [
           "#636efa",
           "#EF553B",
           "#00cc96",
           "#ab63fa",
           "#FFA15A",
           "#19d3f3",
           "#FF6692",
           "#B6E880",
           "#FF97FF",
           "#FECB52"
          ],
          "font": {
           "color": "#f2f5fa"
          },
          "geo": {
           "bgcolor": "rgb(17,17,17)",
           "lakecolor": "rgb(17,17,17)",
           "landcolor": "rgb(17,17,17)",
           "showlakes": true,
           "showland": true,
           "subunitcolor": "#506784"
          },
          "hoverlabel": {
           "align": "left"
          },
          "hovermode": "closest",
          "mapbox": {
           "style": "dark"
          },
          "paper_bgcolor": "rgb(17,17,17)",
          "plot_bgcolor": "rgb(17,17,17)",
          "polar": {
           "angularaxis": {
            "gridcolor": "#506784",
            "linecolor": "#506784",
            "ticks": ""
           },
           "bgcolor": "rgb(17,17,17)",
           "radialaxis": {
            "gridcolor": "#506784",
            "linecolor": "#506784",
            "ticks": ""
           }
          },
          "scene": {
           "xaxis": {
            "backgroundcolor": "rgb(17,17,17)",
            "gridcolor": "#506784",
            "gridwidth": 2,
            "linecolor": "#506784",
            "showbackground": true,
            "ticks": "",
            "zerolinecolor": "#C8D4E3"
           },
           "yaxis": {
            "backgroundcolor": "rgb(17,17,17)",
            "gridcolor": "#506784",
            "gridwidth": 2,
            "linecolor": "#506784",
            "showbackground": true,
            "ticks": "",
            "zerolinecolor": "#C8D4E3"
           },
           "zaxis": {
            "backgroundcolor": "rgb(17,17,17)",
            "gridcolor": "#506784",
            "gridwidth": 2,
            "linecolor": "#506784",
            "showbackground": true,
            "ticks": "",
            "zerolinecolor": "#C8D4E3"
           }
          },
          "shapedefaults": {
           "line": {
            "color": "#f2f5fa"
           }
          },
          "sliderdefaults": {
           "bgcolor": "#C8D4E3",
           "bordercolor": "rgb(17,17,17)",
           "borderwidth": 1,
           "tickwidth": 0
          },
          "ternary": {
           "aaxis": {
            "gridcolor": "#506784",
            "linecolor": "#506784",
            "ticks": ""
           },
           "baxis": {
            "gridcolor": "#506784",
            "linecolor": "#506784",
            "ticks": ""
           },
           "bgcolor": "rgb(17,17,17)",
           "caxis": {
            "gridcolor": "#506784",
            "linecolor": "#506784",
            "ticks": ""
           }
          },
          "title": {
           "x": 0.05
          },
          "updatemenudefaults": {
           "bgcolor": "#506784",
           "borderwidth": 0
          },
          "xaxis": {
           "automargin": true,
           "gridcolor": "#283442",
           "linecolor": "#506784",
           "ticks": "",
           "title": {
            "standoff": 15
           },
           "zerolinecolor": "#283442",
           "zerolinewidth": 2
          },
          "yaxis": {
           "automargin": true,
           "gridcolor": "#283442",
           "linecolor": "#506784",
           "ticks": "",
           "title": {
            "standoff": 15
           },
           "zerolinecolor": "#283442",
           "zerolinewidth": 2
          }
         }
        },
        "title": {
         "text": "5 most present actors in movies per decade"
        },
        "width": 1000,
        "xaxis": {
         "anchor": "y",
         "domain": [
          0,
          0.2888888888888889
         ]
        },
        "xaxis10": {
         "anchor": "y10",
         "domain": [
          0,
          0.2888888888888889
         ]
        },
        "xaxis11": {
         "anchor": "y11",
         "domain": [
          0.35555555555555557,
          0.6444444444444445
         ]
        },
        "xaxis12": {
         "anchor": "y12",
         "domain": [
          0.7111111111111111,
          1
         ]
        },
        "xaxis2": {
         "anchor": "y2",
         "domain": [
          0.35555555555555557,
          0.6444444444444445
         ]
        },
        "xaxis3": {
         "anchor": "y3",
         "domain": [
          0.7111111111111111,
          1
         ]
        },
        "xaxis4": {
         "anchor": "y4",
         "domain": [
          0,
          0.2888888888888889
         ]
        },
        "xaxis5": {
         "anchor": "y5",
         "domain": [
          0.35555555555555557,
          0.6444444444444445
         ]
        },
        "xaxis6": {
         "anchor": "y6",
         "domain": [
          0.7111111111111111,
          1
         ]
        },
        "xaxis7": {
         "anchor": "y7",
         "domain": [
          0,
          0.2888888888888889
         ]
        },
        "xaxis8": {
         "anchor": "y8",
         "domain": [
          0.35555555555555557,
          0.6444444444444445
         ]
        },
        "xaxis9": {
         "anchor": "y9",
         "domain": [
          0.7111111111111111,
          1
         ]
        },
        "yaxis": {
         "anchor": "x",
         "domain": [
          0.84375,
          1
         ]
        },
        "yaxis10": {
         "anchor": "x10",
         "domain": [
          0,
          0.15625
         ]
        },
        "yaxis11": {
         "anchor": "x11",
         "domain": [
          0,
          0.15625
         ]
        },
        "yaxis12": {
         "anchor": "x12",
         "domain": [
          0,
          0.15625
         ]
        },
        "yaxis2": {
         "anchor": "x2",
         "domain": [
          0.84375,
          1
         ]
        },
        "yaxis3": {
         "anchor": "x3",
         "domain": [
          0.84375,
          1
         ]
        },
        "yaxis4": {
         "anchor": "x4",
         "domain": [
          0.5625,
          0.71875
         ]
        },
        "yaxis5": {
         "anchor": "x5",
         "domain": [
          0.5625,
          0.71875
         ]
        },
        "yaxis6": {
         "anchor": "x6",
         "domain": [
          0.5625,
          0.71875
         ]
        },
        "yaxis7": {
         "anchor": "x7",
         "domain": [
          0.28125,
          0.4375
         ]
        },
        "yaxis8": {
         "anchor": "x8",
         "domain": [
          0.28125,
          0.4375
         ]
        },
        "yaxis9": {
         "anchor": "x9",
         "domain": [
          0.28125,
          0.4375
         ]
        }
       }
      }
     },
     "metadata": {},
     "output_type": "display_data"
    }
   ],
   "source": [
    "#visualisation via des histogrammes des 5 acteurs de film les plus présents par décénie + des 5 acteur de film les plus présent globalement\n",
    "\"we wanted to know which actors appear in the most movies \"\n",
    "\"we filtered the category to actor and actress and the type to movies only\"\n",
    "\"We decided to only take into account the movies released during or after 1920, due to the lack of consistent data before this time\"\n",
    "\"we divided the Dataframe by decades to observe which actors appear in the most movies by decades\"\n",
    "\n",
    "fig = make_subplots(\n",
    "    rows=4, cols=3,\n",
    "    subplot_titles=('1920-1929', '1930-1939','1940-1949','1950-1959','1960-1969','1970-1979','1980-1989','1990-1999','2000-2009','2010-2019','2020-2029','toutes périodes confondues'),\n",
    "    )\n",
    "\n",
    "fig.append_trace(\n",
    "    go.Bar(x=subplot[0]['name'],\n",
    "    y=subplot[0]['count'],\n",
    "    marker_color=px.colors.qualitative.Plotly),\n",
    "    row=1, col=1\n",
    ")\n",
    "\n",
    "fig.append_trace(\n",
    "    go.Bar(x=subplot[1]['name'],\n",
    "    y=subplot[1]['count'],\n",
    "    marker_color=px.colors.qualitative.Plotly),\n",
    "    row=1, col=2\n",
    ")\n",
    "\n",
    "fig.append_trace(\n",
    "    go.Bar(x=subplot[2]['name'],\n",
    "    y=subplot[2]['count'],\n",
    "    marker_color=px.colors.qualitative.Plotly),\n",
    "    row=1, col=3\n",
    ")\n",
    "\n",
    "fig.append_trace(\n",
    "    go.Bar(x=subplot[3]['name'],\n",
    "    y=subplot[3]['count'],\n",
    "    marker_color=px.colors.qualitative.Plotly),\n",
    "    row=2, col=1\n",
    ")\n",
    "\n",
    "fig.append_trace(\n",
    "    go.Bar(x=subplot[4]['name'],\n",
    "    y=subplot[4]['count'],\n",
    "    marker_color=px.colors.qualitative.Plotly),\n",
    "    row=2, col=2\n",
    ")\n",
    "\n",
    "fig.append_trace(\n",
    "    go.Bar(x=subplot[5]['name'],\n",
    "    y=subplot[5]['count'],\n",
    "    marker_color=px.colors.qualitative.Plotly),\n",
    "    row=2, col=3\n",
    ")\n",
    "\n",
    "fig.append_trace(\n",
    "    go.Bar(x=subplot[6]['name'],\n",
    "    y=subplot[6]['count'],\n",
    "    marker_color=px.colors.qualitative.Plotly),\n",
    "    row=3, col=1\n",
    ")\n",
    "\n",
    "fig.append_trace(\n",
    "    go.Bar(x=subplot[7]['name'],\n",
    "    y=subplot[7]['count'],\n",
    "    marker_color=px.colors.qualitative.Plotly),\n",
    "    row=3, col=2\n",
    ")\n",
    "\n",
    "fig.append_trace(\n",
    "    go.Bar(x=subplot[8]['name'],\n",
    "    y=subplot[8]['count'],\n",
    "    marker_color=px.colors.qualitative.Plotly),\n",
    "    row=3, col=3\n",
    ")\n",
    "\n",
    "fig.append_trace(\n",
    "    go.Bar(x=subplot[9]['name'],\n",
    "    y=subplot[9]['count'],\n",
    "    marker_color=px.colors.qualitative.Plotly),\n",
    "    row=4, col=1\n",
    ")\n",
    "\n",
    "fig.append_trace(\n",
    "    go.Bar(x=subplot[10]['name'],\n",
    "    y=subplot[10]['count'],\n",
    "    marker_color=px.colors.qualitative.Plotly),\n",
    "    row=4, col=2\n",
    ")\n",
    "\n",
    "fig.append_trace(\n",
    "    go.Bar(x=globa['name'],\n",
    "    y=globa['count'],\n",
    "    marker_color=px.colors.qualitative.Plotly),\n",
    "    row=4, col=3\n",
    ")\n",
    "\n",
    "fig.update_layout(template='plotly_dark', title='5 most present actors in movies per decade' ,showlegend=False,height = 1250,width=1000)\n",
    "fig.show()"
   ]
  },
  {
   "cell_type": "code",
   "execution_count": 50,
   "metadata": {},
   "outputs": [
    {
     "data": {
      "text/plain": [
       "'the most prolific actor appears from 1990, it is Brahmanandam who played in more than 1000 movies'"
      ]
     },
     "execution_count": 50,
     "metadata": {},
     "output_type": "execute_result"
    }
   ],
   "source": [
    "\"Between 1920 and 1939, Japanese actors are the most present.\"\n",
    "\"Between 1940 and 1990, American, Indian, Japanese and South Korean actors are among the most prensent actors\"\n",
    "\"the most prolific actor appears from 1990, it is Brahmanandam who played in more than 1000 movies\""
   ]
  },
  {
   "cell_type": "code",
   "execution_count": 51,
   "metadata": {},
   "outputs": [],
   "source": [
    "#filtre pour ne garder que les séries\n",
    "actors_series = actors_titleType.loc[actors_titleType['titleType']=='tvSeries']"
   ]
  },
  {
   "cell_type": "code",
   "execution_count": 52,
   "metadata": {},
   "outputs": [
    {
     "name": "stderr",
     "output_type": "stream",
     "text": [
      "/Users/guillaumearp/opt/anaconda3/lib/python3.8/site-packages/pandas/core/frame.py:3641: SettingWithCopyWarning:\n",
      "\n",
      "\n",
      "A value is trying to be set on a copy of a slice from a DataFrame.\n",
      "Try using .loc[row_indexer,col_indexer] = value instead\n",
      "\n",
      "See the caveats in the documentation: https://pandas.pydata.org/pandas-docs/stable/user_guide/indexing.html#returning-a-view-versus-a-copy\n",
      "\n"
     ]
    }
   ],
   "source": [
    "actors_series[['mainGenre', 'secondaryGenres','thirdGenres']] = actors_series['genres'].str.split(',', expand=True)\n",
    "actors_series_nan = actors_series.replace('\\\\N', pd.NaT)"
   ]
  },
  {
   "cell_type": "code",
   "execution_count": 53,
   "metadata": {},
   "outputs": [],
   "source": [
    "actors_series_nan = actors_series_nan[actors_series_nan['mainGenre']!='Animation']\n",
    "actors_series_nan = actors_series_nan[actors_series_nan['mainGenre']!='Reality-TV']\n",
    "actors_series_nan = actors_series_nan[actors_series_nan['mainGenre']!='Talk-Show']\n",
    "actors_series_nan = actors_series_nan[actors_series_nan['mainGenre']!='Game-Show']\n",
    "actors_series_nan = actors_series_nan[actors_series_nan['mainGenre']!='Adult']\n",
    "actors_series_nan = actors_series_nan[actors_series_nan['mainGenre']!='Short']"
   ]
  },
  {
   "cell_type": "code",
   "execution_count": 54,
   "metadata": {},
   "outputs": [],
   "source": [
    "actors_series_nan = actors_series_nan[actors_series_nan['secondaryGenres']!='Animation']\n",
    "actors_series_nan = actors_series_nan[actors_series_nan['secondaryGenres']!='Reality-TV']\n",
    "actors_series_nan = actors_series_nan[actors_series_nan['secondaryGenres']!='Talk-Show']\n",
    "actors_series_nan = actors_series_nan[actors_series_nan['secondaryGenres']!='Game-Show']\n",
    "actors_series_nan = actors_series_nan[actors_series_nan['secondaryGenres']!='Adult']\n",
    "actors_series_nan = actors_series_nan[actors_series_nan['secondaryGenres']!='Short']"
   ]
  },
  {
   "cell_type": "code",
   "execution_count": 55,
   "metadata": {},
   "outputs": [],
   "source": [
    "actors_series_nan = actors_series_nan[actors_series_nan['thirdGenres']!='Animation']\n",
    "actors_series_nan = actors_series_nan[actors_series_nan['thirdGenres']!='Reality-TV']\n",
    "actors_series_nan = actors_series_nan[actors_series_nan['thirdGenres']!='Talk-Show']\n",
    "actors_series_nan = actors_series_nan[actors_series_nan['thirdGenres']!='Game-Show']\n",
    "actors_series_nan = actors_series_nan[actors_series_nan['thirdGenres']!='Adult']\n",
    "actors_series_nan = actors_series_nan[actors_series_nan['thirdGenres']!='Short']"
   ]
  },
  {
   "cell_type": "code",
   "execution_count": null,
   "metadata": {},
   "outputs": [],
   "source": [
    "#nettoyage du data frame\n",
    "actors_series_filtre = actors_series_nan[['primaryName','startYear']]\n",
    "actors_series_clean = actors_series_filtre.dropna()\n",
    "actors_series_clean = actors_series_clean.astype({'startYear': int})"
   ]
  },
  {
   "cell_type": "code",
   "execution_count": 57,
   "metadata": {},
   "outputs": [],
   "source": [
    "#filtre pour ne garder que les séries d'après 1920\n",
    "actors_series_year = actors_series_clean[actors_series_clean['startYear']>=1920]"
   ]
  },
  {
   "cell_type": "code",
   "execution_count": 61,
   "metadata": {},
   "outputs": [],
   "source": [
    "actors_series_year.to_csv('../data/actors_series_year.csv')"
   ]
  },
  {
   "cell_type": "code",
   "execution_count": 58,
   "metadata": {},
   "outputs": [],
   "source": [
    "#récupération pour chaque décénie des 5 acteurs de séries les plus présent + les 5 acteurs de séries les plus présent globalement\n",
    "depart = 1920\n",
    "fin = 1929\n",
    "subplot = []\n",
    "for i in range(11):\n",
    "    actors_series_decade = actors_series_year[(actors_series_year['startYear']>=depart)&(actors_series_year['startYear']<=fin)]\n",
    "    temp = actors_series_decade['primaryName'].value_counts()[:5].rename_axis('name').reset_index(name='count')\n",
    "    subplot.append(temp)\n",
    "    depart+=10\n",
    "    fin+=10\n",
    "globa = actors_series_year['primaryName'].value_counts()[:5].rename_axis('name').reset_index(name='count')"
   ]
  },
  {
   "cell_type": "code",
   "execution_count": 59,
   "metadata": {},
   "outputs": [
    {
     "data": {
      "application/vnd.plotly.v1+json": {
       "config": {
        "plotlyServerURL": "https://plot.ly"
       },
       "data": [
        {
         "marker": {
          "color": [
           "#636EFA",
           "#EF553B",
           "#00CC96",
           "#AB63FA",
           "#FFA15A",
           "#19D3F3",
           "#FF6692",
           "#B6E880",
           "#FF97FF",
           "#FECB52"
          ]
         },
         "type": "bar",
         "x": [
          "Vasiliy Aristov",
          "Olga Tretyakova",
          "Nikolay Bravko",
          "Evgeniy Lepkovskiy",
          "Grigori Levkoyev"
         ],
         "xaxis": "x",
         "y": [
          1,
          1,
          1,
          1,
          1
         ],
         "yaxis": "y"
        },
        {
         "marker": {
          "color": [
           "#636EFA",
           "#EF553B",
           "#00CC96",
           "#AB63FA",
           "#FFA15A",
           "#19D3F3",
           "#FF6692",
           "#B6E880",
           "#FF97FF",
           "#FECB52"
          ]
         },
         "type": "bar",
         "x": [
          "Len Maxwell",
          "Charles Heslop",
          "Queenie Leonard",
          "Cifford and Marion",
          "Ted North"
         ],
         "xaxis": "x2",
         "y": [
          2,
          2,
          1,
          1,
          1
         ],
         "yaxis": "y2"
        },
        {
         "marker": {
          "color": [
           "#636EFA",
           "#EF553B",
           "#00CC96",
           "#AB63FA",
           "#FFA15A",
           "#19D3F3",
           "#FF6692",
           "#B6E880",
           "#FF97FF",
           "#FECB52"
          ]
         },
         "type": "bar",
         "x": [
          "Vaughn Taylor",
          "John Baragrey",
          "Arlene Gray",
          "Ed Holmes",
          "Frankie Thomas"
         ],
         "xaxis": "x3",
         "y": [
          5,
          4,
          3,
          3,
          3
         ],
         "yaxis": "y3"
        },
        {
         "marker": {
          "color": [
           "#636EFA",
           "#EF553B",
           "#00CC96",
           "#AB63FA",
           "#FFA15A",
           "#19D3F3",
           "#FF6692",
           "#B6E880",
           "#FF97FF",
           "#FECB52"
          ]
         },
         "type": "bar",
         "x": [
          "Percy Aires",
          "Dionísio Azevedo",
          "José Parisi",
          "Henrique Martins",
          "Jaime Barcellos"
         ],
         "xaxis": "x4",
         "y": [
          24,
          18,
          17,
          16,
          16
         ],
         "yaxis": "y4"
        },
        {
         "marker": {
          "color": [
           "#636EFA",
           "#EF553B",
           "#00CC96",
           "#AB63FA",
           "#FFA15A",
           "#19D3F3",
           "#FF6692",
           "#B6E880",
           "#FF97FF",
           "#FECB52"
          ]
         },
         "type": "bar",
         "x": [
          "Anita Blanch",
          "Miguel Manzano",
          "Jacqueline Andere",
          "Magda Guzmán",
          "José Gálvez"
         ],
         "xaxis": "x5",
         "y": [
          28,
          26,
          25,
          22,
          21
         ],
         "yaxis": "y5"
        },
        {
         "marker": {
          "color": [
           "#636EFA",
           "#EF553B",
           "#00CC96",
           "#AB63FA",
           "#FFA15A",
           "#19D3F3",
           "#FF6692",
           "#B6E880",
           "#FF97FF",
           "#FECB52"
          ]
         },
         "type": "bar",
         "x": [
          "Pierina España",
          "Arnaldo André",
          "Dora Ferreiro",
          "Luisina Brando",
          "Carmen Julia Álvarez"
         ],
         "xaxis": "x6",
         "y": [
          26,
          19,
          19,
          19,
          17
         ],
         "yaxis": "y6"
        },
        {
         "marker": {
          "color": [
           "#636EFA",
           "#EF553B",
           "#00CC96",
           "#AB63FA",
           "#FFA15A",
           "#19D3F3",
           "#FF6692",
           "#B6E880",
           "#FF97FF",
           "#FECB52"
          ]
         },
         "type": "bar",
         "x": [
          "Francis Ng",
          "Giselle Blondet",
          "Siu-Ming Lau",
          "Hilda Bernard",
          "Tatiana Capote"
         ],
         "xaxis": "x7",
         "y": [
          25,
          16,
          15,
          15,
          15
         ],
         "yaxis": "y7"
        },
        {
         "marker": {
          "color": [
           "#636EFA",
           "#EF553B",
           "#00CC96",
           "#AB63FA",
           "#FFA15A",
           "#19D3F3",
           "#FF6692",
           "#B6E880",
           "#FF97FF",
           "#FECB52"
          ]
         },
         "type": "bar",
         "x": [
          "Irrfan Khan",
          "Yôko Moriguchi",
          "Cynthia Koh",
          "Mikko Kivinen",
          "Zoe Tay"
         ],
         "xaxis": "x8",
         "y": [
          29,
          24,
          19,
          16,
          16
         ],
         "yaxis": "y8"
        },
        {
         "marker": {
          "color": [
           "#636EFA",
           "#EF553B",
           "#00CC96",
           "#AB63FA",
           "#FFA15A",
           "#19D3F3",
           "#FF6692",
           "#B6E880",
           "#FF97FF",
           "#FECB52"
          ]
         },
         "type": "bar",
         "x": [
          "Mark Chinnery",
          "Kazuyuki Aijima",
          "Yôko Moriguchi",
          "Jun Kaname",
          "Aleksandr Chernyavskiy"
         ],
         "xaxis": "x9",
         "y": [
          27,
          26,
          22,
          20,
          18
         ],
         "yaxis": "y9"
        },
        {
         "marker": {
          "color": [
           "#636EFA",
           "#EF553B",
           "#00CC96",
           "#AB63FA",
           "#FFA15A",
           "#19D3F3",
           "#FF6692",
           "#B6E880",
           "#FF97FF",
           "#FECB52"
          ]
         },
         "type": "bar",
         "x": [
          "Andrey Da!",
          "Sami Khan",
          "Jimmy Kay",
          "Mark Chinnery",
          "Konstantin Danilyuk"
         ],
         "xaxis": "x10",
         "y": [
          74,
          46,
          44,
          43,
          41
         ],
         "yaxis": "y10"
        },
        {
         "marker": {
          "color": [
           "#636EFA",
           "#EF553B",
           "#00CC96",
           "#AB63FA",
           "#FFA15A",
           "#19D3F3",
           "#FF6692",
           "#B6E880",
           "#FF97FF",
           "#FECB52"
          ]
         },
         "type": "bar",
         "x": [
          "Kenzie Mackenzie Espoir Paterson",
          "Genevieve Begbie",
          "Kevin Wilcox",
          "Kass Kassidy Campbell",
          "Trevor Wells"
         ],
         "xaxis": "x11",
         "y": [
          36,
          23,
          23,
          23,
          22
         ],
         "yaxis": "y11"
        },
        {
         "marker": {
          "color": [
           "#636EFA",
           "#EF553B",
           "#00CC96",
           "#AB63FA",
           "#FFA15A",
           "#19D3F3",
           "#FF6692",
           "#B6E880",
           "#FF97FF",
           "#FECB52"
          ]
         },
         "type": "bar",
         "x": [
          "Andrey Da!",
          "Mark Chinnery",
          "Cynthia Koh",
          "Shucheng Chen",
          "Konstantin Danilyuk"
         ],
         "xaxis": "x12",
         "y": [
          79,
          75,
          56,
          56,
          53
         ],
         "yaxis": "y12"
        }
       ],
       "layout": {
        "annotations": [
         {
          "font": {
           "size": 16
          },
          "showarrow": false,
          "text": "1920-1929",
          "x": 0.14444444444444446,
          "xanchor": "center",
          "xref": "paper",
          "y": 1,
          "yanchor": "bottom",
          "yref": "paper"
         },
         {
          "font": {
           "size": 16
          },
          "showarrow": false,
          "text": "1930-1939",
          "x": 0.5,
          "xanchor": "center",
          "xref": "paper",
          "y": 1,
          "yanchor": "bottom",
          "yref": "paper"
         },
         {
          "font": {
           "size": 16
          },
          "showarrow": false,
          "text": "1940-1949",
          "x": 0.8555555555555556,
          "xanchor": "center",
          "xref": "paper",
          "y": 1,
          "yanchor": "bottom",
          "yref": "paper"
         },
         {
          "font": {
           "size": 16
          },
          "showarrow": false,
          "text": "1950-1959",
          "x": 0.14444444444444446,
          "xanchor": "center",
          "xref": "paper",
          "y": 0.71875,
          "yanchor": "bottom",
          "yref": "paper"
         },
         {
          "font": {
           "size": 16
          },
          "showarrow": false,
          "text": "1960-1969",
          "x": 0.5,
          "xanchor": "center",
          "xref": "paper",
          "y": 0.71875,
          "yanchor": "bottom",
          "yref": "paper"
         },
         {
          "font": {
           "size": 16
          },
          "showarrow": false,
          "text": "1970-1979",
          "x": 0.8555555555555556,
          "xanchor": "center",
          "xref": "paper",
          "y": 0.71875,
          "yanchor": "bottom",
          "yref": "paper"
         },
         {
          "font": {
           "size": 16
          },
          "showarrow": false,
          "text": "1980-1989",
          "x": 0.14444444444444446,
          "xanchor": "center",
          "xref": "paper",
          "y": 0.4375,
          "yanchor": "bottom",
          "yref": "paper"
         },
         {
          "font": {
           "size": 16
          },
          "showarrow": false,
          "text": "1990-1999",
          "x": 0.5,
          "xanchor": "center",
          "xref": "paper",
          "y": 0.4375,
          "yanchor": "bottom",
          "yref": "paper"
         },
         {
          "font": {
           "size": 16
          },
          "showarrow": false,
          "text": "2000-2009",
          "x": 0.8555555555555556,
          "xanchor": "center",
          "xref": "paper",
          "y": 0.4375,
          "yanchor": "bottom",
          "yref": "paper"
         },
         {
          "font": {
           "size": 16
          },
          "showarrow": false,
          "text": "2010-2019",
          "x": 0.14444444444444446,
          "xanchor": "center",
          "xref": "paper",
          "y": 0.15625,
          "yanchor": "bottom",
          "yref": "paper"
         },
         {
          "font": {
           "size": 16
          },
          "showarrow": false,
          "text": "2020-2029",
          "x": 0.5,
          "xanchor": "center",
          "xref": "paper",
          "y": 0.15625,
          "yanchor": "bottom",
          "yref": "paper"
         },
         {
          "font": {
           "size": 16
          },
          "showarrow": false,
          "text": "Overall Results",
          "x": 0.8555555555555556,
          "xanchor": "center",
          "xref": "paper",
          "y": 0.15625,
          "yanchor": "bottom",
          "yref": "paper"
         }
        ],
        "height": 1250,
        "showlegend": false,
        "template": {
         "data": {
          "bar": [
           {
            "error_x": {
             "color": "#f2f5fa"
            },
            "error_y": {
             "color": "#f2f5fa"
            },
            "marker": {
             "line": {
              "color": "rgb(17,17,17)",
              "width": 0.5
             },
             "pattern": {
              "fillmode": "overlay",
              "size": 10,
              "solidity": 0.2
             }
            },
            "type": "bar"
           }
          ],
          "barpolar": [
           {
            "marker": {
             "line": {
              "color": "rgb(17,17,17)",
              "width": 0.5
             },
             "pattern": {
              "fillmode": "overlay",
              "size": 10,
              "solidity": 0.2
             }
            },
            "type": "barpolar"
           }
          ],
          "carpet": [
           {
            "aaxis": {
             "endlinecolor": "#A2B1C6",
             "gridcolor": "#506784",
             "linecolor": "#506784",
             "minorgridcolor": "#506784",
             "startlinecolor": "#A2B1C6"
            },
            "baxis": {
             "endlinecolor": "#A2B1C6",
             "gridcolor": "#506784",
             "linecolor": "#506784",
             "minorgridcolor": "#506784",
             "startlinecolor": "#A2B1C6"
            },
            "type": "carpet"
           }
          ],
          "choropleth": [
           {
            "colorbar": {
             "outlinewidth": 0,
             "ticks": ""
            },
            "type": "choropleth"
           }
          ],
          "contour": [
           {
            "colorbar": {
             "outlinewidth": 0,
             "ticks": ""
            },
            "colorscale": [
             [
              0,
              "#0d0887"
             ],
             [
              0.1111111111111111,
              "#46039f"
             ],
             [
              0.2222222222222222,
              "#7201a8"
             ],
             [
              0.3333333333333333,
              "#9c179e"
             ],
             [
              0.4444444444444444,
              "#bd3786"
             ],
             [
              0.5555555555555556,
              "#d8576b"
             ],
             [
              0.6666666666666666,
              "#ed7953"
             ],
             [
              0.7777777777777778,
              "#fb9f3a"
             ],
             [
              0.8888888888888888,
              "#fdca26"
             ],
             [
              1,
              "#f0f921"
             ]
            ],
            "type": "contour"
           }
          ],
          "contourcarpet": [
           {
            "colorbar": {
             "outlinewidth": 0,
             "ticks": ""
            },
            "type": "contourcarpet"
           }
          ],
          "heatmap": [
           {
            "colorbar": {
             "outlinewidth": 0,
             "ticks": ""
            },
            "colorscale": [
             [
              0,
              "#0d0887"
             ],
             [
              0.1111111111111111,
              "#46039f"
             ],
             [
              0.2222222222222222,
              "#7201a8"
             ],
             [
              0.3333333333333333,
              "#9c179e"
             ],
             [
              0.4444444444444444,
              "#bd3786"
             ],
             [
              0.5555555555555556,
              "#d8576b"
             ],
             [
              0.6666666666666666,
              "#ed7953"
             ],
             [
              0.7777777777777778,
              "#fb9f3a"
             ],
             [
              0.8888888888888888,
              "#fdca26"
             ],
             [
              1,
              "#f0f921"
             ]
            ],
            "type": "heatmap"
           }
          ],
          "heatmapgl": [
           {
            "colorbar": {
             "outlinewidth": 0,
             "ticks": ""
            },
            "colorscale": [
             [
              0,
              "#0d0887"
             ],
             [
              0.1111111111111111,
              "#46039f"
             ],
             [
              0.2222222222222222,
              "#7201a8"
             ],
             [
              0.3333333333333333,
              "#9c179e"
             ],
             [
              0.4444444444444444,
              "#bd3786"
             ],
             [
              0.5555555555555556,
              "#d8576b"
             ],
             [
              0.6666666666666666,
              "#ed7953"
             ],
             [
              0.7777777777777778,
              "#fb9f3a"
             ],
             [
              0.8888888888888888,
              "#fdca26"
             ],
             [
              1,
              "#f0f921"
             ]
            ],
            "type": "heatmapgl"
           }
          ],
          "histogram": [
           {
            "marker": {
             "pattern": {
              "fillmode": "overlay",
              "size": 10,
              "solidity": 0.2
             }
            },
            "type": "histogram"
           }
          ],
          "histogram2d": [
           {
            "colorbar": {
             "outlinewidth": 0,
             "ticks": ""
            },
            "colorscale": [
             [
              0,
              "#0d0887"
             ],
             [
              0.1111111111111111,
              "#46039f"
             ],
             [
              0.2222222222222222,
              "#7201a8"
             ],
             [
              0.3333333333333333,
              "#9c179e"
             ],
             [
              0.4444444444444444,
              "#bd3786"
             ],
             [
              0.5555555555555556,
              "#d8576b"
             ],
             [
              0.6666666666666666,
              "#ed7953"
             ],
             [
              0.7777777777777778,
              "#fb9f3a"
             ],
             [
              0.8888888888888888,
              "#fdca26"
             ],
             [
              1,
              "#f0f921"
             ]
            ],
            "type": "histogram2d"
           }
          ],
          "histogram2dcontour": [
           {
            "colorbar": {
             "outlinewidth": 0,
             "ticks": ""
            },
            "colorscale": [
             [
              0,
              "#0d0887"
             ],
             [
              0.1111111111111111,
              "#46039f"
             ],
             [
              0.2222222222222222,
              "#7201a8"
             ],
             [
              0.3333333333333333,
              "#9c179e"
             ],
             [
              0.4444444444444444,
              "#bd3786"
             ],
             [
              0.5555555555555556,
              "#d8576b"
             ],
             [
              0.6666666666666666,
              "#ed7953"
             ],
             [
              0.7777777777777778,
              "#fb9f3a"
             ],
             [
              0.8888888888888888,
              "#fdca26"
             ],
             [
              1,
              "#f0f921"
             ]
            ],
            "type": "histogram2dcontour"
           }
          ],
          "mesh3d": [
           {
            "colorbar": {
             "outlinewidth": 0,
             "ticks": ""
            },
            "type": "mesh3d"
           }
          ],
          "parcoords": [
           {
            "line": {
             "colorbar": {
              "outlinewidth": 0,
              "ticks": ""
             }
            },
            "type": "parcoords"
           }
          ],
          "pie": [
           {
            "automargin": true,
            "type": "pie"
           }
          ],
          "scatter": [
           {
            "marker": {
             "line": {
              "color": "#283442"
             }
            },
            "type": "scatter"
           }
          ],
          "scatter3d": [
           {
            "line": {
             "colorbar": {
              "outlinewidth": 0,
              "ticks": ""
             }
            },
            "marker": {
             "colorbar": {
              "outlinewidth": 0,
              "ticks": ""
             }
            },
            "type": "scatter3d"
           }
          ],
          "scattercarpet": [
           {
            "marker": {
             "colorbar": {
              "outlinewidth": 0,
              "ticks": ""
             }
            },
            "type": "scattercarpet"
           }
          ],
          "scattergeo": [
           {
            "marker": {
             "colorbar": {
              "outlinewidth": 0,
              "ticks": ""
             }
            },
            "type": "scattergeo"
           }
          ],
          "scattergl": [
           {
            "marker": {
             "line": {
              "color": "#283442"
             }
            },
            "type": "scattergl"
           }
          ],
          "scattermapbox": [
           {
            "marker": {
             "colorbar": {
              "outlinewidth": 0,
              "ticks": ""
             }
            },
            "type": "scattermapbox"
           }
          ],
          "scatterpolar": [
           {
            "marker": {
             "colorbar": {
              "outlinewidth": 0,
              "ticks": ""
             }
            },
            "type": "scatterpolar"
           }
          ],
          "scatterpolargl": [
           {
            "marker": {
             "colorbar": {
              "outlinewidth": 0,
              "ticks": ""
             }
            },
            "type": "scatterpolargl"
           }
          ],
          "scatterternary": [
           {
            "marker": {
             "colorbar": {
              "outlinewidth": 0,
              "ticks": ""
             }
            },
            "type": "scatterternary"
           }
          ],
          "surface": [
           {
            "colorbar": {
             "outlinewidth": 0,
             "ticks": ""
            },
            "colorscale": [
             [
              0,
              "#0d0887"
             ],
             [
              0.1111111111111111,
              "#46039f"
             ],
             [
              0.2222222222222222,
              "#7201a8"
             ],
             [
              0.3333333333333333,
              "#9c179e"
             ],
             [
              0.4444444444444444,
              "#bd3786"
             ],
             [
              0.5555555555555556,
              "#d8576b"
             ],
             [
              0.6666666666666666,
              "#ed7953"
             ],
             [
              0.7777777777777778,
              "#fb9f3a"
             ],
             [
              0.8888888888888888,
              "#fdca26"
             ],
             [
              1,
              "#f0f921"
             ]
            ],
            "type": "surface"
           }
          ],
          "table": [
           {
            "cells": {
             "fill": {
              "color": "#506784"
             },
             "line": {
              "color": "rgb(17,17,17)"
             }
            },
            "header": {
             "fill": {
              "color": "#2a3f5f"
             },
             "line": {
              "color": "rgb(17,17,17)"
             }
            },
            "type": "table"
           }
          ]
         },
         "layout": {
          "annotationdefaults": {
           "arrowcolor": "#f2f5fa",
           "arrowhead": 0,
           "arrowwidth": 1
          },
          "autotypenumbers": "strict",
          "coloraxis": {
           "colorbar": {
            "outlinewidth": 0,
            "ticks": ""
           }
          },
          "colorscale": {
           "diverging": [
            [
             0,
             "#8e0152"
            ],
            [
             0.1,
             "#c51b7d"
            ],
            [
             0.2,
             "#de77ae"
            ],
            [
             0.3,
             "#f1b6da"
            ],
            [
             0.4,
             "#fde0ef"
            ],
            [
             0.5,
             "#f7f7f7"
            ],
            [
             0.6,
             "#e6f5d0"
            ],
            [
             0.7,
             "#b8e186"
            ],
            [
             0.8,
             "#7fbc41"
            ],
            [
             0.9,
             "#4d9221"
            ],
            [
             1,
             "#276419"
            ]
           ],
           "sequential": [
            [
             0,
             "#0d0887"
            ],
            [
             0.1111111111111111,
             "#46039f"
            ],
            [
             0.2222222222222222,
             "#7201a8"
            ],
            [
             0.3333333333333333,
             "#9c179e"
            ],
            [
             0.4444444444444444,
             "#bd3786"
            ],
            [
             0.5555555555555556,
             "#d8576b"
            ],
            [
             0.6666666666666666,
             "#ed7953"
            ],
            [
             0.7777777777777778,
             "#fb9f3a"
            ],
            [
             0.8888888888888888,
             "#fdca26"
            ],
            [
             1,
             "#f0f921"
            ]
           ],
           "sequentialminus": [
            [
             0,
             "#0d0887"
            ],
            [
             0.1111111111111111,
             "#46039f"
            ],
            [
             0.2222222222222222,
             "#7201a8"
            ],
            [
             0.3333333333333333,
             "#9c179e"
            ],
            [
             0.4444444444444444,
             "#bd3786"
            ],
            [
             0.5555555555555556,
             "#d8576b"
            ],
            [
             0.6666666666666666,
             "#ed7953"
            ],
            [
             0.7777777777777778,
             "#fb9f3a"
            ],
            [
             0.8888888888888888,
             "#fdca26"
            ],
            [
             1,
             "#f0f921"
            ]
           ]
          },
          "colorway": [
           "#636efa",
           "#EF553B",
           "#00cc96",
           "#ab63fa",
           "#FFA15A",
           "#19d3f3",
           "#FF6692",
           "#B6E880",
           "#FF97FF",
           "#FECB52"
          ],
          "font": {
           "color": "#f2f5fa"
          },
          "geo": {
           "bgcolor": "rgb(17,17,17)",
           "lakecolor": "rgb(17,17,17)",
           "landcolor": "rgb(17,17,17)",
           "showlakes": true,
           "showland": true,
           "subunitcolor": "#506784"
          },
          "hoverlabel": {
           "align": "left"
          },
          "hovermode": "closest",
          "mapbox": {
           "style": "dark"
          },
          "paper_bgcolor": "rgb(17,17,17)",
          "plot_bgcolor": "rgb(17,17,17)",
          "polar": {
           "angularaxis": {
            "gridcolor": "#506784",
            "linecolor": "#506784",
            "ticks": ""
           },
           "bgcolor": "rgb(17,17,17)",
           "radialaxis": {
            "gridcolor": "#506784",
            "linecolor": "#506784",
            "ticks": ""
           }
          },
          "scene": {
           "xaxis": {
            "backgroundcolor": "rgb(17,17,17)",
            "gridcolor": "#506784",
            "gridwidth": 2,
            "linecolor": "#506784",
            "showbackground": true,
            "ticks": "",
            "zerolinecolor": "#C8D4E3"
           },
           "yaxis": {
            "backgroundcolor": "rgb(17,17,17)",
            "gridcolor": "#506784",
            "gridwidth": 2,
            "linecolor": "#506784",
            "showbackground": true,
            "ticks": "",
            "zerolinecolor": "#C8D4E3"
           },
           "zaxis": {
            "backgroundcolor": "rgb(17,17,17)",
            "gridcolor": "#506784",
            "gridwidth": 2,
            "linecolor": "#506784",
            "showbackground": true,
            "ticks": "",
            "zerolinecolor": "#C8D4E3"
           }
          },
          "shapedefaults": {
           "line": {
            "color": "#f2f5fa"
           }
          },
          "sliderdefaults": {
           "bgcolor": "#C8D4E3",
           "bordercolor": "rgb(17,17,17)",
           "borderwidth": 1,
           "tickwidth": 0
          },
          "ternary": {
           "aaxis": {
            "gridcolor": "#506784",
            "linecolor": "#506784",
            "ticks": ""
           },
           "baxis": {
            "gridcolor": "#506784",
            "linecolor": "#506784",
            "ticks": ""
           },
           "bgcolor": "rgb(17,17,17)",
           "caxis": {
            "gridcolor": "#506784",
            "linecolor": "#506784",
            "ticks": ""
           }
          },
          "title": {
           "x": 0.05
          },
          "updatemenudefaults": {
           "bgcolor": "#506784",
           "borderwidth": 0
          },
          "xaxis": {
           "automargin": true,
           "gridcolor": "#283442",
           "linecolor": "#506784",
           "ticks": "",
           "title": {
            "standoff": 15
           },
           "zerolinecolor": "#283442",
           "zerolinewidth": 2
          },
          "yaxis": {
           "automargin": true,
           "gridcolor": "#283442",
           "linecolor": "#506784",
           "ticks": "",
           "title": {
            "standoff": 15
           },
           "zerolinecolor": "#283442",
           "zerolinewidth": 2
          }
         }
        },
        "title": {
         "text": "5 most present actors in series per decade and overall"
        },
        "width": 1000,
        "xaxis": {
         "anchor": "y",
         "domain": [
          0,
          0.2888888888888889
         ]
        },
        "xaxis10": {
         "anchor": "y10",
         "domain": [
          0,
          0.2888888888888889
         ]
        },
        "xaxis11": {
         "anchor": "y11",
         "domain": [
          0.35555555555555557,
          0.6444444444444445
         ]
        },
        "xaxis12": {
         "anchor": "y12",
         "domain": [
          0.7111111111111111,
          1
         ]
        },
        "xaxis2": {
         "anchor": "y2",
         "domain": [
          0.35555555555555557,
          0.6444444444444445
         ]
        },
        "xaxis3": {
         "anchor": "y3",
         "domain": [
          0.7111111111111111,
          1
         ]
        },
        "xaxis4": {
         "anchor": "y4",
         "domain": [
          0,
          0.2888888888888889
         ]
        },
        "xaxis5": {
         "anchor": "y5",
         "domain": [
          0.35555555555555557,
          0.6444444444444445
         ]
        },
        "xaxis6": {
         "anchor": "y6",
         "domain": [
          0.7111111111111111,
          1
         ]
        },
        "xaxis7": {
         "anchor": "y7",
         "domain": [
          0,
          0.2888888888888889
         ]
        },
        "xaxis8": {
         "anchor": "y8",
         "domain": [
          0.35555555555555557,
          0.6444444444444445
         ]
        },
        "xaxis9": {
         "anchor": "y9",
         "domain": [
          0.7111111111111111,
          1
         ]
        },
        "yaxis": {
         "anchor": "x",
         "domain": [
          0.84375,
          1
         ]
        },
        "yaxis10": {
         "anchor": "x10",
         "domain": [
          0,
          0.15625
         ]
        },
        "yaxis11": {
         "anchor": "x11",
         "domain": [
          0,
          0.15625
         ]
        },
        "yaxis12": {
         "anchor": "x12",
         "domain": [
          0,
          0.15625
         ]
        },
        "yaxis2": {
         "anchor": "x2",
         "domain": [
          0.84375,
          1
         ]
        },
        "yaxis3": {
         "anchor": "x3",
         "domain": [
          0.84375,
          1
         ]
        },
        "yaxis4": {
         "anchor": "x4",
         "domain": [
          0.5625,
          0.71875
         ]
        },
        "yaxis5": {
         "anchor": "x5",
         "domain": [
          0.5625,
          0.71875
         ]
        },
        "yaxis6": {
         "anchor": "x6",
         "domain": [
          0.5625,
          0.71875
         ]
        },
        "yaxis7": {
         "anchor": "x7",
         "domain": [
          0.28125,
          0.4375
         ]
        },
        "yaxis8": {
         "anchor": "x8",
         "domain": [
          0.28125,
          0.4375
         ]
        },
        "yaxis9": {
         "anchor": "x9",
         "domain": [
          0.28125,
          0.4375
         ]
        }
       }
      }
     },
     "metadata": {},
     "output_type": "display_data"
    }
   ],
   "source": [
    "#visualisation via des histogrammes des 5 acteurs de séries les plus présents par décénie + des 5 acteur de séries les plus présent globalement\n",
    "\"we wanted to know which actors appear in the most series \"\n",
    "\"we filtered the category to actor and actress and the type to series only\"\n",
    "\"We decided to only take into account the movies released during or after 1920, due to the lack of consistent data before this time\"\n",
    "\"we divided the Dataframe by decades to observe which actors appear in the most series by decades\"\n",
    "fig = make_subplots(\n",
    "    rows=4, cols=3,\n",
    "    subplot_titles=('1920-1929', '1930-1939','1940-1949','1950-1959','1960-1969','1970-1979','1980-1989','1990-1999','2000-2009','2010-2019','2020-2029','Overall Results'),\n",
    "    )\n",
    "\n",
    "fig.append_trace(\n",
    "    go.Bar(x=subplot[0]['name'],\n",
    "    y=subplot[0]['count'],\n",
    "    marker_color=px.colors.qualitative.Plotly),\n",
    "    row=1, col=1\n",
    ")\n",
    "\n",
    "fig.append_trace(\n",
    "    go.Bar(x=subplot[1]['name'],\n",
    "    y=subplot[1]['count'],\n",
    "    marker_color=px.colors.qualitative.Plotly),\n",
    "    row=1, col=2\n",
    ")\n",
    "\n",
    "fig.append_trace(\n",
    "    go.Bar(x=subplot[2]['name'],\n",
    "    y=subplot[2]['count'],\n",
    "    marker_color=px.colors.qualitative.Plotly),\n",
    "    row=1, col=3\n",
    ")\n",
    "\n",
    "fig.append_trace(\n",
    "    go.Bar(x=subplot[3]['name'],\n",
    "    y=subplot[3]['count'],\n",
    "    marker_color=px.colors.qualitative.Plotly),\n",
    "    row=2, col=1\n",
    ")\n",
    "\n",
    "fig.append_trace(\n",
    "    go.Bar(x=subplot[4]['name'],\n",
    "    y=subplot[4]['count'],\n",
    "    marker_color=px.colors.qualitative.Plotly),\n",
    "    row=2, col=2\n",
    ")\n",
    "\n",
    "fig.append_trace(\n",
    "    go.Bar(x=subplot[5]['name'],\n",
    "    y=subplot[5]['count'],\n",
    "    marker_color=px.colors.qualitative.Plotly),\n",
    "    row=2, col=3\n",
    ")\n",
    "\n",
    "fig.append_trace(\n",
    "    go.Bar(x=subplot[6]['name'],\n",
    "    y=subplot[6]['count'],\n",
    "    marker_color=px.colors.qualitative.Plotly),\n",
    "    row=3, col=1\n",
    ")\n",
    "\n",
    "fig.append_trace(\n",
    "    go.Bar(x=subplot[7]['name'],\n",
    "    y=subplot[7]['count'],\n",
    "    marker_color=px.colors.qualitative.Plotly),\n",
    "    row=3, col=2\n",
    ")\n",
    "\n",
    "fig.append_trace(\n",
    "    go.Bar(x=subplot[8]['name'],\n",
    "    y=subplot[8]['count'],\n",
    "    marker_color=px.colors.qualitative.Plotly),\n",
    "    row=3, col=3\n",
    ")\n",
    "\n",
    "fig.append_trace(\n",
    "    go.Bar(x=subplot[9]['name'],\n",
    "    y=subplot[9]['count'],\n",
    "    marker_color=px.colors.qualitative.Plotly),\n",
    "    row=4, col=1\n",
    ")\n",
    "\n",
    "fig.append_trace(\n",
    "    go.Bar(x=subplot[10]['name'],\n",
    "    y=subplot[10]['count'],\n",
    "    marker_color=px.colors.qualitative.Plotly),\n",
    "    row=4, col=2\n",
    ")\n",
    "\n",
    "fig.append_trace(\n",
    "    go.Bar(x=globa['name'],\n",
    "    y=globa['count'],\n",
    "    marker_color=px.colors.qualitative.Plotly),\n",
    "    row=4, col=3\n",
    ")\n",
    "\n",
    "fig.update_layout(template='plotly_dark', title='5 most present actors in series per decade and overall' ,showlegend=False,height = 1250,width=1000)\n",
    "fig.show()"
   ]
  }
 ],
 "metadata": {
  "interpreter": {
   "hash": "be0acc8b5e9c514370efa701a19078e441337db182ef74130e57d9d0b7902eba"
  },
  "kernelspec": {
   "display_name": "Python 3.8.12 64-bit ('base': conda)",
   "name": "python3"
  },
  "language_info": {
   "codemirror_mode": {
    "name": "ipython",
    "version": 3
   },
   "file_extension": ".py",
   "mimetype": "text/x-python",
   "name": "python",
   "nbconvert_exporter": "python",
   "pygments_lexer": "ipython3",
   "version": "3.8.12"
  },
  "orig_nbformat": 4
 },
 "nbformat": 4,
 "nbformat_minor": 2
}
