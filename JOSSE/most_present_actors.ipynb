{
 "cells": [
  {
   "cell_type": "code",
   "execution_count": 1,
   "metadata": {},
   "outputs": [],
   "source": [
    "import pandas as pd\n",
    "import numpy as np"
   ]
  },
  {
   "cell_type": "code",
   "execution_count": 2,
   "metadata": {},
   "outputs": [],
   "source": [
    "name_df = pd.read_csv(\"https://datasets.imdbws.com/name.basics.tsv.gz\", sep=\"\\t\")"
   ]
  },
  {
   "cell_type": "code",
   "execution_count": 3,
   "metadata": {},
   "outputs": [],
   "source": [
    "principals_df = pd.read_csv(\"https://datasets.imdbws.com/title.principals.tsv.gz\", sep=\"\\t\")"
   ]
  },
  {
   "cell_type": "code",
   "execution_count": 4,
   "metadata": {},
   "outputs": [],
   "source": [
    "df_actors = principals_df.loc[(principals_df['category']=='actor')|(principals_df['category']=='actress')]"
   ]
  },
  {
   "cell_type": "code",
   "execution_count": 5,
   "metadata": {},
   "outputs": [
    {
     "data": {
      "text/html": [
       "<div>\n",
       "<style scoped>\n",
       "    .dataframe tbody tr th:only-of-type {\n",
       "        vertical-align: middle;\n",
       "    }\n",
       "\n",
       "    .dataframe tbody tr th {\n",
       "        vertical-align: top;\n",
       "    }\n",
       "\n",
       "    .dataframe thead th {\n",
       "        text-align: right;\n",
       "    }\n",
       "</style>\n",
       "<table border=\"1\" class=\"dataframe\">\n",
       "  <thead>\n",
       "    <tr style=\"text-align: right;\">\n",
       "      <th></th>\n",
       "      <th>tconst</th>\n",
       "      <th>ordering</th>\n",
       "      <th>nconst</th>\n",
       "      <th>category</th>\n",
       "      <th>job</th>\n",
       "      <th>characters</th>\n",
       "    </tr>\n",
       "  </thead>\n",
       "  <tbody>\n",
       "    <tr>\n",
       "      <th>11</th>\n",
       "      <td>tt0000005</td>\n",
       "      <td>1</td>\n",
       "      <td>nm0443482</td>\n",
       "      <td>actor</td>\n",
       "      <td>\\N</td>\n",
       "      <td>[\"Blacksmith\"]</td>\n",
       "    </tr>\n",
       "    <tr>\n",
       "      <th>12</th>\n",
       "      <td>tt0000005</td>\n",
       "      <td>2</td>\n",
       "      <td>nm0653042</td>\n",
       "      <td>actor</td>\n",
       "      <td>\\N</td>\n",
       "      <td>[\"Assistant\"]</td>\n",
       "    </tr>\n",
       "    <tr>\n",
       "      <th>16</th>\n",
       "      <td>tt0000007</td>\n",
       "      <td>1</td>\n",
       "      <td>nm0179163</td>\n",
       "      <td>actor</td>\n",
       "      <td>\\N</td>\n",
       "      <td>\\N</td>\n",
       "    </tr>\n",
       "    <tr>\n",
       "      <th>17</th>\n",
       "      <td>tt0000007</td>\n",
       "      <td>2</td>\n",
       "      <td>nm0183947</td>\n",
       "      <td>actor</td>\n",
       "      <td>\\N</td>\n",
       "      <td>\\N</td>\n",
       "    </tr>\n",
       "    <tr>\n",
       "      <th>21</th>\n",
       "      <td>tt0000008</td>\n",
       "      <td>1</td>\n",
       "      <td>nm0653028</td>\n",
       "      <td>actor</td>\n",
       "      <td>\\N</td>\n",
       "      <td>[\"Sneezing Man\"]</td>\n",
       "    </tr>\n",
       "    <tr>\n",
       "      <th>...</th>\n",
       "      <td>...</td>\n",
       "      <td>...</td>\n",
       "      <td>...</td>\n",
       "      <td>...</td>\n",
       "      <td>...</td>\n",
       "      <td>...</td>\n",
       "    </tr>\n",
       "    <tr>\n",
       "      <th>47460925</th>\n",
       "      <td>tt9916856</td>\n",
       "      <td>4</td>\n",
       "      <td>nm10538647</td>\n",
       "      <td>actress</td>\n",
       "      <td>\\N</td>\n",
       "      <td>[\"Kathi\"]</td>\n",
       "    </tr>\n",
       "    <tr>\n",
       "      <th>47460930</th>\n",
       "      <td>tt9916880</td>\n",
       "      <td>1</td>\n",
       "      <td>nm1483166</td>\n",
       "      <td>actor</td>\n",
       "      <td>\\N</td>\n",
       "      <td>[\"Rude Ralph\",\"Mischievous Mike\",\"Jolly Josh\"]</td>\n",
       "    </tr>\n",
       "    <tr>\n",
       "      <th>47460931</th>\n",
       "      <td>tt9916880</td>\n",
       "      <td>2</td>\n",
       "      <td>nm0254176</td>\n",
       "      <td>actress</td>\n",
       "      <td>\\N</td>\n",
       "      <td>[\"Moody Margaret\"]</td>\n",
       "    </tr>\n",
       "    <tr>\n",
       "      <th>47460932</th>\n",
       "      <td>tt9916880</td>\n",
       "      <td>3</td>\n",
       "      <td>nm0286175</td>\n",
       "      <td>actor</td>\n",
       "      <td>\\N</td>\n",
       "      <td>[\"Dad\",\"Aerobic Al\",\"Nasty Nicola\"]</td>\n",
       "    </tr>\n",
       "    <tr>\n",
       "      <th>47460933</th>\n",
       "      <td>tt9916880</td>\n",
       "      <td>4</td>\n",
       "      <td>nm10535738</td>\n",
       "      <td>actress</td>\n",
       "      <td>\\N</td>\n",
       "      <td>[\"Horrid Henry\"]</td>\n",
       "    </tr>\n",
       "  </tbody>\n",
       "</table>\n",
       "<p>18815045 rows × 6 columns</p>\n",
       "</div>"
      ],
      "text/plain": [
       "             tconst  ordering      nconst category job  \\\n",
       "11        tt0000005         1   nm0443482    actor  \\N   \n",
       "12        tt0000005         2   nm0653042    actor  \\N   \n",
       "16        tt0000007         1   nm0179163    actor  \\N   \n",
       "17        tt0000007         2   nm0183947    actor  \\N   \n",
       "21        tt0000008         1   nm0653028    actor  \\N   \n",
       "...             ...       ...         ...      ...  ..   \n",
       "47460925  tt9916856         4  nm10538647  actress  \\N   \n",
       "47460930  tt9916880         1   nm1483166    actor  \\N   \n",
       "47460931  tt9916880         2   nm0254176  actress  \\N   \n",
       "47460932  tt9916880         3   nm0286175    actor  \\N   \n",
       "47460933  tt9916880         4  nm10535738  actress  \\N   \n",
       "\n",
       "                                              characters  \n",
       "11                                        [\"Blacksmith\"]  \n",
       "12                                         [\"Assistant\"]  \n",
       "16                                                    \\N  \n",
       "17                                                    \\N  \n",
       "21                                      [\"Sneezing Man\"]  \n",
       "...                                                  ...  \n",
       "47460925                                       [\"Kathi\"]  \n",
       "47460930  [\"Rude Ralph\",\"Mischievous Mike\",\"Jolly Josh\"]  \n",
       "47460931                              [\"Moody Margaret\"]  \n",
       "47460932             [\"Dad\",\"Aerobic Al\",\"Nasty Nicola\"]  \n",
       "47460933                                [\"Horrid Henry\"]  \n",
       "\n",
       "[18815045 rows x 6 columns]"
      ]
     },
     "execution_count": 5,
     "metadata": {},
     "output_type": "execute_result"
    }
   ],
   "source": [
    "df_actors"
   ]
  },
  {
   "cell_type": "code",
   "execution_count": 6,
   "metadata": {},
   "outputs": [],
   "source": [
    "list_actors = pd.merge(df_actors,name_df,how='inner')"
   ]
  },
  {
   "cell_type": "code",
   "execution_count": 7,
   "metadata": {},
   "outputs": [
    {
     "data": {
      "text/plain": [
       "Sameera Sherief        10126\n",
       "Delhi Kumar             7834\n",
       "Subhalekha Sudhakar     7146\n",
       "Neha Gowda              6213\n",
       "Sudha Chandran          5877\n",
       "                       ...  \n",
       "Go Smoke Mary              1\n",
       "Jon Niccum                 1\n",
       "Craig Cove                 1\n",
       "Kayra Pitts                1\n",
       "Andreas Demmel             1\n",
       "Name: primaryName, Length: 1948548, dtype: int64"
      ]
     },
     "execution_count": 7,
     "metadata": {},
     "output_type": "execute_result"
    }
   ],
   "source": [
    "list_actors['primaryName'].value_counts()"
   ]
  },
  {
   "cell_type": "code",
   "execution_count": 8,
   "metadata": {},
   "outputs": [],
   "source": [
    "movie_genre_df = pd.read_csv(\"https://datasets.imdbws.com/title.basics.tsv.gz\", sep=\"\\t\",low_memory=False,usecols=['tconst', 'titleType', 'isAdult', 'runtimeMinutes'])[['tconst', 'titleType', 'isAdult', 'runtimeMinutes']]"
   ]
  },
  {
   "cell_type": "code",
   "execution_count": 12,
   "metadata": {},
   "outputs": [],
   "source": [
    "actors_titleType = pd.merge(list_actors,movie_genre_df,how='inner')"
   ]
  },
  {
   "cell_type": "code",
   "execution_count": 16,
   "metadata": {},
   "outputs": [],
   "source": [
    "actors_serie = actors_titleType.loc[actors_titleType['titleType']=='tvSeries']"
   ]
  },
  {
   "cell_type": "code",
   "execution_count": 17,
   "metadata": {},
   "outputs": [],
   "source": [
    "actors_movies = actors_titleType.loc[actors_titleType['titleType']=='movie']"
   ]
  },
  {
   "cell_type": "code",
   "execution_count": 20,
   "metadata": {},
   "outputs": [
    {
     "data": {
      "text/plain": [
       "Brahmanandam        798\n",
       "Adoor Bhasi         580\n",
       "Matsunosuke Onoe    563\n",
       "Eddie Garcia        509\n",
       "Sultan Rahi         471\n",
       "                   ... \n",
       "Ralph Clemente        1\n",
       "Pilvi Hämäläinen      1\n",
       "Alf Myreen            1\n",
       "Chris Myland          1\n",
       "Andree Steinke        1\n",
       "Name: primaryName, Length: 621321, dtype: int64"
      ]
     },
     "execution_count": 20,
     "metadata": {},
     "output_type": "execute_result"
    }
   ],
   "source": [
    "actors_movies['primaryName'].value_counts()"
   ]
  },
  {
   "cell_type": "code",
   "execution_count": 21,
   "metadata": {},
   "outputs": [
    {
     "data": {
      "text/plain": [
       "Frank Welker                  159\n",
       "Luci Christian                130\n",
       "Monica Rial                   129\n",
       "Don Messick                   107\n",
       "Taissia Shanti                101\n",
       "                             ... \n",
       "Khoren Levonyan                 1\n",
       "Anna Yegoyan                    1\n",
       "David Yow                       1\n",
       "Jerry Esten                     1\n",
       "Ingrid Langeland Olderbakk      1\n",
       "Name: primaryName, Length: 381316, dtype: int64"
      ]
     },
     "execution_count": 21,
     "metadata": {},
     "output_type": "execute_result"
    }
   ],
   "source": [
    "actors_serie['primaryName'].value_counts()"
   ]
  }
 ],
 "metadata": {
  "interpreter": {
   "hash": "be0acc8b5e9c514370efa701a19078e441337db182ef74130e57d9d0b7902eba"
  },
  "kernelspec": {
   "display_name": "Python 3.8.12 64-bit ('base': conda)",
   "name": "python3"
  },
  "language_info": {
   "codemirror_mode": {
    "name": "ipython",
    "version": 3
   },
   "file_extension": ".py",
   "mimetype": "text/x-python",
   "name": "python",
   "nbconvert_exporter": "python",
   "pygments_lexer": "ipython3",
   "version": "3.8.12"
  },
  "orig_nbformat": 4
 },
 "nbformat": 4,
 "nbformat_minor": 2
}
