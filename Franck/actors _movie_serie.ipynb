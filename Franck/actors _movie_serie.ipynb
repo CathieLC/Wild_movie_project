{
 "cells": [
  {
   "cell_type": "code",
   "execution_count": 1,
   "metadata": {},
   "outputs": [],
   "source": [
    "import pandas as pd\n",
    "import numpy as np"
   ]
  },
  {
   "cell_type": "code",
   "execution_count": 2,
   "metadata": {},
   "outputs": [],
   "source": [
    "name_df = pd.read_csv(\"https://datasets.imdbws.com/name.basics.tsv.gz\", sep=\"\\t\")"
   ]
  },
  {
   "cell_type": "code",
   "execution_count": 3,
   "metadata": {},
   "outputs": [],
   "source": [
    "principals_df = pd.read_csv(\"https://datasets.imdbws.com/title.principals.tsv.gz\", sep=\"\\t\")"
   ]
  },
  {
   "cell_type": "code",
   "execution_count": 4,
   "metadata": {},
   "outputs": [],
   "source": [
    "df_actors = principals_df.loc[(principals_df['category']=='actor')|(principals_df['category']=='actress')]"
   ]
  },
  {
   "cell_type": "code",
   "execution_count": 5,
   "metadata": {},
   "outputs": [],
   "source": [
    "movie_genre_df = pd.read_csv(\"https://datasets.imdbws.com/title.basics.tsv.gz\", sep=\"\\t\",low_memory=False,usecols=['tconst', 'startYear','titleType', 'isAdult', 'runtimeMinutes'])[['tconst', 'titleType', 'isAdult', 'runtimeMinutes']]"
   ]
  },
  {
   "cell_type": "code",
   "execution_count": 7,
   "metadata": {},
   "outputs": [],
   "source": [
    "list_actors = pd.merge(df_actors,name_df,how='inner')"
   ]
  }
 ],
 "metadata": {
  "interpreter": {
   "hash": "be0acc8b5e9c514370efa701a19078e441337db182ef74130e57d9d0b7902eba"
  },
  "kernelspec": {
   "display_name": "Python 3.8.12 64-bit ('base': conda)",
   "name": "python3"
  },
  "language_info": {
   "codemirror_mode": {
    "name": "ipython",
    "version": 3
   },
   "file_extension": ".py",
   "mimetype": "text/x-python",
   "name": "python",
   "nbconvert_exporter": "python",
   "pygments_lexer": "ipython3",
   "version": "3.8.12"
  },
  "orig_nbformat": 4
 },
 "nbformat": 4,
 "nbformat_minor": 2
}
